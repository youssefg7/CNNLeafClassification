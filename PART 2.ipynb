{
 "cells": [
  {
   "cell_type": "code",
   "execution_count": 1,
   "metadata": {},
   "outputs": [],
   "source": [
    "import torch\n",
    "import torch.nn as nn\n",
    "import torch.optim as optim\n",
    "import torch.nn.functional as F\n",
    "import albumentations as A\n",
    "from albumentations.pytorch import ToTensorV2\n",
    "import os\n",
    "from PIL import Image\n",
    "import cv2\n",
    "import matplotlib.pyplot as plt\n",
    "import numpy as np\n",
    "import seaborn as sns\n",
    "from sklearn.metrics import confusion_matrix, accuracy_score\n",
    "import pandas as pd\n",
    "from sklearn.model_selection import train_test_split\n",
    "from sklearn.preprocessing import LabelEncoder, StandardScaler\n",
    "from torchvision import datasets, transforms, models\n",
    "from tqdm import tqdm\n",
    "from torch.utils.tensorboard import SummaryWriter\n",
    "import time\n"
   ]
  },
  {
   "cell_type": "code",
   "execution_count": 2,
   "metadata": {},
   "outputs": [],
   "source": [
    "DEVICE = ('cuda' if torch.cuda.is_available() else 'cpu')\n",
    "train_csv = pd.read_csv('Dataset/train.csv')\n",
    "new_train_csv = train_csv.drop('id', axis=1,inplace=False)\n",
    "new_train_csv = new_train_csv.drop('species', axis=1,inplace=False)"
   ]
  },
  {
   "cell_type": "code",
   "execution_count": 3,
   "metadata": {},
   "outputs": [
    {
     "data": {
      "text/plain": [
       "(990, 192)"
      ]
     },
     "execution_count": 3,
     "metadata": {},
     "output_type": "execute_result"
    }
   ],
   "source": [
    "for column in new_train_csv.columns:\n",
    "    new_train_csv[column] = StandardScaler().fit_transform(new_train_csv[column].values.reshape(-1, 1))\n",
    "\n",
    "    \n",
    "features = np.array(new_train_csv.values)\n",
    "features.shape"
   ]
  },
  {
   "cell_type": "code",
   "execution_count": 4,
   "metadata": {},
   "outputs": [
    {
     "name": "stdout",
     "output_type": "stream",
     "text": [
      "There are 990 images in the dataset\n",
      "There are 99 labels in the dataset\n"
     ]
    }
   ],
   "source": [
    "classes = train_csv[['id','species']].copy()\n",
    "classes['id'] = classes['id'].astype(str)\n",
    "classes['label'] = LabelEncoder().fit_transform(classes['species'])\n",
    "\n",
    "image_folder = 'Dataset/images/'\n",
    "imgs = []\n",
    "labels = []\n",
    "for i in sorted(os.listdir(image_folder)):\n",
    "    id = i.split('.')[0]\n",
    "    if id in classes['id'].values:\n",
    "        labels.append(classes[classes['id'] == id]['label'].values[0])\n",
    "        image = Image.open(os.path.join(image_folder, i)).convert('1')\n",
    "        imgs.append(image)\n",
    "\n",
    "print(f\"There are {len(imgs)} images in the dataset\")\n",
    "print(f\"There are {len(np.unique(labels))} labels in the dataset\")"
   ]
  },
  {
   "cell_type": "code",
   "execution_count": 5,
   "metadata": {},
   "outputs": [
    {
     "name": "stdout",
     "output_type": "stream",
     "text": [
      "There are 792 images in the training set\n",
      "There are 198 images in the test set\n",
      "There are 99 classes in the training set\n",
      "There are 99 classes in the test set\n"
     ]
    }
   ],
   "source": [
    "X_train, X_test, y_train, y_test, features_train, features_test = train_test_split(imgs, labels, features, test_size=0.2, random_state=42, stratify=labels)\n",
    "print(f\"There are {len(X_train)} images in the training set\")\n",
    "print(f\"There are {len(X_test)} images in the test set\")\n",
    "print(f\"There are {len(np.unique(y_train))} classes in the training set\")\n",
    "print(f\"There are {len(np.unique(y_test))} classes in the test set\")"
   ]
  },
  {
   "cell_type": "code",
   "execution_count": 6,
   "metadata": {},
   "outputs": [],
   "source": [
    "class CNNDataSet(torch.utils.data.Dataset):\n",
    "    def __init__(self, images, labels, transform=None):\n",
    "        self.images = images\n",
    "        self.labels = labels\n",
    "        self.transform = transform\n",
    "\n",
    "    def __len__(self):\n",
    "        return len(self.images)\n",
    "\n",
    "    def __getitem__(self, index):\n",
    "        image = self.transform(image=np.array(self.images[index],dtype=np.float32))['image']\n",
    "        label = torch.tensor(self.labels[index], dtype=torch.long)\n",
    "        return image, label\n",
    "\n",
    "\n",
    "\n",
    "transform = A.Compose([\n",
    "    A.Resize(64, 64),\n",
    "    ToTensorV2()\n",
    "])\n",
    "\n",
    "trainDataSet = CNNDataSet(images=X_train, labels=y_train, transform=transform)\n",
    "testDataSet = CNNDataSet(images=X_test, labels=y_test, transform=transform)\n"
   ]
  },
  {
   "cell_type": "code",
   "execution_count": 7,
   "metadata": {},
   "outputs": [],
   "source": [
    "class CNNModel(nn.Module):\n",
    "    def __init__(self):\n",
    "        super(CNNModel, self).__init__()\n",
    "\n",
    "        self.cnn = nn.Sequential(\n",
    "            nn.Conv2d(1, 64, kernel_size=7, stride=1, padding=3),\n",
    "            nn.ReLU(),\n",
    "            nn.BatchNorm2d(64),\n",
    "            nn.MaxPool2d(kernel_size=2, stride=2),\n",
    "\n",
    "            nn.Conv2d(64, 128, kernel_size=5, stride=1, padding=2),\n",
    "            nn.ReLU(),\n",
    "            nn.BatchNorm2d(128),\n",
    "            nn.MaxPool2d(kernel_size=2, stride=2),\n",
    "\n",
    "            nn.Conv2d(128, 256, kernel_size=3, stride=1, padding=1),\n",
    "            nn.ReLU(),\n",
    "            nn.BatchNorm2d(256),\n",
    "            nn.MaxPool2d(kernel_size=2, stride=2),\n",
    "\n",
    "            nn.Flatten(),\n",
    "            nn.Linear(256*8*8, 256),\n",
    "            nn.ReLU(),\n",
    "            nn.Linear(256, 99),\n",
    "\n",
    "        ).to(DEVICE)\n",
    "\n",
    "\n",
    "    def forward(self, x):\n",
    "        x = self.cnn(x).to(DEVICE)\n",
    "        return x"
   ]
  },
  {
   "cell_type": "code",
   "execution_count": null,
   "metadata": {},
   "outputs": [],
   "source": [
    "model = CNNModel()\n",
    "writer = SummaryWriter('runs/cnnArchitecture'+time.strftime(\"%Y%m%d-%H%M%S\"))\n",
    "writer.add_graph(model, torch.zeros([1,1,64,64]))\n",
    "writer.close()"
   ]
  },
  {
   "cell_type": "code",
   "execution_count": 8,
   "metadata": {},
   "outputs": [
    {
     "name": "stderr",
     "output_type": "stream",
     "text": [
      "Epoch 1/100:   0%|          | 0/99 [00:00<?, ?batch/s]"
     ]
    },
    {
     "name": "stderr",
     "output_type": "stream",
     "text": [
      "Epoch 1/100: 100%|██████████| 99/99 [00:08<00:00, 11.57batch/s, loss=4.48]\n"
     ]
    },
    {
     "name": "stdout",
     "output_type": "stream",
     "text": [
      "Epoch: 1/100  Train Loss: 0.5324, Val Loss: 0.4431\n",
      "Epoch: 1/100  Train Accuracy: 0.1010, Val Accuracy: 0.2475\n"
     ]
    },
    {
     "name": "stderr",
     "output_type": "stream",
     "text": [
      "Epoch 2/100: 100%|██████████| 99/99 [00:08<00:00, 12.08batch/s, loss=2.1] \n"
     ]
    },
    {
     "name": "stdout",
     "output_type": "stream",
     "text": [
      "Epoch: 2/100  Train Loss: 0.3621, Val Loss: 0.3364\n",
      "Epoch: 2/100  Train Accuracy: 0.4028, Val Accuracy: 0.4141\n"
     ]
    },
    {
     "name": "stderr",
     "output_type": "stream",
     "text": [
      "Epoch 3/100: 100%|██████████| 99/99 [00:07<00:00, 12.90batch/s, loss=1.19] \n"
     ]
    },
    {
     "name": "stdout",
     "output_type": "stream",
     "text": [
      "Epoch: 3/100  Train Loss: 0.2275, Val Loss: 0.2659\n",
      "Epoch: 3/100  Train Accuracy: 0.6755, Val Accuracy: 0.5303\n"
     ]
    },
    {
     "name": "stderr",
     "output_type": "stream",
     "text": [
      "Epoch 4/100: 100%|██████████| 99/99 [00:07<00:00, 12.77batch/s, loss=1.17] \n"
     ]
    },
    {
     "name": "stdout",
     "output_type": "stream",
     "text": [
      "Epoch: 4/100  Train Loss: 0.1344, Val Loss: 0.2283\n",
      "Epoch: 4/100  Train Accuracy: 0.8586, Val Accuracy: 0.5707\n"
     ]
    },
    {
     "name": "stderr",
     "output_type": "stream",
     "text": [
      "Epoch 5/100: 100%|██████████| 99/99 [00:07<00:00, 12.40batch/s, loss=0.508]\n"
     ]
    },
    {
     "name": "stdout",
     "output_type": "stream",
     "text": [
      "Epoch: 5/100  Train Loss: 0.0721, Val Loss: 0.2007\n",
      "Epoch: 5/100  Train Accuracy: 0.9583, Val Accuracy: 0.6263\n"
     ]
    },
    {
     "name": "stderr",
     "output_type": "stream",
     "text": [
      "Epoch 6/100: 100%|██████████| 99/99 [00:07<00:00, 12.41batch/s, loss=0.213]\n"
     ]
    },
    {
     "name": "stdout",
     "output_type": "stream",
     "text": [
      "Epoch: 6/100  Train Loss: 0.0380, Val Loss: 0.1812\n",
      "Epoch: 6/100  Train Accuracy: 0.9912, Val Accuracy: 0.6869\n"
     ]
    },
    {
     "name": "stderr",
     "output_type": "stream",
     "text": [
      "Epoch 7/100: 100%|██████████| 99/99 [00:07<00:00, 13.42batch/s, loss=0.167] \n"
     ]
    },
    {
     "name": "stdout",
     "output_type": "stream",
     "text": [
      "Epoch: 7/100  Train Loss: 0.0205, Val Loss: 0.1704\n",
      "Epoch: 7/100  Train Accuracy: 1.0000, Val Accuracy: 0.6919\n"
     ]
    },
    {
     "name": "stderr",
     "output_type": "stream",
     "text": [
      "Epoch 8/100: 100%|██████████| 99/99 [00:07<00:00, 13.49batch/s, loss=0.12]  \n"
     ]
    },
    {
     "name": "stdout",
     "output_type": "stream",
     "text": [
      "Epoch: 8/100  Train Loss: 0.0138, Val Loss: 0.1713\n",
      "Epoch: 8/100  Train Accuracy: 1.0000, Val Accuracy: 0.7121\n"
     ]
    },
    {
     "name": "stderr",
     "output_type": "stream",
     "text": [
      "Epoch 9/100: 100%|██████████| 99/99 [00:07<00:00, 13.22batch/s, loss=0.111] \n"
     ]
    },
    {
     "name": "stdout",
     "output_type": "stream",
     "text": [
      "Epoch: 9/100  Train Loss: 0.0109, Val Loss: 0.1654\n",
      "Epoch: 9/100  Train Accuracy: 1.0000, Val Accuracy: 0.7374\n"
     ]
    },
    {
     "name": "stderr",
     "output_type": "stream",
     "text": [
      "Epoch 10/100: 100%|██████████| 99/99 [00:07<00:00, 13.49batch/s, loss=0.0858]\n"
     ]
    },
    {
     "name": "stdout",
     "output_type": "stream",
     "text": [
      "Epoch: 10/100  Train Loss: 0.0094, Val Loss: 0.1650\n",
      "Epoch: 10/100  Train Accuracy: 1.0000, Val Accuracy: 0.7323\n"
     ]
    },
    {
     "name": "stderr",
     "output_type": "stream",
     "text": [
      "Epoch 11/100: 100%|██████████| 99/99 [00:07<00:00, 13.26batch/s, loss=0.0905]\n"
     ]
    },
    {
     "name": "stdout",
     "output_type": "stream",
     "text": [
      "Epoch: 11/100  Train Loss: 0.0087, Val Loss: 0.1670\n",
      "Epoch: 11/100  Train Accuracy: 1.0000, Val Accuracy: 0.7374\n"
     ]
    },
    {
     "name": "stderr",
     "output_type": "stream",
     "text": [
      "Epoch 12/100: 100%|██████████| 99/99 [00:07<00:00, 13.43batch/s, loss=0.0721]\n"
     ]
    },
    {
     "name": "stdout",
     "output_type": "stream",
     "text": [
      "Epoch: 12/100  Train Loss: 0.0081, Val Loss: 0.1689\n",
      "Epoch: 12/100  Train Accuracy: 1.0000, Val Accuracy: 0.7576\n"
     ]
    },
    {
     "name": "stderr",
     "output_type": "stream",
     "text": [
      "Epoch 13/100: 100%|██████████| 99/99 [00:07<00:00, 13.26batch/s, loss=0.0786]\n"
     ]
    },
    {
     "name": "stdout",
     "output_type": "stream",
     "text": [
      "Epoch: 13/100  Train Loss: 0.0080, Val Loss: 0.1674\n",
      "Epoch: 13/100  Train Accuracy: 1.0000, Val Accuracy: 0.7424\n"
     ]
    },
    {
     "name": "stderr",
     "output_type": "stream",
     "text": [
      "Epoch 14/100: 100%|██████████| 99/99 [00:07<00:00, 13.27batch/s, loss=0.0683]\n"
     ]
    },
    {
     "name": "stdout",
     "output_type": "stream",
     "text": [
      "Epoch: 14/100  Train Loss: 0.0079, Val Loss: 0.1704\n",
      "Epoch: 14/100  Train Accuracy: 1.0000, Val Accuracy: 0.7424\n"
     ]
    },
    {
     "name": "stderr",
     "output_type": "stream",
     "text": [
      "Epoch 15/100: 100%|██████████| 99/99 [00:07<00:00, 13.42batch/s, loss=0.0818]\n"
     ]
    },
    {
     "name": "stdout",
     "output_type": "stream",
     "text": [
      "Epoch: 15/100  Train Loss: 0.0080, Val Loss: 0.1711\n",
      "Epoch: 15/100  Train Accuracy: 1.0000, Val Accuracy: 0.7424\n"
     ]
    },
    {
     "name": "stderr",
     "output_type": "stream",
     "text": [
      "Epoch 16/100: 100%|██████████| 99/99 [00:07<00:00, 13.59batch/s, loss=0.0766]\n"
     ]
    },
    {
     "name": "stdout",
     "output_type": "stream",
     "text": [
      "Epoch: 16/100  Train Loss: 0.0079, Val Loss: 0.1720\n",
      "Epoch: 16/100  Train Accuracy: 1.0000, Val Accuracy: 0.7475\n"
     ]
    },
    {
     "name": "stderr",
     "output_type": "stream",
     "text": [
      "Epoch 17/100: 100%|██████████| 99/99 [00:07<00:00, 13.16batch/s, loss=0.0623]\n"
     ]
    },
    {
     "name": "stdout",
     "output_type": "stream",
     "text": [
      "Epoch: 17/100  Train Loss: 0.0079, Val Loss: 0.1743\n",
      "Epoch: 17/100  Train Accuracy: 1.0000, Val Accuracy: 0.7475\n"
     ]
    },
    {
     "name": "stderr",
     "output_type": "stream",
     "text": [
      "Epoch 18/100: 100%|██████████| 99/99 [00:07<00:00, 13.25batch/s, loss=0.0658]\n"
     ]
    },
    {
     "name": "stdout",
     "output_type": "stream",
     "text": [
      "Epoch: 18/100  Train Loss: 0.0081, Val Loss: 0.1730\n",
      "Epoch: 18/100  Train Accuracy: 1.0000, Val Accuracy: 0.7475\n"
     ]
    },
    {
     "name": "stderr",
     "output_type": "stream",
     "text": [
      "Epoch 19/100: 100%|██████████| 99/99 [00:07<00:00, 13.48batch/s, loss=0.111] \n"
     ]
    },
    {
     "name": "stdout",
     "output_type": "stream",
     "text": [
      "Epoch: 19/100  Train Loss: 0.0082, Val Loss: 0.1786\n",
      "Epoch: 19/100  Train Accuracy: 1.0000, Val Accuracy: 0.7576\n"
     ]
    },
    {
     "name": "stderr",
     "output_type": "stream",
     "text": [
      "Epoch 20/100: 100%|██████████| 99/99 [00:07<00:00, 13.05batch/s, loss=0.08]  \n"
     ]
    },
    {
     "name": "stdout",
     "output_type": "stream",
     "text": [
      "Epoch: 20/100  Train Loss: 0.0083, Val Loss: 0.1765\n",
      "Epoch: 20/100  Train Accuracy: 1.0000, Val Accuracy: 0.7525\n"
     ]
    },
    {
     "name": "stderr",
     "output_type": "stream",
     "text": [
      "Epoch 21/100: 100%|██████████| 99/99 [00:07<00:00, 13.37batch/s, loss=0.0499]\n"
     ]
    },
    {
     "name": "stdout",
     "output_type": "stream",
     "text": [
      "Epoch: 21/100  Train Loss: 0.0084, Val Loss: 0.1759\n",
      "Epoch: 21/100  Train Accuracy: 1.0000, Val Accuracy: 0.7778\n"
     ]
    },
    {
     "name": "stderr",
     "output_type": "stream",
     "text": [
      "Epoch 22/100: 100%|██████████| 99/99 [00:07<00:00, 13.54batch/s, loss=0.0687]\n"
     ]
    },
    {
     "name": "stdout",
     "output_type": "stream",
     "text": [
      "Epoch: 22/100  Train Loss: 0.0083, Val Loss: 0.1785\n",
      "Epoch: 22/100  Train Accuracy: 1.0000, Val Accuracy: 0.7677\n"
     ]
    },
    {
     "name": "stderr",
     "output_type": "stream",
     "text": [
      "Epoch 23/100: 100%|██████████| 99/99 [00:07<00:00, 13.46batch/s, loss=0.087] \n"
     ]
    },
    {
     "name": "stdout",
     "output_type": "stream",
     "text": [
      "Epoch: 23/100  Train Loss: 0.0084, Val Loss: 0.1785\n",
      "Epoch: 23/100  Train Accuracy: 1.0000, Val Accuracy: 0.7626\n"
     ]
    },
    {
     "name": "stderr",
     "output_type": "stream",
     "text": [
      "Epoch 24/100: 100%|██████████| 99/99 [00:07<00:00, 13.24batch/s, loss=0.114] \n"
     ]
    },
    {
     "name": "stdout",
     "output_type": "stream",
     "text": [
      "Epoch: 24/100  Train Loss: 0.0084, Val Loss: 0.1824\n",
      "Epoch: 24/100  Train Accuracy: 1.0000, Val Accuracy: 0.7727\n"
     ]
    },
    {
     "name": "stderr",
     "output_type": "stream",
     "text": [
      "Epoch 25/100: 100%|██████████| 99/99 [00:07<00:00, 13.25batch/s, loss=0.0708]\n"
     ]
    },
    {
     "name": "stdout",
     "output_type": "stream",
     "text": [
      "Epoch: 25/100  Train Loss: 0.0087, Val Loss: 0.1796\n",
      "Epoch: 25/100  Train Accuracy: 1.0000, Val Accuracy: 0.7727\n"
     ]
    },
    {
     "name": "stderr",
     "output_type": "stream",
     "text": [
      "Epoch 26/100: 100%|██████████| 99/99 [00:07<00:00, 12.99batch/s, loss=0.0932]\n"
     ]
    },
    {
     "name": "stdout",
     "output_type": "stream",
     "text": [
      "Epoch: 26/100  Train Loss: 0.0084, Val Loss: 0.1777\n",
      "Epoch: 26/100  Train Accuracy: 1.0000, Val Accuracy: 0.7778\n"
     ]
    },
    {
     "name": "stderr",
     "output_type": "stream",
     "text": [
      "Epoch 27/100: 100%|██████████| 99/99 [00:07<00:00, 12.86batch/s, loss=0.0862]\n"
     ]
    },
    {
     "name": "stdout",
     "output_type": "stream",
     "text": [
      "Epoch: 27/100  Train Loss: 0.0086, Val Loss: 0.1777\n",
      "Epoch: 27/100  Train Accuracy: 1.0000, Val Accuracy: 0.7929\n"
     ]
    },
    {
     "name": "stderr",
     "output_type": "stream",
     "text": [
      "Epoch 28/100: 100%|██████████| 99/99 [00:07<00:00, 13.15batch/s, loss=0.0769]\n"
     ]
    },
    {
     "name": "stdout",
     "output_type": "stream",
     "text": [
      "Epoch: 28/100  Train Loss: 0.0088, Val Loss: 0.1762\n",
      "Epoch: 28/100  Train Accuracy: 1.0000, Val Accuracy: 0.7576\n"
     ]
    },
    {
     "name": "stderr",
     "output_type": "stream",
     "text": [
      "Epoch 29/100: 100%|██████████| 99/99 [00:07<00:00, 13.36batch/s, loss=0.0683]\n"
     ]
    },
    {
     "name": "stdout",
     "output_type": "stream",
     "text": [
      "Epoch: 29/100  Train Loss: 0.0086, Val Loss: 0.1796\n",
      "Epoch: 29/100  Train Accuracy: 1.0000, Val Accuracy: 0.7828\n"
     ]
    },
    {
     "name": "stderr",
     "output_type": "stream",
     "text": [
      "Epoch 30/100: 100%|██████████| 99/99 [00:07<00:00, 13.46batch/s, loss=0.0819]\n"
     ]
    },
    {
     "name": "stdout",
     "output_type": "stream",
     "text": [
      "Epoch: 30/100  Train Loss: 0.0090, Val Loss: 0.1850\n",
      "Epoch: 30/100  Train Accuracy: 1.0000, Val Accuracy: 0.7576\n"
     ]
    },
    {
     "name": "stderr",
     "output_type": "stream",
     "text": [
      "Epoch 31/100: 100%|██████████| 99/99 [00:07<00:00, 13.17batch/s, loss=0.0887]\n"
     ]
    },
    {
     "name": "stdout",
     "output_type": "stream",
     "text": [
      "Epoch: 31/100  Train Loss: 0.0090, Val Loss: 0.1743\n",
      "Epoch: 31/100  Train Accuracy: 1.0000, Val Accuracy: 0.7828\n"
     ]
    },
    {
     "name": "stderr",
     "output_type": "stream",
     "text": [
      "Epoch 32/100: 100%|██████████| 99/99 [00:07<00:00, 13.27batch/s, loss=0.09]  \n"
     ]
    },
    {
     "name": "stdout",
     "output_type": "stream",
     "text": [
      "Epoch: 32/100  Train Loss: 0.0086, Val Loss: 0.1824\n",
      "Epoch: 32/100  Train Accuracy: 1.0000, Val Accuracy: 0.7828\n"
     ]
    },
    {
     "name": "stderr",
     "output_type": "stream",
     "text": [
      "Epoch 33/100: 100%|██████████| 99/99 [00:07<00:00, 13.27batch/s, loss=0.0718]\n"
     ]
    },
    {
     "name": "stdout",
     "output_type": "stream",
     "text": [
      "Epoch: 33/100  Train Loss: 0.0090, Val Loss: 0.1784\n",
      "Epoch: 33/100  Train Accuracy: 1.0000, Val Accuracy: 0.7778\n"
     ]
    },
    {
     "name": "stderr",
     "output_type": "stream",
     "text": [
      "Epoch 34/100: 100%|██████████| 99/99 [00:07<00:00, 13.31batch/s, loss=0.0818]\n"
     ]
    },
    {
     "name": "stdout",
     "output_type": "stream",
     "text": [
      "Epoch: 34/100  Train Loss: 0.0090, Val Loss: 0.1852\n",
      "Epoch: 34/100  Train Accuracy: 1.0000, Val Accuracy: 0.7879\n"
     ]
    },
    {
     "name": "stderr",
     "output_type": "stream",
     "text": [
      "Epoch 35/100: 100%|██████████| 99/99 [00:07<00:00, 12.63batch/s, loss=0.0745]\n"
     ]
    },
    {
     "name": "stdout",
     "output_type": "stream",
     "text": [
      "Epoch: 35/100  Train Loss: 0.0091, Val Loss: 0.1749\n",
      "Epoch: 35/100  Train Accuracy: 1.0000, Val Accuracy: 0.7828\n"
     ]
    },
    {
     "name": "stderr",
     "output_type": "stream",
     "text": [
      "Epoch 36/100: 100%|██████████| 99/99 [00:07<00:00, 12.63batch/s, loss=0.0967]\n"
     ]
    },
    {
     "name": "stdout",
     "output_type": "stream",
     "text": [
      "Epoch: 36/100  Train Loss: 0.0092, Val Loss: 0.1801\n",
      "Epoch: 36/100  Train Accuracy: 1.0000, Val Accuracy: 0.7879\n"
     ]
    },
    {
     "name": "stderr",
     "output_type": "stream",
     "text": [
      "Epoch 37/100: 100%|██████████| 99/99 [00:07<00:00, 13.08batch/s, loss=0.0854]\n"
     ]
    },
    {
     "name": "stdout",
     "output_type": "stream",
     "text": [
      "Epoch: 37/100  Train Loss: 0.0090, Val Loss: 0.1753\n",
      "Epoch: 37/100  Train Accuracy: 1.0000, Val Accuracy: 0.8081\n"
     ]
    },
    {
     "name": "stderr",
     "output_type": "stream",
     "text": [
      "Epoch 38/100: 100%|██████████| 99/99 [00:07<00:00, 12.74batch/s, loss=0.102] \n"
     ]
    },
    {
     "name": "stdout",
     "output_type": "stream",
     "text": [
      "Epoch: 38/100  Train Loss: 0.0092, Val Loss: 0.1795\n",
      "Epoch: 38/100  Train Accuracy: 1.0000, Val Accuracy: 0.7576\n"
     ]
    },
    {
     "name": "stderr",
     "output_type": "stream",
     "text": [
      "Epoch 39/100: 100%|██████████| 99/99 [00:08<00:00, 12.13batch/s, loss=0.122] \n"
     ]
    },
    {
     "name": "stdout",
     "output_type": "stream",
     "text": [
      "Epoch: 39/100  Train Loss: 0.0094, Val Loss: 0.1824\n",
      "Epoch: 39/100  Train Accuracy: 1.0000, Val Accuracy: 0.7727\n"
     ]
    },
    {
     "name": "stderr",
     "output_type": "stream",
     "text": [
      "Epoch 40/100: 100%|██████████| 99/99 [00:07<00:00, 12.64batch/s, loss=0.0872]\n"
     ]
    },
    {
     "name": "stdout",
     "output_type": "stream",
     "text": [
      "Epoch: 40/100  Train Loss: 0.0095, Val Loss: 0.1795\n",
      "Epoch: 40/100  Train Accuracy: 1.0000, Val Accuracy: 0.7929\n"
     ]
    },
    {
     "name": "stderr",
     "output_type": "stream",
     "text": [
      "Epoch 41/100: 100%|██████████| 99/99 [00:08<00:00, 12.20batch/s, loss=0.108] \n"
     ]
    },
    {
     "name": "stdout",
     "output_type": "stream",
     "text": [
      "Epoch: 41/100  Train Loss: 0.0093, Val Loss: 0.1709\n",
      "Epoch: 41/100  Train Accuracy: 1.0000, Val Accuracy: 0.7929\n"
     ]
    },
    {
     "name": "stderr",
     "output_type": "stream",
     "text": [
      "Epoch 42/100: 100%|██████████| 99/99 [00:07<00:00, 13.25batch/s, loss=0.113] \n"
     ]
    },
    {
     "name": "stdout",
     "output_type": "stream",
     "text": [
      "Epoch: 42/100  Train Loss: 0.0093, Val Loss: 0.1813\n",
      "Epoch: 42/100  Train Accuracy: 1.0000, Val Accuracy: 0.7929\n"
     ]
    },
    {
     "name": "stderr",
     "output_type": "stream",
     "text": [
      "Epoch 43/100: 100%|██████████| 99/99 [00:07<00:00, 13.11batch/s, loss=0.0939]\n"
     ]
    },
    {
     "name": "stdout",
     "output_type": "stream",
     "text": [
      "Epoch: 43/100  Train Loss: 0.0094, Val Loss: 0.1731\n",
      "Epoch: 43/100  Train Accuracy: 1.0000, Val Accuracy: 0.8081\n"
     ]
    },
    {
     "name": "stderr",
     "output_type": "stream",
     "text": [
      "Epoch 44/100: 100%|██████████| 99/99 [00:07<00:00, 12.74batch/s, loss=0.133] \n"
     ]
    },
    {
     "name": "stdout",
     "output_type": "stream",
     "text": [
      "Epoch: 44/100  Train Loss: 0.0097, Val Loss: 0.1843\n",
      "Epoch: 44/100  Train Accuracy: 1.0000, Val Accuracy: 0.7778\n"
     ]
    },
    {
     "name": "stderr",
     "output_type": "stream",
     "text": [
      "Epoch 45/100: 100%|██████████| 99/99 [00:07<00:00, 12.54batch/s, loss=0.0906]\n"
     ]
    },
    {
     "name": "stdout",
     "output_type": "stream",
     "text": [
      "Epoch: 45/100  Train Loss: 0.0094, Val Loss: 0.1795\n",
      "Epoch: 45/100  Train Accuracy: 1.0000, Val Accuracy: 0.8030\n"
     ]
    },
    {
     "name": "stderr",
     "output_type": "stream",
     "text": [
      "Epoch 46/100: 100%|██████████| 99/99 [00:07<00:00, 12.72batch/s, loss=0.099] \n"
     ]
    },
    {
     "name": "stdout",
     "output_type": "stream",
     "text": [
      "Epoch: 46/100  Train Loss: 0.0095, Val Loss: 0.1771\n",
      "Epoch: 46/100  Train Accuracy: 1.0000, Val Accuracy: 0.7828\n"
     ]
    },
    {
     "name": "stderr",
     "output_type": "stream",
     "text": [
      "Epoch 47/100: 100%|██████████| 99/99 [00:08<00:00, 11.72batch/s, loss=0.0915]\n"
     ]
    },
    {
     "name": "stdout",
     "output_type": "stream",
     "text": [
      "Epoch: 47/100  Train Loss: 0.0098, Val Loss: 0.1771\n",
      "Epoch: 47/100  Train Accuracy: 1.0000, Val Accuracy: 0.7929\n"
     ]
    },
    {
     "name": "stderr",
     "output_type": "stream",
     "text": [
      "Epoch 48/100: 100%|██████████| 99/99 [00:07<00:00, 13.02batch/s, loss=0.0963]\n"
     ]
    },
    {
     "name": "stdout",
     "output_type": "stream",
     "text": [
      "Epoch: 48/100  Train Loss: 0.0094, Val Loss: 0.1820\n",
      "Epoch: 48/100  Train Accuracy: 1.0000, Val Accuracy: 0.7879\n"
     ]
    },
    {
     "name": "stderr",
     "output_type": "stream",
     "text": [
      "Epoch 49/100: 100%|██████████| 99/99 [00:08<00:00, 12.05batch/s, loss=0.0911]\n"
     ]
    },
    {
     "name": "stdout",
     "output_type": "stream",
     "text": [
      "Epoch: 49/100  Train Loss: 0.0096, Val Loss: 0.1702\n",
      "Epoch: 49/100  Train Accuracy: 1.0000, Val Accuracy: 0.7828\n"
     ]
    },
    {
     "name": "stderr",
     "output_type": "stream",
     "text": [
      "Epoch 50/100: 100%|██████████| 99/99 [00:08<00:00, 12.27batch/s, loss=0.119] \n"
     ]
    },
    {
     "name": "stdout",
     "output_type": "stream",
     "text": [
      "Epoch: 50/100  Train Loss: 0.0100, Val Loss: 0.1828\n",
      "Epoch: 50/100  Train Accuracy: 1.0000, Val Accuracy: 0.7879\n"
     ]
    },
    {
     "name": "stderr",
     "output_type": "stream",
     "text": [
      "Epoch 51/100: 100%|██████████| 99/99 [00:07<00:00, 12.64batch/s, loss=0.0931]\n"
     ]
    },
    {
     "name": "stdout",
     "output_type": "stream",
     "text": [
      "Epoch: 51/100  Train Loss: 0.0097, Val Loss: 0.1854\n",
      "Epoch: 51/100  Train Accuracy: 1.0000, Val Accuracy: 0.7980\n"
     ]
    },
    {
     "name": "stderr",
     "output_type": "stream",
     "text": [
      "Epoch 52/100: 100%|██████████| 99/99 [00:07<00:00, 13.07batch/s, loss=0.0965]\n"
     ]
    },
    {
     "name": "stdout",
     "output_type": "stream",
     "text": [
      "Epoch: 52/100  Train Loss: 0.0095, Val Loss: 0.1728\n",
      "Epoch: 52/100  Train Accuracy: 1.0000, Val Accuracy: 0.7778\n"
     ]
    },
    {
     "name": "stderr",
     "output_type": "stream",
     "text": [
      "Epoch 53/100: 100%|██████████| 99/99 [00:07<00:00, 13.04batch/s, loss=0.0997]\n"
     ]
    },
    {
     "name": "stdout",
     "output_type": "stream",
     "text": [
      "Epoch: 53/100  Train Loss: 0.0100, Val Loss: 0.1769\n",
      "Epoch: 53/100  Train Accuracy: 1.0000, Val Accuracy: 0.8081\n"
     ]
    },
    {
     "name": "stderr",
     "output_type": "stream",
     "text": [
      "Epoch 54/100: 100%|██████████| 99/99 [00:07<00:00, 12.75batch/s, loss=0.0879]\n"
     ]
    },
    {
     "name": "stdout",
     "output_type": "stream",
     "text": [
      "Epoch: 54/100  Train Loss: 0.0096, Val Loss: 0.1674\n",
      "Epoch: 54/100  Train Accuracy: 1.0000, Val Accuracy: 0.7929\n"
     ]
    },
    {
     "name": "stderr",
     "output_type": "stream",
     "text": [
      "Epoch 55/100: 100%|██████████| 99/99 [00:07<00:00, 12.90batch/s, loss=0.116] \n"
     ]
    },
    {
     "name": "stdout",
     "output_type": "stream",
     "text": [
      "Epoch: 55/100  Train Loss: 0.0099, Val Loss: 0.1746\n",
      "Epoch: 55/100  Train Accuracy: 1.0000, Val Accuracy: 0.7576\n"
     ]
    },
    {
     "name": "stderr",
     "output_type": "stream",
     "text": [
      "Epoch 56/100: 100%|██████████| 99/99 [00:07<00:00, 12.66batch/s, loss=0.095] \n"
     ]
    },
    {
     "name": "stdout",
     "output_type": "stream",
     "text": [
      "Epoch: 56/100  Train Loss: 0.0100, Val Loss: 0.1729\n",
      "Epoch: 56/100  Train Accuracy: 1.0000, Val Accuracy: 0.7879\n"
     ]
    },
    {
     "name": "stderr",
     "output_type": "stream",
     "text": [
      "Epoch 57/100: 100%|██████████| 99/99 [00:07<00:00, 12.75batch/s, loss=0.113] \n"
     ]
    },
    {
     "name": "stdout",
     "output_type": "stream",
     "text": [
      "Epoch: 57/100  Train Loss: 0.0100, Val Loss: 0.1792\n",
      "Epoch: 57/100  Train Accuracy: 1.0000, Val Accuracy: 0.7879\n"
     ]
    },
    {
     "name": "stderr",
     "output_type": "stream",
     "text": [
      "Epoch 58/100: 100%|██████████| 99/99 [00:07<00:00, 13.02batch/s, loss=0.0993]\n"
     ]
    },
    {
     "name": "stdout",
     "output_type": "stream",
     "text": [
      "Epoch: 58/100  Train Loss: 0.0098, Val Loss: 0.1869\n",
      "Epoch: 58/100  Train Accuracy: 1.0000, Val Accuracy: 0.7980\n"
     ]
    },
    {
     "name": "stderr",
     "output_type": "stream",
     "text": [
      "Epoch 59/100: 100%|██████████| 99/99 [00:07<00:00, 12.97batch/s, loss=0.127] \n"
     ]
    },
    {
     "name": "stdout",
     "output_type": "stream",
     "text": [
      "Epoch: 59/100  Train Loss: 0.0098, Val Loss: 0.1788\n",
      "Epoch: 59/100  Train Accuracy: 1.0000, Val Accuracy: 0.7929\n"
     ]
    },
    {
     "name": "stderr",
     "output_type": "stream",
     "text": [
      "Epoch 60/100: 100%|██████████| 99/99 [00:07<00:00, 12.95batch/s, loss=0.115] \n"
     ]
    },
    {
     "name": "stdout",
     "output_type": "stream",
     "text": [
      "Epoch: 60/100  Train Loss: 0.0097, Val Loss: 0.1837\n",
      "Epoch: 60/100  Train Accuracy: 1.0000, Val Accuracy: 0.7929\n"
     ]
    },
    {
     "name": "stderr",
     "output_type": "stream",
     "text": [
      "Epoch 61/100: 100%|██████████| 99/99 [00:07<00:00, 12.65batch/s, loss=0.127] \n"
     ]
    },
    {
     "name": "stdout",
     "output_type": "stream",
     "text": [
      "Epoch: 61/100  Train Loss: 0.0100, Val Loss: 0.1945\n",
      "Epoch: 61/100  Train Accuracy: 1.0000, Val Accuracy: 0.8131\n"
     ]
    },
    {
     "name": "stderr",
     "output_type": "stream",
     "text": [
      "Epoch 62/100: 100%|██████████| 99/99 [00:07<00:00, 12.95batch/s, loss=0.0929]\n"
     ]
    },
    {
     "name": "stdout",
     "output_type": "stream",
     "text": [
      "Epoch: 62/100  Train Loss: 0.0100, Val Loss: 0.1861\n",
      "Epoch: 62/100  Train Accuracy: 1.0000, Val Accuracy: 0.7778\n"
     ]
    },
    {
     "name": "stderr",
     "output_type": "stream",
     "text": [
      "Epoch 63/100: 100%|██████████| 99/99 [00:07<00:00, 12.72batch/s, loss=0.0918]\n"
     ]
    },
    {
     "name": "stdout",
     "output_type": "stream",
     "text": [
      "Epoch: 63/100  Train Loss: 0.0098, Val Loss: 0.1851\n",
      "Epoch: 63/100  Train Accuracy: 1.0000, Val Accuracy: 0.7879\n"
     ]
    },
    {
     "name": "stderr",
     "output_type": "stream",
     "text": [
      "Epoch 64/100: 100%|██████████| 99/99 [00:07<00:00, 13.07batch/s, loss=0.108] \n"
     ]
    },
    {
     "name": "stdout",
     "output_type": "stream",
     "text": [
      "Epoch: 64/100  Train Loss: 0.0098, Val Loss: 0.1902\n",
      "Epoch: 64/100  Train Accuracy: 1.0000, Val Accuracy: 0.7980\n"
     ]
    },
    {
     "name": "stderr",
     "output_type": "stream",
     "text": [
      "Epoch 65/100: 100%|██████████| 99/99 [00:07<00:00, 13.07batch/s, loss=0.0926]\n"
     ]
    },
    {
     "name": "stdout",
     "output_type": "stream",
     "text": [
      "Epoch: 65/100  Train Loss: 0.0100, Val Loss: 0.2118\n",
      "Epoch: 65/100  Train Accuracy: 1.0000, Val Accuracy: 0.7879\n"
     ]
    },
    {
     "name": "stderr",
     "output_type": "stream",
     "text": [
      "Epoch 66/100: 100%|██████████| 99/99 [00:07<00:00, 12.90batch/s, loss=0.105] \n"
     ]
    },
    {
     "name": "stdout",
     "output_type": "stream",
     "text": [
      "Epoch: 66/100  Train Loss: 0.0099, Val Loss: 0.1731\n",
      "Epoch: 66/100  Train Accuracy: 1.0000, Val Accuracy: 0.8030\n"
     ]
    },
    {
     "name": "stderr",
     "output_type": "stream",
     "text": [
      "Epoch 67/100: 100%|██████████| 99/99 [00:07<00:00, 13.05batch/s, loss=0.124] \n"
     ]
    },
    {
     "name": "stdout",
     "output_type": "stream",
     "text": [
      "Epoch: 67/100  Train Loss: 0.0098, Val Loss: 0.2023\n",
      "Epoch: 67/100  Train Accuracy: 1.0000, Val Accuracy: 0.7980\n"
     ]
    },
    {
     "name": "stderr",
     "output_type": "stream",
     "text": [
      "Epoch 68/100: 100%|██████████| 99/99 [00:07<00:00, 12.85batch/s, loss=0.11]  \n"
     ]
    },
    {
     "name": "stdout",
     "output_type": "stream",
     "text": [
      "Epoch: 68/100  Train Loss: 0.0100, Val Loss: 0.1944\n",
      "Epoch: 68/100  Train Accuracy: 1.0000, Val Accuracy: 0.7677\n"
     ]
    },
    {
     "name": "stderr",
     "output_type": "stream",
     "text": [
      "Epoch 69/100: 100%|██████████| 99/99 [00:07<00:00, 13.05batch/s, loss=0.0895]\n"
     ]
    },
    {
     "name": "stdout",
     "output_type": "stream",
     "text": [
      "Epoch: 69/100  Train Loss: 0.0102, Val Loss: 0.2049\n",
      "Epoch: 69/100  Train Accuracy: 1.0000, Val Accuracy: 0.7879\n"
     ]
    },
    {
     "name": "stderr",
     "output_type": "stream",
     "text": [
      "Epoch 70/100: 100%|██████████| 99/99 [00:07<00:00, 12.90batch/s, loss=0.0904]\n"
     ]
    },
    {
     "name": "stdout",
     "output_type": "stream",
     "text": [
      "Epoch: 70/100  Train Loss: 0.0098, Val Loss: 0.1967\n",
      "Epoch: 70/100  Train Accuracy: 1.0000, Val Accuracy: 0.7778\n"
     ]
    },
    {
     "name": "stderr",
     "output_type": "stream",
     "text": [
      "Epoch 71/100: 100%|██████████| 99/99 [00:07<00:00, 12.96batch/s, loss=0.0819]\n"
     ]
    },
    {
     "name": "stdout",
     "output_type": "stream",
     "text": [
      "Epoch: 71/100  Train Loss: 0.0098, Val Loss: 0.2019\n",
      "Epoch: 71/100  Train Accuracy: 1.0000, Val Accuracy: 0.8030\n"
     ]
    },
    {
     "name": "stderr",
     "output_type": "stream",
     "text": [
      "Epoch 72/100: 100%|██████████| 99/99 [00:07<00:00, 13.18batch/s, loss=0.106] \n"
     ]
    },
    {
     "name": "stdout",
     "output_type": "stream",
     "text": [
      "Epoch: 72/100  Train Loss: 0.0096, Val Loss: 0.2003\n",
      "Epoch: 72/100  Train Accuracy: 1.0000, Val Accuracy: 0.7626\n"
     ]
    },
    {
     "name": "stderr",
     "output_type": "stream",
     "text": [
      "Epoch 73/100: 100%|██████████| 99/99 [00:07<00:00, 13.24batch/s, loss=0.0986]\n"
     ]
    },
    {
     "name": "stdout",
     "output_type": "stream",
     "text": [
      "Epoch: 73/100  Train Loss: 0.0103, Val Loss: 0.1851\n",
      "Epoch: 73/100  Train Accuracy: 1.0000, Val Accuracy: 0.7727\n"
     ]
    },
    {
     "name": "stderr",
     "output_type": "stream",
     "text": [
      "Epoch 74/100: 100%|██████████| 99/99 [00:08<00:00, 12.24batch/s, loss=0.0923]\n"
     ]
    },
    {
     "name": "stdout",
     "output_type": "stream",
     "text": [
      "Epoch: 74/100  Train Loss: 0.0097, Val Loss: 0.1924\n",
      "Epoch: 74/100  Train Accuracy: 1.0000, Val Accuracy: 0.7828\n"
     ]
    },
    {
     "name": "stderr",
     "output_type": "stream",
     "text": [
      "Epoch 75/100: 100%|██████████| 99/99 [00:08<00:00, 11.92batch/s, loss=0.0969]\n"
     ]
    },
    {
     "name": "stdout",
     "output_type": "stream",
     "text": [
      "Epoch: 75/100  Train Loss: 0.0097, Val Loss: 0.1927\n",
      "Epoch: 75/100  Train Accuracy: 1.0000, Val Accuracy: 0.8030\n"
     ]
    },
    {
     "name": "stderr",
     "output_type": "stream",
     "text": [
      "Epoch 76/100: 100%|██████████| 99/99 [00:09<00:00, 10.93batch/s, loss=0.0923]\n"
     ]
    },
    {
     "name": "stdout",
     "output_type": "stream",
     "text": [
      "Epoch: 76/100  Train Loss: 0.0102, Val Loss: 0.1859\n",
      "Epoch: 76/100  Train Accuracy: 1.0000, Val Accuracy: 0.7929\n"
     ]
    },
    {
     "name": "stderr",
     "output_type": "stream",
     "text": [
      "Epoch 77/100: 100%|██████████| 99/99 [00:08<00:00, 11.87batch/s, loss=0.102] \n"
     ]
    },
    {
     "name": "stdout",
     "output_type": "stream",
     "text": [
      "Epoch: 77/100  Train Loss: 0.0100, Val Loss: 0.1925\n",
      "Epoch: 77/100  Train Accuracy: 1.0000, Val Accuracy: 0.7879\n"
     ]
    },
    {
     "name": "stderr",
     "output_type": "stream",
     "text": [
      "Epoch 78/100: 100%|██████████| 99/99 [00:07<00:00, 12.45batch/s, loss=0.0991]\n"
     ]
    },
    {
     "name": "stdout",
     "output_type": "stream",
     "text": [
      "Epoch: 78/100  Train Loss: 0.0097, Val Loss: 0.1952\n",
      "Epoch: 78/100  Train Accuracy: 1.0000, Val Accuracy: 0.7980\n"
     ]
    },
    {
     "name": "stderr",
     "output_type": "stream",
     "text": [
      "Epoch 79/100: 100%|██████████| 99/99 [00:07<00:00, 12.89batch/s, loss=0.0938]\n"
     ]
    },
    {
     "name": "stdout",
     "output_type": "stream",
     "text": [
      "Epoch: 79/100  Train Loss: 0.0100, Val Loss: 0.1799\n",
      "Epoch: 79/100  Train Accuracy: 1.0000, Val Accuracy: 0.7879\n"
     ]
    },
    {
     "name": "stderr",
     "output_type": "stream",
     "text": [
      "Epoch 80/100: 100%|██████████| 99/99 [00:07<00:00, 12.93batch/s, loss=0.115] \n"
     ]
    },
    {
     "name": "stdout",
     "output_type": "stream",
     "text": [
      "Epoch: 80/100  Train Loss: 0.0100, Val Loss: 0.2011\n",
      "Epoch: 80/100  Train Accuracy: 1.0000, Val Accuracy: 0.8030\n"
     ]
    },
    {
     "name": "stderr",
     "output_type": "stream",
     "text": [
      "Epoch 81/100: 100%|██████████| 99/99 [00:07<00:00, 12.94batch/s, loss=0.0936]\n"
     ]
    },
    {
     "name": "stdout",
     "output_type": "stream",
     "text": [
      "Epoch: 81/100  Train Loss: 0.0102, Val Loss: 0.2099\n",
      "Epoch: 81/100  Train Accuracy: 1.0000, Val Accuracy: 0.7727\n"
     ]
    },
    {
     "name": "stderr",
     "output_type": "stream",
     "text": [
      "Epoch 82/100: 100%|██████████| 99/99 [00:07<00:00, 12.81batch/s, loss=0.105] \n"
     ]
    },
    {
     "name": "stdout",
     "output_type": "stream",
     "text": [
      "Epoch: 82/100  Train Loss: 0.0100, Val Loss: 0.1947\n",
      "Epoch: 82/100  Train Accuracy: 1.0000, Val Accuracy: 0.7980\n"
     ]
    },
    {
     "name": "stderr",
     "output_type": "stream",
     "text": [
      "Epoch 83/100: 100%|██████████| 99/99 [00:07<00:00, 12.89batch/s, loss=0.106] \n"
     ]
    },
    {
     "name": "stdout",
     "output_type": "stream",
     "text": [
      "Epoch: 83/100  Train Loss: 0.0098, Val Loss: 0.1794\n",
      "Epoch: 83/100  Train Accuracy: 1.0000, Val Accuracy: 0.7626\n"
     ]
    },
    {
     "name": "stderr",
     "output_type": "stream",
     "text": [
      "Epoch 84/100: 100%|██████████| 99/99 [00:08<00:00, 12.35batch/s, loss=0.0975]\n"
     ]
    },
    {
     "name": "stdout",
     "output_type": "stream",
     "text": [
      "Epoch: 84/100  Train Loss: 0.0099, Val Loss: 0.2103\n",
      "Epoch: 84/100  Train Accuracy: 1.0000, Val Accuracy: 0.7879\n"
     ]
    },
    {
     "name": "stderr",
     "output_type": "stream",
     "text": [
      "Epoch 85/100: 100%|██████████| 99/99 [00:07<00:00, 12.61batch/s, loss=0.0749]\n"
     ]
    },
    {
     "name": "stdout",
     "output_type": "stream",
     "text": [
      "Epoch: 85/100  Train Loss: 0.0099, Val Loss: 0.1968\n",
      "Epoch: 85/100  Train Accuracy: 1.0000, Val Accuracy: 0.7828\n"
     ]
    },
    {
     "name": "stderr",
     "output_type": "stream",
     "text": [
      "Epoch 86/100: 100%|██████████| 99/99 [00:07<00:00, 12.45batch/s, loss=0.0895]\n"
     ]
    },
    {
     "name": "stdout",
     "output_type": "stream",
     "text": [
      "Epoch: 86/100  Train Loss: 0.0097, Val Loss: 0.1884\n",
      "Epoch: 86/100  Train Accuracy: 1.0000, Val Accuracy: 0.7929\n"
     ]
    },
    {
     "name": "stderr",
     "output_type": "stream",
     "text": [
      "Epoch 87/100: 100%|██████████| 99/99 [00:07<00:00, 12.92batch/s, loss=0.101] \n"
     ]
    },
    {
     "name": "stdout",
     "output_type": "stream",
     "text": [
      "Epoch: 87/100  Train Loss: 0.0098, Val Loss: 0.1920\n",
      "Epoch: 87/100  Train Accuracy: 1.0000, Val Accuracy: 0.7576\n"
     ]
    },
    {
     "name": "stderr",
     "output_type": "stream",
     "text": [
      "Epoch 88/100: 100%|██████████| 99/99 [00:08<00:00, 12.37batch/s, loss=0.094] \n"
     ]
    },
    {
     "name": "stdout",
     "output_type": "stream",
     "text": [
      "Epoch: 88/100  Train Loss: 0.0099, Val Loss: 0.1994\n",
      "Epoch: 88/100  Train Accuracy: 1.0000, Val Accuracy: 0.7828\n"
     ]
    },
    {
     "name": "stderr",
     "output_type": "stream",
     "text": [
      "Epoch 89/100: 100%|██████████| 99/99 [00:07<00:00, 12.61batch/s, loss=0.0979]\n"
     ]
    },
    {
     "name": "stdout",
     "output_type": "stream",
     "text": [
      "Epoch: 89/100  Train Loss: 0.0102, Val Loss: 0.2089\n",
      "Epoch: 89/100  Train Accuracy: 1.0000, Val Accuracy: 0.7576\n"
     ]
    },
    {
     "name": "stderr",
     "output_type": "stream",
     "text": [
      "Epoch 90/100: 100%|██████████| 99/99 [00:08<00:00, 12.03batch/s, loss=0.0829]\n"
     ]
    },
    {
     "name": "stdout",
     "output_type": "stream",
     "text": [
      "Epoch: 90/100  Train Loss: 0.0101, Val Loss: 0.2133\n",
      "Epoch: 90/100  Train Accuracy: 1.0000, Val Accuracy: 0.7626\n"
     ]
    },
    {
     "name": "stderr",
     "output_type": "stream",
     "text": [
      "Epoch 91/100: 100%|██████████| 99/99 [00:07<00:00, 12.84batch/s, loss=0.0928]\n"
     ]
    },
    {
     "name": "stdout",
     "output_type": "stream",
     "text": [
      "Epoch: 91/100  Train Loss: 0.0098, Val Loss: 0.1928\n",
      "Epoch: 91/100  Train Accuracy: 1.0000, Val Accuracy: 0.7778\n"
     ]
    },
    {
     "name": "stderr",
     "output_type": "stream",
     "text": [
      "Epoch 92/100: 100%|██████████| 99/99 [00:08<00:00, 12.34batch/s, loss=0.103] \n"
     ]
    },
    {
     "name": "stdout",
     "output_type": "stream",
     "text": [
      "Epoch: 92/100  Train Loss: 0.0098, Val Loss: 0.1891\n",
      "Epoch: 92/100  Train Accuracy: 1.0000, Val Accuracy: 0.7727\n"
     ]
    },
    {
     "name": "stderr",
     "output_type": "stream",
     "text": [
      "Epoch 93/100: 100%|██████████| 99/99 [00:07<00:00, 12.66batch/s, loss=0.0965]\n"
     ]
    },
    {
     "name": "stdout",
     "output_type": "stream",
     "text": [
      "Epoch: 93/100  Train Loss: 0.0099, Val Loss: 0.2321\n",
      "Epoch: 93/100  Train Accuracy: 1.0000, Val Accuracy: 0.7727\n"
     ]
    },
    {
     "name": "stderr",
     "output_type": "stream",
     "text": [
      "Epoch 94/100: 100%|██████████| 99/99 [00:07<00:00, 12.88batch/s, loss=0.0899]\n"
     ]
    },
    {
     "name": "stdout",
     "output_type": "stream",
     "text": [
      "Epoch: 94/100  Train Loss: 0.0097, Val Loss: 0.2005\n",
      "Epoch: 94/100  Train Accuracy: 1.0000, Val Accuracy: 0.7879\n"
     ]
    },
    {
     "name": "stderr",
     "output_type": "stream",
     "text": [
      "Epoch 95/100: 100%|██████████| 99/99 [00:07<00:00, 12.57batch/s, loss=0.135] \n"
     ]
    },
    {
     "name": "stdout",
     "output_type": "stream",
     "text": [
      "Epoch: 95/100  Train Loss: 0.0103, Val Loss: 0.2468\n",
      "Epoch: 95/100  Train Accuracy: 1.0000, Val Accuracy: 0.7828\n"
     ]
    },
    {
     "name": "stderr",
     "output_type": "stream",
     "text": [
      "Epoch 96/100: 100%|██████████| 99/99 [00:07<00:00, 12.62batch/s, loss=0.1]   \n"
     ]
    },
    {
     "name": "stdout",
     "output_type": "stream",
     "text": [
      "Epoch: 96/100  Train Loss: 0.0104, Val Loss: 0.2025\n",
      "Epoch: 96/100  Train Accuracy: 1.0000, Val Accuracy: 0.7576\n"
     ]
    },
    {
     "name": "stderr",
     "output_type": "stream",
     "text": [
      "Epoch 97/100: 100%|██████████| 99/99 [00:07<00:00, 12.63batch/s, loss=0.103] \n"
     ]
    },
    {
     "name": "stdout",
     "output_type": "stream",
     "text": [
      "Epoch: 97/100  Train Loss: 0.0101, Val Loss: 0.2026\n",
      "Epoch: 97/100  Train Accuracy: 1.0000, Val Accuracy: 0.7576\n"
     ]
    },
    {
     "name": "stderr",
     "output_type": "stream",
     "text": [
      "Epoch 98/100: 100%|██████████| 99/99 [00:08<00:00, 12.07batch/s, loss=0.0987]\n"
     ]
    },
    {
     "name": "stdout",
     "output_type": "stream",
     "text": [
      "Epoch: 98/100  Train Loss: 0.0097, Val Loss: 0.2064\n",
      "Epoch: 98/100  Train Accuracy: 1.0000, Val Accuracy: 0.7677\n"
     ]
    },
    {
     "name": "stderr",
     "output_type": "stream",
     "text": [
      "Epoch 99/100: 100%|██████████| 99/99 [00:07<00:00, 12.68batch/s, loss=0.0937]\n"
     ]
    },
    {
     "name": "stdout",
     "output_type": "stream",
     "text": [
      "Epoch: 99/100  Train Loss: 0.0097, Val Loss: 0.2188\n",
      "Epoch: 99/100  Train Accuracy: 1.0000, Val Accuracy: 0.7576\n"
     ]
    },
    {
     "name": "stderr",
     "output_type": "stream",
     "text": [
      "Epoch 100/100: 100%|██████████| 99/99 [00:07<00:00, 12.91batch/s, loss=0.103] \n"
     ]
    },
    {
     "name": "stdout",
     "output_type": "stream",
     "text": [
      "Epoch: 100/100  Train Loss: 0.0105, Val Loss: 0.2078\n",
      "Epoch: 100/100  Train Accuracy: 1.0000, Val Accuracy: 0.7677\n"
     ]
    }
   ],
   "source": [
    "batch_size = 8\n",
    "trainDataLoader = torch.utils.data.DataLoader(trainDataSet, batch_size=batch_size, shuffle=True)\n",
    "testDataLoader = torch.utils.data.DataLoader(testDataSet, batch_size=batch_size, shuffle=True)\n",
    "\n",
    "min_loss_epoch = 0\n",
    "min_loss_value = -1\n",
    "best_model_weights_paths = {}\n",
    "\n",
    "best_val_loss = float('inf')  # Initialize with a large value\n",
    "best_epoch = -1\n",
    "best_model_weights = None\n",
    "train_losses = []\n",
    "train_accuracies = []\n",
    "val_losses = []\n",
    "val_accuracies = []\n",
    "\n",
    "\n",
    "criterion = nn.CrossEntropyLoss().to(DEVICE)\n",
    "model = CNNModel().to(DEVICE)\n",
    "optimizer = optim.Adam(model.parameters(), lr=3e-5, weight_decay=0.1)\n",
    "num_epochs = 100\n",
    "\n",
    "writer = SummaryWriter('runs/cnn/'+time.strftime(\"%Y%m%d-%H%M%S\"))\n",
    "\n",
    "\n",
    "for epoch in range(num_epochs):\n",
    "    model.train()\n",
    "    running_loss = 0.0\n",
    "    progress = tqdm(trainDataLoader, desc=f\"Epoch {epoch+1}/{num_epochs}\", unit=\"batch\")\n",
    "    correct_predictions = 0\n",
    "    for images, labels in progress:\n",
    "        optimizer.zero_grad()\n",
    "        images = images.to(DEVICE)\n",
    "        labels = labels.to(DEVICE)\n",
    "        outputs = model(images)\n",
    "        loss = criterion(outputs, labels)\n",
    "        loss.backward()\n",
    "        optimizer.step()\n",
    "        progress.set_postfix(loss=loss.item())\n",
    "\n",
    "        running_loss += loss.item()\n",
    "        _, predicted = torch.max(outputs, 1)\n",
    "        correct_predictions += (predicted == labels).sum().item()\n",
    "\n",
    "    train_loss = running_loss / len(trainDataSet) \n",
    "    train_accuracy = correct_predictions / len(trainDataSet)\n",
    "\n",
    "    train_losses.append(train_loss)\n",
    "    train_accuracies.append(train_accuracy)\n",
    "    \n",
    "    # Validation loop\n",
    "    model.eval()  \n",
    "    correct_predictions = 0\n",
    "    val_loss = 0.0\n",
    "    with torch.no_grad():\n",
    "        for images, labels in testDataLoader:\n",
    "            labels = labels.to(DEVICE)\n",
    "            images = images.to(DEVICE)\n",
    "            outputs = model(images)\n",
    "            loss = criterion(outputs, labels)\n",
    "\n",
    "            val_loss +=  loss\n",
    "            _, predicted = torch.max(outputs, 1)\n",
    "            correct_predictions += (predicted == labels).sum().item()\n",
    "\n",
    "    val_accuracy = correct_predictions / len(testDataSet)\n",
    "    val_loss = val_loss / len(testDataSet)\n",
    "\n",
    "    val_losses.append(val_loss)\n",
    "    val_accuracies.append(val_accuracy)\n",
    "\n",
    "    if val_loss < best_val_loss:\n",
    "        best_val_loss = val_loss\n",
    "        best_epoch = epoch\n",
    "        best_model = model\n",
    "\n",
    "    print(f\"Epoch: {epoch+1}/{num_epochs}  Train Loss: {train_loss:.4f}, Val Loss: {val_loss:.4f}\")\n",
    "    print(f\"Epoch: {epoch+1}/{num_epochs}  Train Accuracy: {train_accuracy:.4f}, Val Accuracy: {val_accuracy:.4f}\")\n",
    "\n",
    "    writer.add_scalar('Training Loss', train_loss, epoch)\n",
    "    writer.add_scalar('Validation Loss', val_loss, epoch)\n",
    "    writer.add_scalar('Training Accuracy', train_accuracy, epoch)\n",
    "    writer.add_scalar('Validation Accuracy', val_accuracy, epoch)\n",
    "\n",
    "writer.close()\n"
   ]
  },
  {
   "cell_type": "code",
   "execution_count": null,
   "metadata": {},
   "outputs": [],
   "source": [
    "print(\"For CNN Model:\")\n",
    "print(f\"Best validation loss: {best_val_loss:.4f} at epoch {best_epoch+1}\")\n",
    "print(f\"Best training loss: {train_losses.max():.4f} at epoch {train_losses.argmax()+1}\")\n",
    "print(f\"Best validation accuracy: {val_accuracies.max():.4f} at epoch {val_accuracies.argmax()+1}\")\n",
    "print(f\"Best training accuracy: {train_accuracies.max():.4f} at epoch {train_accuracies.argmax()+1}\")"
   ]
  },
  {
   "cell_type": "code",
   "execution_count": 13,
   "metadata": {},
   "outputs": [
    {
     "ename": "ValueError",
     "evalue": "too many values to unpack (expected 2)",
     "output_type": "error",
     "traceback": [
      "\u001b[0;31m---------------------------------------------------------------------------\u001b[0m",
      "\u001b[0;31mValueError\u001b[0m                                Traceback (most recent call last)",
      "Cell \u001b[0;32mIn[13], line 8\u001b[0m\n\u001b[1;32m      6\u001b[0m \u001b[38;5;28;01mwith\u001b[39;00m torch\u001b[38;5;241m.\u001b[39mno_grad():\n\u001b[1;32m      7\u001b[0m     loss \u001b[38;5;241m=\u001b[39m \u001b[38;5;241m0.0\u001b[39m\n\u001b[0;32m----> 8\u001b[0m     \u001b[38;5;28;01mfor\u001b[39;00m images, labels \u001b[38;5;129;01min\u001b[39;00m testDataLoader:\n\u001b[1;32m      9\u001b[0m         images \u001b[38;5;241m=\u001b[39m images\u001b[38;5;241m.\u001b[39mto(DEVICE)\n\u001b[1;32m     10\u001b[0m         labels \u001b[38;5;241m=\u001b[39m labels\u001b[38;5;241m.\u001b[39mto(DEVICE)\n",
      "\u001b[0;31mValueError\u001b[0m: too many values to unpack (expected 2)"
     ]
    }
   ],
   "source": [
    "best_model.eval()\n",
    "all_labels = []\n",
    "all_predictions = []\n",
    "criterion = nn.CrossEntropyLoss()\n",
    "\n",
    "with torch.no_grad():\n",
    "    loss = 0.0\n",
    "    for images, labels in testDataLoader:\n",
    "        images = images.to(DEVICE)\n",
    "        labels = labels.to(DEVICE)\n",
    "        outputs = best_model(images)\n",
    "        _, predicted = torch.max(outputs, 1)\n",
    "        loss = criterion(outputs, labels)\n",
    "        # Convert to numpy arrays\n",
    "        predicted_np = predicted.cpu().numpy()\n",
    "        labels_np = labels.cpu().numpy()\n",
    "        loss += loss.item()\n",
    "        # Append to the lists\n",
    "        all_labels.extend(labels_np)\n",
    "        all_predictions.extend(predicted_np)\n",
    "\n",
    "val_loss = loss / len(testDataSet)\n",
    "print(f\"Validation Loss: {val_loss*100:.4f}%\")\n",
    "print(f\"Validation Accuracy: {accuracy_score(all_labels, all_predictions)*100:.4f}%\")\n",
    "\n",
    "# Create confusion matrix\n",
    "conf_matrix = confusion_matrix(all_labels, all_predictions)\n",
    "\n",
    "# Plot confusion matrix using seaborn\n",
    "plt.figure(figsize=(8, 6))\n",
    "class_names = [str(i) for i in range(len(conf_matrix))]\n",
    "sns.heatmap(conf_matrix, annot=False, fmt=\"g\", cmap=\"Blues\")\n",
    "plt.xlabel('Predicted')\n",
    "plt.ylabel('True')\n",
    "plt.title('CNN only Model Confusion Matrix')\n",
    "plt.show()"
   ]
  },
  {
   "cell_type": "code",
   "execution_count": 10,
   "metadata": {},
   "outputs": [],
   "source": [
    "class CNNFeaturesDataset(torch.utils.data.Dataset):\n",
    "    def __init__(self, images, labels, features, transform=None):\n",
    "        self.images = images\n",
    "        self.labels = labels\n",
    "        self.features = features\n",
    "        self.transform = transform\n",
    "\n",
    "\n",
    "    def __len__(self):\n",
    "        return len(self.images)\n",
    "\n",
    "    def __getitem__(self, index):\n",
    "        image = self.transform(image=np.array(self.images[index],dtype=np.float32))['image']\n",
    "        label = torch.tensor(self.labels[index], dtype=torch.long)\n",
    "        feature = torch.tensor(np.array(self.features[index],dtype=np.float32), dtype=torch.long)\n",
    "        return image, label, feature\n",
    "    \n",
    "\n",
    "transform = A.Compose([\n",
    "    A.Resize(64, 64),\n",
    "    ToTensorV2()\n",
    "])\n",
    "\n",
    "trainDataSet = CNNFeaturesDataset(images=X_train, labels=y_train, features= features_train, transform=transform)\n",
    "testDataSet = CNNFeaturesDataset(images=X_test, labels=y_test, features=features_test, transform=transform)"
   ]
  },
  {
   "cell_type": "code",
   "execution_count": 11,
   "metadata": {},
   "outputs": [],
   "source": [
    "class CNNFeaturesModel(nn.Module):\n",
    "    def __init__(self):\n",
    "        super(CNNFeaturesModel, self).__init__()\n",
    "\n",
    "        self.cnn = nn.Sequential(\n",
    "            nn.Conv2d(1, 64, kernel_size=7, stride=1, padding=3),\n",
    "            nn.ReLU(),\n",
    "            nn.BatchNorm2d(64),\n",
    "            nn.MaxPool2d(kernel_size=2, stride=2),\n",
    "\n",
    "            nn.Conv2d(64, 128, kernel_size=5, stride=1, padding=2),\n",
    "            nn.ReLU(),\n",
    "            nn.BatchNorm2d(128),\n",
    "            nn.MaxPool2d(kernel_size=2, stride=2),\n",
    "\n",
    "            nn.Conv2d(128, 256, kernel_size=3, stride=1, padding=1),\n",
    "            nn.ReLU(),\n",
    "            nn.BatchNorm2d(256),\n",
    "            nn.MaxPool2d(kernel_size=2, stride=2),\n",
    "\n",
    "            nn.Flatten(),\n",
    "\n",
    "        ).to(DEVICE)\n",
    "\n",
    "        self.linear = nn.Sequential(\n",
    "            \n",
    "            nn.Linear(256 * 8 * 8 + 192, 256),\n",
    "            nn.ReLU(),\n",
    "            nn.Linear(256, 99),\n",
    "\n",
    "        ).to(DEVICE)\n",
    "\n",
    "\n",
    "    def forward(self, x, features):\n",
    "        x = self.cnn(x).to(DEVICE)\n",
    "        concat = torch.cat((x, features), dim = 1)\n",
    "        x = self.linear(concat).to(DEVICE)\n",
    "\n",
    "        return x\n"
   ]
  },
  {
   "cell_type": "code",
   "execution_count": null,
   "metadata": {},
   "outputs": [],
   "source": [
    "model = CNNModel()\n",
    "writer = SummaryWriter('runs/cnn+featuresArchitecture'+time.strftime(\"%Y%m%d-%H%M%S\"))\n",
    "writer.add_graph(model, torch.zeros([1,1,64,64]))\n",
    "writer.close()"
   ]
  },
  {
   "cell_type": "code",
   "execution_count": 12,
   "metadata": {},
   "outputs": [
    {
     "name": "stderr",
     "output_type": "stream",
     "text": [
      "Epoch 1/100:   0%|          | 0/99 [00:00<?, ?batch/s]"
     ]
    },
    {
     "name": "stderr",
     "output_type": "stream",
     "text": [
      "Epoch 1/100: 100%|██████████| 99/99 [00:07<00:00, 13.35batch/s, loss=3.97]\n"
     ]
    },
    {
     "name": "stdout",
     "output_type": "stream",
     "text": [
      "Epoch: 1/100  Train Loss: 0.5331, Val Loss: 0.4549\n",
      "Epoch: 1/100  Train Accuracy: 0.1023, Val Accuracy: 0.2323\n"
     ]
    },
    {
     "name": "stderr",
     "output_type": "stream",
     "text": [
      "Epoch 2/100: 100%|██████████| 99/99 [00:07<00:00, 12.39batch/s, loss=3.05]\n"
     ]
    },
    {
     "name": "stdout",
     "output_type": "stream",
     "text": [
      "Epoch: 2/100  Train Loss: 0.3631, Val Loss: 0.3448\n",
      "Epoch: 2/100  Train Accuracy: 0.3914, Val Accuracy: 0.3687\n"
     ]
    },
    {
     "name": "stderr",
     "output_type": "stream",
     "text": [
      "Epoch 3/100:  11%|█         | 11/99 [00:00<00:07, 11.94batch/s, loss=2.6] \n",
      "[E thread_pool.cpp:110] Exception in thread pool task: mutex lock failed: Invalid argument\n",
      "[E thread_pool.cpp:110] Exception in thread pool task: mutex lock failed: Invalid argument\n",
      "[E thread_pool.cpp:110] Exception in thread pool task: mutex lock failed: Invalid argument\n",
      "[E thread_pool.cpp:110] Exception in thread pool task: mutex lock failed: Invalid argument\n",
      "[E thread_pool.cpp:110] Exception in thread pool task: mutex lock failed: Invalid argument\n"
     ]
    },
    {
     "ename": "KeyboardInterrupt",
     "evalue": "",
     "output_type": "error",
     "traceback": [
      "\u001b[0;31m---------------------------------------------------------------------------\u001b[0m",
      "\u001b[0;31mKeyboardInterrupt\u001b[0m                         Traceback (most recent call last)",
      "Cell \u001b[0;32mIn[12], line 36\u001b[0m\n\u001b[1;32m     34\u001b[0m labels \u001b[38;5;241m=\u001b[39m labels\u001b[38;5;241m.\u001b[39mto(DEVICE)\n\u001b[1;32m     35\u001b[0m features \u001b[38;5;241m=\u001b[39m features\u001b[38;5;241m.\u001b[39mto(DEVICE)\n\u001b[0;32m---> 36\u001b[0m outputs \u001b[38;5;241m=\u001b[39m \u001b[43mmodel\u001b[49m\u001b[43m(\u001b[49m\u001b[43mimages\u001b[49m\u001b[43m,\u001b[49m\u001b[43m \u001b[49m\u001b[43mfeatures\u001b[49m\u001b[43m)\u001b[49m\n\u001b[1;32m     37\u001b[0m loss \u001b[38;5;241m=\u001b[39m criterion(outputs, labels)\n\u001b[1;32m     38\u001b[0m loss\u001b[38;5;241m.\u001b[39mbackward()\n",
      "File \u001b[0;32m~/.pyenv/versions/3.9.18/lib/python3.9/site-packages/torch/nn/modules/module.py:1518\u001b[0m, in \u001b[0;36mModule._wrapped_call_impl\u001b[0;34m(self, *args, **kwargs)\u001b[0m\n\u001b[1;32m   1516\u001b[0m     \u001b[38;5;28;01mreturn\u001b[39;00m \u001b[38;5;28mself\u001b[39m\u001b[38;5;241m.\u001b[39m_compiled_call_impl(\u001b[38;5;241m*\u001b[39margs, \u001b[38;5;241m*\u001b[39m\u001b[38;5;241m*\u001b[39mkwargs)  \u001b[38;5;66;03m# type: ignore[misc]\u001b[39;00m\n\u001b[1;32m   1517\u001b[0m \u001b[38;5;28;01melse\u001b[39;00m:\n\u001b[0;32m-> 1518\u001b[0m     \u001b[38;5;28;01mreturn\u001b[39;00m \u001b[38;5;28;43mself\u001b[39;49m\u001b[38;5;241;43m.\u001b[39;49m\u001b[43m_call_impl\u001b[49m\u001b[43m(\u001b[49m\u001b[38;5;241;43m*\u001b[39;49m\u001b[43margs\u001b[49m\u001b[43m,\u001b[49m\u001b[43m \u001b[49m\u001b[38;5;241;43m*\u001b[39;49m\u001b[38;5;241;43m*\u001b[39;49m\u001b[43mkwargs\u001b[49m\u001b[43m)\u001b[49m\n",
      "File \u001b[0;32m~/.pyenv/versions/3.9.18/lib/python3.9/site-packages/torch/nn/modules/module.py:1527\u001b[0m, in \u001b[0;36mModule._call_impl\u001b[0;34m(self, *args, **kwargs)\u001b[0m\n\u001b[1;32m   1522\u001b[0m \u001b[38;5;66;03m# If we don't have any hooks, we want to skip the rest of the logic in\u001b[39;00m\n\u001b[1;32m   1523\u001b[0m \u001b[38;5;66;03m# this function, and just call forward.\u001b[39;00m\n\u001b[1;32m   1524\u001b[0m \u001b[38;5;28;01mif\u001b[39;00m \u001b[38;5;129;01mnot\u001b[39;00m (\u001b[38;5;28mself\u001b[39m\u001b[38;5;241m.\u001b[39m_backward_hooks \u001b[38;5;129;01mor\u001b[39;00m \u001b[38;5;28mself\u001b[39m\u001b[38;5;241m.\u001b[39m_backward_pre_hooks \u001b[38;5;129;01mor\u001b[39;00m \u001b[38;5;28mself\u001b[39m\u001b[38;5;241m.\u001b[39m_forward_hooks \u001b[38;5;129;01mor\u001b[39;00m \u001b[38;5;28mself\u001b[39m\u001b[38;5;241m.\u001b[39m_forward_pre_hooks\n\u001b[1;32m   1525\u001b[0m         \u001b[38;5;129;01mor\u001b[39;00m _global_backward_pre_hooks \u001b[38;5;129;01mor\u001b[39;00m _global_backward_hooks\n\u001b[1;32m   1526\u001b[0m         \u001b[38;5;129;01mor\u001b[39;00m _global_forward_hooks \u001b[38;5;129;01mor\u001b[39;00m _global_forward_pre_hooks):\n\u001b[0;32m-> 1527\u001b[0m     \u001b[38;5;28;01mreturn\u001b[39;00m \u001b[43mforward_call\u001b[49m\u001b[43m(\u001b[49m\u001b[38;5;241;43m*\u001b[39;49m\u001b[43margs\u001b[49m\u001b[43m,\u001b[49m\u001b[43m \u001b[49m\u001b[38;5;241;43m*\u001b[39;49m\u001b[38;5;241;43m*\u001b[39;49m\u001b[43mkwargs\u001b[49m\u001b[43m)\u001b[49m\n\u001b[1;32m   1529\u001b[0m \u001b[38;5;28;01mtry\u001b[39;00m:\n\u001b[1;32m   1530\u001b[0m     result \u001b[38;5;241m=\u001b[39m \u001b[38;5;28;01mNone\u001b[39;00m\n",
      "Cell \u001b[0;32mIn[11], line 35\u001b[0m, in \u001b[0;36mCNNFeaturesModel.forward\u001b[0;34m(self, x, features)\u001b[0m\n\u001b[1;32m     34\u001b[0m \u001b[38;5;28;01mdef\u001b[39;00m \u001b[38;5;21mforward\u001b[39m(\u001b[38;5;28mself\u001b[39m, x, features):\n\u001b[0;32m---> 35\u001b[0m     x \u001b[38;5;241m=\u001b[39m \u001b[38;5;28;43mself\u001b[39;49m\u001b[38;5;241;43m.\u001b[39;49m\u001b[43mcnn\u001b[49m\u001b[43m(\u001b[49m\u001b[43mx\u001b[49m\u001b[43m)\u001b[49m\u001b[38;5;241m.\u001b[39mto(DEVICE)\n\u001b[1;32m     36\u001b[0m     concat \u001b[38;5;241m=\u001b[39m torch\u001b[38;5;241m.\u001b[39mcat((x, features), dim \u001b[38;5;241m=\u001b[39m \u001b[38;5;241m1\u001b[39m)\n\u001b[1;32m     37\u001b[0m     x \u001b[38;5;241m=\u001b[39m \u001b[38;5;28mself\u001b[39m\u001b[38;5;241m.\u001b[39mlinear(concat)\u001b[38;5;241m.\u001b[39mto(DEVICE)\n",
      "File \u001b[0;32m~/.pyenv/versions/3.9.18/lib/python3.9/site-packages/torch/nn/modules/module.py:1518\u001b[0m, in \u001b[0;36mModule._wrapped_call_impl\u001b[0;34m(self, *args, **kwargs)\u001b[0m\n\u001b[1;32m   1516\u001b[0m     \u001b[38;5;28;01mreturn\u001b[39;00m \u001b[38;5;28mself\u001b[39m\u001b[38;5;241m.\u001b[39m_compiled_call_impl(\u001b[38;5;241m*\u001b[39margs, \u001b[38;5;241m*\u001b[39m\u001b[38;5;241m*\u001b[39mkwargs)  \u001b[38;5;66;03m# type: ignore[misc]\u001b[39;00m\n\u001b[1;32m   1517\u001b[0m \u001b[38;5;28;01melse\u001b[39;00m:\n\u001b[0;32m-> 1518\u001b[0m     \u001b[38;5;28;01mreturn\u001b[39;00m \u001b[38;5;28;43mself\u001b[39;49m\u001b[38;5;241;43m.\u001b[39;49m\u001b[43m_call_impl\u001b[49m\u001b[43m(\u001b[49m\u001b[38;5;241;43m*\u001b[39;49m\u001b[43margs\u001b[49m\u001b[43m,\u001b[49m\u001b[43m \u001b[49m\u001b[38;5;241;43m*\u001b[39;49m\u001b[38;5;241;43m*\u001b[39;49m\u001b[43mkwargs\u001b[49m\u001b[43m)\u001b[49m\n",
      "File \u001b[0;32m~/.pyenv/versions/3.9.18/lib/python3.9/site-packages/torch/nn/modules/module.py:1527\u001b[0m, in \u001b[0;36mModule._call_impl\u001b[0;34m(self, *args, **kwargs)\u001b[0m\n\u001b[1;32m   1522\u001b[0m \u001b[38;5;66;03m# If we don't have any hooks, we want to skip the rest of the logic in\u001b[39;00m\n\u001b[1;32m   1523\u001b[0m \u001b[38;5;66;03m# this function, and just call forward.\u001b[39;00m\n\u001b[1;32m   1524\u001b[0m \u001b[38;5;28;01mif\u001b[39;00m \u001b[38;5;129;01mnot\u001b[39;00m (\u001b[38;5;28mself\u001b[39m\u001b[38;5;241m.\u001b[39m_backward_hooks \u001b[38;5;129;01mor\u001b[39;00m \u001b[38;5;28mself\u001b[39m\u001b[38;5;241m.\u001b[39m_backward_pre_hooks \u001b[38;5;129;01mor\u001b[39;00m \u001b[38;5;28mself\u001b[39m\u001b[38;5;241m.\u001b[39m_forward_hooks \u001b[38;5;129;01mor\u001b[39;00m \u001b[38;5;28mself\u001b[39m\u001b[38;5;241m.\u001b[39m_forward_pre_hooks\n\u001b[1;32m   1525\u001b[0m         \u001b[38;5;129;01mor\u001b[39;00m _global_backward_pre_hooks \u001b[38;5;129;01mor\u001b[39;00m _global_backward_hooks\n\u001b[1;32m   1526\u001b[0m         \u001b[38;5;129;01mor\u001b[39;00m _global_forward_hooks \u001b[38;5;129;01mor\u001b[39;00m _global_forward_pre_hooks):\n\u001b[0;32m-> 1527\u001b[0m     \u001b[38;5;28;01mreturn\u001b[39;00m \u001b[43mforward_call\u001b[49m\u001b[43m(\u001b[49m\u001b[38;5;241;43m*\u001b[39;49m\u001b[43margs\u001b[49m\u001b[43m,\u001b[49m\u001b[43m \u001b[49m\u001b[38;5;241;43m*\u001b[39;49m\u001b[38;5;241;43m*\u001b[39;49m\u001b[43mkwargs\u001b[49m\u001b[43m)\u001b[49m\n\u001b[1;32m   1529\u001b[0m \u001b[38;5;28;01mtry\u001b[39;00m:\n\u001b[1;32m   1530\u001b[0m     result \u001b[38;5;241m=\u001b[39m \u001b[38;5;28;01mNone\u001b[39;00m\n",
      "File \u001b[0;32m~/.pyenv/versions/3.9.18/lib/python3.9/site-packages/torch/nn/modules/container.py:215\u001b[0m, in \u001b[0;36mSequential.forward\u001b[0;34m(self, input)\u001b[0m\n\u001b[1;32m    213\u001b[0m \u001b[38;5;28;01mdef\u001b[39;00m \u001b[38;5;21mforward\u001b[39m(\u001b[38;5;28mself\u001b[39m, \u001b[38;5;28minput\u001b[39m):\n\u001b[1;32m    214\u001b[0m     \u001b[38;5;28;01mfor\u001b[39;00m module \u001b[38;5;129;01min\u001b[39;00m \u001b[38;5;28mself\u001b[39m:\n\u001b[0;32m--> 215\u001b[0m         \u001b[38;5;28minput\u001b[39m \u001b[38;5;241m=\u001b[39m \u001b[43mmodule\u001b[49m\u001b[43m(\u001b[49m\u001b[38;5;28;43minput\u001b[39;49m\u001b[43m)\u001b[49m\n\u001b[1;32m    216\u001b[0m     \u001b[38;5;28;01mreturn\u001b[39;00m \u001b[38;5;28minput\u001b[39m\n",
      "File \u001b[0;32m~/.pyenv/versions/3.9.18/lib/python3.9/site-packages/torch/nn/modules/module.py:1518\u001b[0m, in \u001b[0;36mModule._wrapped_call_impl\u001b[0;34m(self, *args, **kwargs)\u001b[0m\n\u001b[1;32m   1516\u001b[0m     \u001b[38;5;28;01mreturn\u001b[39;00m \u001b[38;5;28mself\u001b[39m\u001b[38;5;241m.\u001b[39m_compiled_call_impl(\u001b[38;5;241m*\u001b[39margs, \u001b[38;5;241m*\u001b[39m\u001b[38;5;241m*\u001b[39mkwargs)  \u001b[38;5;66;03m# type: ignore[misc]\u001b[39;00m\n\u001b[1;32m   1517\u001b[0m \u001b[38;5;28;01melse\u001b[39;00m:\n\u001b[0;32m-> 1518\u001b[0m     \u001b[38;5;28;01mreturn\u001b[39;00m \u001b[38;5;28;43mself\u001b[39;49m\u001b[38;5;241;43m.\u001b[39;49m\u001b[43m_call_impl\u001b[49m\u001b[43m(\u001b[49m\u001b[38;5;241;43m*\u001b[39;49m\u001b[43margs\u001b[49m\u001b[43m,\u001b[49m\u001b[43m \u001b[49m\u001b[38;5;241;43m*\u001b[39;49m\u001b[38;5;241;43m*\u001b[39;49m\u001b[43mkwargs\u001b[49m\u001b[43m)\u001b[49m\n",
      "File \u001b[0;32m~/.pyenv/versions/3.9.18/lib/python3.9/site-packages/torch/nn/modules/module.py:1527\u001b[0m, in \u001b[0;36mModule._call_impl\u001b[0;34m(self, *args, **kwargs)\u001b[0m\n\u001b[1;32m   1522\u001b[0m \u001b[38;5;66;03m# If we don't have any hooks, we want to skip the rest of the logic in\u001b[39;00m\n\u001b[1;32m   1523\u001b[0m \u001b[38;5;66;03m# this function, and just call forward.\u001b[39;00m\n\u001b[1;32m   1524\u001b[0m \u001b[38;5;28;01mif\u001b[39;00m \u001b[38;5;129;01mnot\u001b[39;00m (\u001b[38;5;28mself\u001b[39m\u001b[38;5;241m.\u001b[39m_backward_hooks \u001b[38;5;129;01mor\u001b[39;00m \u001b[38;5;28mself\u001b[39m\u001b[38;5;241m.\u001b[39m_backward_pre_hooks \u001b[38;5;129;01mor\u001b[39;00m \u001b[38;5;28mself\u001b[39m\u001b[38;5;241m.\u001b[39m_forward_hooks \u001b[38;5;129;01mor\u001b[39;00m \u001b[38;5;28mself\u001b[39m\u001b[38;5;241m.\u001b[39m_forward_pre_hooks\n\u001b[1;32m   1525\u001b[0m         \u001b[38;5;129;01mor\u001b[39;00m _global_backward_pre_hooks \u001b[38;5;129;01mor\u001b[39;00m _global_backward_hooks\n\u001b[1;32m   1526\u001b[0m         \u001b[38;5;129;01mor\u001b[39;00m _global_forward_hooks \u001b[38;5;129;01mor\u001b[39;00m _global_forward_pre_hooks):\n\u001b[0;32m-> 1527\u001b[0m     \u001b[38;5;28;01mreturn\u001b[39;00m \u001b[43mforward_call\u001b[49m\u001b[43m(\u001b[49m\u001b[38;5;241;43m*\u001b[39;49m\u001b[43margs\u001b[49m\u001b[43m,\u001b[49m\u001b[43m \u001b[49m\u001b[38;5;241;43m*\u001b[39;49m\u001b[38;5;241;43m*\u001b[39;49m\u001b[43mkwargs\u001b[49m\u001b[43m)\u001b[49m\n\u001b[1;32m   1529\u001b[0m \u001b[38;5;28;01mtry\u001b[39;00m:\n\u001b[1;32m   1530\u001b[0m     result \u001b[38;5;241m=\u001b[39m \u001b[38;5;28;01mNone\u001b[39;00m\n",
      "File \u001b[0;32m~/.pyenv/versions/3.9.18/lib/python3.9/site-packages/torch/nn/modules/pooling.py:166\u001b[0m, in \u001b[0;36mMaxPool2d.forward\u001b[0;34m(self, input)\u001b[0m\n\u001b[1;32m    165\u001b[0m \u001b[38;5;28;01mdef\u001b[39;00m \u001b[38;5;21mforward\u001b[39m(\u001b[38;5;28mself\u001b[39m, \u001b[38;5;28minput\u001b[39m: Tensor):\n\u001b[0;32m--> 166\u001b[0m     \u001b[38;5;28;01mreturn\u001b[39;00m \u001b[43mF\u001b[49m\u001b[38;5;241;43m.\u001b[39;49m\u001b[43mmax_pool2d\u001b[49m\u001b[43m(\u001b[49m\u001b[38;5;28;43minput\u001b[39;49m\u001b[43m,\u001b[49m\u001b[43m \u001b[49m\u001b[38;5;28;43mself\u001b[39;49m\u001b[38;5;241;43m.\u001b[39;49m\u001b[43mkernel_size\u001b[49m\u001b[43m,\u001b[49m\u001b[43m \u001b[49m\u001b[38;5;28;43mself\u001b[39;49m\u001b[38;5;241;43m.\u001b[39;49m\u001b[43mstride\u001b[49m\u001b[43m,\u001b[49m\n\u001b[1;32m    167\u001b[0m \u001b[43m                        \u001b[49m\u001b[38;5;28;43mself\u001b[39;49m\u001b[38;5;241;43m.\u001b[39;49m\u001b[43mpadding\u001b[49m\u001b[43m,\u001b[49m\u001b[43m \u001b[49m\u001b[38;5;28;43mself\u001b[39;49m\u001b[38;5;241;43m.\u001b[39;49m\u001b[43mdilation\u001b[49m\u001b[43m,\u001b[49m\u001b[43m \u001b[49m\u001b[43mceil_mode\u001b[49m\u001b[38;5;241;43m=\u001b[39;49m\u001b[38;5;28;43mself\u001b[39;49m\u001b[38;5;241;43m.\u001b[39;49m\u001b[43mceil_mode\u001b[49m\u001b[43m,\u001b[49m\n\u001b[1;32m    168\u001b[0m \u001b[43m                        \u001b[49m\u001b[43mreturn_indices\u001b[49m\u001b[38;5;241;43m=\u001b[39;49m\u001b[38;5;28;43mself\u001b[39;49m\u001b[38;5;241;43m.\u001b[39;49m\u001b[43mreturn_indices\u001b[49m\u001b[43m)\u001b[49m\n",
      "File \u001b[0;32m~/.pyenv/versions/3.9.18/lib/python3.9/site-packages/torch/_jit_internal.py:488\u001b[0m, in \u001b[0;36mboolean_dispatch.<locals>.fn\u001b[0;34m(*args, **kwargs)\u001b[0m\n\u001b[1;32m    486\u001b[0m     \u001b[38;5;28;01mreturn\u001b[39;00m if_true(\u001b[38;5;241m*\u001b[39margs, \u001b[38;5;241m*\u001b[39m\u001b[38;5;241m*\u001b[39mkwargs)\n\u001b[1;32m    487\u001b[0m \u001b[38;5;28;01melse\u001b[39;00m:\n\u001b[0;32m--> 488\u001b[0m     \u001b[38;5;28;01mreturn\u001b[39;00m \u001b[43mif_false\u001b[49m\u001b[43m(\u001b[49m\u001b[38;5;241;43m*\u001b[39;49m\u001b[43margs\u001b[49m\u001b[43m,\u001b[49m\u001b[43m \u001b[49m\u001b[38;5;241;43m*\u001b[39;49m\u001b[38;5;241;43m*\u001b[39;49m\u001b[43mkwargs\u001b[49m\u001b[43m)\u001b[49m\n",
      "File \u001b[0;32m~/.pyenv/versions/3.9.18/lib/python3.9/site-packages/torch/nn/functional.py:791\u001b[0m, in \u001b[0;36m_max_pool2d\u001b[0;34m(input, kernel_size, stride, padding, dilation, ceil_mode, return_indices)\u001b[0m\n\u001b[1;32m    789\u001b[0m \u001b[38;5;28;01mif\u001b[39;00m stride \u001b[38;5;129;01mis\u001b[39;00m \u001b[38;5;28;01mNone\u001b[39;00m:\n\u001b[1;32m    790\u001b[0m     stride \u001b[38;5;241m=\u001b[39m torch\u001b[38;5;241m.\u001b[39mjit\u001b[38;5;241m.\u001b[39mannotate(List[\u001b[38;5;28mint\u001b[39m], [])\n\u001b[0;32m--> 791\u001b[0m \u001b[38;5;28;01mreturn\u001b[39;00m \u001b[43mtorch\u001b[49m\u001b[38;5;241;43m.\u001b[39;49m\u001b[43mmax_pool2d\u001b[49m\u001b[43m(\u001b[49m\u001b[38;5;28;43minput\u001b[39;49m\u001b[43m,\u001b[49m\u001b[43m \u001b[49m\u001b[43mkernel_size\u001b[49m\u001b[43m,\u001b[49m\u001b[43m \u001b[49m\u001b[43mstride\u001b[49m\u001b[43m,\u001b[49m\u001b[43m \u001b[49m\u001b[43mpadding\u001b[49m\u001b[43m,\u001b[49m\u001b[43m \u001b[49m\u001b[43mdilation\u001b[49m\u001b[43m,\u001b[49m\u001b[43m \u001b[49m\u001b[43mceil_mode\u001b[49m\u001b[43m)\u001b[49m\n",
      "\u001b[0;31mKeyboardInterrupt\u001b[0m: "
     ]
    }
   ],
   "source": [
    "batch_size = 8\n",
    "trainDataLoader = torch.utils.data.DataLoader(trainDataSet, batch_size=batch_size, shuffle=True)\n",
    "testDataLoader = torch.utils.data.DataLoader(testDataSet, batch_size=batch_size, shuffle=True)\n",
    "\n",
    "min_loss_epoch = 0\n",
    "min_loss_value = -1\n",
    "best_model_weights_paths = {}\n",
    "\n",
    "best_val_loss = float('inf')  # Initialize with a large value\n",
    "best_epoch = -1\n",
    "best_model_weights = None\n",
    "train_losses = []\n",
    "train_accuracies = []\n",
    "val_losses = []\n",
    "val_accuracies = []\n",
    "\n",
    "\n",
    "criterion = nn.CrossEntropyLoss().to(DEVICE)\n",
    "model = CNNFeaturesModel().to(DEVICE)\n",
    "optimizer = optim.Adam(model.parameters(), lr=3e-5, weight_decay=0.1)\n",
    "num_epochs = 100\n",
    "\n",
    "writer = SummaryWriter('runs/cnn+features/'+time.strftime(\"%Y%m%d-%H%M%S\"))\n",
    "\n",
    "\n",
    "for epoch in range(num_epochs):\n",
    "    model.train()\n",
    "    running_loss = 0.0\n",
    "    progress = tqdm(trainDataLoader, desc=f\"Epoch {epoch+1}/{num_epochs}\", unit=\"batch\")\n",
    "    correct_predictions = 0\n",
    "    for images, labels, features in progress:\n",
    "        optimizer.zero_grad()\n",
    "        images = images.to(DEVICE)\n",
    "        labels = labels.to(DEVICE)\n",
    "        features = features.to(DEVICE)\n",
    "        outputs = model(images, features)\n",
    "        loss = criterion(outputs, labels)\n",
    "        loss.backward()\n",
    "        optimizer.step()\n",
    "        progress.set_postfix(loss=loss.item())\n",
    "\n",
    "        running_loss += loss.item()\n",
    "        _, predicted = torch.max(outputs, 1)\n",
    "        correct_predictions += (predicted == labels).sum().item()\n",
    "\n",
    "    train_loss = running_loss / len(trainDataSet) \n",
    "    train_accuracy = correct_predictions / len(trainDataSet)\n",
    "\n",
    "    train_losses.append(train_loss)\n",
    "    train_accuracies.append(train_accuracy)\n",
    "    \n",
    "    # Validation loop\n",
    "    model.eval()  \n",
    "    correct_predictions = 0\n",
    "    val_loss = 0.0\n",
    "    with torch.no_grad():\n",
    "        for images, labels, features in testDataLoader:\n",
    "            labels = labels.to(DEVICE)\n",
    "            images = images.to(DEVICE)\n",
    "            features = features.to(DEVICE)\n",
    "            outputs = model(images, features)\n",
    "            loss = criterion(outputs, labels)\n",
    "\n",
    "            val_loss +=  loss\n",
    "            _, predicted = torch.max(outputs, 1)\n",
    "            correct_predictions += (predicted == labels).sum().item()\n",
    "\n",
    "    val_accuracy = correct_predictions / len(testDataSet)\n",
    "    val_loss = val_loss / len(testDataSet)\n",
    "\n",
    "    val_losses.append(val_loss)\n",
    "    val_accuracies.append(val_accuracy)\n",
    "\n",
    "    if val_loss < best_val_loss:\n",
    "        best_val_loss = val_loss\n",
    "        best_epoch = epoch\n",
    "        best_model = model\n",
    "\n",
    "    print(f\"Epoch: {epoch+1}/{num_epochs}  Train Loss: {train_loss:.4f}, Val Loss: {val_loss:.4f}\")\n",
    "    print(f\"Epoch: {epoch+1}/{num_epochs}  Train Accuracy: {train_accuracy:.4f}, Val Accuracy: {val_accuracy:.4f}\")\n",
    "\n",
    "    writer.add_scalar('Training Loss', train_loss, epoch)\n",
    "    writer.add_scalar('Validation Loss', val_loss, epoch)\n",
    "    writer.add_scalar('Training Accuracy', train_accuracy, epoch)\n",
    "    writer.add_scalar('Validation Accuracy', val_accuracy, epoch)\n",
    "\n",
    "writer.close()"
   ]
  },
  {
   "cell_type": "code",
   "execution_count": null,
   "metadata": {},
   "outputs": [],
   "source": [
    "print(\"For CNN+Features Model:\")\n",
    "print(f\"Best validation loss: {best_val_loss:.4f} at epoch {best_epoch+1}\")\n",
    "print(f\"Best training loss: {train_losses.max():.4f} at epoch {train_losses.argmax()+1}\")\n",
    "print(f\"Best validation accuracy: {val_accuracies.max():.4f} at epoch {val_accuracies.argmax()+1}\")\n",
    "print(f\"Best training accuracy: {train_accuracies.max():.4f} at epoch {train_accuracies.argmax()+1}\")"
   ]
  },
  {
   "cell_type": "code",
   "execution_count": null,
   "metadata": {},
   "outputs": [
    {
     "name": "stdout",
     "output_type": "stream",
     "text": [
      "Validation Loss: 1.3215%\n",
      "Validation Accuracy: 75.7576%\n"
     ]
    },
    {
     "data": {
      "image/png": "[encoded data removed]",
      "text/plain": [
       "<Figure size 576x432 with 2 Axes>"
      ]
     },
     "metadata": {
      "needs_background": "light"
     },
     "output_type": "display_data"
    }
   ],
   "source": [
    "best_model.eval()\n",
    "all_labels = []\n",
    "all_predictions = []\n",
    "criterion = nn.CrossEntropyLoss()\n",
    "\n",
    "with torch.no_grad():\n",
    "    loss = 0.0\n",
    "    for images, labels, features in testDataLoader:\n",
    "        labels = labels.to(DEVICE)\n",
    "        images = images.to(DEVICE)\n",
    "        features = features.to(DEVICE)\n",
    "        outputs = best_model(images, features)\n",
    "        _, predicted = torch.max(outputs, 1)\n",
    "        loss = criterion(outputs, labels)\n",
    "        # Convert to numpy arrays\n",
    "        predicted_np = predicted.cpu().numpy()\n",
    "        labels_np = labels.cpu().numpy()\n",
    "        loss += loss.item()\n",
    "        # Append to the lists\n",
    "        all_labels.extend(labels_np)\n",
    "        all_predictions.extend(predicted_np)\n",
    "\n",
    "val_loss = loss / len(testDataSet)\n",
    "print(f\"Validation Loss: {val_loss*100:.4f}%\")\n",
    "print(f\"Validation Accuracy: {accuracy_score(all_labels, all_predictions)*100:.4f}%\")\n",
    "\n",
    "# Create confusion matrix\n",
    "conf_matrix = confusion_matrix(all_labels, all_predictions)\n",
    "\n",
    "# Plot confusion matrix using seaborn\n",
    "plt.figure(figsize=(8, 6))\n",
    "class_names = [str(i) for i in range(len(conf_matrix))]\n",
    "sns.heatmap(conf_matrix, annot=False, fmt=\"g\", cmap=\"Blues\")\n",
    "plt.xlabel('Predicted')\n",
    "plt.ylabel('True')\n",
    "plt.title('CNN + Features Confusion Matrix')\n",
    "plt.show()"
   ]
  },
  {
   "cell_type": "code",
   "execution_count": null,
   "metadata": {},
   "outputs": [],
   "source": []
  }
 ],
 "metadata": {
  "kernelspec": {
   "display_name": "Python 3",
   "language": "python",
   "name": "python3"
  },
  "language_info": {
   "codemirror_mode": {
    "name": "ipython",
    "version": 3
   },
   "file_extension": ".py",
   "mimetype": "text/x-python",
   "name": "python",
   "nbconvert_exporter": "python",
   "pygments_lexer": "ipython3",
   "version": "3.9.18"
  }
 },
 "nbformat": 4,
 "nbformat_minor": 2
}
