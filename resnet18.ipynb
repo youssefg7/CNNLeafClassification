{
  "cells": [
    {
      "cell_type": "code",
      "execution_count": 1,
      "metadata": {
        "id": "SeMQFXZynd0F"
      },
      "outputs": [],
      "source": [
        "import torch\n",
        "import torch.nn as nn\n",
        "import torch.optim as optim\n",
        "import torch.nn.functional as F\n",
        "import albumentations as A\n",
        "from albumentations.pytorch import ToTensorV2\n",
        "import os\n",
        "from PIL import Image\n",
        "import cv2\n",
        "import matplotlib.pyplot as plt\n",
        "import numpy as np\n",
        "import pandas as pd\n",
        "from sklearn.model_selection import train_test_split\n",
        "from sklearn.preprocessing import LabelEncoder\n",
        "from torchvision import datasets, transforms, models\n",
        "from tqdm import tqdm\n"
      ]
    },
    {
      "cell_type": "code",
      "execution_count": 89,
      "metadata": {
        "colab": {
          "base_uri": "https://localhost:8080/"
        },
        "id": "OVzZLkUEx-Wu",
        "outputId": "385d75bf-f024-48fe-fbad-4f52632770e8"
      },
      "outputs": [
        {
          "name": "stdout",
          "output_type": "stream",
          "text": [
            "Mounted at /content/drive/\n"
          ]
        }
      ],
      "source": [
        "drive.mount('/content/drive/')"
      ]
    },
    {
      "cell_type": "code",
      "execution_count": 86,
      "metadata": {
        "colab": {
          "base_uri": "https://localhost:8080/"
        },
        "id": "9F8HNjmuoxGv",
        "outputId": "634f9c98-49de-41d2-aa8f-868731201ba0"
      },
      "outputs": [
        {
          "name": "stdout",
          "output_type": "stream",
          "text": [
            "cuda:0\n"
          ]
        }
      ],
      "source": [
        "device = torch.device(\"cuda:0\" if torch.cuda.is_available() else \"cpu\")\n",
        "print(device)"
      ]
    },
    {
      "cell_type": "code",
      "execution_count": 93,
      "metadata": {
        "colab": {
          "base_uri": "https://localhost:8080/"
        },
        "id": "YU_vU_3Ind0O",
        "outputId": "12f1a6f3-1ee0-4455-9230-1fea6a7614b1"
      },
      "outputs": [
        {
          "name": "stdout",
          "output_type": "stream",
          "text": [
            "There are 990 images in the dataset\n",
            "There are 99 labels in the dataset\n"
          ]
        }
      ],
      "source": [
        "trainSet = pd.read_csv('Dataset/train.csv')\n",
        "\n",
        "classes = trainSet[['id','species']].copy()\n",
        "classes['id'] = classes['id'].astype(str)\n",
        "classes['label'] = LabelEncoder().fit_transform(classes['species'])\n",
        "\n",
        "image_folder = 'Dataset/images/'\n",
        "imgs = []\n",
        "labels = []\n",
        "for i in sorted(os.listdir(image_folder)):\n",
        "    id = i.split('.')[0]\n",
        "    if id in classes['id'].values:\n",
        "        labels.append(classes[classes['id'] == id]['label'].values[0])\n",
        "        image = Image.open(os.path.join(image_folder, i)).convert('1')\n",
        "        imgs.append(image)\n",
        "\n",
        "print(f\"There are {len(imgs)} images in the dataset\")\n",
        "print(f\"There are {len(np.unique(labels))} labels in the dataset\")\n"
      ]
    },
    {
      "cell_type": "code",
      "execution_count": 94,
      "metadata": {
        "colab": {
          "base_uri": "https://localhost:8080/"
        },
        "id": "9jonj7FGnd0T",
        "outputId": "3c3c68a2-6544-4b73-8528-84cc31d4ac55"
      },
      "outputs": [
        {
          "name": "stdout",
          "output_type": "stream",
          "text": [
            "There are 792 images in the training set\n",
            "There are 198 images in the test set\n",
            "There are 99 classes in the training set\n",
            "There are 99 classes in the test set\n"
          ]
        }
      ],
      "source": [
        "\n",
        "X_train, X_test, y_train, y_test = train_test_split(imgs, labels, test_size=0.2, random_state=42, stratify=labels)\n",
        "print(f\"There are {len(X_train)} images in the training set\")\n",
        "print(f\"There are {len(X_test)} images in the test set\")\n",
        "print(f\"There are {len(np.unique(y_train))} classes in the training set\")\n",
        "print(f\"There are {len(np.unique(y_test))} classes in the test set\")\n"
      ]
    },
    {
      "cell_type": "code",
      "execution_count": 95,
      "metadata": {
        "id": "CNzS_umund0U"
      },
      "outputs": [],
      "source": [
        "class CustomDataSet(torch.utils.data.Dataset):\n",
        "    def __init__(self, images, labels, transform=None):\n",
        "        self.images = images\n",
        "        self.labels = labels\n",
        "        self.transform = transform\n",
        "\n",
        "    def __len__(self):\n",
        "        return len(self.images)\n",
        "\n",
        "    def __getitem__(self, index):\n",
        "        image = self.transform(image=np.array(self.images[index],dtype=np.float32))['image']\n",
        "        label = torch.tensor(self.labels[index], dtype=torch.long)\n",
        "        return image, label\n",
        "\n",
        "\n",
        "\n",
        "transform = A.Compose([\n",
        "    A.Resize(224, 224),\n",
        "    ToTensorV2()\n",
        "])\n",
        "\n",
        "trainDataSet = CustomDataSet(images=X_train, labels=y_train, transform=transform)\n",
        "testDataSet = CustomDataSet(images=X_test, labels=y_test, transform=transform)\n",
        "\n",
        "\n"
      ]
    },
    {
      "cell_type": "code",
      "execution_count": 106,
      "metadata": {
        "colab": {
          "base_uri": "https://localhost:8080/",
          "height": 1000
        },
        "id": "Xo6xVtwind0V",
        "outputId": "e5bd75c7-c924-43f3-91c6-5cb283a5f059"
      },
      "outputs": [
        {
          "name": "stdout",
          "output_type": "stream",
          "text": [
            "ResNet(\n",
            "  (conv1): Conv2d(1, 64, kernel_size=(3, 3), stride=(2, 2), padding=(3, 3), bias=False)\n",
            "  (bn1): BatchNorm2d(64, eps=1e-05, momentum=0.1, affine=True, track_running_stats=True)\n",
            "  (relu): ReLU(inplace=True)\n",
            "  (maxpool): MaxPool2d(kernel_size=3, stride=2, padding=1, dilation=1, ceil_mode=False)\n",
            "  (layer1): Sequential(\n",
            "    (0): BasicBlock(\n",
            "      (conv1): Conv2d(64, 64, kernel_size=(3, 3), stride=(1, 1), padding=(1, 1), bias=False)\n",
            "      (bn1): BatchNorm2d(64, eps=1e-05, momentum=0.1, affine=True, track_running_stats=True)\n",
            "      (relu): ReLU(inplace=True)\n",
            "      (conv2): Conv2d(64, 64, kernel_size=(3, 3), stride=(1, 1), padding=(1, 1), bias=False)\n",
            "      (bn2): BatchNorm2d(64, eps=1e-05, momentum=0.1, affine=True, track_running_stats=True)\n",
            "    )\n",
            "    (1): BasicBlock(\n",
            "      (conv1): Conv2d(64, 64, kernel_size=(3, 3), stride=(1, 1), padding=(1, 1), bias=False)\n",
            "      (bn1): BatchNorm2d(64, eps=1e-05, momentum=0.1, affine=True, track_running_stats=True)\n",
            "      (relu): ReLU(inplace=True)\n",
            "      (conv2): Conv2d(64, 64, kernel_size=(3, 3), stride=(1, 1), padding=(1, 1), bias=False)\n",
            "      (bn2): BatchNorm2d(64, eps=1e-05, momentum=0.1, affine=True, track_running_stats=True)\n",
            "    )\n",
            "  )\n",
            "  (layer2): Sequential(\n",
            "    (0): BasicBlock(\n",
            "      (conv1): Conv2d(64, 128, kernel_size=(3, 3), stride=(2, 2), padding=(1, 1), bias=False)\n",
            "      (bn1): BatchNorm2d(128, eps=1e-05, momentum=0.1, affine=True, track_running_stats=True)\n",
            "      (relu): ReLU(inplace=True)\n",
            "      (conv2): Conv2d(128, 128, kernel_size=(3, 3), stride=(1, 1), padding=(1, 1), bias=False)\n",
            "      (bn2): BatchNorm2d(128, eps=1e-05, momentum=0.1, affine=True, track_running_stats=True)\n",
            "      (downsample): Sequential(\n",
            "        (0): Conv2d(64, 128, kernel_size=(1, 1), stride=(2, 2), bias=False)\n",
            "        (1): BatchNorm2d(128, eps=1e-05, momentum=0.1, affine=True, track_running_stats=True)\n",
            "      )\n",
            "    )\n",
            "    (1): BasicBlock(\n",
            "      (conv1): Conv2d(128, 128, kernel_size=(3, 3), stride=(1, 1), padding=(1, 1), bias=False)\n",
            "      (bn1): BatchNorm2d(128, eps=1e-05, momentum=0.1, affine=True, track_running_stats=True)\n",
            "      (relu): ReLU(inplace=True)\n",
            "      (conv2): Conv2d(128, 128, kernel_size=(3, 3), stride=(1, 1), padding=(1, 1), bias=False)\n",
            "      (bn2): BatchNorm2d(128, eps=1e-05, momentum=0.1, affine=True, track_running_stats=True)\n",
            "    )\n",
            "  )\n",
            "  (layer3): Sequential(\n",
            "    (0): BasicBlock(\n",
            "      (conv1): Conv2d(128, 256, kernel_size=(3, 3), stride=(2, 2), padding=(1, 1), bias=False)\n",
            "      (bn1): BatchNorm2d(256, eps=1e-05, momentum=0.1, affine=True, track_running_stats=True)\n",
            "      (relu): ReLU(inplace=True)\n",
            "      (conv2): Conv2d(256, 256, kernel_size=(3, 3), stride=(1, 1), padding=(1, 1), bias=False)\n",
            "      (bn2): BatchNorm2d(256, eps=1e-05, momentum=0.1, affine=True, track_running_stats=True)\n",
            "      (downsample): Sequential(\n",
            "        (0): Conv2d(128, 256, kernel_size=(1, 1), stride=(2, 2), bias=False)\n",
            "        (1): BatchNorm2d(256, eps=1e-05, momentum=0.1, affine=True, track_running_stats=True)\n",
            "      )\n",
            "    )\n",
            "    (1): BasicBlock(\n",
            "      (conv1): Conv2d(256, 256, kernel_size=(3, 3), stride=(1, 1), padding=(1, 1), bias=False)\n",
            "      (bn1): BatchNorm2d(256, eps=1e-05, momentum=0.1, affine=True, track_running_stats=True)\n",
            "      (relu): ReLU(inplace=True)\n",
            "      (conv2): Conv2d(256, 256, kernel_size=(3, 3), stride=(1, 1), padding=(1, 1), bias=False)\n",
            "      (bn2): BatchNorm2d(256, eps=1e-05, momentum=0.1, affine=True, track_running_stats=True)\n",
            "    )\n",
            "  )\n",
            "  (layer4): Sequential(\n",
            "    (0): BasicBlock(\n",
            "      (conv1): Conv2d(256, 512, kernel_size=(3, 3), stride=(2, 2), padding=(1, 1), bias=False)\n",
            "      (bn1): BatchNorm2d(512, eps=1e-05, momentum=0.1, affine=True, track_running_stats=True)\n",
            "      (relu): ReLU(inplace=True)\n",
            "      (conv2): Conv2d(512, 512, kernel_size=(3, 3), stride=(1, 1), padding=(1, 1), bias=False)\n",
            "      (bn2): BatchNorm2d(512, eps=1e-05, momentum=0.1, affine=True, track_running_stats=True)\n",
            "      (downsample): Sequential(\n",
            "        (0): Conv2d(256, 512, kernel_size=(1, 1), stride=(2, 2), bias=False)\n",
            "        (1): BatchNorm2d(512, eps=1e-05, momentum=0.1, affine=True, track_running_stats=True)\n",
            "      )\n",
            "    )\n",
            "    (1): BasicBlock(\n",
            "      (conv1): Conv2d(512, 512, kernel_size=(3, 3), stride=(1, 1), padding=(1, 1), bias=False)\n",
            "      (bn1): BatchNorm2d(512, eps=1e-05, momentum=0.1, affine=True, track_running_stats=True)\n",
            "      (relu): ReLU(inplace=True)\n",
            "      (conv2): Conv2d(512, 512, kernel_size=(3, 3), stride=(1, 1), padding=(1, 1), bias=False)\n",
            "      (bn2): BatchNorm2d(512, eps=1e-05, momentum=0.1, affine=True, track_running_stats=True)\n",
            "    )\n",
            "  )\n",
            "  (avgpool): AdaptiveAvgPool2d(output_size=(1, 1))\n",
            "  (fc): Linear(in_features=512, out_features=99, bias=True)\n",
            ")\n"
          ]
        },
        {
          "name": "stderr",
          "output_type": "stream",
          "text": [
            "Epoch 1/1000: 100%|██████████| 13/13 [00:02<00:00,  4.47batch/s]\n"
          ]
        },
        {
          "name": "stdout",
          "output_type": "stream",
          "text": [
            "Epoch: 1/1000  Loss: 0.0568, Val Loss: 0.8838\n"
          ]
        },
        {
          "name": "stderr",
          "output_type": "stream",
          "text": [
            "Epoch 2/1000: 100%|██████████| 13/13 [00:02<00:00,  4.50batch/s]\n"
          ]
        },
        {
          "name": "stdout",
          "output_type": "stream",
          "text": [
            "Epoch: 2/1000  Loss: 0.0250, Val Loss: 0.8081\n"
          ]
        },
        {
          "name": "stderr",
          "output_type": "stream",
          "text": [
            "Epoch 3/1000: 100%|██████████| 13/13 [00:03<00:00,  4.31batch/s]\n"
          ]
        },
        {
          "name": "stdout",
          "output_type": "stream",
          "text": [
            "Epoch: 3/1000  Loss: 0.0111, Val Loss: 0.5859\n"
          ]
        },
        {
          "name": "stderr",
          "output_type": "stream",
          "text": [
            "Epoch 4/1000: 100%|██████████| 13/13 [00:03<00:00,  4.26batch/s]\n"
          ]
        },
        {
          "name": "stdout",
          "output_type": "stream",
          "text": [
            "Epoch: 4/1000  Loss: 0.0049, Val Loss: 0.3081\n"
          ]
        },
        {
          "name": "stderr",
          "output_type": "stream",
          "text": [
            "Epoch 5/1000: 100%|██████████| 13/13 [00:02<00:00,  4.41batch/s]\n"
          ]
        },
        {
          "name": "stdout",
          "output_type": "stream",
          "text": [
            "Epoch: 5/1000  Loss: 0.0022, Val Loss: 0.2374\n"
          ]
        },
        {
          "name": "stderr",
          "output_type": "stream",
          "text": [
            "Epoch 6/1000: 100%|██████████| 13/13 [00:02<00:00,  4.48batch/s]\n"
          ]
        },
        {
          "name": "stdout",
          "output_type": "stream",
          "text": [
            "Epoch: 6/1000  Loss: 0.0014, Val Loss: 0.1667\n"
          ]
        },
        {
          "name": "stderr",
          "output_type": "stream",
          "text": [
            "Epoch 7/1000: 100%|██████████| 13/13 [00:02<00:00,  4.45batch/s]\n"
          ]
        },
        {
          "name": "stdout",
          "output_type": "stream",
          "text": [
            "Epoch: 7/1000  Loss: 0.0010, Val Loss: 0.2071\n"
          ]
        },
        {
          "name": "stderr",
          "output_type": "stream",
          "text": [
            "Epoch 8/1000: 100%|██████████| 13/13 [00:03<00:00,  4.25batch/s]\n"
          ]
        },
        {
          "name": "stdout",
          "output_type": "stream",
          "text": [
            "Epoch: 8/1000  Loss: 0.0005, Val Loss: 0.1212\n"
          ]
        },
        {
          "name": "stderr",
          "output_type": "stream",
          "text": [
            "Epoch 9/1000: 100%|██████████| 13/13 [00:03<00:00,  4.20batch/s]\n"
          ]
        },
        {
          "name": "stdout",
          "output_type": "stream",
          "text": [
            "Epoch: 9/1000  Loss: 0.0002, Val Loss: 0.1010\n"
          ]
        },
        {
          "name": "stderr",
          "output_type": "stream",
          "text": [
            "Epoch 10/1000: 100%|██████████| 13/13 [00:02<00:00,  4.41batch/s]\n"
          ]
        },
        {
          "name": "stdout",
          "output_type": "stream",
          "text": [
            "Epoch: 10/1000  Loss: 0.0001, Val Loss: 0.1061\n"
          ]
        },
        {
          "name": "stderr",
          "output_type": "stream",
          "text": [
            "Epoch 11/1000: 100%|██████████| 13/13 [00:02<00:00,  4.46batch/s]\n"
          ]
        },
        {
          "name": "stdout",
          "output_type": "stream",
          "text": [
            "Epoch: 11/1000  Loss: 0.0001, Val Loss: 0.1061\n"
          ]
        },
        {
          "name": "stderr",
          "output_type": "stream",
          "text": [
            "Epoch 12/1000: 100%|██████████| 13/13 [00:02<00:00,  4.43batch/s]\n"
          ]
        },
        {
          "name": "stdout",
          "output_type": "stream",
          "text": [
            "Epoch: 12/1000  Loss: 0.0001, Val Loss: 0.0960\n"
          ]
        },
        {
          "name": "stderr",
          "output_type": "stream",
          "text": [
            "Epoch 13/1000: 100%|██████████| 13/13 [00:03<00:00,  4.29batch/s]\n"
          ]
        },
        {
          "name": "stdout",
          "output_type": "stream",
          "text": [
            "Epoch: 13/1000  Loss: 0.0000, Val Loss: 0.0960\n"
          ]
        },
        {
          "name": "stderr",
          "output_type": "stream",
          "text": [
            "Epoch 14/1000: 100%|██████████| 13/13 [00:03<00:00,  4.23batch/s]\n"
          ]
        },
        {
          "name": "stdout",
          "output_type": "stream",
          "text": [
            "Epoch: 14/1000  Loss: 0.0000, Val Loss: 0.0909\n"
          ]
        },
        {
          "name": "stderr",
          "output_type": "stream",
          "text": [
            "Epoch 15/1000: 100%|██████████| 13/13 [00:02<00:00,  4.44batch/s]\n"
          ]
        },
        {
          "name": "stdout",
          "output_type": "stream",
          "text": [
            "Epoch: 15/1000  Loss: 0.0000, Val Loss: 0.0909\n"
          ]
        },
        {
          "name": "stderr",
          "output_type": "stream",
          "text": [
            "Epoch 16/1000: 100%|██████████| 13/13 [00:02<00:00,  4.52batch/s]\n"
          ]
        },
        {
          "name": "stdout",
          "output_type": "stream",
          "text": [
            "Epoch: 16/1000  Loss: 0.0000, Val Loss: 0.0909\n"
          ]
        },
        {
          "name": "stderr",
          "output_type": "stream",
          "text": [
            "Epoch 17/1000: 100%|██████████| 13/13 [00:02<00:00,  4.51batch/s]\n"
          ]
        },
        {
          "name": "stdout",
          "output_type": "stream",
          "text": [
            "Epoch: 17/1000  Loss: 0.0000, Val Loss: 0.0909\n"
          ]
        },
        {
          "name": "stderr",
          "output_type": "stream",
          "text": [
            "Epoch 18/1000: 100%|██████████| 13/13 [00:03<00:00,  4.30batch/s]\n"
          ]
        },
        {
          "name": "stdout",
          "output_type": "stream",
          "text": [
            "Epoch: 18/1000  Loss: 0.0000, Val Loss: 0.0909\n"
          ]
        },
        {
          "name": "stderr",
          "output_type": "stream",
          "text": [
            "Epoch 19/1000: 100%|██████████| 13/13 [00:03<00:00,  4.20batch/s]\n"
          ]
        },
        {
          "name": "stdout",
          "output_type": "stream",
          "text": [
            "Epoch: 19/1000  Loss: 0.0000, Val Loss: 0.0909\n"
          ]
        },
        {
          "name": "stderr",
          "output_type": "stream",
          "text": [
            "Epoch 20/1000: 100%|██████████| 13/13 [00:02<00:00,  4.53batch/s]\n"
          ]
        },
        {
          "name": "stdout",
          "output_type": "stream",
          "text": [
            "Epoch: 20/1000  Loss: 0.0000, Val Loss: 0.0909\n"
          ]
        },
        {
          "name": "stderr",
          "output_type": "stream",
          "text": [
            "Epoch 21/1000: 100%|██████████| 13/13 [00:02<00:00,  4.52batch/s]\n"
          ]
        },
        {
          "name": "stdout",
          "output_type": "stream",
          "text": [
            "Epoch: 21/1000  Loss: 0.0000, Val Loss: 0.0909\n"
          ]
        },
        {
          "name": "stderr",
          "output_type": "stream",
          "text": [
            "Epoch 22/1000: 100%|██████████| 13/13 [00:02<00:00,  4.54batch/s]\n"
          ]
        },
        {
          "name": "stdout",
          "output_type": "stream",
          "text": [
            "Epoch: 22/1000  Loss: 0.0000, Val Loss: 0.0909\n"
          ]
        },
        {
          "name": "stderr",
          "output_type": "stream",
          "text": [
            "Epoch 23/1000: 100%|██████████| 13/13 [00:03<00:00,  4.26batch/s]\n"
          ]
        },
        {
          "name": "stdout",
          "output_type": "stream",
          "text": [
            "Epoch: 23/1000  Loss: 0.0000, Val Loss: 0.0909\n"
          ]
        },
        {
          "name": "stderr",
          "output_type": "stream",
          "text": [
            "Epoch 24/1000: 100%|██████████| 13/13 [00:03<00:00,  4.31batch/s]\n"
          ]
        },
        {
          "name": "stdout",
          "output_type": "stream",
          "text": [
            "Epoch: 24/1000  Loss: 0.0000, Val Loss: 0.0909\n"
          ]
        },
        {
          "name": "stderr",
          "output_type": "stream",
          "text": [
            "Epoch 25/1000: 100%|██████████| 13/13 [00:02<00:00,  4.55batch/s]\n"
          ]
        },
        {
          "name": "stdout",
          "output_type": "stream",
          "text": [
            "Epoch: 25/1000  Loss: 0.0000, Val Loss: 0.0909\n"
          ]
        },
        {
          "name": "stderr",
          "output_type": "stream",
          "text": [
            "Epoch 26/1000: 100%|██████████| 13/13 [00:02<00:00,  4.53batch/s]\n"
          ]
        },
        {
          "name": "stdout",
          "output_type": "stream",
          "text": [
            "Epoch: 26/1000  Loss: 0.0000, Val Loss: 0.0909\n"
          ]
        },
        {
          "name": "stderr",
          "output_type": "stream",
          "text": [
            "Epoch 27/1000: 100%|██████████| 13/13 [00:02<00:00,  4.51batch/s]\n"
          ]
        },
        {
          "name": "stdout",
          "output_type": "stream",
          "text": [
            "Epoch: 27/1000  Loss: 0.0000, Val Loss: 0.0909\n"
          ]
        },
        {
          "name": "stderr",
          "output_type": "stream",
          "text": [
            "Epoch 28/1000: 100%|██████████| 13/13 [00:03<00:00,  4.25batch/s]\n"
          ]
        },
        {
          "name": "stdout",
          "output_type": "stream",
          "text": [
            "Epoch: 28/1000  Loss: 0.0000, Val Loss: 0.0909\n"
          ]
        },
        {
          "name": "stderr",
          "output_type": "stream",
          "text": [
            "Epoch 29/1000: 100%|██████████| 13/13 [00:03<00:00,  4.25batch/s]\n"
          ]
        },
        {
          "name": "stdout",
          "output_type": "stream",
          "text": [
            "Epoch: 29/1000  Loss: 0.0000, Val Loss: 0.0909\n"
          ]
        },
        {
          "name": "stderr",
          "output_type": "stream",
          "text": [
            "Epoch 30/1000: 100%|██████████| 13/13 [00:02<00:00,  4.49batch/s]\n"
          ]
        },
        {
          "name": "stdout",
          "output_type": "stream",
          "text": [
            "Epoch: 30/1000  Loss: 0.0000, Val Loss: 0.0909\n"
          ]
        },
        {
          "name": "stderr",
          "output_type": "stream",
          "text": [
            "Epoch 31/1000: 100%|██████████| 13/13 [00:02<00:00,  4.48batch/s]\n"
          ]
        },
        {
          "name": "stdout",
          "output_type": "stream",
          "text": [
            "Epoch: 31/1000  Loss: 0.0000, Val Loss: 0.0909\n"
          ]
        },
        {
          "name": "stderr",
          "output_type": "stream",
          "text": [
            "Epoch 32/1000: 100%|██████████| 13/13 [00:02<00:00,  4.51batch/s]\n"
          ]
        },
        {
          "name": "stdout",
          "output_type": "stream",
          "text": [
            "Epoch: 32/1000  Loss: 0.0000, Val Loss: 0.0909\n"
          ]
        },
        {
          "name": "stderr",
          "output_type": "stream",
          "text": [
            "Epoch 33/1000: 100%|██████████| 13/13 [00:03<00:00,  4.23batch/s]\n"
          ]
        },
        {
          "name": "stdout",
          "output_type": "stream",
          "text": [
            "Epoch: 33/1000  Loss: 0.0000, Val Loss: 0.0909\n"
          ]
        },
        {
          "name": "stderr",
          "output_type": "stream",
          "text": [
            "Epoch 34/1000: 100%|██████████| 13/13 [00:03<00:00,  4.23batch/s]\n"
          ]
        },
        {
          "name": "stdout",
          "output_type": "stream",
          "text": [
            "Epoch: 34/1000  Loss: 0.0000, Val Loss: 0.0909\n"
          ]
        },
        {
          "name": "stderr",
          "output_type": "stream",
          "text": [
            "Epoch 35/1000: 100%|██████████| 13/13 [00:02<00:00,  4.50batch/s]\n"
          ]
        },
        {
          "name": "stdout",
          "output_type": "stream",
          "text": [
            "Epoch: 35/1000  Loss: 0.0000, Val Loss: 0.0909\n"
          ]
        },
        {
          "name": "stderr",
          "output_type": "stream",
          "text": [
            "Epoch 36/1000: 100%|██████████| 13/13 [00:02<00:00,  4.47batch/s]\n"
          ]
        },
        {
          "name": "stdout",
          "output_type": "stream",
          "text": [
            "Epoch: 36/1000  Loss: 0.0000, Val Loss: 0.0909\n"
          ]
        },
        {
          "name": "stderr",
          "output_type": "stream",
          "text": [
            "Epoch 37/1000: 100%|██████████| 13/13 [00:02<00:00,  4.51batch/s]\n"
          ]
        },
        {
          "name": "stdout",
          "output_type": "stream",
          "text": [
            "Epoch: 37/1000  Loss: 0.0000, Val Loss: 0.0909\n"
          ]
        },
        {
          "name": "stderr",
          "output_type": "stream",
          "text": [
            "Epoch 38/1000: 100%|██████████| 13/13 [00:03<00:00,  4.30batch/s]\n"
          ]
        },
        {
          "name": "stdout",
          "output_type": "stream",
          "text": [
            "Epoch: 38/1000  Loss: 0.0000, Val Loss: 0.0909\n"
          ]
        },
        {
          "name": "stderr",
          "output_type": "stream",
          "text": [
            "Epoch 39/1000: 100%|██████████| 13/13 [00:03<00:00,  4.27batch/s]\n"
          ]
        },
        {
          "name": "stdout",
          "output_type": "stream",
          "text": [
            "Epoch: 39/1000  Loss: 0.0000, Val Loss: 0.0909\n"
          ]
        },
        {
          "name": "stderr",
          "output_type": "stream",
          "text": [
            "Epoch 40/1000: 100%|██████████| 13/13 [00:02<00:00,  4.49batch/s]\n"
          ]
        },
        {
          "name": "stdout",
          "output_type": "stream",
          "text": [
            "Epoch: 40/1000  Loss: 0.0000, Val Loss: 0.0909\n"
          ]
        },
        {
          "name": "stderr",
          "output_type": "stream",
          "text": [
            "Epoch 41/1000: 100%|██████████| 13/13 [00:02<00:00,  4.36batch/s]\n"
          ]
        },
        {
          "name": "stdout",
          "output_type": "stream",
          "text": [
            "Epoch: 41/1000  Loss: 0.0000, Val Loss: 0.0909\n"
          ]
        },
        {
          "name": "stderr",
          "output_type": "stream",
          "text": [
            "Epoch 42/1000: 100%|██████████| 13/13 [00:02<00:00,  4.51batch/s]\n"
          ]
        },
        {
          "name": "stdout",
          "output_type": "stream",
          "text": [
            "Epoch: 42/1000  Loss: 0.0000, Val Loss: 0.0909\n"
          ]
        },
        {
          "name": "stderr",
          "output_type": "stream",
          "text": [
            "Epoch 43/1000: 100%|██████████| 13/13 [00:03<00:00,  4.27batch/s]\n"
          ]
        },
        {
          "name": "stdout",
          "output_type": "stream",
          "text": [
            "Epoch: 43/1000  Loss: 0.0000, Val Loss: 0.0909\n"
          ]
        },
        {
          "name": "stderr",
          "output_type": "stream",
          "text": [
            "Epoch 44/1000: 100%|██████████| 13/13 [00:03<00:00,  4.28batch/s]\n"
          ]
        },
        {
          "name": "stdout",
          "output_type": "stream",
          "text": [
            "Epoch: 44/1000  Loss: 0.0000, Val Loss: 0.0909\n"
          ]
        },
        {
          "name": "stderr",
          "output_type": "stream",
          "text": [
            "Epoch 45/1000: 100%|██████████| 13/13 [00:02<00:00,  4.52batch/s]\n"
          ]
        },
        {
          "name": "stdout",
          "output_type": "stream",
          "text": [
            "Epoch: 45/1000  Loss: 0.0000, Val Loss: 0.0909\n"
          ]
        },
        {
          "name": "stderr",
          "output_type": "stream",
          "text": [
            "Epoch 46/1000: 100%|██████████| 13/13 [00:02<00:00,  4.52batch/s]\n"
          ]
        },
        {
          "name": "stdout",
          "output_type": "stream",
          "text": [
            "Epoch: 46/1000  Loss: 0.0000, Val Loss: 0.0909\n"
          ]
        },
        {
          "name": "stderr",
          "output_type": "stream",
          "text": [
            "Epoch 47/1000: 100%|██████████| 13/13 [00:02<00:00,  4.51batch/s]\n"
          ]
        },
        {
          "name": "stdout",
          "output_type": "stream",
          "text": [
            "Epoch: 47/1000  Loss: 0.0000, Val Loss: 0.0909\n"
          ]
        },
        {
          "name": "stderr",
          "output_type": "stream",
          "text": [
            "Epoch 48/1000: 100%|██████████| 13/13 [00:03<00:00,  4.16batch/s]\n"
          ]
        },
        {
          "name": "stdout",
          "output_type": "stream",
          "text": [
            "Epoch: 48/1000  Loss: 0.0000, Val Loss: 0.0909\n"
          ]
        },
        {
          "name": "stderr",
          "output_type": "stream",
          "text": [
            "Epoch 49/1000: 100%|██████████| 13/13 [00:03<00:00,  4.24batch/s]\n"
          ]
        },
        {
          "name": "stdout",
          "output_type": "stream",
          "text": [
            "Epoch: 49/1000  Loss: 0.0000, Val Loss: 0.0909\n"
          ]
        },
        {
          "name": "stderr",
          "output_type": "stream",
          "text": [
            "Epoch 50/1000: 100%|██████████| 13/13 [00:02<00:00,  4.52batch/s]\n"
          ]
        },
        {
          "name": "stdout",
          "output_type": "stream",
          "text": [
            "Epoch: 50/1000  Loss: 0.0000, Val Loss: 0.0909\n"
          ]
        },
        {
          "name": "stderr",
          "output_type": "stream",
          "text": [
            "Epoch 51/1000: 100%|██████████| 13/13 [00:02<00:00,  4.51batch/s]\n"
          ]
        },
        {
          "name": "stdout",
          "output_type": "stream",
          "text": [
            "Epoch: 51/1000  Loss: 0.0000, Val Loss: 0.0909\n"
          ]
        },
        {
          "name": "stderr",
          "output_type": "stream",
          "text": [
            "Epoch 52/1000: 100%|██████████| 13/13 [00:02<00:00,  4.48batch/s]\n"
          ]
        },
        {
          "name": "stdout",
          "output_type": "stream",
          "text": [
            "Epoch: 52/1000  Loss: 0.0000, Val Loss: 0.0909\n"
          ]
        },
        {
          "name": "stderr",
          "output_type": "stream",
          "text": [
            "Epoch 53/1000: 100%|██████████| 13/13 [00:03<00:00,  4.30batch/s]\n"
          ]
        },
        {
          "name": "stdout",
          "output_type": "stream",
          "text": [
            "Epoch: 53/1000  Loss: 0.0000, Val Loss: 0.0960\n"
          ]
        },
        {
          "name": "stderr",
          "output_type": "stream",
          "text": [
            "Epoch 54/1000: 100%|██████████| 13/13 [00:03<00:00,  4.32batch/s]\n"
          ]
        },
        {
          "name": "stdout",
          "output_type": "stream",
          "text": [
            "Epoch: 54/1000  Loss: 0.0000, Val Loss: 0.0960\n"
          ]
        },
        {
          "name": "stderr",
          "output_type": "stream",
          "text": [
            "Epoch 55/1000: 100%|██████████| 13/13 [00:02<00:00,  4.51batch/s]\n"
          ]
        },
        {
          "name": "stdout",
          "output_type": "stream",
          "text": [
            "Epoch: 55/1000  Loss: 0.0000, Val Loss: 0.0960\n"
          ]
        },
        {
          "name": "stderr",
          "output_type": "stream",
          "text": [
            "Epoch 56/1000: 100%|██████████| 13/13 [00:02<00:00,  4.52batch/s]\n"
          ]
        },
        {
          "name": "stdout",
          "output_type": "stream",
          "text": [
            "Epoch: 56/1000  Loss: 0.0000, Val Loss: 0.0960\n"
          ]
        },
        {
          "name": "stderr",
          "output_type": "stream",
          "text": [
            "Epoch 57/1000: 100%|██████████| 13/13 [00:02<00:00,  4.50batch/s]\n"
          ]
        },
        {
          "name": "stdout",
          "output_type": "stream",
          "text": [
            "Epoch: 57/1000  Loss: 0.0000, Val Loss: 0.0960\n"
          ]
        },
        {
          "name": "stderr",
          "output_type": "stream",
          "text": [
            "Epoch 58/1000: 100%|██████████| 13/13 [00:03<00:00,  4.20batch/s]\n"
          ]
        },
        {
          "name": "stdout",
          "output_type": "stream",
          "text": [
            "Epoch: 58/1000  Loss: 0.0000, Val Loss: 0.0960\n"
          ]
        },
        {
          "name": "stderr",
          "output_type": "stream",
          "text": [
            "Epoch 59/1000: 100%|██████████| 13/13 [00:03<00:00,  4.26batch/s]\n"
          ]
        },
        {
          "name": "stdout",
          "output_type": "stream",
          "text": [
            "Epoch: 59/1000  Loss: 0.0000, Val Loss: 0.0960\n"
          ]
        },
        {
          "name": "stderr",
          "output_type": "stream",
          "text": [
            "Epoch 60/1000: 100%|██████████| 13/13 [00:02<00:00,  4.50batch/s]\n"
          ]
        },
        {
          "name": "stdout",
          "output_type": "stream",
          "text": [
            "Epoch: 60/1000  Loss: 0.0000, Val Loss: 0.0960\n"
          ]
        },
        {
          "name": "stderr",
          "output_type": "stream",
          "text": [
            "Epoch 61/1000: 100%|██████████| 13/13 [00:02<00:00,  4.52batch/s]\n"
          ]
        },
        {
          "name": "stdout",
          "output_type": "stream",
          "text": [
            "Epoch: 61/1000  Loss: 0.0000, Val Loss: 0.0960\n"
          ]
        },
        {
          "name": "stderr",
          "output_type": "stream",
          "text": [
            "Epoch 62/1000: 100%|██████████| 13/13 [00:02<00:00,  4.48batch/s]\n"
          ]
        },
        {
          "name": "stdout",
          "output_type": "stream",
          "text": [
            "Epoch: 62/1000  Loss: 0.0000, Val Loss: 0.0960\n"
          ]
        },
        {
          "name": "stderr",
          "output_type": "stream",
          "text": [
            "Epoch 63/1000: 100%|██████████| 13/13 [00:03<00:00,  4.21batch/s]\n"
          ]
        },
        {
          "name": "stdout",
          "output_type": "stream",
          "text": [
            "Epoch: 63/1000  Loss: 0.0000, Val Loss: 0.0960\n"
          ]
        },
        {
          "name": "stderr",
          "output_type": "stream",
          "text": [
            "Epoch 64/1000: 100%|██████████| 13/13 [00:02<00:00,  4.35batch/s]\n"
          ]
        },
        {
          "name": "stdout",
          "output_type": "stream",
          "text": [
            "Epoch: 64/1000  Loss: 0.0000, Val Loss: 0.0960\n"
          ]
        },
        {
          "name": "stderr",
          "output_type": "stream",
          "text": [
            "Epoch 65/1000: 100%|██████████| 13/13 [00:02<00:00,  4.52batch/s]\n"
          ]
        },
        {
          "name": "stdout",
          "output_type": "stream",
          "text": [
            "Epoch: 65/1000  Loss: 0.0000, Val Loss: 0.0960\n"
          ]
        },
        {
          "name": "stderr",
          "output_type": "stream",
          "text": [
            "Epoch 66/1000: 100%|██████████| 13/13 [00:02<00:00,  4.52batch/s]\n"
          ]
        },
        {
          "name": "stdout",
          "output_type": "stream",
          "text": [
            "Epoch: 66/1000  Loss: 0.0000, Val Loss: 0.0960\n"
          ]
        },
        {
          "name": "stderr",
          "output_type": "stream",
          "text": [
            "Epoch 67/1000: 100%|██████████| 13/13 [00:02<00:00,  4.46batch/s]\n"
          ]
        },
        {
          "name": "stdout",
          "output_type": "stream",
          "text": [
            "Epoch: 67/1000  Loss: 0.0000, Val Loss: 0.0960\n"
          ]
        },
        {
          "name": "stderr",
          "output_type": "stream",
          "text": [
            "Epoch 68/1000: 100%|██████████| 13/13 [00:03<00:00,  4.20batch/s]\n"
          ]
        },
        {
          "name": "stdout",
          "output_type": "stream",
          "text": [
            "Epoch: 68/1000  Loss: 0.0000, Val Loss: 0.0960\n"
          ]
        },
        {
          "name": "stderr",
          "output_type": "stream",
          "text": [
            "Epoch 69/1000: 100%|██████████| 13/13 [00:03<00:00,  4.33batch/s]\n"
          ]
        },
        {
          "name": "stdout",
          "output_type": "stream",
          "text": [
            "Epoch: 69/1000  Loss: 0.0000, Val Loss: 0.1010\n"
          ]
        },
        {
          "name": "stderr",
          "output_type": "stream",
          "text": [
            "Epoch 70/1000: 100%|██████████| 13/13 [00:02<00:00,  4.49batch/s]\n"
          ]
        },
        {
          "name": "stdout",
          "output_type": "stream",
          "text": [
            "Epoch: 70/1000  Loss: 0.0000, Val Loss: 0.1010\n"
          ]
        },
        {
          "name": "stderr",
          "output_type": "stream",
          "text": [
            "Epoch 71/1000: 100%|██████████| 13/13 [00:02<00:00,  4.50batch/s]\n"
          ]
        },
        {
          "name": "stdout",
          "output_type": "stream",
          "text": [
            "Epoch: 71/1000  Loss: 0.0000, Val Loss: 0.1010\n"
          ]
        },
        {
          "name": "stderr",
          "output_type": "stream",
          "text": [
            "Epoch 72/1000: 100%|██████████| 13/13 [00:02<00:00,  4.47batch/s]\n"
          ]
        },
        {
          "name": "stdout",
          "output_type": "stream",
          "text": [
            "Epoch: 72/1000  Loss: 0.0000, Val Loss: 0.1010\n"
          ]
        },
        {
          "name": "stderr",
          "output_type": "stream",
          "text": [
            "Epoch 73/1000: 100%|██████████| 13/13 [00:03<00:00,  4.21batch/s]\n"
          ]
        },
        {
          "name": "stdout",
          "output_type": "stream",
          "text": [
            "Epoch: 73/1000  Loss: 0.0000, Val Loss: 0.1010\n"
          ]
        },
        {
          "name": "stderr",
          "output_type": "stream",
          "text": [
            "Epoch 74/1000: 100%|██████████| 13/13 [00:02<00:00,  4.37batch/s]\n"
          ]
        },
        {
          "name": "stdout",
          "output_type": "stream",
          "text": [
            "Epoch: 74/1000  Loss: 0.0000, Val Loss: 0.1010\n"
          ]
        },
        {
          "name": "stderr",
          "output_type": "stream",
          "text": [
            "Epoch 75/1000: 100%|██████████| 13/13 [00:02<00:00,  4.54batch/s]\n"
          ]
        },
        {
          "name": "stdout",
          "output_type": "stream",
          "text": [
            "Epoch: 75/1000  Loss: 0.0000, Val Loss: 0.1010\n"
          ]
        },
        {
          "name": "stderr",
          "output_type": "stream",
          "text": [
            "Epoch 76/1000: 100%|██████████| 13/13 [00:02<00:00,  4.54batch/s]\n"
          ]
        },
        {
          "name": "stdout",
          "output_type": "stream",
          "text": [
            "Epoch: 76/1000  Loss: 0.0000, Val Loss: 0.1010\n"
          ]
        },
        {
          "name": "stderr",
          "output_type": "stream",
          "text": [
            "Epoch 77/1000: 100%|██████████| 13/13 [00:02<00:00,  4.41batch/s]\n"
          ]
        },
        {
          "name": "stdout",
          "output_type": "stream",
          "text": [
            "Epoch: 77/1000  Loss: 0.0000, Val Loss: 0.1010\n"
          ]
        },
        {
          "name": "stderr",
          "output_type": "stream",
          "text": [
            "Epoch 78/1000: 100%|██████████| 13/13 [00:03<00:00,  4.26batch/s]\n"
          ]
        },
        {
          "name": "stdout",
          "output_type": "stream",
          "text": [
            "Epoch: 78/1000  Loss: 0.0000, Val Loss: 0.1010\n"
          ]
        },
        {
          "name": "stderr",
          "output_type": "stream",
          "text": [
            "Epoch 79/1000: 100%|██████████| 13/13 [00:02<00:00,  4.38batch/s]\n"
          ]
        },
        {
          "name": "stdout",
          "output_type": "stream",
          "text": [
            "Epoch: 79/1000  Loss: 0.0000, Val Loss: 0.1010\n"
          ]
        },
        {
          "name": "stderr",
          "output_type": "stream",
          "text": [
            "Epoch 80/1000: 100%|██████████| 13/13 [00:02<00:00,  4.54batch/s]\n"
          ]
        },
        {
          "name": "stdout",
          "output_type": "stream",
          "text": [
            "Epoch: 80/1000  Loss: 0.0000, Val Loss: 0.1010\n"
          ]
        },
        {
          "name": "stderr",
          "output_type": "stream",
          "text": [
            "Epoch 81/1000: 100%|██████████| 13/13 [00:02<00:00,  4.52batch/s]\n"
          ]
        },
        {
          "name": "stdout",
          "output_type": "stream",
          "text": [
            "Epoch: 81/1000  Loss: 0.0000, Val Loss: 0.1010\n"
          ]
        },
        {
          "name": "stderr",
          "output_type": "stream",
          "text": [
            "Epoch 82/1000: 100%|██████████| 13/13 [00:02<00:00,  4.47batch/s]\n"
          ]
        },
        {
          "name": "stdout",
          "output_type": "stream",
          "text": [
            "Epoch: 82/1000  Loss: 0.0000, Val Loss: 0.1010\n"
          ]
        },
        {
          "name": "stderr",
          "output_type": "stream",
          "text": [
            "Epoch 83/1000: 100%|██████████| 13/13 [00:03<00:00,  4.26batch/s]\n"
          ]
        },
        {
          "name": "stdout",
          "output_type": "stream",
          "text": [
            "Epoch: 83/1000  Loss: 0.0000, Val Loss: 0.1010\n"
          ]
        },
        {
          "name": "stderr",
          "output_type": "stream",
          "text": [
            "Epoch 84/1000: 100%|██████████| 13/13 [00:02<00:00,  4.40batch/s]\n"
          ]
        },
        {
          "name": "stdout",
          "output_type": "stream",
          "text": [
            "Epoch: 84/1000  Loss: 0.0000, Val Loss: 0.1010\n"
          ]
        },
        {
          "name": "stderr",
          "output_type": "stream",
          "text": [
            "Epoch 85/1000: 100%|██████████| 13/13 [00:02<00:00,  4.53batch/s]\n"
          ]
        },
        {
          "name": "stdout",
          "output_type": "stream",
          "text": [
            "Epoch: 85/1000  Loss: 0.0000, Val Loss: 0.1010\n"
          ]
        },
        {
          "name": "stderr",
          "output_type": "stream",
          "text": [
            "Epoch 86/1000: 100%|██████████| 13/13 [00:02<00:00,  4.49batch/s]\n"
          ]
        },
        {
          "name": "stdout",
          "output_type": "stream",
          "text": [
            "Epoch: 86/1000  Loss: 0.0000, Val Loss: 0.1010\n"
          ]
        },
        {
          "name": "stderr",
          "output_type": "stream",
          "text": [
            "Epoch 87/1000: 100%|██████████| 13/13 [00:02<00:00,  4.35batch/s]\n"
          ]
        },
        {
          "name": "stdout",
          "output_type": "stream",
          "text": [
            "Epoch: 87/1000  Loss: 0.0000, Val Loss: 0.1010\n"
          ]
        },
        {
          "name": "stderr",
          "output_type": "stream",
          "text": [
            "Epoch 88/1000: 100%|██████████| 13/13 [00:03<00:00,  4.23batch/s]\n"
          ]
        },
        {
          "name": "stdout",
          "output_type": "stream",
          "text": [
            "Epoch: 88/1000  Loss: 0.0000, Val Loss: 0.1010\n"
          ]
        },
        {
          "name": "stderr",
          "output_type": "stream",
          "text": [
            "Epoch 89/1000: 100%|██████████| 13/13 [00:02<00:00,  4.37batch/s]\n"
          ]
        },
        {
          "name": "stdout",
          "output_type": "stream",
          "text": [
            "Epoch: 89/1000  Loss: 0.0000, Val Loss: 0.1010\n"
          ]
        },
        {
          "name": "stderr",
          "output_type": "stream",
          "text": [
            "Epoch 90/1000: 100%|██████████| 13/13 [00:02<00:00,  4.51batch/s]\n"
          ]
        },
        {
          "name": "stdout",
          "output_type": "stream",
          "text": [
            "Epoch: 90/1000  Loss: 0.0000, Val Loss: 0.1010\n"
          ]
        },
        {
          "name": "stderr",
          "output_type": "stream",
          "text": [
            "Epoch 91/1000: 100%|██████████| 13/13 [00:02<00:00,  4.53batch/s]\n"
          ]
        },
        {
          "name": "stdout",
          "output_type": "stream",
          "text": [
            "Epoch: 91/1000  Loss: 0.0000, Val Loss: 0.1010\n"
          ]
        },
        {
          "name": "stderr",
          "output_type": "stream",
          "text": [
            "Epoch 92/1000: 100%|██████████| 13/13 [00:02<00:00,  4.44batch/s]\n"
          ]
        },
        {
          "name": "stdout",
          "output_type": "stream",
          "text": [
            "Epoch: 92/1000  Loss: 0.0000, Val Loss: 0.1010\n"
          ]
        },
        {
          "name": "stderr",
          "output_type": "stream",
          "text": [
            "Epoch 93/1000: 100%|██████████| 13/13 [00:03<00:00,  4.30batch/s]\n"
          ]
        },
        {
          "name": "stdout",
          "output_type": "stream",
          "text": [
            "Epoch: 93/1000  Loss: 0.0000, Val Loss: 0.1010\n"
          ]
        },
        {
          "name": "stderr",
          "output_type": "stream",
          "text": [
            "Epoch 94/1000: 100%|██████████| 13/13 [00:02<00:00,  4.39batch/s]\n"
          ]
        },
        {
          "name": "stdout",
          "output_type": "stream",
          "text": [
            "Epoch: 94/1000  Loss: 0.0000, Val Loss: 0.1010\n"
          ]
        },
        {
          "name": "stderr",
          "output_type": "stream",
          "text": [
            "Epoch 95/1000: 100%|██████████| 13/13 [00:02<00:00,  4.53batch/s]\n"
          ]
        },
        {
          "name": "stdout",
          "output_type": "stream",
          "text": [
            "Epoch: 95/1000  Loss: 0.0000, Val Loss: 0.1010\n"
          ]
        },
        {
          "name": "stderr",
          "output_type": "stream",
          "text": [
            "Epoch 96/1000: 100%|██████████| 13/13 [00:02<00:00,  4.50batch/s]\n"
          ]
        },
        {
          "name": "stdout",
          "output_type": "stream",
          "text": [
            "Epoch: 96/1000  Loss: 0.0000, Val Loss: 0.1010\n"
          ]
        },
        {
          "name": "stderr",
          "output_type": "stream",
          "text": [
            "Epoch 97/1000: 100%|██████████| 13/13 [00:02<00:00,  4.40batch/s]\n"
          ]
        },
        {
          "name": "stdout",
          "output_type": "stream",
          "text": [
            "Epoch: 97/1000  Loss: 0.0000, Val Loss: 0.1010\n"
          ]
        },
        {
          "name": "stderr",
          "output_type": "stream",
          "text": [
            "Epoch 98/1000: 100%|██████████| 13/13 [00:03<00:00,  4.23batch/s]\n"
          ]
        },
        {
          "name": "stdout",
          "output_type": "stream",
          "text": [
            "Epoch: 98/1000  Loss: 0.0000, Val Loss: 0.1010\n"
          ]
        },
        {
          "name": "stderr",
          "output_type": "stream",
          "text": [
            "Epoch 99/1000: 100%|██████████| 13/13 [00:02<00:00,  4.56batch/s]\n"
          ]
        },
        {
          "name": "stdout",
          "output_type": "stream",
          "text": [
            "Epoch: 99/1000  Loss: 0.0000, Val Loss: 0.1010\n"
          ]
        },
        {
          "name": "stderr",
          "output_type": "stream",
          "text": [
            "Epoch 100/1000: 100%|██████████| 13/13 [00:02<00:00,  4.55batch/s]\n"
          ]
        },
        {
          "name": "stdout",
          "output_type": "stream",
          "text": [
            "Epoch: 100/1000  Loss: 0.0000, Val Loss: 0.1010\n"
          ]
        },
        {
          "name": "stderr",
          "output_type": "stream",
          "text": [
            "Epoch 101/1000: 100%|██████████| 13/13 [00:02<00:00,  4.55batch/s]\n"
          ]
        },
        {
          "name": "stdout",
          "output_type": "stream",
          "text": [
            "Epoch: 101/1000  Loss: 0.0000, Val Loss: 0.1010\n"
          ]
        },
        {
          "name": "stderr",
          "output_type": "stream",
          "text": [
            "Epoch 102/1000: 100%|██████████| 13/13 [00:03<00:00,  4.23batch/s]\n"
          ]
        },
        {
          "name": "stdout",
          "output_type": "stream",
          "text": [
            "Epoch: 102/1000  Loss: 0.0000, Val Loss: 0.1010\n"
          ]
        },
        {
          "name": "stderr",
          "output_type": "stream",
          "text": [
            "Epoch 103/1000: 100%|██████████| 13/13 [00:02<00:00,  4.38batch/s]\n"
          ]
        },
        {
          "name": "stdout",
          "output_type": "stream",
          "text": [
            "Epoch: 103/1000  Loss: 0.0000, Val Loss: 0.1010\n"
          ]
        },
        {
          "name": "stderr",
          "output_type": "stream",
          "text": [
            "Epoch 104/1000: 100%|██████████| 13/13 [00:02<00:00,  4.50batch/s]\n"
          ]
        },
        {
          "name": "stdout",
          "output_type": "stream",
          "text": [
            "Epoch: 104/1000  Loss: 0.0000, Val Loss: 0.1010\n"
          ]
        },
        {
          "name": "stderr",
          "output_type": "stream",
          "text": [
            "Epoch 105/1000: 100%|██████████| 13/13 [00:02<00:00,  4.49batch/s]\n"
          ]
        },
        {
          "name": "stdout",
          "output_type": "stream",
          "text": [
            "Epoch: 105/1000  Loss: 0.0000, Val Loss: 0.1010\n"
          ]
        },
        {
          "name": "stderr",
          "output_type": "stream",
          "text": [
            "Epoch 106/1000: 100%|██████████| 13/13 [00:02<00:00,  4.38batch/s]\n"
          ]
        },
        {
          "name": "stdout",
          "output_type": "stream",
          "text": [
            "Epoch: 106/1000  Loss: 0.0000, Val Loss: 0.1010\n"
          ]
        },
        {
          "name": "stderr",
          "output_type": "stream",
          "text": [
            "Epoch 107/1000: 100%|██████████| 13/13 [00:03<00:00,  4.26batch/s]\n"
          ]
        },
        {
          "name": "stdout",
          "output_type": "stream",
          "text": [
            "Epoch: 107/1000  Loss: 0.0000, Val Loss: 0.1010\n"
          ]
        },
        {
          "name": "stderr",
          "output_type": "stream",
          "text": [
            "Epoch 108/1000: 100%|██████████| 13/13 [00:02<00:00,  4.53batch/s]\n"
          ]
        },
        {
          "name": "stdout",
          "output_type": "stream",
          "text": [
            "Epoch: 108/1000  Loss: 0.0000, Val Loss: 0.1010\n"
          ]
        },
        {
          "name": "stderr",
          "output_type": "stream",
          "text": [
            "Epoch 109/1000: 100%|██████████| 13/13 [00:02<00:00,  4.51batch/s]\n"
          ]
        },
        {
          "name": "stdout",
          "output_type": "stream",
          "text": [
            "Epoch: 109/1000  Loss: 0.0000, Val Loss: 0.1010\n"
          ]
        },
        {
          "name": "stderr",
          "output_type": "stream",
          "text": [
            "Epoch 110/1000: 100%|██████████| 13/13 [00:02<00:00,  4.49batch/s]\n"
          ]
        },
        {
          "name": "stdout",
          "output_type": "stream",
          "text": [
            "Epoch: 110/1000  Loss: 0.0000, Val Loss: 0.1010\n"
          ]
        },
        {
          "name": "stderr",
          "output_type": "stream",
          "text": [
            "Epoch 111/1000: 100%|██████████| 13/13 [00:03<00:00,  4.25batch/s]\n"
          ]
        },
        {
          "name": "stdout",
          "output_type": "stream",
          "text": [
            "Epoch: 111/1000  Loss: 0.0000, Val Loss: 0.1010\n"
          ]
        },
        {
          "name": "stderr",
          "output_type": "stream",
          "text": [
            "Epoch 112/1000: 100%|██████████| 13/13 [00:02<00:00,  4.38batch/s]\n"
          ]
        },
        {
          "name": "stdout",
          "output_type": "stream",
          "text": [
            "Epoch: 112/1000  Loss: 0.0000, Val Loss: 0.1010\n"
          ]
        },
        {
          "name": "stderr",
          "output_type": "stream",
          "text": [
            "Epoch 113/1000: 100%|██████████| 13/13 [00:02<00:00,  4.48batch/s]\n"
          ]
        },
        {
          "name": "stdout",
          "output_type": "stream",
          "text": [
            "Epoch: 113/1000  Loss: 0.0000, Val Loss: 0.1010\n"
          ]
        },
        {
          "name": "stderr",
          "output_type": "stream",
          "text": [
            "Epoch 114/1000: 100%|██████████| 13/13 [00:02<00:00,  4.50batch/s]\n"
          ]
        },
        {
          "name": "stdout",
          "output_type": "stream",
          "text": [
            "Epoch: 114/1000  Loss: 0.0000, Val Loss: 0.1010\n"
          ]
        },
        {
          "name": "stderr",
          "output_type": "stream",
          "text": [
            "Epoch 115/1000: 100%|██████████| 13/13 [00:02<00:00,  4.37batch/s]\n"
          ]
        },
        {
          "name": "stdout",
          "output_type": "stream",
          "text": [
            "Epoch: 115/1000  Loss: 0.0000, Val Loss: 0.1010\n"
          ]
        },
        {
          "name": "stderr",
          "output_type": "stream",
          "text": [
            "Epoch 116/1000: 100%|██████████| 13/13 [00:03<00:00,  4.23batch/s]\n"
          ]
        },
        {
          "name": "stdout",
          "output_type": "stream",
          "text": [
            "Epoch: 116/1000  Loss: 0.0000, Val Loss: 0.1010\n"
          ]
        },
        {
          "name": "stderr",
          "output_type": "stream",
          "text": [
            "Epoch 117/1000: 100%|██████████| 13/13 [00:02<00:00,  4.51batch/s]\n"
          ]
        },
        {
          "name": "stdout",
          "output_type": "stream",
          "text": [
            "Epoch: 117/1000  Loss: 0.0000, Val Loss: 0.1010\n"
          ]
        },
        {
          "name": "stderr",
          "output_type": "stream",
          "text": [
            "Epoch 118/1000: 100%|██████████| 13/13 [00:02<00:00,  4.49batch/s]\n"
          ]
        },
        {
          "name": "stdout",
          "output_type": "stream",
          "text": [
            "Epoch: 118/1000  Loss: 0.0000, Val Loss: 0.1010\n"
          ]
        },
        {
          "name": "stderr",
          "output_type": "stream",
          "text": [
            "Epoch 119/1000: 100%|██████████| 13/13 [00:02<00:00,  4.49batch/s]\n"
          ]
        },
        {
          "name": "stdout",
          "output_type": "stream",
          "text": [
            "Epoch: 119/1000  Loss: 0.0000, Val Loss: 0.1010\n"
          ]
        },
        {
          "name": "stderr",
          "output_type": "stream",
          "text": [
            "Epoch 120/1000: 100%|██████████| 13/13 [00:03<00:00,  4.30batch/s]\n"
          ]
        },
        {
          "name": "stdout",
          "output_type": "stream",
          "text": [
            "Epoch: 120/1000  Loss: 0.0000, Val Loss: 0.1010\n"
          ]
        },
        {
          "name": "stderr",
          "output_type": "stream",
          "text": [
            "Epoch 121/1000: 100%|██████████| 13/13 [00:02<00:00,  4.41batch/s]\n"
          ]
        },
        {
          "name": "stdout",
          "output_type": "stream",
          "text": [
            "Epoch: 121/1000  Loss: 0.0000, Val Loss: 0.1010\n"
          ]
        },
        {
          "name": "stderr",
          "output_type": "stream",
          "text": [
            "Epoch 122/1000: 100%|██████████| 13/13 [00:02<00:00,  4.51batch/s]\n"
          ]
        },
        {
          "name": "stdout",
          "output_type": "stream",
          "text": [
            "Epoch: 122/1000  Loss: 0.0000, Val Loss: 0.1010\n"
          ]
        },
        {
          "name": "stderr",
          "output_type": "stream",
          "text": [
            "Epoch 123/1000: 100%|██████████| 13/13 [00:02<00:00,  4.48batch/s]\n"
          ]
        },
        {
          "name": "stdout",
          "output_type": "stream",
          "text": [
            "Epoch: 123/1000  Loss: 0.0000, Val Loss: 0.1010\n"
          ]
        },
        {
          "name": "stderr",
          "output_type": "stream",
          "text": [
            "Epoch 124/1000: 100%|██████████| 13/13 [00:02<00:00,  4.38batch/s]\n"
          ]
        },
        {
          "name": "stdout",
          "output_type": "stream",
          "text": [
            "Epoch: 124/1000  Loss: 0.0000, Val Loss: 0.1010\n"
          ]
        },
        {
          "name": "stderr",
          "output_type": "stream",
          "text": [
            "Epoch 125/1000: 100%|██████████| 13/13 [00:03<00:00,  4.26batch/s]\n"
          ]
        },
        {
          "name": "stdout",
          "output_type": "stream",
          "text": [
            "Epoch: 125/1000  Loss: 0.0000, Val Loss: 0.1010\n"
          ]
        },
        {
          "name": "stderr",
          "output_type": "stream",
          "text": [
            "Epoch 126/1000: 100%|██████████| 13/13 [00:02<00:00,  4.52batch/s]\n"
          ]
        },
        {
          "name": "stdout",
          "output_type": "stream",
          "text": [
            "Epoch: 126/1000  Loss: 0.0000, Val Loss: 0.1010\n"
          ]
        },
        {
          "name": "stderr",
          "output_type": "stream",
          "text": [
            "Epoch 127/1000: 100%|██████████| 13/13 [00:02<00:00,  4.47batch/s]\n"
          ]
        },
        {
          "name": "stdout",
          "output_type": "stream",
          "text": [
            "Epoch: 127/1000  Loss: 0.0000, Val Loss: 0.1010\n"
          ]
        },
        {
          "name": "stderr",
          "output_type": "stream",
          "text": [
            "Epoch 128/1000: 100%|██████████| 13/13 [00:02<00:00,  4.52batch/s]\n"
          ]
        },
        {
          "name": "stdout",
          "output_type": "stream",
          "text": [
            "Epoch: 128/1000  Loss: 0.0000, Val Loss: 0.1010\n"
          ]
        },
        {
          "name": "stderr",
          "output_type": "stream",
          "text": [
            "Epoch 129/1000: 100%|██████████| 13/13 [00:03<00:00,  4.20batch/s]\n"
          ]
        },
        {
          "name": "stdout",
          "output_type": "stream",
          "text": [
            "Epoch: 129/1000  Loss: 0.0000, Val Loss: 0.1010\n"
          ]
        },
        {
          "name": "stderr",
          "output_type": "stream",
          "text": [
            "Epoch 130/1000: 100%|██████████| 13/13 [00:02<00:00,  4.38batch/s]\n"
          ]
        },
        {
          "name": "stdout",
          "output_type": "stream",
          "text": [
            "Epoch: 130/1000  Loss: 0.0000, Val Loss: 0.1010\n"
          ]
        },
        {
          "name": "stderr",
          "output_type": "stream",
          "text": [
            "Epoch 131/1000: 100%|██████████| 13/13 [00:02<00:00,  4.50batch/s]\n"
          ]
        },
        {
          "name": "stdout",
          "output_type": "stream",
          "text": [
            "Epoch: 131/1000  Loss: 0.0000, Val Loss: 0.1010\n"
          ]
        },
        {
          "name": "stderr",
          "output_type": "stream",
          "text": [
            "Epoch 132/1000: 100%|██████████| 13/13 [00:02<00:00,  4.53batch/s]\n"
          ]
        },
        {
          "name": "stdout",
          "output_type": "stream",
          "text": [
            "Epoch: 132/1000  Loss: 0.0000, Val Loss: 0.1010\n"
          ]
        },
        {
          "name": "stderr",
          "output_type": "stream",
          "text": [
            "Epoch 133/1000: 100%|██████████| 13/13 [00:02<00:00,  4.39batch/s]\n"
          ]
        },
        {
          "name": "stdout",
          "output_type": "stream",
          "text": [
            "Epoch: 133/1000  Loss: 0.0000, Val Loss: 0.1010\n"
          ]
        },
        {
          "name": "stderr",
          "output_type": "stream",
          "text": [
            "Epoch 134/1000: 100%|██████████| 13/13 [00:03<00:00,  4.19batch/s]\n"
          ]
        },
        {
          "name": "stdout",
          "output_type": "stream",
          "text": [
            "Epoch: 134/1000  Loss: 0.0000, Val Loss: 0.1010\n"
          ]
        },
        {
          "name": "stderr",
          "output_type": "stream",
          "text": [
            "Epoch 135/1000: 100%|██████████| 13/13 [00:02<00:00,  4.47batch/s]\n"
          ]
        },
        {
          "name": "stdout",
          "output_type": "stream",
          "text": [
            "Epoch: 135/1000  Loss: 0.0000, Val Loss: 0.1010\n"
          ]
        },
        {
          "name": "stderr",
          "output_type": "stream",
          "text": [
            "Epoch 136/1000: 100%|██████████| 13/13 [00:02<00:00,  4.48batch/s]\n"
          ]
        },
        {
          "name": "stdout",
          "output_type": "stream",
          "text": [
            "Epoch: 136/1000  Loss: 0.0000, Val Loss: 0.1010\n"
          ]
        },
        {
          "name": "stderr",
          "output_type": "stream",
          "text": [
            "Epoch 137/1000: 100%|██████████| 13/13 [00:02<00:00,  4.47batch/s]\n"
          ]
        },
        {
          "name": "stdout",
          "output_type": "stream",
          "text": [
            "Epoch: 137/1000  Loss: 0.0000, Val Loss: 0.1010\n"
          ]
        },
        {
          "name": "stderr",
          "output_type": "stream",
          "text": [
            "Epoch 138/1000: 100%|██████████| 13/13 [00:03<00:00,  4.27batch/s]\n"
          ]
        },
        {
          "name": "stdout",
          "output_type": "stream",
          "text": [
            "Epoch: 138/1000  Loss: 0.0000, Val Loss: 0.1010\n"
          ]
        },
        {
          "name": "stderr",
          "output_type": "stream",
          "text": [
            "Epoch 139/1000: 100%|██████████| 13/13 [00:03<00:00,  4.32batch/s]\n"
          ]
        },
        {
          "name": "stdout",
          "output_type": "stream",
          "text": [
            "Epoch: 139/1000  Loss: 0.0000, Val Loss: 0.1010\n"
          ]
        },
        {
          "name": "stderr",
          "output_type": "stream",
          "text": [
            "Epoch 140/1000: 100%|██████████| 13/13 [00:02<00:00,  4.48batch/s]\n"
          ]
        },
        {
          "name": "stdout",
          "output_type": "stream",
          "text": [
            "Epoch: 140/1000  Loss: 0.0000, Val Loss: 0.1010\n"
          ]
        },
        {
          "name": "stderr",
          "output_type": "stream",
          "text": [
            "Epoch 141/1000: 100%|██████████| 13/13 [00:02<00:00,  4.50batch/s]\n"
          ]
        },
        {
          "name": "stdout",
          "output_type": "stream",
          "text": [
            "Epoch: 141/1000  Loss: 0.0000, Val Loss: 0.1010\n"
          ]
        },
        {
          "name": "stderr",
          "output_type": "stream",
          "text": [
            "Epoch 142/1000: 100%|██████████| 13/13 [00:02<00:00,  4.42batch/s]\n"
          ]
        },
        {
          "name": "stdout",
          "output_type": "stream",
          "text": [
            "Epoch: 142/1000  Loss: 0.0000, Val Loss: 0.1010\n"
          ]
        },
        {
          "name": "stderr",
          "output_type": "stream",
          "text": [
            "Epoch 143/1000: 100%|██████████| 13/13 [00:03<00:00,  4.28batch/s]\n"
          ]
        },
        {
          "name": "stdout",
          "output_type": "stream",
          "text": [
            "Epoch: 143/1000  Loss: 0.0000, Val Loss: 0.1010\n"
          ]
        },
        {
          "name": "stderr",
          "output_type": "stream",
          "text": [
            "Epoch 144/1000: 100%|██████████| 13/13 [00:02<00:00,  4.46batch/s]\n"
          ]
        },
        {
          "name": "stdout",
          "output_type": "stream",
          "text": [
            "Epoch: 144/1000  Loss: 0.0000, Val Loss: 0.1010\n"
          ]
        },
        {
          "name": "stderr",
          "output_type": "stream",
          "text": [
            "Epoch 145/1000: 100%|██████████| 13/13 [00:02<00:00,  4.50batch/s]\n"
          ]
        },
        {
          "name": "stdout",
          "output_type": "stream",
          "text": [
            "Epoch: 145/1000  Loss: 0.0000, Val Loss: 0.1010\n"
          ]
        },
        {
          "name": "stderr",
          "output_type": "stream",
          "text": [
            "Epoch 146/1000: 100%|██████████| 13/13 [00:02<00:00,  4.52batch/s]\n"
          ]
        },
        {
          "name": "stdout",
          "output_type": "stream",
          "text": [
            "Epoch: 146/1000  Loss: 0.0000, Val Loss: 0.1010\n"
          ]
        },
        {
          "name": "stderr",
          "output_type": "stream",
          "text": [
            "Epoch 147/1000: 100%|██████████| 13/13 [00:03<00:00,  4.31batch/s]\n"
          ]
        },
        {
          "name": "stdout",
          "output_type": "stream",
          "text": [
            "Epoch: 147/1000  Loss: 0.0000, Val Loss: 0.1010\n"
          ]
        },
        {
          "name": "stderr",
          "output_type": "stream",
          "text": [
            "Epoch 148/1000: 100%|██████████| 13/13 [00:02<00:00,  4.36batch/s]\n"
          ]
        },
        {
          "name": "stdout",
          "output_type": "stream",
          "text": [
            "Epoch: 148/1000  Loss: 0.0000, Val Loss: 0.1010\n"
          ]
        },
        {
          "name": "stderr",
          "output_type": "stream",
          "text": [
            "Epoch 149/1000: 100%|██████████| 13/13 [00:02<00:00,  4.50batch/s]\n"
          ]
        },
        {
          "name": "stdout",
          "output_type": "stream",
          "text": [
            "Epoch: 149/1000  Loss: 0.0000, Val Loss: 0.1010\n"
          ]
        },
        {
          "name": "stderr",
          "output_type": "stream",
          "text": [
            "Epoch 150/1000: 100%|██████████| 13/13 [00:02<00:00,  4.50batch/s]\n"
          ]
        },
        {
          "name": "stdout",
          "output_type": "stream",
          "text": [
            "Epoch: 150/1000  Loss: 0.0000, Val Loss: 0.1010\n"
          ]
        },
        {
          "name": "stderr",
          "output_type": "stream",
          "text": [
            "Epoch 151/1000: 100%|██████████| 13/13 [00:02<00:00,  4.45batch/s]\n"
          ]
        },
        {
          "name": "stdout",
          "output_type": "stream",
          "text": [
            "Epoch: 151/1000  Loss: 0.0000, Val Loss: 0.1010\n"
          ]
        },
        {
          "name": "stderr",
          "output_type": "stream",
          "text": [
            "Epoch 152/1000: 100%|██████████| 13/13 [00:03<00:00,  4.23batch/s]\n"
          ]
        },
        {
          "name": "stdout",
          "output_type": "stream",
          "text": [
            "Epoch: 152/1000  Loss: 0.0000, Val Loss: 0.1010\n"
          ]
        },
        {
          "name": "stderr",
          "output_type": "stream",
          "text": [
            "Epoch 153/1000: 100%|██████████| 13/13 [00:02<00:00,  4.40batch/s]\n"
          ]
        },
        {
          "name": "stdout",
          "output_type": "stream",
          "text": [
            "Epoch: 153/1000  Loss: 0.0000, Val Loss: 0.1010\n"
          ]
        },
        {
          "name": "stderr",
          "output_type": "stream",
          "text": [
            "Epoch 154/1000: 100%|██████████| 13/13 [00:02<00:00,  4.52batch/s]\n"
          ]
        },
        {
          "name": "stdout",
          "output_type": "stream",
          "text": [
            "Epoch: 154/1000  Loss: 0.0000, Val Loss: 0.1010\n"
          ]
        },
        {
          "name": "stderr",
          "output_type": "stream",
          "text": [
            "Epoch 155/1000: 100%|██████████| 13/13 [00:02<00:00,  4.52batch/s]\n"
          ]
        },
        {
          "name": "stdout",
          "output_type": "stream",
          "text": [
            "Epoch: 155/1000  Loss: 0.0000, Val Loss: 0.1010\n"
          ]
        },
        {
          "name": "stderr",
          "output_type": "stream",
          "text": [
            "Epoch 156/1000: 100%|██████████| 13/13 [00:03<00:00,  4.32batch/s]\n"
          ]
        },
        {
          "name": "stdout",
          "output_type": "stream",
          "text": [
            "Epoch: 156/1000  Loss: 0.0000, Val Loss: 0.1010\n"
          ]
        },
        {
          "name": "stderr",
          "output_type": "stream",
          "text": [
            "Epoch 157/1000: 100%|██████████| 13/13 [00:03<00:00,  4.22batch/s]\n"
          ]
        },
        {
          "name": "stdout",
          "output_type": "stream",
          "text": [
            "Epoch: 157/1000  Loss: 0.0000, Val Loss: 0.1010\n"
          ]
        },
        {
          "name": "stderr",
          "output_type": "stream",
          "text": [
            "Epoch 158/1000: 100%|██████████| 13/13 [00:02<00:00,  4.50batch/s]\n"
          ]
        },
        {
          "name": "stdout",
          "output_type": "stream",
          "text": [
            "Epoch: 158/1000  Loss: 0.0000, Val Loss: 0.1010\n"
          ]
        },
        {
          "name": "stderr",
          "output_type": "stream",
          "text": [
            "Epoch 159/1000: 100%|██████████| 13/13 [00:02<00:00,  4.51batch/s]\n"
          ]
        },
        {
          "name": "stdout",
          "output_type": "stream",
          "text": [
            "Epoch: 159/1000  Loss: 0.0000, Val Loss: 0.1010\n"
          ]
        },
        {
          "name": "stderr",
          "output_type": "stream",
          "text": [
            "Epoch 160/1000: 100%|██████████| 13/13 [00:02<00:00,  4.46batch/s]\n"
          ]
        },
        {
          "name": "stdout",
          "output_type": "stream",
          "text": [
            "Epoch: 160/1000  Loss: 0.0000, Val Loss: 0.1010\n"
          ]
        },
        {
          "name": "stderr",
          "output_type": "stream",
          "text": [
            "Epoch 161/1000: 100%|██████████| 13/13 [00:03<00:00,  4.25batch/s]\n"
          ]
        },
        {
          "name": "stdout",
          "output_type": "stream",
          "text": [
            "Epoch: 161/1000  Loss: 0.0000, Val Loss: 0.1010\n"
          ]
        },
        {
          "name": "stderr",
          "output_type": "stream",
          "text": [
            "Epoch 162/1000: 100%|██████████| 13/13 [00:02<00:00,  4.37batch/s]\n"
          ]
        },
        {
          "name": "stdout",
          "output_type": "stream",
          "text": [
            "Epoch: 162/1000  Loss: 0.0000, Val Loss: 0.1010\n"
          ]
        },
        {
          "name": "stderr",
          "output_type": "stream",
          "text": [
            "Epoch 163/1000: 100%|██████████| 13/13 [00:02<00:00,  4.51batch/s]\n"
          ]
        },
        {
          "name": "stdout",
          "output_type": "stream",
          "text": [
            "Epoch: 163/1000  Loss: 0.0000, Val Loss: 0.1010\n"
          ]
        },
        {
          "name": "stderr",
          "output_type": "stream",
          "text": [
            "Epoch 164/1000: 100%|██████████| 13/13 [00:02<00:00,  4.50batch/s]\n"
          ]
        },
        {
          "name": "stdout",
          "output_type": "stream",
          "text": [
            "Epoch: 164/1000  Loss: 0.0000, Val Loss: 0.1010\n"
          ]
        },
        {
          "name": "stderr",
          "output_type": "stream",
          "text": [
            "Epoch 165/1000: 100%|██████████| 13/13 [00:02<00:00,  4.39batch/s]\n"
          ]
        },
        {
          "name": "stdout",
          "output_type": "stream",
          "text": [
            "Epoch: 165/1000  Loss: 0.0000, Val Loss: 0.1010\n"
          ]
        },
        {
          "name": "stderr",
          "output_type": "stream",
          "text": [
            "Epoch 166/1000: 100%|██████████| 13/13 [00:03<00:00,  4.25batch/s]\n"
          ]
        },
        {
          "name": "stdout",
          "output_type": "stream",
          "text": [
            "Epoch: 166/1000  Loss: 0.0000, Val Loss: 0.1010\n"
          ]
        },
        {
          "name": "stderr",
          "output_type": "stream",
          "text": [
            "Epoch 167/1000: 100%|██████████| 13/13 [00:02<00:00,  4.51batch/s]\n"
          ]
        },
        {
          "name": "stdout",
          "output_type": "stream",
          "text": [
            "Epoch: 167/1000  Loss: 0.0000, Val Loss: 0.1010\n"
          ]
        },
        {
          "name": "stderr",
          "output_type": "stream",
          "text": [
            "Epoch 168/1000: 100%|██████████| 13/13 [00:02<00:00,  4.49batch/s]\n"
          ]
        },
        {
          "name": "stdout",
          "output_type": "stream",
          "text": [
            "Epoch: 168/1000  Loss: 0.0000, Val Loss: 0.1010\n"
          ]
        },
        {
          "name": "stderr",
          "output_type": "stream",
          "text": [
            "Epoch 169/1000: 100%|██████████| 13/13 [00:02<00:00,  4.43batch/s]\n"
          ]
        },
        {
          "name": "stdout",
          "output_type": "stream",
          "text": [
            "Epoch: 169/1000  Loss: 0.0000, Val Loss: 0.1010\n"
          ]
        },
        {
          "name": "stderr",
          "output_type": "stream",
          "text": [
            "Epoch 170/1000: 100%|██████████| 13/13 [00:03<00:00,  4.14batch/s]\n"
          ]
        },
        {
          "name": "stdout",
          "output_type": "stream",
          "text": [
            "Epoch: 170/1000  Loss: 0.0000, Val Loss: 0.1010\n"
          ]
        },
        {
          "name": "stderr",
          "output_type": "stream",
          "text": [
            "Epoch 171/1000: 100%|██████████| 13/13 [00:03<00:00,  4.29batch/s]\n"
          ]
        },
        {
          "name": "stdout",
          "output_type": "stream",
          "text": [
            "Epoch: 171/1000  Loss: 0.0000, Val Loss: 0.1010\n"
          ]
        },
        {
          "name": "stderr",
          "output_type": "stream",
          "text": [
            "Epoch 172/1000: 100%|██████████| 13/13 [00:02<00:00,  4.47batch/s]\n"
          ]
        },
        {
          "name": "stdout",
          "output_type": "stream",
          "text": [
            "Epoch: 172/1000  Loss: 0.0000, Val Loss: 0.1010\n"
          ]
        },
        {
          "name": "stderr",
          "output_type": "stream",
          "text": [
            "Epoch 173/1000: 100%|██████████| 13/13 [00:02<00:00,  4.51batch/s]\n"
          ]
        },
        {
          "name": "stdout",
          "output_type": "stream",
          "text": [
            "Epoch: 173/1000  Loss: 0.0000, Val Loss: 0.1010\n"
          ]
        },
        {
          "name": "stderr",
          "output_type": "stream",
          "text": [
            "Epoch 174/1000: 100%|██████████| 13/13 [00:02<00:00,  4.41batch/s]\n"
          ]
        },
        {
          "name": "stdout",
          "output_type": "stream",
          "text": [
            "Epoch: 174/1000  Loss: 0.0000, Val Loss: 0.1010\n"
          ]
        },
        {
          "name": "stderr",
          "output_type": "stream",
          "text": [
            "Epoch 175/1000: 100%|██████████| 13/13 [00:03<00:00,  4.28batch/s]\n"
          ]
        },
        {
          "name": "stdout",
          "output_type": "stream",
          "text": [
            "Epoch: 175/1000  Loss: 0.0000, Val Loss: 0.1010\n"
          ]
        },
        {
          "name": "stderr",
          "output_type": "stream",
          "text": [
            "Epoch 176/1000: 100%|██████████| 13/13 [00:02<00:00,  4.50batch/s]\n"
          ]
        },
        {
          "name": "stdout",
          "output_type": "stream",
          "text": [
            "Epoch: 176/1000  Loss: 0.0000, Val Loss: 0.1010\n"
          ]
        },
        {
          "name": "stderr",
          "output_type": "stream",
          "text": [
            "Epoch 177/1000: 100%|██████████| 13/13 [00:02<00:00,  4.48batch/s]\n"
          ]
        },
        {
          "name": "stdout",
          "output_type": "stream",
          "text": [
            "Epoch: 177/1000  Loss: 0.0000, Val Loss: 0.1010\n"
          ]
        },
        {
          "name": "stderr",
          "output_type": "stream",
          "text": [
            "Epoch 178/1000: 100%|██████████| 13/13 [00:02<00:00,  4.47batch/s]\n"
          ]
        },
        {
          "name": "stdout",
          "output_type": "stream",
          "text": [
            "Epoch: 178/1000  Loss: 0.0000, Val Loss: 0.0960\n"
          ]
        },
        {
          "name": "stderr",
          "output_type": "stream",
          "text": [
            "Epoch 179/1000: 100%|██████████| 13/13 [00:03<00:00,  4.31batch/s]\n"
          ]
        },
        {
          "name": "stdout",
          "output_type": "stream",
          "text": [
            "Epoch: 179/1000  Loss: 0.0000, Val Loss: 0.0960\n"
          ]
        },
        {
          "name": "stderr",
          "output_type": "stream",
          "text": [
            "Epoch 180/1000: 100%|██████████| 13/13 [00:03<00:00,  4.27batch/s]\n"
          ]
        },
        {
          "name": "stdout",
          "output_type": "stream",
          "text": [
            "Epoch: 180/1000  Loss: 0.0000, Val Loss: 0.0960\n"
          ]
        },
        {
          "name": "stderr",
          "output_type": "stream",
          "text": [
            "Epoch 181/1000: 100%|██████████| 13/13 [00:02<00:00,  4.49batch/s]\n"
          ]
        },
        {
          "name": "stdout",
          "output_type": "stream",
          "text": [
            "Epoch: 181/1000  Loss: 0.0000, Val Loss: 0.0960\n"
          ]
        },
        {
          "name": "stderr",
          "output_type": "stream",
          "text": [
            "Epoch 182/1000: 100%|██████████| 13/13 [00:02<00:00,  4.48batch/s]\n"
          ]
        },
        {
          "name": "stdout",
          "output_type": "stream",
          "text": [
            "Epoch: 182/1000  Loss: 0.0000, Val Loss: 0.0960\n"
          ]
        },
        {
          "name": "stderr",
          "output_type": "stream",
          "text": [
            "Epoch 183/1000: 100%|██████████| 13/13 [00:02<00:00,  4.40batch/s]\n"
          ]
        },
        {
          "name": "stdout",
          "output_type": "stream",
          "text": [
            "Epoch: 183/1000  Loss: 0.0000, Val Loss: 0.0960\n"
          ]
        },
        {
          "name": "stderr",
          "output_type": "stream",
          "text": [
            "Epoch 184/1000: 100%|██████████| 13/13 [00:03<00:00,  4.23batch/s]\n"
          ]
        },
        {
          "name": "stdout",
          "output_type": "stream",
          "text": [
            "Epoch: 184/1000  Loss: 0.0000, Val Loss: 0.0960\n"
          ]
        },
        {
          "name": "stderr",
          "output_type": "stream",
          "text": [
            "Epoch 185/1000: 100%|██████████| 13/13 [00:02<00:00,  4.46batch/s]\n"
          ]
        },
        {
          "name": "stdout",
          "output_type": "stream",
          "text": [
            "Epoch: 185/1000  Loss: 0.0000, Val Loss: 0.1010\n"
          ]
        },
        {
          "name": "stderr",
          "output_type": "stream",
          "text": [
            "Epoch 186/1000: 100%|██████████| 13/13 [00:02<00:00,  4.47batch/s]\n"
          ]
        },
        {
          "name": "stdout",
          "output_type": "stream",
          "text": [
            "Epoch: 186/1000  Loss: 0.0000, Val Loss: 0.1010\n"
          ]
        },
        {
          "name": "stderr",
          "output_type": "stream",
          "text": [
            "Epoch 187/1000: 100%|██████████| 13/13 [00:02<00:00,  4.51batch/s]\n"
          ]
        },
        {
          "name": "stdout",
          "output_type": "stream",
          "text": [
            "Epoch: 187/1000  Loss: 0.0000, Val Loss: 0.1010\n"
          ]
        },
        {
          "name": "stderr",
          "output_type": "stream",
          "text": [
            "Epoch 188/1000: 100%|██████████| 13/13 [00:03<00:00,  4.24batch/s]\n"
          ]
        },
        {
          "name": "stdout",
          "output_type": "stream",
          "text": [
            "Epoch: 188/1000  Loss: 0.0000, Val Loss: 0.1010\n"
          ]
        },
        {
          "name": "stderr",
          "output_type": "stream",
          "text": [
            "Epoch 189/1000: 100%|██████████| 13/13 [00:02<00:00,  4.34batch/s]\n"
          ]
        },
        {
          "name": "stdout",
          "output_type": "stream",
          "text": [
            "Epoch: 189/1000  Loss: 0.0000, Val Loss: 0.1010\n"
          ]
        },
        {
          "name": "stderr",
          "output_type": "stream",
          "text": [
            "Epoch 190/1000: 100%|██████████| 13/13 [00:02<00:00,  4.47batch/s]\n"
          ]
        },
        {
          "name": "stdout",
          "output_type": "stream",
          "text": [
            "Epoch: 190/1000  Loss: 0.0000, Val Loss: 0.1010\n"
          ]
        },
        {
          "name": "stderr",
          "output_type": "stream",
          "text": [
            "Epoch 191/1000: 100%|██████████| 13/13 [00:02<00:00,  4.51batch/s]\n"
          ]
        },
        {
          "name": "stdout",
          "output_type": "stream",
          "text": [
            "Epoch: 191/1000  Loss: 0.0000, Val Loss: 0.1010\n"
          ]
        },
        {
          "name": "stderr",
          "output_type": "stream",
          "text": [
            "Epoch 192/1000: 100%|██████████| 13/13 [00:02<00:00,  4.43batch/s]\n"
          ]
        },
        {
          "name": "stdout",
          "output_type": "stream",
          "text": [
            "Epoch: 192/1000  Loss: 0.0000, Val Loss: 0.1010\n"
          ]
        },
        {
          "name": "stderr",
          "output_type": "stream",
          "text": [
            "Epoch 193/1000: 100%|██████████| 13/13 [00:03<00:00,  4.26batch/s]\n"
          ]
        },
        {
          "name": "stdout",
          "output_type": "stream",
          "text": [
            "Epoch: 193/1000  Loss: 0.0000, Val Loss: 0.1010\n"
          ]
        },
        {
          "name": "stderr",
          "output_type": "stream",
          "text": [
            "Epoch 194/1000: 100%|██████████| 13/13 [00:02<00:00,  4.45batch/s]\n"
          ]
        },
        {
          "name": "stdout",
          "output_type": "stream",
          "text": [
            "Epoch: 194/1000  Loss: 0.0000, Val Loss: 0.1010\n"
          ]
        },
        {
          "name": "stderr",
          "output_type": "stream",
          "text": [
            "Epoch 195/1000: 100%|██████████| 13/13 [00:02<00:00,  4.50batch/s]\n"
          ]
        },
        {
          "name": "stdout",
          "output_type": "stream",
          "text": [
            "Epoch: 195/1000  Loss: 0.0000, Val Loss: 0.1010\n"
          ]
        },
        {
          "name": "stderr",
          "output_type": "stream",
          "text": [
            "Epoch 196/1000: 100%|██████████| 13/13 [00:02<00:00,  4.47batch/s]\n"
          ]
        },
        {
          "name": "stdout",
          "output_type": "stream",
          "text": [
            "Epoch: 196/1000  Loss: 0.0000, Val Loss: 0.1010\n"
          ]
        },
        {
          "name": "stderr",
          "output_type": "stream",
          "text": [
            "Epoch 197/1000: 100%|██████████| 13/13 [00:03<00:00,  4.28batch/s]\n"
          ]
        },
        {
          "name": "stdout",
          "output_type": "stream",
          "text": [
            "Epoch: 197/1000  Loss: 0.0000, Val Loss: 0.1010\n"
          ]
        },
        {
          "name": "stderr",
          "output_type": "stream",
          "text": [
            "Epoch 198/1000: 100%|██████████| 13/13 [00:03<00:00,  4.24batch/s]\n"
          ]
        },
        {
          "name": "stdout",
          "output_type": "stream",
          "text": [
            "Epoch: 198/1000  Loss: 0.0000, Val Loss: 0.1010\n"
          ]
        },
        {
          "name": "stderr",
          "output_type": "stream",
          "text": [
            "Epoch 199/1000: 100%|██████████| 13/13 [00:02<00:00,  4.48batch/s]\n"
          ]
        },
        {
          "name": "stdout",
          "output_type": "stream",
          "text": [
            "Epoch: 199/1000  Loss: 0.0000, Val Loss: 0.1010\n"
          ]
        },
        {
          "name": "stderr",
          "output_type": "stream",
          "text": [
            "Epoch 200/1000: 100%|██████████| 13/13 [00:02<00:00,  4.51batch/s]\n"
          ]
        },
        {
          "name": "stdout",
          "output_type": "stream",
          "text": [
            "Epoch: 200/1000  Loss: 0.0000, Val Loss: 0.1010\n"
          ]
        },
        {
          "name": "stderr",
          "output_type": "stream",
          "text": [
            "Epoch 201/1000: 100%|██████████| 13/13 [00:02<00:00,  4.48batch/s]\n"
          ]
        },
        {
          "name": "stdout",
          "output_type": "stream",
          "text": [
            "Epoch: 201/1000  Loss: 0.0000, Val Loss: 0.1010\n"
          ]
        },
        {
          "name": "stderr",
          "output_type": "stream",
          "text": [
            "Epoch 202/1000: 100%|██████████| 13/13 [00:03<00:00,  4.25batch/s]\n"
          ]
        },
        {
          "name": "stdout",
          "output_type": "stream",
          "text": [
            "Epoch: 202/1000  Loss: 0.0000, Val Loss: 0.1010\n"
          ]
        },
        {
          "name": "stderr",
          "output_type": "stream",
          "text": [
            "Epoch 203/1000: 100%|██████████| 13/13 [00:02<00:00,  4.42batch/s]\n"
          ]
        },
        {
          "name": "stdout",
          "output_type": "stream",
          "text": [
            "Epoch: 203/1000  Loss: 0.0000, Val Loss: 0.1010\n"
          ]
        },
        {
          "name": "stderr",
          "output_type": "stream",
          "text": [
            "Epoch 204/1000: 100%|██████████| 13/13 [00:02<00:00,  4.50batch/s]\n"
          ]
        },
        {
          "name": "stdout",
          "output_type": "stream",
          "text": [
            "Epoch: 204/1000  Loss: 0.0000, Val Loss: 0.1010\n"
          ]
        },
        {
          "name": "stderr",
          "output_type": "stream",
          "text": [
            "Epoch 205/1000: 100%|██████████| 13/13 [00:02<00:00,  4.50batch/s]\n"
          ]
        },
        {
          "name": "stdout",
          "output_type": "stream",
          "text": [
            "Epoch: 205/1000  Loss: 0.0000, Val Loss: 0.1010\n"
          ]
        },
        {
          "name": "stderr",
          "output_type": "stream",
          "text": [
            "Epoch 206/1000: 100%|██████████| 13/13 [00:03<00:00,  4.28batch/s]\n"
          ]
        },
        {
          "name": "stdout",
          "output_type": "stream",
          "text": [
            "Epoch: 206/1000  Loss: 0.0000, Val Loss: 0.1010\n"
          ]
        },
        {
          "name": "stderr",
          "output_type": "stream",
          "text": [
            "Epoch 207/1000: 100%|██████████| 13/13 [00:03<00:00,  4.27batch/s]\n"
          ]
        },
        {
          "name": "stdout",
          "output_type": "stream",
          "text": [
            "Epoch: 207/1000  Loss: 0.0000, Val Loss: 0.1010\n"
          ]
        },
        {
          "name": "stderr",
          "output_type": "stream",
          "text": [
            "Epoch 208/1000: 100%|██████████| 13/13 [00:02<00:00,  4.46batch/s]\n"
          ]
        },
        {
          "name": "stdout",
          "output_type": "stream",
          "text": [
            "Epoch: 208/1000  Loss: 0.0000, Val Loss: 0.1010\n"
          ]
        },
        {
          "name": "stderr",
          "output_type": "stream",
          "text": [
            "Epoch 209/1000: 100%|██████████| 13/13 [00:02<00:00,  4.49batch/s]\n"
          ]
        },
        {
          "name": "stdout",
          "output_type": "stream",
          "text": [
            "Epoch: 209/1000  Loss: 0.0000, Val Loss: 0.1010\n"
          ]
        },
        {
          "name": "stderr",
          "output_type": "stream",
          "text": [
            "Epoch 210/1000: 100%|██████████| 13/13 [00:02<00:00,  4.48batch/s]\n"
          ]
        },
        {
          "name": "stdout",
          "output_type": "stream",
          "text": [
            "Epoch: 210/1000  Loss: 0.0000, Val Loss: 0.1010\n"
          ]
        },
        {
          "name": "stderr",
          "output_type": "stream",
          "text": [
            "Epoch 211/1000: 100%|██████████| 13/13 [00:03<00:00,  4.19batch/s]\n"
          ]
        },
        {
          "name": "stdout",
          "output_type": "stream",
          "text": [
            "Epoch: 211/1000  Loss: 0.0000, Val Loss: 0.1010\n"
          ]
        },
        {
          "name": "stderr",
          "output_type": "stream",
          "text": [
            "Epoch 212/1000: 100%|██████████| 13/13 [00:02<00:00,  4.40batch/s]\n"
          ]
        },
        {
          "name": "stdout",
          "output_type": "stream",
          "text": [
            "Epoch: 212/1000  Loss: 0.0000, Val Loss: 0.1010\n"
          ]
        },
        {
          "name": "stderr",
          "output_type": "stream",
          "text": [
            "Epoch 213/1000: 100%|██████████| 13/13 [00:02<00:00,  4.51batch/s]\n"
          ]
        },
        {
          "name": "stdout",
          "output_type": "stream",
          "text": [
            "Epoch: 213/1000  Loss: 0.0000, Val Loss: 0.1010\n"
          ]
        },
        {
          "name": "stderr",
          "output_type": "stream",
          "text": [
            "Epoch 214/1000: 100%|██████████| 13/13 [00:02<00:00,  4.52batch/s]\n"
          ]
        },
        {
          "name": "stdout",
          "output_type": "stream",
          "text": [
            "Epoch: 214/1000  Loss: 0.0000, Val Loss: 0.1010\n"
          ]
        },
        {
          "name": "stderr",
          "output_type": "stream",
          "text": [
            "Epoch 215/1000: 100%|██████████| 13/13 [00:02<00:00,  4.37batch/s]\n"
          ]
        },
        {
          "name": "stdout",
          "output_type": "stream",
          "text": [
            "Epoch: 215/1000  Loss: 0.0000, Val Loss: 0.1010\n"
          ]
        },
        {
          "name": "stderr",
          "output_type": "stream",
          "text": [
            "Epoch 216/1000: 100%|██████████| 13/13 [00:03<00:00,  4.31batch/s]\n"
          ]
        },
        {
          "name": "stdout",
          "output_type": "stream",
          "text": [
            "Epoch: 216/1000  Loss: 0.0000, Val Loss: 0.1010\n"
          ]
        },
        {
          "name": "stderr",
          "output_type": "stream",
          "text": [
            "Epoch 217/1000: 100%|██████████| 13/13 [00:02<00:00,  4.44batch/s]\n"
          ]
        },
        {
          "name": "stdout",
          "output_type": "stream",
          "text": [
            "Epoch: 217/1000  Loss: 0.0000, Val Loss: 0.1010\n"
          ]
        },
        {
          "name": "stderr",
          "output_type": "stream",
          "text": [
            "Epoch 218/1000: 100%|██████████| 13/13 [00:02<00:00,  4.49batch/s]\n"
          ]
        },
        {
          "name": "stdout",
          "output_type": "stream",
          "text": [
            "Epoch: 218/1000  Loss: 0.0000, Val Loss: 0.1010\n"
          ]
        },
        {
          "name": "stderr",
          "output_type": "stream",
          "text": [
            "Epoch 219/1000: 100%|██████████| 13/13 [00:02<00:00,  4.46batch/s]\n"
          ]
        },
        {
          "name": "stdout",
          "output_type": "stream",
          "text": [
            "Epoch: 219/1000  Loss: 0.0000, Val Loss: 0.1010\n"
          ]
        },
        {
          "name": "stderr",
          "output_type": "stream",
          "text": [
            "Epoch 220/1000: 100%|██████████| 13/13 [00:03<00:00,  4.24batch/s]\n"
          ]
        },
        {
          "name": "stdout",
          "output_type": "stream",
          "text": [
            "Epoch: 220/1000  Loss: 0.0000, Val Loss: 0.1010\n"
          ]
        },
        {
          "name": "stderr",
          "output_type": "stream",
          "text": [
            "Epoch 221/1000: 100%|██████████| 13/13 [00:02<00:00,  4.38batch/s]\n"
          ]
        },
        {
          "name": "stdout",
          "output_type": "stream",
          "text": [
            "Epoch: 221/1000  Loss: 0.0000, Val Loss: 0.1010\n"
          ]
        },
        {
          "name": "stderr",
          "output_type": "stream",
          "text": [
            "Epoch 222/1000: 100%|██████████| 13/13 [00:02<00:00,  4.50batch/s]\n"
          ]
        },
        {
          "name": "stdout",
          "output_type": "stream",
          "text": [
            "Epoch: 222/1000  Loss: 0.0000, Val Loss: 0.1010\n"
          ]
        },
        {
          "name": "stderr",
          "output_type": "stream",
          "text": [
            "Epoch 223/1000: 100%|██████████| 13/13 [00:02<00:00,  4.48batch/s]\n"
          ]
        },
        {
          "name": "stdout",
          "output_type": "stream",
          "text": [
            "Epoch: 223/1000  Loss: 0.0000, Val Loss: 0.1010\n"
          ]
        },
        {
          "name": "stderr",
          "output_type": "stream",
          "text": [
            "Epoch 224/1000: 100%|██████████| 13/13 [00:02<00:00,  4.35batch/s]\n"
          ]
        },
        {
          "name": "stdout",
          "output_type": "stream",
          "text": [
            "Epoch: 224/1000  Loss: 0.0000, Val Loss: 0.1010\n"
          ]
        },
        {
          "name": "stderr",
          "output_type": "stream",
          "text": [
            "Epoch 225/1000: 100%|██████████| 13/13 [00:03<00:00,  4.21batch/s]\n"
          ]
        },
        {
          "name": "stdout",
          "output_type": "stream",
          "text": [
            "Epoch: 225/1000  Loss: 0.0000, Val Loss: 0.1010\n"
          ]
        },
        {
          "name": "stderr",
          "output_type": "stream",
          "text": [
            "Epoch 226/1000: 100%|██████████| 13/13 [00:02<00:00,  4.48batch/s]\n"
          ]
        },
        {
          "name": "stdout",
          "output_type": "stream",
          "text": [
            "Epoch: 226/1000  Loss: 0.0000, Val Loss: 0.1010\n"
          ]
        },
        {
          "name": "stderr",
          "output_type": "stream",
          "text": [
            "Epoch 227/1000: 100%|██████████| 13/13 [00:02<00:00,  4.46batch/s]\n"
          ]
        },
        {
          "name": "stdout",
          "output_type": "stream",
          "text": [
            "Epoch: 227/1000  Loss: 0.0000, Val Loss: 0.1010\n"
          ]
        },
        {
          "name": "stderr",
          "output_type": "stream",
          "text": [
            "Epoch 228/1000: 100%|██████████| 13/13 [00:02<00:00,  4.43batch/s]\n"
          ]
        },
        {
          "name": "stdout",
          "output_type": "stream",
          "text": [
            "Epoch: 228/1000  Loss: 0.0000, Val Loss: 0.1010\n"
          ]
        },
        {
          "name": "stderr",
          "output_type": "stream",
          "text": [
            "Epoch 229/1000: 100%|██████████| 13/13 [00:03<00:00,  4.29batch/s]\n"
          ]
        },
        {
          "name": "stdout",
          "output_type": "stream",
          "text": [
            "Epoch: 229/1000  Loss: 0.0000, Val Loss: 0.1010\n"
          ]
        },
        {
          "name": "stderr",
          "output_type": "stream",
          "text": [
            "Epoch 230/1000: 100%|██████████| 13/13 [00:02<00:00,  4.34batch/s]\n"
          ]
        },
        {
          "name": "stdout",
          "output_type": "stream",
          "text": [
            "Epoch: 230/1000  Loss: 0.0000, Val Loss: 0.1010\n"
          ]
        },
        {
          "name": "stderr",
          "output_type": "stream",
          "text": [
            "Epoch 231/1000: 100%|██████████| 13/13 [00:02<00:00,  4.50batch/s]\n"
          ]
        },
        {
          "name": "stdout",
          "output_type": "stream",
          "text": [
            "Epoch: 231/1000  Loss: 0.0000, Val Loss: 0.1010\n"
          ]
        },
        {
          "name": "stderr",
          "output_type": "stream",
          "text": [
            "Epoch 232/1000: 100%|██████████| 13/13 [00:02<00:00,  4.45batch/s]\n"
          ]
        },
        {
          "name": "stdout",
          "output_type": "stream",
          "text": [
            "Epoch: 232/1000  Loss: 0.0000, Val Loss: 0.1010\n"
          ]
        },
        {
          "name": "stderr",
          "output_type": "stream",
          "text": [
            "Epoch 233/1000: 100%|██████████| 13/13 [00:02<00:00,  4.36batch/s]\n"
          ]
        },
        {
          "name": "stdout",
          "output_type": "stream",
          "text": [
            "Epoch: 233/1000  Loss: 0.0000, Val Loss: 0.1010\n"
          ]
        },
        {
          "name": "stderr",
          "output_type": "stream",
          "text": [
            "Epoch 234/1000: 100%|██████████| 13/13 [00:03<00:00,  4.24batch/s]\n"
          ]
        },
        {
          "name": "stdout",
          "output_type": "stream",
          "text": [
            "Epoch: 234/1000  Loss: 0.0000, Val Loss: 0.1010\n"
          ]
        },
        {
          "name": "stderr",
          "output_type": "stream",
          "text": [
            "Epoch 235/1000: 100%|██████████| 13/13 [00:02<00:00,  4.49batch/s]\n"
          ]
        },
        {
          "name": "stdout",
          "output_type": "stream",
          "text": [
            "Epoch: 235/1000  Loss: 0.0000, Val Loss: 0.1010\n"
          ]
        },
        {
          "name": "stderr",
          "output_type": "stream",
          "text": [
            "Epoch 236/1000: 100%|██████████| 13/13 [00:02<00:00,  4.49batch/s]\n"
          ]
        },
        {
          "name": "stdout",
          "output_type": "stream",
          "text": [
            "Epoch: 236/1000  Loss: 0.0000, Val Loss: 0.1010\n"
          ]
        },
        {
          "name": "stderr",
          "output_type": "stream",
          "text": [
            "Epoch 237/1000: 100%|██████████| 13/13 [00:02<00:00,  4.46batch/s]\n"
          ]
        },
        {
          "name": "stdout",
          "output_type": "stream",
          "text": [
            "Epoch: 237/1000  Loss: 0.0000, Val Loss: 0.1010\n"
          ]
        },
        {
          "name": "stderr",
          "output_type": "stream",
          "text": [
            "Epoch 238/1000: 100%|██████████| 13/13 [00:03<00:00,  4.27batch/s]\n"
          ]
        },
        {
          "name": "stdout",
          "output_type": "stream",
          "text": [
            "Epoch: 238/1000  Loss: 0.0000, Val Loss: 0.1010\n"
          ]
        },
        {
          "name": "stderr",
          "output_type": "stream",
          "text": [
            "Epoch 239/1000: 100%|██████████| 13/13 [00:02<00:00,  4.36batch/s]\n"
          ]
        },
        {
          "name": "stdout",
          "output_type": "stream",
          "text": [
            "Epoch: 239/1000  Loss: 0.0000, Val Loss: 0.1010\n"
          ]
        },
        {
          "name": "stderr",
          "output_type": "stream",
          "text": [
            "Epoch 240/1000: 100%|██████████| 13/13 [00:02<00:00,  4.49batch/s]\n"
          ]
        },
        {
          "name": "stdout",
          "output_type": "stream",
          "text": [
            "Epoch: 240/1000  Loss: 0.0000, Val Loss: 0.1010\n"
          ]
        },
        {
          "name": "stderr",
          "output_type": "stream",
          "text": [
            "Epoch 241/1000: 100%|██████████| 13/13 [00:02<00:00,  4.48batch/s]\n"
          ]
        },
        {
          "name": "stdout",
          "output_type": "stream",
          "text": [
            "Epoch: 241/1000  Loss: 0.0000, Val Loss: 0.1010\n"
          ]
        },
        {
          "name": "stderr",
          "output_type": "stream",
          "text": [
            "Epoch 242/1000: 100%|██████████| 13/13 [00:02<00:00,  4.36batch/s]\n"
          ]
        },
        {
          "name": "stdout",
          "output_type": "stream",
          "text": [
            "Epoch: 242/1000  Loss: 0.0000, Val Loss: 0.1010\n"
          ]
        },
        {
          "name": "stderr",
          "output_type": "stream",
          "text": [
            "Epoch 243/1000: 100%|██████████| 13/13 [00:03<00:00,  4.21batch/s]\n"
          ]
        },
        {
          "name": "stdout",
          "output_type": "stream",
          "text": [
            "Epoch: 243/1000  Loss: 0.0000, Val Loss: 0.1010\n"
          ]
        },
        {
          "name": "stderr",
          "output_type": "stream",
          "text": [
            "Epoch 244/1000: 100%|██████████| 13/13 [00:02<00:00,  4.47batch/s]\n"
          ]
        },
        {
          "name": "stdout",
          "output_type": "stream",
          "text": [
            "Epoch: 244/1000  Loss: 0.0000, Val Loss: 0.1010\n"
          ]
        },
        {
          "name": "stderr",
          "output_type": "stream",
          "text": [
            "Epoch 245/1000: 100%|██████████| 13/13 [00:02<00:00,  4.47batch/s]\n"
          ]
        },
        {
          "name": "stdout",
          "output_type": "stream",
          "text": [
            "Epoch: 245/1000  Loss: 0.0000, Val Loss: 0.1010\n"
          ]
        },
        {
          "name": "stderr",
          "output_type": "stream",
          "text": [
            "Epoch 246/1000: 100%|██████████| 13/13 [00:02<00:00,  4.52batch/s]\n"
          ]
        },
        {
          "name": "stdout",
          "output_type": "stream",
          "text": [
            "Epoch: 246/1000  Loss: 0.0000, Val Loss: 0.1010\n"
          ]
        },
        {
          "name": "stderr",
          "output_type": "stream",
          "text": [
            "Epoch 247/1000: 100%|██████████| 13/13 [00:03<00:00,  4.24batch/s]\n"
          ]
        },
        {
          "name": "stdout",
          "output_type": "stream",
          "text": [
            "Epoch: 247/1000  Loss: 0.0000, Val Loss: 0.1010\n"
          ]
        },
        {
          "name": "stderr",
          "output_type": "stream",
          "text": [
            "Epoch 248/1000: 100%|██████████| 13/13 [00:02<00:00,  4.34batch/s]\n"
          ]
        },
        {
          "name": "stdout",
          "output_type": "stream",
          "text": [
            "Epoch: 248/1000  Loss: 0.0000, Val Loss: 0.1010\n"
          ]
        },
        {
          "name": "stderr",
          "output_type": "stream",
          "text": [
            "Epoch 249/1000: 100%|██████████| 13/13 [00:02<00:00,  4.49batch/s]\n"
          ]
        },
        {
          "name": "stdout",
          "output_type": "stream",
          "text": [
            "Epoch: 249/1000  Loss: 0.0000, Val Loss: 0.1010\n"
          ]
        },
        {
          "name": "stderr",
          "output_type": "stream",
          "text": [
            "Epoch 250/1000: 100%|██████████| 13/13 [00:02<00:00,  4.48batch/s]\n"
          ]
        },
        {
          "name": "stdout",
          "output_type": "stream",
          "text": [
            "Epoch: 250/1000  Loss: 0.0000, Val Loss: 0.1010\n"
          ]
        },
        {
          "name": "stderr",
          "output_type": "stream",
          "text": [
            "Epoch 251/1000: 100%|██████████| 13/13 [00:02<00:00,  4.41batch/s]\n"
          ]
        },
        {
          "name": "stdout",
          "output_type": "stream",
          "text": [
            "Epoch: 251/1000  Loss: 0.0000, Val Loss: 0.1010\n"
          ]
        },
        {
          "name": "stderr",
          "output_type": "stream",
          "text": [
            "Epoch 252/1000: 100%|██████████| 13/13 [00:03<00:00,  4.19batch/s]\n"
          ]
        },
        {
          "name": "stdout",
          "output_type": "stream",
          "text": [
            "Epoch: 252/1000  Loss: 0.0000, Val Loss: 0.1010\n"
          ]
        },
        {
          "name": "stderr",
          "output_type": "stream",
          "text": [
            "Epoch 253/1000: 100%|██████████| 13/13 [00:02<00:00,  4.48batch/s]\n"
          ]
        },
        {
          "name": "stdout",
          "output_type": "stream",
          "text": [
            "Epoch: 253/1000  Loss: 0.0000, Val Loss: 0.1010\n"
          ]
        },
        {
          "name": "stderr",
          "output_type": "stream",
          "text": [
            "Epoch 254/1000: 100%|██████████| 13/13 [00:02<00:00,  4.51batch/s]\n"
          ]
        },
        {
          "name": "stdout",
          "output_type": "stream",
          "text": [
            "Epoch: 254/1000  Loss: 0.0000, Val Loss: 0.1010\n"
          ]
        },
        {
          "name": "stderr",
          "output_type": "stream",
          "text": [
            "Epoch 255/1000: 100%|██████████| 13/13 [00:02<00:00,  4.44batch/s]\n"
          ]
        },
        {
          "name": "stdout",
          "output_type": "stream",
          "text": [
            "Epoch: 255/1000  Loss: 0.0000, Val Loss: 0.1010\n"
          ]
        },
        {
          "name": "stderr",
          "output_type": "stream",
          "text": [
            "Epoch 256/1000: 100%|██████████| 13/13 [00:03<00:00,  4.31batch/s]\n"
          ]
        },
        {
          "name": "stdout",
          "output_type": "stream",
          "text": [
            "Epoch: 256/1000  Loss: 0.0000, Val Loss: 0.1010\n"
          ]
        },
        {
          "name": "stderr",
          "output_type": "stream",
          "text": [
            "Epoch 257/1000: 100%|██████████| 13/13 [00:02<00:00,  4.35batch/s]\n"
          ]
        },
        {
          "name": "stdout",
          "output_type": "stream",
          "text": [
            "Epoch: 257/1000  Loss: 0.0000, Val Loss: 0.1010\n"
          ]
        },
        {
          "name": "stderr",
          "output_type": "stream",
          "text": [
            "Epoch 258/1000: 100%|██████████| 13/13 [00:02<00:00,  4.49batch/s]\n"
          ]
        },
        {
          "name": "stdout",
          "output_type": "stream",
          "text": [
            "Epoch: 258/1000  Loss: 0.0000, Val Loss: 0.1010\n"
          ]
        },
        {
          "name": "stderr",
          "output_type": "stream",
          "text": [
            "Epoch 259/1000: 100%|██████████| 13/13 [00:02<00:00,  4.49batch/s]\n"
          ]
        },
        {
          "name": "stdout",
          "output_type": "stream",
          "text": [
            "Epoch: 259/1000  Loss: 0.0000, Val Loss: 0.1010\n"
          ]
        },
        {
          "name": "stderr",
          "output_type": "stream",
          "text": [
            "Epoch 260/1000: 100%|██████████| 13/13 [00:02<00:00,  4.44batch/s]\n"
          ]
        },
        {
          "name": "stdout",
          "output_type": "stream",
          "text": [
            "Epoch: 260/1000  Loss: 0.0000, Val Loss: 0.1010\n"
          ]
        },
        {
          "name": "stderr",
          "output_type": "stream",
          "text": [
            "Epoch 261/1000: 100%|██████████| 13/13 [00:03<00:00,  4.27batch/s]\n"
          ]
        },
        {
          "name": "stdout",
          "output_type": "stream",
          "text": [
            "Epoch: 261/1000  Loss: 0.0000, Val Loss: 0.1010\n"
          ]
        },
        {
          "name": "stderr",
          "output_type": "stream",
          "text": [
            "Epoch 262/1000: 100%|██████████| 13/13 [00:02<00:00,  4.43batch/s]\n"
          ]
        },
        {
          "name": "stdout",
          "output_type": "stream",
          "text": [
            "Epoch: 262/1000  Loss: 0.0000, Val Loss: 0.1010\n"
          ]
        },
        {
          "name": "stderr",
          "output_type": "stream",
          "text": [
            "Epoch 263/1000: 100%|██████████| 13/13 [00:02<00:00,  4.49batch/s]\n"
          ]
        },
        {
          "name": "stdout",
          "output_type": "stream",
          "text": [
            "Epoch: 263/1000  Loss: 0.0000, Val Loss: 0.1010\n"
          ]
        },
        {
          "name": "stderr",
          "output_type": "stream",
          "text": [
            "Epoch 264/1000: 100%|██████████| 13/13 [00:02<00:00,  4.47batch/s]\n"
          ]
        },
        {
          "name": "stdout",
          "output_type": "stream",
          "text": [
            "Epoch: 264/1000  Loss: 0.0000, Val Loss: 0.1010\n"
          ]
        },
        {
          "name": "stderr",
          "output_type": "stream",
          "text": [
            "Epoch 265/1000: 100%|██████████| 13/13 [00:03<00:00,  4.32batch/s]\n"
          ]
        },
        {
          "name": "stdout",
          "output_type": "stream",
          "text": [
            "Epoch: 265/1000  Loss: 0.0000, Val Loss: 0.1010\n"
          ]
        },
        {
          "name": "stderr",
          "output_type": "stream",
          "text": [
            "Epoch 266/1000: 100%|██████████| 13/13 [00:03<00:00,  4.23batch/s]\n"
          ]
        },
        {
          "name": "stdout",
          "output_type": "stream",
          "text": [
            "Epoch: 266/1000  Loss: 0.0000, Val Loss: 0.1010\n"
          ]
        },
        {
          "name": "stderr",
          "output_type": "stream",
          "text": [
            "Epoch 267/1000: 100%|██████████| 13/13 [00:02<00:00,  4.48batch/s]\n"
          ]
        },
        {
          "name": "stdout",
          "output_type": "stream",
          "text": [
            "Epoch: 267/1000  Loss: 0.0000, Val Loss: 0.1010\n"
          ]
        },
        {
          "name": "stderr",
          "output_type": "stream",
          "text": [
            "Epoch 268/1000: 100%|██████████| 13/13 [00:02<00:00,  4.51batch/s]\n"
          ]
        },
        {
          "name": "stdout",
          "output_type": "stream",
          "text": [
            "Epoch: 268/1000  Loss: 0.0000, Val Loss: 0.1010\n"
          ]
        },
        {
          "name": "stderr",
          "output_type": "stream",
          "text": [
            "Epoch 269/1000: 100%|██████████| 13/13 [00:02<00:00,  4.43batch/s]\n"
          ]
        },
        {
          "name": "stdout",
          "output_type": "stream",
          "text": [
            "Epoch: 269/1000  Loss: 0.0000, Val Loss: 0.1010\n"
          ]
        },
        {
          "name": "stderr",
          "output_type": "stream",
          "text": [
            "Epoch 270/1000: 100%|██████████| 13/13 [00:03<00:00,  4.21batch/s]\n"
          ]
        },
        {
          "name": "stdout",
          "output_type": "stream",
          "text": [
            "Epoch: 270/1000  Loss: 0.0000, Val Loss: 0.1010\n"
          ]
        },
        {
          "name": "stderr",
          "output_type": "stream",
          "text": [
            "Epoch 271/1000: 100%|██████████| 13/13 [00:02<00:00,  4.42batch/s]\n"
          ]
        },
        {
          "name": "stdout",
          "output_type": "stream",
          "text": [
            "Epoch: 271/1000  Loss: 0.0000, Val Loss: 0.1010\n"
          ]
        },
        {
          "name": "stderr",
          "output_type": "stream",
          "text": [
            "Epoch 272/1000: 100%|██████████| 13/13 [00:02<00:00,  4.46batch/s]\n"
          ]
        },
        {
          "name": "stdout",
          "output_type": "stream",
          "text": [
            "Epoch: 272/1000  Loss: 0.0000, Val Loss: 0.1010\n"
          ]
        },
        {
          "name": "stderr",
          "output_type": "stream",
          "text": [
            "Epoch 273/1000: 100%|██████████| 13/13 [00:02<00:00,  4.49batch/s]\n"
          ]
        },
        {
          "name": "stdout",
          "output_type": "stream",
          "text": [
            "Epoch: 273/1000  Loss: 0.0000, Val Loss: 0.1010\n"
          ]
        },
        {
          "name": "stderr",
          "output_type": "stream",
          "text": [
            "Epoch 274/1000: 100%|██████████| 13/13 [00:03<00:00,  4.30batch/s]\n"
          ]
        },
        {
          "name": "stdout",
          "output_type": "stream",
          "text": [
            "Epoch: 274/1000  Loss: 0.0000, Val Loss: 0.1010\n"
          ]
        },
        {
          "name": "stderr",
          "output_type": "stream",
          "text": [
            "Epoch 275/1000: 100%|██████████| 13/13 [00:03<00:00,  4.27batch/s]\n"
          ]
        },
        {
          "name": "stdout",
          "output_type": "stream",
          "text": [
            "Epoch: 275/1000  Loss: 0.0000, Val Loss: 0.1010\n"
          ]
        },
        {
          "name": "stderr",
          "output_type": "stream",
          "text": [
            "Epoch 276/1000: 100%|██████████| 13/13 [00:02<00:00,  4.48batch/s]\n"
          ]
        },
        {
          "name": "stdout",
          "output_type": "stream",
          "text": [
            "Epoch: 276/1000  Loss: 0.0000, Val Loss: 0.1010\n"
          ]
        },
        {
          "name": "stderr",
          "output_type": "stream",
          "text": [
            "Epoch 277/1000: 100%|██████████| 13/13 [00:02<00:00,  4.48batch/s]\n"
          ]
        },
        {
          "name": "stdout",
          "output_type": "stream",
          "text": [
            "Epoch: 277/1000  Loss: 0.0000, Val Loss: 0.1010\n"
          ]
        },
        {
          "name": "stderr",
          "output_type": "stream",
          "text": [
            "Epoch 278/1000: 100%|██████████| 13/13 [00:02<00:00,  4.44batch/s]\n"
          ]
        },
        {
          "name": "stdout",
          "output_type": "stream",
          "text": [
            "Epoch: 278/1000  Loss: 0.0000, Val Loss: 0.1010\n"
          ]
        },
        {
          "name": "stderr",
          "output_type": "stream",
          "text": [
            "Epoch 279/1000: 100%|██████████| 13/13 [00:03<00:00,  4.23batch/s]\n"
          ]
        },
        {
          "name": "stdout",
          "output_type": "stream",
          "text": [
            "Epoch: 279/1000  Loss: 0.0000, Val Loss: 0.1010\n"
          ]
        },
        {
          "name": "stderr",
          "output_type": "stream",
          "text": [
            "Epoch 280/1000: 100%|██████████| 13/13 [00:02<00:00,  4.41batch/s]\n"
          ]
        },
        {
          "name": "stdout",
          "output_type": "stream",
          "text": [
            "Epoch: 280/1000  Loss: 0.0000, Val Loss: 0.1010\n"
          ]
        },
        {
          "name": "stderr",
          "output_type": "stream",
          "text": [
            "Epoch 281/1000: 100%|██████████| 13/13 [00:02<00:00,  4.48batch/s]\n"
          ]
        },
        {
          "name": "stdout",
          "output_type": "stream",
          "text": [
            "Epoch: 281/1000  Loss: 0.0000, Val Loss: 0.1010\n"
          ]
        },
        {
          "name": "stderr",
          "output_type": "stream",
          "text": [
            "Epoch 282/1000: 100%|██████████| 13/13 [00:02<00:00,  4.48batch/s]\n"
          ]
        },
        {
          "name": "stdout",
          "output_type": "stream",
          "text": [
            "Epoch: 282/1000  Loss: 0.0000, Val Loss: 0.1010\n"
          ]
        },
        {
          "name": "stderr",
          "output_type": "stream",
          "text": [
            "Epoch 283/1000: 100%|██████████| 13/13 [00:03<00:00,  4.26batch/s]\n"
          ]
        },
        {
          "name": "stdout",
          "output_type": "stream",
          "text": [
            "Epoch: 283/1000  Loss: 0.0000, Val Loss: 0.1010\n"
          ]
        },
        {
          "name": "stderr",
          "output_type": "stream",
          "text": [
            "Epoch 284/1000: 100%|██████████| 13/13 [00:03<00:00,  4.26batch/s]\n"
          ]
        },
        {
          "name": "stdout",
          "output_type": "stream",
          "text": [
            "Epoch: 284/1000  Loss: 0.0000, Val Loss: 0.1010\n"
          ]
        },
        {
          "name": "stderr",
          "output_type": "stream",
          "text": [
            "Epoch 285/1000: 100%|██████████| 13/13 [00:02<00:00,  4.46batch/s]\n"
          ]
        },
        {
          "name": "stdout",
          "output_type": "stream",
          "text": [
            "Epoch: 285/1000  Loss: 0.0000, Val Loss: 0.1010\n"
          ]
        },
        {
          "name": "stderr",
          "output_type": "stream",
          "text": [
            "Epoch 286/1000: 100%|██████████| 13/13 [00:02<00:00,  4.48batch/s]\n"
          ]
        },
        {
          "name": "stdout",
          "output_type": "stream",
          "text": [
            "Epoch: 286/1000  Loss: 0.0000, Val Loss: 0.1010\n"
          ]
        },
        {
          "name": "stderr",
          "output_type": "stream",
          "text": [
            "Epoch 287/1000: 100%|██████████| 13/13 [00:02<00:00,  4.49batch/s]\n"
          ]
        },
        {
          "name": "stdout",
          "output_type": "stream",
          "text": [
            "Epoch: 287/1000  Loss: 0.0000, Val Loss: 0.1010\n"
          ]
        },
        {
          "name": "stderr",
          "output_type": "stream",
          "text": [
            "Epoch 288/1000: 100%|██████████| 13/13 [00:03<00:00,  4.23batch/s]\n"
          ]
        },
        {
          "name": "stdout",
          "output_type": "stream",
          "text": [
            "Epoch: 288/1000  Loss: 0.0000, Val Loss: 0.1010\n"
          ]
        },
        {
          "name": "stderr",
          "output_type": "stream",
          "text": [
            "Epoch 289/1000: 100%|██████████| 13/13 [00:02<00:00,  4.39batch/s]\n"
          ]
        },
        {
          "name": "stdout",
          "output_type": "stream",
          "text": [
            "Epoch: 289/1000  Loss: 0.0000, Val Loss: 0.1010\n"
          ]
        },
        {
          "name": "stderr",
          "output_type": "stream",
          "text": [
            "Epoch 290/1000: 100%|██████████| 13/13 [00:02<00:00,  4.47batch/s]\n"
          ]
        },
        {
          "name": "stdout",
          "output_type": "stream",
          "text": [
            "Epoch: 290/1000  Loss: 0.0000, Val Loss: 0.1010\n"
          ]
        },
        {
          "name": "stderr",
          "output_type": "stream",
          "text": [
            "Epoch 291/1000: 100%|██████████| 13/13 [00:02<00:00,  4.46batch/s]\n"
          ]
        },
        {
          "name": "stdout",
          "output_type": "stream",
          "text": [
            "Epoch: 291/1000  Loss: 0.0000, Val Loss: 0.1010\n"
          ]
        },
        {
          "name": "stderr",
          "output_type": "stream",
          "text": [
            "Epoch 292/1000: 100%|██████████| 13/13 [00:03<00:00,  4.28batch/s]\n"
          ]
        },
        {
          "name": "stdout",
          "output_type": "stream",
          "text": [
            "Epoch: 292/1000  Loss: 0.0000, Val Loss: 0.1010\n"
          ]
        },
        {
          "name": "stderr",
          "output_type": "stream",
          "text": [
            "Epoch 293/1000: 100%|██████████| 13/13 [00:03<00:00,  4.21batch/s]\n"
          ]
        },
        {
          "name": "stdout",
          "output_type": "stream",
          "text": [
            "Epoch: 293/1000  Loss: 0.0000, Val Loss: 0.1010\n"
          ]
        },
        {
          "name": "stderr",
          "output_type": "stream",
          "text": [
            "Epoch 294/1000: 100%|██████████| 13/13 [00:02<00:00,  4.45batch/s]\n"
          ]
        },
        {
          "name": "stdout",
          "output_type": "stream",
          "text": [
            "Epoch: 294/1000  Loss: 0.0000, Val Loss: 0.1010\n"
          ]
        },
        {
          "name": "stderr",
          "output_type": "stream",
          "text": [
            "Epoch 295/1000: 100%|██████████| 13/13 [00:02<00:00,  4.47batch/s]\n"
          ]
        },
        {
          "name": "stdout",
          "output_type": "stream",
          "text": [
            "Epoch: 295/1000  Loss: 0.0000, Val Loss: 0.1010\n"
          ]
        },
        {
          "name": "stderr",
          "output_type": "stream",
          "text": [
            "Epoch 296/1000: 100%|██████████| 13/13 [00:02<00:00,  4.46batch/s]\n"
          ]
        },
        {
          "name": "stdout",
          "output_type": "stream",
          "text": [
            "Epoch: 296/1000  Loss: 0.0000, Val Loss: 0.1010\n"
          ]
        },
        {
          "name": "stderr",
          "output_type": "stream",
          "text": [
            "Epoch 297/1000: 100%|██████████| 13/13 [00:03<00:00,  4.20batch/s]\n"
          ]
        },
        {
          "name": "stdout",
          "output_type": "stream",
          "text": [
            "Epoch: 297/1000  Loss: 0.0000, Val Loss: 0.1010\n"
          ]
        },
        {
          "name": "stderr",
          "output_type": "stream",
          "text": [
            "Epoch 298/1000: 100%|██████████| 13/13 [00:02<00:00,  4.38batch/s]\n"
          ]
        },
        {
          "name": "stdout",
          "output_type": "stream",
          "text": [
            "Epoch: 298/1000  Loss: 0.0000, Val Loss: 0.1010\n"
          ]
        },
        {
          "name": "stderr",
          "output_type": "stream",
          "text": [
            "Epoch 299/1000: 100%|██████████| 13/13 [00:02<00:00,  4.48batch/s]\n"
          ]
        },
        {
          "name": "stdout",
          "output_type": "stream",
          "text": [
            "Epoch: 299/1000  Loss: 0.0000, Val Loss: 0.1010\n"
          ]
        },
        {
          "name": "stderr",
          "output_type": "stream",
          "text": [
            "Epoch 300/1000: 100%|██████████| 13/13 [00:02<00:00,  4.47batch/s]\n"
          ]
        },
        {
          "name": "stdout",
          "output_type": "stream",
          "text": [
            "Epoch: 300/1000  Loss: 0.0000, Val Loss: 0.1010\n"
          ]
        },
        {
          "name": "stderr",
          "output_type": "stream",
          "text": [
            "Epoch 301/1000: 100%|██████████| 13/13 [00:02<00:00,  4.37batch/s]\n"
          ]
        },
        {
          "name": "stdout",
          "output_type": "stream",
          "text": [
            "Epoch: 301/1000  Loss: 0.0000, Val Loss: 0.1010\n"
          ]
        },
        {
          "name": "stderr",
          "output_type": "stream",
          "text": [
            "Epoch 302/1000: 100%|██████████| 13/13 [00:03<00:00,  4.19batch/s]\n"
          ]
        },
        {
          "name": "stdout",
          "output_type": "stream",
          "text": [
            "Epoch: 302/1000  Loss: 0.0000, Val Loss: 0.1010\n"
          ]
        },
        {
          "name": "stderr",
          "output_type": "stream",
          "text": [
            "Epoch 303/1000: 100%|██████████| 13/13 [00:02<00:00,  4.48batch/s]\n"
          ]
        },
        {
          "name": "stdout",
          "output_type": "stream",
          "text": [
            "Epoch: 303/1000  Loss: 0.0000, Val Loss: 0.1010\n"
          ]
        },
        {
          "name": "stderr",
          "output_type": "stream",
          "text": [
            "Epoch 304/1000: 100%|██████████| 13/13 [00:02<00:00,  4.49batch/s]\n"
          ]
        },
        {
          "name": "stdout",
          "output_type": "stream",
          "text": [
            "Epoch: 304/1000  Loss: 0.0000, Val Loss: 0.1010\n"
          ]
        },
        {
          "name": "stderr",
          "output_type": "stream",
          "text": [
            "Epoch 305/1000: 100%|██████████| 13/13 [00:02<00:00,  4.50batch/s]\n"
          ]
        },
        {
          "name": "stdout",
          "output_type": "stream",
          "text": [
            "Epoch: 305/1000  Loss: 0.0000, Val Loss: 0.1010\n"
          ]
        },
        {
          "name": "stderr",
          "output_type": "stream",
          "text": [
            "Epoch 306/1000: 100%|██████████| 13/13 [00:03<00:00,  4.27batch/s]\n"
          ]
        },
        {
          "name": "stdout",
          "output_type": "stream",
          "text": [
            "Epoch: 306/1000  Loss: 0.0000, Val Loss: 0.1010\n"
          ]
        },
        {
          "name": "stderr",
          "output_type": "stream",
          "text": [
            "Epoch 307/1000: 100%|██████████| 13/13 [00:03<00:00,  4.31batch/s]\n"
          ]
        },
        {
          "name": "stdout",
          "output_type": "stream",
          "text": [
            "Epoch: 307/1000  Loss: 0.0000, Val Loss: 0.1010\n"
          ]
        },
        {
          "name": "stderr",
          "output_type": "stream",
          "text": [
            "Epoch 308/1000: 100%|██████████| 13/13 [00:02<00:00,  4.46batch/s]\n"
          ]
        },
        {
          "name": "stdout",
          "output_type": "stream",
          "text": [
            "Epoch: 308/1000  Loss: 0.0000, Val Loss: 0.1010\n"
          ]
        },
        {
          "name": "stderr",
          "output_type": "stream",
          "text": [
            "Epoch 309/1000: 100%|██████████| 13/13 [00:02<00:00,  4.49batch/s]\n"
          ]
        },
        {
          "name": "stdout",
          "output_type": "stream",
          "text": [
            "Epoch: 309/1000  Loss: 0.0000, Val Loss: 0.1010\n"
          ]
        },
        {
          "name": "stderr",
          "output_type": "stream",
          "text": [
            "Epoch 310/1000: 100%|██████████| 13/13 [00:02<00:00,  4.42batch/s]\n"
          ]
        },
        {
          "name": "stdout",
          "output_type": "stream",
          "text": [
            "Epoch: 310/1000  Loss: 0.0000, Val Loss: 0.1010\n"
          ]
        },
        {
          "name": "stderr",
          "output_type": "stream",
          "text": [
            "Epoch 311/1000: 100%|██████████| 13/13 [00:03<00:00,  4.19batch/s]\n"
          ]
        },
        {
          "name": "stdout",
          "output_type": "stream",
          "text": [
            "Epoch: 311/1000  Loss: 0.0000, Val Loss: 0.1010\n"
          ]
        },
        {
          "name": "stderr",
          "output_type": "stream",
          "text": [
            "Epoch 312/1000: 100%|██████████| 13/13 [00:02<00:00,  4.49batch/s]\n"
          ]
        },
        {
          "name": "stdout",
          "output_type": "stream",
          "text": [
            "Epoch: 312/1000  Loss: 0.0000, Val Loss: 0.1010\n"
          ]
        },
        {
          "name": "stderr",
          "output_type": "stream",
          "text": [
            "Epoch 313/1000: 100%|██████████| 13/13 [00:02<00:00,  4.48batch/s]\n"
          ]
        },
        {
          "name": "stdout",
          "output_type": "stream",
          "text": [
            "Epoch: 313/1000  Loss: 0.0000, Val Loss: 0.1010\n"
          ]
        },
        {
          "name": "stderr",
          "output_type": "stream",
          "text": [
            "Epoch 314/1000: 100%|██████████| 13/13 [00:02<00:00,  4.49batch/s]\n"
          ]
        },
        {
          "name": "stdout",
          "output_type": "stream",
          "text": [
            "Epoch: 314/1000  Loss: 0.0000, Val Loss: 0.1010\n"
          ]
        },
        {
          "name": "stderr",
          "output_type": "stream",
          "text": [
            "Epoch 315/1000: 100%|██████████| 13/13 [00:03<00:00,  4.24batch/s]\n"
          ]
        },
        {
          "name": "stdout",
          "output_type": "stream",
          "text": [
            "Epoch: 315/1000  Loss: 0.0000, Val Loss: 0.1010\n"
          ]
        },
        {
          "name": "stderr",
          "output_type": "stream",
          "text": [
            "Epoch 316/1000: 100%|██████████| 13/13 [00:02<00:00,  4.33batch/s]\n"
          ]
        },
        {
          "name": "stdout",
          "output_type": "stream",
          "text": [
            "Epoch: 316/1000  Loss: 0.0000, Val Loss: 0.1010\n"
          ]
        },
        {
          "name": "stderr",
          "output_type": "stream",
          "text": [
            "Epoch 317/1000: 100%|██████████| 13/13 [00:02<00:00,  4.45batch/s]\n"
          ]
        },
        {
          "name": "stdout",
          "output_type": "stream",
          "text": [
            "Epoch: 317/1000  Loss: 0.0000, Val Loss: 0.1010\n"
          ]
        },
        {
          "name": "stderr",
          "output_type": "stream",
          "text": [
            "Epoch 318/1000: 100%|██████████| 13/13 [00:02<00:00,  4.45batch/s]\n"
          ]
        },
        {
          "name": "stdout",
          "output_type": "stream",
          "text": [
            "Epoch: 318/1000  Loss: 0.0000, Val Loss: 0.1010\n"
          ]
        },
        {
          "name": "stderr",
          "output_type": "stream",
          "text": [
            "Epoch 319/1000: 100%|██████████| 13/13 [00:02<00:00,  4.40batch/s]\n"
          ]
        },
        {
          "name": "stdout",
          "output_type": "stream",
          "text": [
            "Epoch: 319/1000  Loss: 0.0000, Val Loss: 0.1010\n"
          ]
        },
        {
          "name": "stderr",
          "output_type": "stream",
          "text": [
            "Epoch 320/1000: 100%|██████████| 13/13 [00:03<00:00,  4.23batch/s]\n"
          ]
        },
        {
          "name": "stdout",
          "output_type": "stream",
          "text": [
            "Epoch: 320/1000  Loss: 0.0000, Val Loss: 0.1010\n"
          ]
        },
        {
          "name": "stderr",
          "output_type": "stream",
          "text": [
            "Epoch 321/1000: 100%|██████████| 13/13 [00:02<00:00,  4.42batch/s]\n"
          ]
        },
        {
          "name": "stdout",
          "output_type": "stream",
          "text": [
            "Epoch: 321/1000  Loss: 0.0000, Val Loss: 0.1010\n"
          ]
        },
        {
          "name": "stderr",
          "output_type": "stream",
          "text": [
            "Epoch 322/1000: 100%|██████████| 13/13 [00:02<00:00,  4.46batch/s]\n"
          ]
        },
        {
          "name": "stdout",
          "output_type": "stream",
          "text": [
            "Epoch: 322/1000  Loss: 0.0000, Val Loss: 0.1010\n"
          ]
        },
        {
          "name": "stderr",
          "output_type": "stream",
          "text": [
            "Epoch 323/1000: 100%|██████████| 13/13 [00:02<00:00,  4.48batch/s]\n"
          ]
        },
        {
          "name": "stdout",
          "output_type": "stream",
          "text": [
            "Epoch: 323/1000  Loss: 0.0000, Val Loss: 0.1010\n"
          ]
        },
        {
          "name": "stderr",
          "output_type": "stream",
          "text": [
            "Epoch 324/1000: 100%|██████████| 13/13 [00:03<00:00,  4.20batch/s]\n"
          ]
        },
        {
          "name": "stdout",
          "output_type": "stream",
          "text": [
            "Epoch: 324/1000  Loss: 0.0000, Val Loss: 0.1010\n"
          ]
        },
        {
          "name": "stderr",
          "output_type": "stream",
          "text": [
            "Epoch 325/1000: 100%|██████████| 13/13 [00:03<00:00,  4.30batch/s]\n"
          ]
        },
        {
          "name": "stdout",
          "output_type": "stream",
          "text": [
            "Epoch: 325/1000  Loss: 0.0000, Val Loss: 0.1010\n"
          ]
        },
        {
          "name": "stderr",
          "output_type": "stream",
          "text": [
            "Epoch 326/1000: 100%|██████████| 13/13 [00:02<00:00,  4.46batch/s]\n"
          ]
        },
        {
          "name": "stdout",
          "output_type": "stream",
          "text": [
            "Epoch: 326/1000  Loss: 0.0000, Val Loss: 0.1010\n"
          ]
        },
        {
          "name": "stderr",
          "output_type": "stream",
          "text": [
            "Epoch 327/1000: 100%|██████████| 13/13 [00:02<00:00,  4.46batch/s]\n"
          ]
        },
        {
          "name": "stdout",
          "output_type": "stream",
          "text": [
            "Epoch: 327/1000  Loss: 0.0000, Val Loss: 0.1010\n"
          ]
        },
        {
          "name": "stderr",
          "output_type": "stream",
          "text": [
            "Epoch 328/1000: 100%|██████████| 13/13 [00:02<00:00,  4.44batch/s]\n"
          ]
        },
        {
          "name": "stdout",
          "output_type": "stream",
          "text": [
            "Epoch: 328/1000  Loss: 0.0000, Val Loss: 0.1010\n"
          ]
        },
        {
          "name": "stderr",
          "output_type": "stream",
          "text": [
            "Epoch 329/1000: 100%|██████████| 13/13 [00:03<00:00,  4.18batch/s]\n"
          ]
        },
        {
          "name": "stdout",
          "output_type": "stream",
          "text": [
            "Epoch: 329/1000  Loss: 0.0000, Val Loss: 0.1010\n"
          ]
        },
        {
          "name": "stderr",
          "output_type": "stream",
          "text": [
            "Epoch 330/1000: 100%|██████████| 13/13 [00:02<00:00,  4.39batch/s]\n"
          ]
        },
        {
          "name": "stdout",
          "output_type": "stream",
          "text": [
            "Epoch: 330/1000  Loss: 0.0000, Val Loss: 0.1010\n"
          ]
        },
        {
          "name": "stderr",
          "output_type": "stream",
          "text": [
            "Epoch 331/1000: 100%|██████████| 13/13 [00:02<00:00,  4.49batch/s]\n"
          ]
        },
        {
          "name": "stdout",
          "output_type": "stream",
          "text": [
            "Epoch: 331/1000  Loss: 0.0000, Val Loss: 0.1010\n"
          ]
        },
        {
          "name": "stderr",
          "output_type": "stream",
          "text": [
            "Epoch 332/1000: 100%|██████████| 13/13 [00:02<00:00,  4.50batch/s]\n"
          ]
        },
        {
          "name": "stdout",
          "output_type": "stream",
          "text": [
            "Epoch: 332/1000  Loss: 0.0000, Val Loss: 0.1010\n"
          ]
        },
        {
          "name": "stderr",
          "output_type": "stream",
          "text": [
            "Epoch 333/1000: 100%|██████████| 13/13 [00:03<00:00,  4.31batch/s]\n"
          ]
        },
        {
          "name": "stdout",
          "output_type": "stream",
          "text": [
            "Epoch: 333/1000  Loss: 0.0000, Val Loss: 0.1010\n"
          ]
        },
        {
          "name": "stderr",
          "output_type": "stream",
          "text": [
            "Epoch 334/1000: 100%|██████████| 13/13 [00:03<00:00,  4.27batch/s]\n"
          ]
        },
        {
          "name": "stdout",
          "output_type": "stream",
          "text": [
            "Epoch: 334/1000  Loss: 0.0000, Val Loss: 0.1010\n"
          ]
        },
        {
          "name": "stderr",
          "output_type": "stream",
          "text": [
            "Epoch 335/1000: 100%|██████████| 13/13 [00:02<00:00,  4.50batch/s]\n"
          ]
        },
        {
          "name": "stdout",
          "output_type": "stream",
          "text": [
            "Epoch: 335/1000  Loss: 0.0000, Val Loss: 0.1010\n"
          ]
        },
        {
          "name": "stderr",
          "output_type": "stream",
          "text": [
            "Epoch 336/1000: 100%|██████████| 13/13 [00:02<00:00,  4.42batch/s]\n"
          ]
        },
        {
          "name": "stdout",
          "output_type": "stream",
          "text": [
            "Epoch: 336/1000  Loss: 0.0000, Val Loss: 0.1010\n"
          ]
        },
        {
          "name": "stderr",
          "output_type": "stream",
          "text": [
            "Epoch 337/1000: 100%|██████████| 13/13 [00:02<00:00,  4.46batch/s]\n"
          ]
        },
        {
          "name": "stdout",
          "output_type": "stream",
          "text": [
            "Epoch: 337/1000  Loss: 0.0000, Val Loss: 0.1010\n"
          ]
        },
        {
          "name": "stderr",
          "output_type": "stream",
          "text": [
            "Epoch 338/1000: 100%|██████████| 13/13 [00:03<00:00,  4.22batch/s]\n"
          ]
        },
        {
          "name": "stdout",
          "output_type": "stream",
          "text": [
            "Epoch: 338/1000  Loss: 0.0000, Val Loss: 0.1010\n"
          ]
        },
        {
          "name": "stderr",
          "output_type": "stream",
          "text": [
            "Epoch 339/1000: 100%|██████████| 13/13 [00:02<00:00,  4.37batch/s]\n"
          ]
        },
        {
          "name": "stdout",
          "output_type": "stream",
          "text": [
            "Epoch: 339/1000  Loss: 0.0000, Val Loss: 0.1010\n"
          ]
        },
        {
          "name": "stderr",
          "output_type": "stream",
          "text": [
            "Epoch 340/1000: 100%|██████████| 13/13 [00:02<00:00,  4.50batch/s]\n"
          ]
        },
        {
          "name": "stdout",
          "output_type": "stream",
          "text": [
            "Epoch: 340/1000  Loss: 0.0000, Val Loss: 0.1010\n"
          ]
        },
        {
          "name": "stderr",
          "output_type": "stream",
          "text": [
            "Epoch 341/1000: 100%|██████████| 13/13 [00:02<00:00,  4.48batch/s]\n"
          ]
        },
        {
          "name": "stdout",
          "output_type": "stream",
          "text": [
            "Epoch: 341/1000  Loss: 0.0000, Val Loss: 0.1010\n"
          ]
        },
        {
          "name": "stderr",
          "output_type": "stream",
          "text": [
            "Epoch 342/1000: 100%|██████████| 13/13 [00:03<00:00,  4.31batch/s]\n"
          ]
        },
        {
          "name": "stdout",
          "output_type": "stream",
          "text": [
            "Epoch: 342/1000  Loss: 0.0000, Val Loss: 0.1010\n"
          ]
        },
        {
          "name": "stderr",
          "output_type": "stream",
          "text": [
            "Epoch 343/1000: 100%|██████████| 13/13 [00:03<00:00,  4.29batch/s]\n"
          ]
        },
        {
          "name": "stdout",
          "output_type": "stream",
          "text": [
            "Epoch: 343/1000  Loss: 0.0000, Val Loss: 0.1010\n"
          ]
        },
        {
          "name": "stderr",
          "output_type": "stream",
          "text": [
            "Epoch 344/1000: 100%|██████████| 13/13 [00:02<00:00,  4.48batch/s]\n"
          ]
        },
        {
          "name": "stdout",
          "output_type": "stream",
          "text": [
            "Epoch: 344/1000  Loss: 0.0000, Val Loss: 0.1010\n"
          ]
        },
        {
          "name": "stderr",
          "output_type": "stream",
          "text": [
            "Epoch 345/1000: 100%|██████████| 13/13 [00:02<00:00,  4.48batch/s]\n"
          ]
        },
        {
          "name": "stdout",
          "output_type": "stream",
          "text": [
            "Epoch: 345/1000  Loss: 0.0000, Val Loss: 0.1010\n"
          ]
        },
        {
          "name": "stderr",
          "output_type": "stream",
          "text": [
            "Epoch 346/1000: 100%|██████████| 13/13 [00:02<00:00,  4.49batch/s]\n"
          ]
        },
        {
          "name": "stdout",
          "output_type": "stream",
          "text": [
            "Epoch: 346/1000  Loss: 0.0000, Val Loss: 0.1010\n"
          ]
        },
        {
          "name": "stderr",
          "output_type": "stream",
          "text": [
            "Epoch 347/1000: 100%|██████████| 13/13 [00:03<00:00,  4.20batch/s]\n"
          ]
        },
        {
          "name": "stdout",
          "output_type": "stream",
          "text": [
            "Epoch: 347/1000  Loss: 0.0000, Val Loss: 0.1010\n"
          ]
        },
        {
          "name": "stderr",
          "output_type": "stream",
          "text": [
            "Epoch 348/1000: 100%|██████████| 13/13 [00:02<00:00,  4.36batch/s]\n"
          ]
        },
        {
          "name": "stdout",
          "output_type": "stream",
          "text": [
            "Epoch: 348/1000  Loss: 0.0000, Val Loss: 0.1010\n"
          ]
        },
        {
          "name": "stderr",
          "output_type": "stream",
          "text": [
            "Epoch 349/1000: 100%|██████████| 13/13 [00:02<00:00,  4.50batch/s]\n"
          ]
        },
        {
          "name": "stdout",
          "output_type": "stream",
          "text": [
            "Epoch: 349/1000  Loss: 0.0000, Val Loss: 0.1010\n"
          ]
        },
        {
          "name": "stderr",
          "output_type": "stream",
          "text": [
            "Epoch 350/1000: 100%|██████████| 13/13 [00:02<00:00,  4.47batch/s]\n"
          ]
        },
        {
          "name": "stdout",
          "output_type": "stream",
          "text": [
            "Epoch: 350/1000  Loss: 0.0000, Val Loss: 0.1010\n"
          ]
        },
        {
          "name": "stderr",
          "output_type": "stream",
          "text": [
            "Epoch 351/1000: 100%|██████████| 13/13 [00:02<00:00,  4.42batch/s]\n"
          ]
        },
        {
          "name": "stdout",
          "output_type": "stream",
          "text": [
            "Epoch: 351/1000  Loss: 0.0000, Val Loss: 0.1010\n"
          ]
        },
        {
          "name": "stderr",
          "output_type": "stream",
          "text": [
            "Epoch 352/1000: 100%|██████████| 13/13 [00:03<00:00,  4.15batch/s]\n"
          ]
        },
        {
          "name": "stdout",
          "output_type": "stream",
          "text": [
            "Epoch: 352/1000  Loss: 0.0000, Val Loss: 0.1010\n"
          ]
        },
        {
          "name": "stderr",
          "output_type": "stream",
          "text": [
            "Epoch 353/1000: 100%|██████████| 13/13 [00:02<00:00,  4.46batch/s]\n"
          ]
        },
        {
          "name": "stdout",
          "output_type": "stream",
          "text": [
            "Epoch: 353/1000  Loss: 0.0000, Val Loss: 0.1010\n"
          ]
        },
        {
          "name": "stderr",
          "output_type": "stream",
          "text": [
            "Epoch 354/1000: 100%|██████████| 13/13 [00:02<00:00,  4.46batch/s]\n"
          ]
        },
        {
          "name": "stdout",
          "output_type": "stream",
          "text": [
            "Epoch: 354/1000  Loss: 0.0000, Val Loss: 0.1010\n"
          ]
        },
        {
          "name": "stderr",
          "output_type": "stream",
          "text": [
            "Epoch 355/1000: 100%|██████████| 13/13 [00:02<00:00,  4.51batch/s]\n"
          ]
        },
        {
          "name": "stdout",
          "output_type": "stream",
          "text": [
            "Epoch: 355/1000  Loss: 0.0000, Val Loss: 0.1010\n"
          ]
        },
        {
          "name": "stderr",
          "output_type": "stream",
          "text": [
            "Epoch 356/1000: 100%|██████████| 13/13 [00:03<00:00,  4.27batch/s]\n"
          ]
        },
        {
          "name": "stdout",
          "output_type": "stream",
          "text": [
            "Epoch: 356/1000  Loss: 0.0000, Val Loss: 0.1010\n"
          ]
        },
        {
          "name": "stderr",
          "output_type": "stream",
          "text": [
            "Epoch 357/1000: 100%|██████████| 13/13 [00:02<00:00,  4.35batch/s]\n"
          ]
        },
        {
          "name": "stdout",
          "output_type": "stream",
          "text": [
            "Epoch: 357/1000  Loss: 0.0000, Val Loss: 0.1010\n"
          ]
        },
        {
          "name": "stderr",
          "output_type": "stream",
          "text": [
            "Epoch 358/1000: 100%|██████████| 13/13 [00:02<00:00,  4.43batch/s]\n"
          ]
        },
        {
          "name": "stdout",
          "output_type": "stream",
          "text": [
            "Epoch: 358/1000  Loss: 0.0000, Val Loss: 0.1010\n"
          ]
        },
        {
          "name": "stderr",
          "output_type": "stream",
          "text": [
            "Epoch 359/1000: 100%|██████████| 13/13 [00:02<00:00,  4.48batch/s]\n"
          ]
        },
        {
          "name": "stdout",
          "output_type": "stream",
          "text": [
            "Epoch: 359/1000  Loss: 0.0000, Val Loss: 0.1010\n"
          ]
        },
        {
          "name": "stderr",
          "output_type": "stream",
          "text": [
            "Epoch 360/1000: 100%|██████████| 13/13 [00:02<00:00,  4.38batch/s]\n"
          ]
        },
        {
          "name": "stdout",
          "output_type": "stream",
          "text": [
            "Epoch: 360/1000  Loss: 0.0000, Val Loss: 0.1010\n"
          ]
        },
        {
          "name": "stderr",
          "output_type": "stream",
          "text": [
            "Epoch 361/1000: 100%|██████████| 13/13 [00:03<00:00,  4.22batch/s]\n"
          ]
        },
        {
          "name": "stdout",
          "output_type": "stream",
          "text": [
            "Epoch: 361/1000  Loss: 0.0000, Val Loss: 0.1010\n"
          ]
        },
        {
          "name": "stderr",
          "output_type": "stream",
          "text": [
            "Epoch 362/1000: 100%|██████████| 13/13 [00:02<00:00,  4.48batch/s]\n"
          ]
        },
        {
          "name": "stdout",
          "output_type": "stream",
          "text": [
            "Epoch: 362/1000  Loss: 0.0000, Val Loss: 0.1010\n"
          ]
        },
        {
          "name": "stderr",
          "output_type": "stream",
          "text": [
            "Epoch 363/1000: 100%|██████████| 13/13 [00:02<00:00,  4.46batch/s]\n"
          ]
        },
        {
          "name": "stdout",
          "output_type": "stream",
          "text": [
            "Epoch: 363/1000  Loss: 0.0000, Val Loss: 0.1010\n"
          ]
        },
        {
          "name": "stderr",
          "output_type": "stream",
          "text": [
            "Epoch 364/1000: 100%|██████████| 13/13 [00:02<00:00,  4.47batch/s]\n"
          ]
        },
        {
          "name": "stdout",
          "output_type": "stream",
          "text": [
            "Epoch: 364/1000  Loss: 0.0000, Val Loss: 0.1010\n"
          ]
        },
        {
          "name": "stderr",
          "output_type": "stream",
          "text": [
            "Epoch 365/1000: 100%|██████████| 13/13 [00:03<00:00,  4.30batch/s]\n"
          ]
        },
        {
          "name": "stdout",
          "output_type": "stream",
          "text": [
            "Epoch: 365/1000  Loss: 0.0000, Val Loss: 0.1010\n"
          ]
        },
        {
          "name": "stderr",
          "output_type": "stream",
          "text": [
            "Epoch 366/1000: 100%|██████████| 13/13 [00:03<00:00,  4.31batch/s]\n"
          ]
        },
        {
          "name": "stdout",
          "output_type": "stream",
          "text": [
            "Epoch: 366/1000  Loss: 0.0000, Val Loss: 0.1010\n"
          ]
        },
        {
          "name": "stderr",
          "output_type": "stream",
          "text": [
            "Epoch 367/1000: 100%|██████████| 13/13 [00:02<00:00,  4.46batch/s]\n"
          ]
        },
        {
          "name": "stdout",
          "output_type": "stream",
          "text": [
            "Epoch: 367/1000  Loss: 0.0000, Val Loss: 0.1010\n"
          ]
        },
        {
          "name": "stderr",
          "output_type": "stream",
          "text": [
            "Epoch 368/1000: 100%|██████████| 13/13 [00:02<00:00,  4.47batch/s]\n"
          ]
        },
        {
          "name": "stdout",
          "output_type": "stream",
          "text": [
            "Epoch: 368/1000  Loss: 0.0000, Val Loss: 0.1010\n"
          ]
        },
        {
          "name": "stderr",
          "output_type": "stream",
          "text": [
            "Epoch 369/1000: 100%|██████████| 13/13 [00:02<00:00,  4.39batch/s]\n"
          ]
        },
        {
          "name": "stdout",
          "output_type": "stream",
          "text": [
            "Epoch: 369/1000  Loss: 0.0000, Val Loss: 0.1010\n"
          ]
        },
        {
          "name": "stderr",
          "output_type": "stream",
          "text": [
            "Epoch 370/1000: 100%|██████████| 13/13 [00:03<00:00,  4.21batch/s]\n"
          ]
        },
        {
          "name": "stdout",
          "output_type": "stream",
          "text": [
            "Epoch: 370/1000  Loss: 0.0000, Val Loss: 0.1010\n"
          ]
        },
        {
          "name": "stderr",
          "output_type": "stream",
          "text": [
            "Epoch 371/1000: 100%|██████████| 13/13 [00:02<00:00,  4.42batch/s]\n"
          ]
        },
        {
          "name": "stdout",
          "output_type": "stream",
          "text": [
            "Epoch: 371/1000  Loss: 0.0000, Val Loss: 0.1010\n"
          ]
        },
        {
          "name": "stderr",
          "output_type": "stream",
          "text": [
            "Epoch 372/1000: 100%|██████████| 13/13 [00:02<00:00,  4.50batch/s]\n"
          ]
        },
        {
          "name": "stdout",
          "output_type": "stream",
          "text": [
            "Epoch: 372/1000  Loss: 0.0000, Val Loss: 0.1010\n"
          ]
        },
        {
          "name": "stderr",
          "output_type": "stream",
          "text": [
            "Epoch 373/1000: 100%|██████████| 13/13 [00:02<00:00,  4.46batch/s]\n"
          ]
        },
        {
          "name": "stdout",
          "output_type": "stream",
          "text": [
            "Epoch: 373/1000  Loss: 0.0000, Val Loss: 0.1010\n"
          ]
        },
        {
          "name": "stderr",
          "output_type": "stream",
          "text": [
            "Epoch 374/1000: 100%|██████████| 13/13 [00:03<00:00,  4.21batch/s]\n"
          ]
        },
        {
          "name": "stdout",
          "output_type": "stream",
          "text": [
            "Epoch: 374/1000  Loss: 0.0000, Val Loss: 0.1010\n"
          ]
        },
        {
          "name": "stderr",
          "output_type": "stream",
          "text": [
            "Epoch 375/1000: 100%|██████████| 13/13 [00:03<00:00,  4.27batch/s]\n"
          ]
        },
        {
          "name": "stdout",
          "output_type": "stream",
          "text": [
            "Epoch: 375/1000  Loss: 0.0000, Val Loss: 0.1010\n"
          ]
        },
        {
          "name": "stderr",
          "output_type": "stream",
          "text": [
            "Epoch 376/1000: 100%|██████████| 13/13 [00:02<00:00,  4.47batch/s]\n"
          ]
        },
        {
          "name": "stdout",
          "output_type": "stream",
          "text": [
            "Epoch: 376/1000  Loss: 0.0000, Val Loss: 0.1010\n"
          ]
        },
        {
          "name": "stderr",
          "output_type": "stream",
          "text": [
            "Epoch 377/1000: 100%|██████████| 13/13 [00:02<00:00,  4.47batch/s]\n"
          ]
        },
        {
          "name": "stdout",
          "output_type": "stream",
          "text": [
            "Epoch: 377/1000  Loss: 0.0000, Val Loss: 0.1010\n"
          ]
        },
        {
          "name": "stderr",
          "output_type": "stream",
          "text": [
            "Epoch 378/1000: 100%|██████████| 13/13 [00:02<00:00,  4.43batch/s]\n"
          ]
        },
        {
          "name": "stdout",
          "output_type": "stream",
          "text": [
            "Epoch: 378/1000  Loss: 0.0000, Val Loss: 0.1010\n"
          ]
        },
        {
          "name": "stderr",
          "output_type": "stream",
          "text": [
            "Epoch 379/1000: 100%|██████████| 13/13 [00:03<00:00,  4.22batch/s]\n"
          ]
        },
        {
          "name": "stdout",
          "output_type": "stream",
          "text": [
            "Epoch: 379/1000  Loss: 0.0000, Val Loss: 0.1010\n"
          ]
        },
        {
          "name": "stderr",
          "output_type": "stream",
          "text": [
            "Epoch 380/1000: 100%|██████████| 13/13 [00:02<00:00,  4.42batch/s]\n"
          ]
        },
        {
          "name": "stdout",
          "output_type": "stream",
          "text": [
            "Epoch: 380/1000  Loss: 0.0000, Val Loss: 0.1010\n"
          ]
        },
        {
          "name": "stderr",
          "output_type": "stream",
          "text": [
            "Epoch 381/1000: 100%|██████████| 13/13 [00:02<00:00,  4.47batch/s]\n"
          ]
        },
        {
          "name": "stdout",
          "output_type": "stream",
          "text": [
            "Epoch: 381/1000  Loss: 0.0000, Val Loss: 0.1010\n"
          ]
        },
        {
          "name": "stderr",
          "output_type": "stream",
          "text": [
            "Epoch 382/1000: 100%|██████████| 13/13 [00:02<00:00,  4.48batch/s]\n"
          ]
        },
        {
          "name": "stdout",
          "output_type": "stream",
          "text": [
            "Epoch: 382/1000  Loss: 0.0000, Val Loss: 0.1010\n"
          ]
        },
        {
          "name": "stderr",
          "output_type": "stream",
          "text": [
            "Epoch 383/1000: 100%|██████████| 13/13 [00:03<00:00,  4.31batch/s]\n"
          ]
        },
        {
          "name": "stdout",
          "output_type": "stream",
          "text": [
            "Epoch: 383/1000  Loss: 0.0000, Val Loss: 0.1010\n"
          ]
        },
        {
          "name": "stderr",
          "output_type": "stream",
          "text": [
            "Epoch 384/1000: 100%|██████████| 13/13 [00:03<00:00,  4.30batch/s]\n"
          ]
        },
        {
          "name": "stdout",
          "output_type": "stream",
          "text": [
            "Epoch: 384/1000  Loss: 0.0000, Val Loss: 0.1010\n"
          ]
        },
        {
          "name": "stderr",
          "output_type": "stream",
          "text": [
            "Epoch 385/1000: 100%|██████████| 13/13 [00:02<00:00,  4.46batch/s]\n"
          ]
        },
        {
          "name": "stdout",
          "output_type": "stream",
          "text": [
            "Epoch: 385/1000  Loss: 0.0000, Val Loss: 0.1010\n"
          ]
        },
        {
          "name": "stderr",
          "output_type": "stream",
          "text": [
            "Epoch 386/1000: 100%|██████████| 13/13 [00:02<00:00,  4.47batch/s]\n"
          ]
        },
        {
          "name": "stdout",
          "output_type": "stream",
          "text": [
            "Epoch: 386/1000  Loss: 0.0000, Val Loss: 0.1010\n"
          ]
        },
        {
          "name": "stderr",
          "output_type": "stream",
          "text": [
            "Epoch 387/1000: 100%|██████████| 13/13 [00:02<00:00,  4.42batch/s]\n"
          ]
        },
        {
          "name": "stdout",
          "output_type": "stream",
          "text": [
            "Epoch: 387/1000  Loss: 0.0000, Val Loss: 0.1010\n"
          ]
        },
        {
          "name": "stderr",
          "output_type": "stream",
          "text": [
            "Epoch 388/1000: 100%|██████████| 13/13 [00:03<00:00,  4.13batch/s]\n"
          ]
        },
        {
          "name": "stdout",
          "output_type": "stream",
          "text": [
            "Epoch: 388/1000  Loss: 0.0000, Val Loss: 0.1010\n"
          ]
        },
        {
          "name": "stderr",
          "output_type": "stream",
          "text": [
            "Epoch 389/1000: 100%|██████████| 13/13 [00:02<00:00,  4.43batch/s]\n"
          ]
        },
        {
          "name": "stdout",
          "output_type": "stream",
          "text": [
            "Epoch: 389/1000  Loss: 0.0000, Val Loss: 0.1010\n"
          ]
        },
        {
          "name": "stderr",
          "output_type": "stream",
          "text": [
            "Epoch 390/1000: 100%|██████████| 13/13 [00:02<00:00,  4.48batch/s]\n"
          ]
        },
        {
          "name": "stdout",
          "output_type": "stream",
          "text": [
            "Epoch: 390/1000  Loss: 0.0000, Val Loss: 0.0960\n"
          ]
        },
        {
          "name": "stderr",
          "output_type": "stream",
          "text": [
            "Epoch 391/1000: 100%|██████████| 13/13 [00:02<00:00,  4.44batch/s]\n"
          ]
        },
        {
          "name": "stdout",
          "output_type": "stream",
          "text": [
            "Epoch: 391/1000  Loss: 0.0000, Val Loss: 0.0960\n"
          ]
        },
        {
          "name": "stderr",
          "output_type": "stream",
          "text": [
            "Epoch 392/1000: 100%|██████████| 13/13 [00:03<00:00,  4.31batch/s]\n"
          ]
        },
        {
          "name": "stdout",
          "output_type": "stream",
          "text": [
            "Epoch: 392/1000  Loss: 0.0000, Val Loss: 0.0960\n"
          ]
        },
        {
          "name": "stderr",
          "output_type": "stream",
          "text": [
            "Epoch 393/1000: 100%|██████████| 13/13 [00:03<00:00,  4.21batch/s]\n"
          ]
        },
        {
          "name": "stdout",
          "output_type": "stream",
          "text": [
            "Epoch: 393/1000  Loss: 0.0000, Val Loss: 0.0960\n"
          ]
        },
        {
          "name": "stderr",
          "output_type": "stream",
          "text": [
            "Epoch 394/1000: 100%|██████████| 13/13 [00:02<00:00,  4.46batch/s]\n"
          ]
        },
        {
          "name": "stdout",
          "output_type": "stream",
          "text": [
            "Epoch: 394/1000  Loss: 0.0000, Val Loss: 0.0960\n"
          ]
        },
        {
          "name": "stderr",
          "output_type": "stream",
          "text": [
            "Epoch 395/1000: 100%|██████████| 13/13 [00:02<00:00,  4.45batch/s]\n"
          ]
        },
        {
          "name": "stdout",
          "output_type": "stream",
          "text": [
            "Epoch: 395/1000  Loss: 0.0000, Val Loss: 0.0960\n"
          ]
        },
        {
          "name": "stderr",
          "output_type": "stream",
          "text": [
            "Epoch 396/1000: 100%|██████████| 13/13 [00:02<00:00,  4.47batch/s]\n"
          ]
        },
        {
          "name": "stdout",
          "output_type": "stream",
          "text": [
            "Epoch: 396/1000  Loss: 0.0000, Val Loss: 0.0960\n"
          ]
        },
        {
          "name": "stderr",
          "output_type": "stream",
          "text": [
            "Epoch 397/1000: 100%|██████████| 13/13 [00:03<00:00,  4.24batch/s]\n"
          ]
        },
        {
          "name": "stdout",
          "output_type": "stream",
          "text": [
            "Epoch: 397/1000  Loss: 0.0000, Val Loss: 0.0960\n"
          ]
        },
        {
          "name": "stderr",
          "output_type": "stream",
          "text": [
            "Epoch 398/1000: 100%|██████████| 13/13 [00:02<00:00,  4.38batch/s]\n"
          ]
        },
        {
          "name": "stdout",
          "output_type": "stream",
          "text": [
            "Epoch: 398/1000  Loss: 0.0000, Val Loss: 0.0960\n"
          ]
        },
        {
          "name": "stderr",
          "output_type": "stream",
          "text": [
            "Epoch 399/1000: 100%|██████████| 13/13 [00:02<00:00,  4.50batch/s]\n"
          ]
        },
        {
          "name": "stdout",
          "output_type": "stream",
          "text": [
            "Epoch: 399/1000  Loss: 0.0000, Val Loss: 0.0960\n"
          ]
        },
        {
          "name": "stderr",
          "output_type": "stream",
          "text": [
            "Epoch 400/1000: 100%|██████████| 13/13 [00:02<00:00,  4.46batch/s]\n"
          ]
        },
        {
          "name": "stdout",
          "output_type": "stream",
          "text": [
            "Epoch: 400/1000  Loss: 0.0000, Val Loss: 0.0960\n"
          ]
        },
        {
          "name": "stderr",
          "output_type": "stream",
          "text": [
            "Epoch 401/1000: 100%|██████████| 13/13 [00:03<00:00,  4.33batch/s]\n"
          ]
        },
        {
          "name": "stdout",
          "output_type": "stream",
          "text": [
            "Epoch: 401/1000  Loss: 0.0000, Val Loss: 0.0960\n"
          ]
        },
        {
          "name": "stderr",
          "output_type": "stream",
          "text": [
            "Epoch 402/1000: 100%|██████████| 13/13 [00:03<00:00,  4.21batch/s]\n"
          ]
        },
        {
          "name": "stdout",
          "output_type": "stream",
          "text": [
            "Epoch: 402/1000  Loss: 0.0000, Val Loss: 0.0960\n"
          ]
        },
        {
          "name": "stderr",
          "output_type": "stream",
          "text": [
            "Epoch 403/1000: 100%|██████████| 13/13 [00:02<00:00,  4.46batch/s]\n"
          ]
        },
        {
          "name": "stdout",
          "output_type": "stream",
          "text": [
            "Epoch: 403/1000  Loss: 0.0000, Val Loss: 0.0960\n"
          ]
        },
        {
          "name": "stderr",
          "output_type": "stream",
          "text": [
            "Epoch 404/1000: 100%|██████████| 13/13 [00:02<00:00,  4.44batch/s]\n"
          ]
        },
        {
          "name": "stdout",
          "output_type": "stream",
          "text": [
            "Epoch: 404/1000  Loss: 0.0000, Val Loss: 0.0960\n"
          ]
        },
        {
          "name": "stderr",
          "output_type": "stream",
          "text": [
            "Epoch 405/1000: 100%|██████████| 13/13 [00:02<00:00,  4.49batch/s]\n"
          ]
        },
        {
          "name": "stdout",
          "output_type": "stream",
          "text": [
            "Epoch: 405/1000  Loss: 0.0000, Val Loss: 0.0960\n"
          ]
        },
        {
          "name": "stderr",
          "output_type": "stream",
          "text": [
            "Epoch 406/1000: 100%|██████████| 13/13 [00:03<00:00,  4.21batch/s]\n"
          ]
        },
        {
          "name": "stdout",
          "output_type": "stream",
          "text": [
            "Epoch: 406/1000  Loss: 0.0000, Val Loss: 0.0960\n"
          ]
        },
        {
          "name": "stderr",
          "output_type": "stream",
          "text": [
            "Epoch 407/1000: 100%|██████████| 13/13 [00:02<00:00,  4.38batch/s]\n"
          ]
        },
        {
          "name": "stdout",
          "output_type": "stream",
          "text": [
            "Epoch: 407/1000  Loss: 0.0000, Val Loss: 0.0960\n"
          ]
        },
        {
          "name": "stderr",
          "output_type": "stream",
          "text": [
            "Epoch 408/1000: 100%|██████████| 13/13 [00:02<00:00,  4.47batch/s]\n"
          ]
        },
        {
          "name": "stdout",
          "output_type": "stream",
          "text": [
            "Epoch: 408/1000  Loss: 0.0000, Val Loss: 0.0960\n"
          ]
        },
        {
          "name": "stderr",
          "output_type": "stream",
          "text": [
            "Epoch 409/1000: 100%|██████████| 13/13 [00:02<00:00,  4.48batch/s]\n"
          ]
        },
        {
          "name": "stdout",
          "output_type": "stream",
          "text": [
            "Epoch: 409/1000  Loss: 0.0000, Val Loss: 0.0960\n"
          ]
        },
        {
          "name": "stderr",
          "output_type": "stream",
          "text": [
            "Epoch 410/1000: 100%|██████████| 13/13 [00:03<00:00,  4.31batch/s]\n"
          ]
        },
        {
          "name": "stdout",
          "output_type": "stream",
          "text": [
            "Epoch: 410/1000  Loss: 0.0000, Val Loss: 0.0960\n"
          ]
        },
        {
          "name": "stderr",
          "output_type": "stream",
          "text": [
            "Epoch 411/1000: 100%|██████████| 13/13 [00:03<00:00,  4.23batch/s]\n"
          ]
        },
        {
          "name": "stdout",
          "output_type": "stream",
          "text": [
            "Epoch: 411/1000  Loss: 0.0000, Val Loss: 0.0960\n"
          ]
        },
        {
          "name": "stderr",
          "output_type": "stream",
          "text": [
            "Epoch 412/1000: 100%|██████████| 13/13 [00:02<00:00,  4.43batch/s]\n"
          ]
        },
        {
          "name": "stdout",
          "output_type": "stream",
          "text": [
            "Epoch: 412/1000  Loss: 0.0000, Val Loss: 0.0960\n"
          ]
        },
        {
          "name": "stderr",
          "output_type": "stream",
          "text": [
            "Epoch 413/1000: 100%|██████████| 13/13 [00:02<00:00,  4.43batch/s]\n"
          ]
        },
        {
          "name": "stdout",
          "output_type": "stream",
          "text": [
            "Epoch: 413/1000  Loss: 0.0000, Val Loss: 0.0960\n"
          ]
        },
        {
          "name": "stderr",
          "output_type": "stream",
          "text": [
            "Epoch 414/1000: 100%|██████████| 13/13 [00:02<00:00,  4.46batch/s]\n"
          ]
        },
        {
          "name": "stdout",
          "output_type": "stream",
          "text": [
            "Epoch: 414/1000  Loss: 0.0000, Val Loss: 0.0960\n"
          ]
        },
        {
          "name": "stderr",
          "output_type": "stream",
          "text": [
            "Epoch 415/1000: 100%|██████████| 13/13 [00:03<00:00,  4.19batch/s]\n"
          ]
        },
        {
          "name": "stdout",
          "output_type": "stream",
          "text": [
            "Epoch: 415/1000  Loss: 0.0000, Val Loss: 0.0960\n"
          ]
        },
        {
          "name": "stderr",
          "output_type": "stream",
          "text": [
            "Epoch 416/1000: 100%|██████████| 13/13 [00:02<00:00,  4.34batch/s]\n"
          ]
        },
        {
          "name": "stdout",
          "output_type": "stream",
          "text": [
            "Epoch: 416/1000  Loss: 0.0000, Val Loss: 0.0960\n"
          ]
        },
        {
          "name": "stderr",
          "output_type": "stream",
          "text": [
            "Epoch 417/1000: 100%|██████████| 13/13 [00:02<00:00,  4.46batch/s]\n"
          ]
        },
        {
          "name": "stdout",
          "output_type": "stream",
          "text": [
            "Epoch: 417/1000  Loss: 0.0000, Val Loss: 0.0960\n"
          ]
        },
        {
          "name": "stderr",
          "output_type": "stream",
          "text": [
            "Epoch 418/1000: 100%|██████████| 13/13 [00:02<00:00,  4.48batch/s]\n"
          ]
        },
        {
          "name": "stdout",
          "output_type": "stream",
          "text": [
            "Epoch: 418/1000  Loss: 0.0000, Val Loss: 0.0960\n"
          ]
        },
        {
          "name": "stderr",
          "output_type": "stream",
          "text": [
            "Epoch 419/1000: 100%|██████████| 13/13 [00:03<00:00,  4.31batch/s]\n"
          ]
        },
        {
          "name": "stdout",
          "output_type": "stream",
          "text": [
            "Epoch: 419/1000  Loss: 0.0000, Val Loss: 0.0960\n"
          ]
        },
        {
          "name": "stderr",
          "output_type": "stream",
          "text": [
            "Epoch 420/1000: 100%|██████████| 13/13 [00:03<00:00,  4.16batch/s]\n"
          ]
        },
        {
          "name": "stdout",
          "output_type": "stream",
          "text": [
            "Epoch: 420/1000  Loss: 0.0000, Val Loss: 0.0960\n"
          ]
        },
        {
          "name": "stderr",
          "output_type": "stream",
          "text": [
            "Epoch 421/1000: 100%|██████████| 13/13 [00:02<00:00,  4.45batch/s]\n"
          ]
        },
        {
          "name": "stdout",
          "output_type": "stream",
          "text": [
            "Epoch: 421/1000  Loss: 0.0000, Val Loss: 0.0960\n"
          ]
        },
        {
          "name": "stderr",
          "output_type": "stream",
          "text": [
            "Epoch 422/1000: 100%|██████████| 13/13 [00:02<00:00,  4.44batch/s]\n"
          ]
        },
        {
          "name": "stdout",
          "output_type": "stream",
          "text": [
            "Epoch: 422/1000  Loss: 0.0000, Val Loss: 0.0960\n"
          ]
        },
        {
          "name": "stderr",
          "output_type": "stream",
          "text": [
            "Epoch 423/1000: 100%|██████████| 13/13 [00:02<00:00,  4.45batch/s]\n"
          ]
        },
        {
          "name": "stdout",
          "output_type": "stream",
          "text": [
            "Epoch: 423/1000  Loss: 0.0000, Val Loss: 0.0960\n"
          ]
        },
        {
          "name": "stderr",
          "output_type": "stream",
          "text": [
            "Epoch 424/1000: 100%|██████████| 13/13 [00:03<00:00,  4.22batch/s]\n"
          ]
        },
        {
          "name": "stdout",
          "output_type": "stream",
          "text": [
            "Epoch: 424/1000  Loss: 0.0000, Val Loss: 0.0960\n"
          ]
        },
        {
          "name": "stderr",
          "output_type": "stream",
          "text": [
            "Epoch 425/1000: 100%|██████████| 13/13 [00:03<00:00,  4.28batch/s]\n"
          ]
        },
        {
          "name": "stdout",
          "output_type": "stream",
          "text": [
            "Epoch: 425/1000  Loss: 0.0000, Val Loss: 0.0960\n"
          ]
        },
        {
          "name": "stderr",
          "output_type": "stream",
          "text": [
            "Epoch 426/1000: 100%|██████████| 13/13 [00:02<00:00,  4.48batch/s]\n"
          ]
        },
        {
          "name": "stdout",
          "output_type": "stream",
          "text": [
            "Epoch: 426/1000  Loss: 0.0000, Val Loss: 0.0960\n"
          ]
        },
        {
          "name": "stderr",
          "output_type": "stream",
          "text": [
            "Epoch 427/1000: 100%|██████████| 13/13 [00:02<00:00,  4.48batch/s]\n"
          ]
        },
        {
          "name": "stdout",
          "output_type": "stream",
          "text": [
            "Epoch: 427/1000  Loss: 0.0000, Val Loss: 0.0960\n"
          ]
        },
        {
          "name": "stderr",
          "output_type": "stream",
          "text": [
            "Epoch 428/1000: 100%|██████████| 13/13 [00:02<00:00,  4.37batch/s]\n"
          ]
        },
        {
          "name": "stdout",
          "output_type": "stream",
          "text": [
            "Epoch: 428/1000  Loss: 0.0000, Val Loss: 0.0960\n"
          ]
        },
        {
          "name": "stderr",
          "output_type": "stream",
          "text": [
            "Epoch 429/1000: 100%|██████████| 13/13 [00:03<00:00,  4.18batch/s]\n"
          ]
        },
        {
          "name": "stdout",
          "output_type": "stream",
          "text": [
            "Epoch: 429/1000  Loss: 0.0000, Val Loss: 0.0960\n"
          ]
        },
        {
          "name": "stderr",
          "output_type": "stream",
          "text": [
            "Epoch 430/1000: 100%|██████████| 13/13 [00:02<00:00,  4.45batch/s]\n"
          ]
        },
        {
          "name": "stdout",
          "output_type": "stream",
          "text": [
            "Epoch: 430/1000  Loss: 0.0000, Val Loss: 0.0960\n"
          ]
        },
        {
          "name": "stderr",
          "output_type": "stream",
          "text": [
            "Epoch 431/1000: 100%|██████████| 13/13 [00:02<00:00,  4.48batch/s]\n"
          ]
        },
        {
          "name": "stdout",
          "output_type": "stream",
          "text": [
            "Epoch: 431/1000  Loss: 0.0000, Val Loss: 0.0960\n"
          ]
        },
        {
          "name": "stderr",
          "output_type": "stream",
          "text": [
            "Epoch 432/1000: 100%|██████████| 13/13 [00:02<00:00,  4.46batch/s]\n"
          ]
        },
        {
          "name": "stdout",
          "output_type": "stream",
          "text": [
            "Epoch: 432/1000  Loss: 0.0000, Val Loss: 0.0960\n"
          ]
        },
        {
          "name": "stderr",
          "output_type": "stream",
          "text": [
            "Epoch 433/1000: 100%|██████████| 13/13 [00:03<00:00,  4.26batch/s]\n"
          ]
        },
        {
          "name": "stdout",
          "output_type": "stream",
          "text": [
            "Epoch: 433/1000  Loss: 0.0000, Val Loss: 0.0960\n"
          ]
        },
        {
          "name": "stderr",
          "output_type": "stream",
          "text": [
            "Epoch 434/1000: 100%|██████████| 13/13 [00:03<00:00,  4.28batch/s]\n"
          ]
        },
        {
          "name": "stdout",
          "output_type": "stream",
          "text": [
            "Epoch: 434/1000  Loss: 0.0000, Val Loss: 0.0960\n"
          ]
        },
        {
          "name": "stderr",
          "output_type": "stream",
          "text": [
            "Epoch 435/1000: 100%|██████████| 13/13 [00:02<00:00,  4.48batch/s]\n"
          ]
        },
        {
          "name": "stdout",
          "output_type": "stream",
          "text": [
            "Epoch: 435/1000  Loss: 0.0000, Val Loss: 0.0960\n"
          ]
        },
        {
          "name": "stderr",
          "output_type": "stream",
          "text": [
            "Epoch 436/1000: 100%|██████████| 13/13 [00:02<00:00,  4.48batch/s]\n"
          ]
        },
        {
          "name": "stdout",
          "output_type": "stream",
          "text": [
            "Epoch: 436/1000  Loss: 0.0000, Val Loss: 0.0960\n"
          ]
        },
        {
          "name": "stderr",
          "output_type": "stream",
          "text": [
            "Epoch 437/1000: 100%|██████████| 13/13 [00:02<00:00,  4.41batch/s]\n"
          ]
        },
        {
          "name": "stdout",
          "output_type": "stream",
          "text": [
            "Epoch: 437/1000  Loss: 0.0000, Val Loss: 0.0960\n"
          ]
        },
        {
          "name": "stderr",
          "output_type": "stream",
          "text": [
            "Epoch 438/1000: 100%|██████████| 13/13 [00:03<00:00,  4.22batch/s]\n"
          ]
        },
        {
          "name": "stdout",
          "output_type": "stream",
          "text": [
            "Epoch: 438/1000  Loss: 0.0000, Val Loss: 0.0960\n"
          ]
        },
        {
          "name": "stderr",
          "output_type": "stream",
          "text": [
            "Epoch 439/1000: 100%|██████████| 13/13 [00:02<00:00,  4.42batch/s]\n"
          ]
        },
        {
          "name": "stdout",
          "output_type": "stream",
          "text": [
            "Epoch: 439/1000  Loss: 0.0000, Val Loss: 0.0960\n"
          ]
        },
        {
          "name": "stderr",
          "output_type": "stream",
          "text": [
            "Epoch 440/1000: 100%|██████████| 13/13 [00:02<00:00,  4.48batch/s]\n"
          ]
        },
        {
          "name": "stdout",
          "output_type": "stream",
          "text": [
            "Epoch: 440/1000  Loss: 0.0000, Val Loss: 0.0960\n"
          ]
        },
        {
          "name": "stderr",
          "output_type": "stream",
          "text": [
            "Epoch 441/1000: 100%|██████████| 13/13 [00:02<00:00,  4.42batch/s]\n"
          ]
        },
        {
          "name": "stdout",
          "output_type": "stream",
          "text": [
            "Epoch: 441/1000  Loss: 0.0000, Val Loss: 0.0960\n"
          ]
        },
        {
          "name": "stderr",
          "output_type": "stream",
          "text": [
            "Epoch 442/1000: 100%|██████████| 13/13 [00:03<00:00,  4.26batch/s]\n"
          ]
        },
        {
          "name": "stdout",
          "output_type": "stream",
          "text": [
            "Epoch: 442/1000  Loss: 0.0000, Val Loss: 0.0960\n"
          ]
        },
        {
          "name": "stderr",
          "output_type": "stream",
          "text": [
            "Epoch 443/1000: 100%|██████████| 13/13 [00:03<00:00,  4.23batch/s]\n"
          ]
        },
        {
          "name": "stdout",
          "output_type": "stream",
          "text": [
            "Epoch: 443/1000  Loss: 0.0000, Val Loss: 0.0960\n"
          ]
        },
        {
          "name": "stderr",
          "output_type": "stream",
          "text": [
            "Epoch 444/1000: 100%|██████████| 13/13 [00:02<00:00,  4.41batch/s]\n"
          ]
        },
        {
          "name": "stdout",
          "output_type": "stream",
          "text": [
            "Epoch: 444/1000  Loss: 0.0000, Val Loss: 0.0960\n"
          ]
        },
        {
          "name": "stderr",
          "output_type": "stream",
          "text": [
            "Epoch 445/1000: 100%|██████████| 13/13 [00:02<00:00,  4.47batch/s]\n"
          ]
        },
        {
          "name": "stdout",
          "output_type": "stream",
          "text": [
            "Epoch: 445/1000  Loss: 0.0000, Val Loss: 0.0960\n"
          ]
        },
        {
          "name": "stderr",
          "output_type": "stream",
          "text": [
            "Epoch 446/1000: 100%|██████████| 13/13 [00:02<00:00,  4.39batch/s]\n"
          ]
        },
        {
          "name": "stdout",
          "output_type": "stream",
          "text": [
            "Epoch: 446/1000  Loss: 0.0000, Val Loss: 0.0960\n"
          ]
        },
        {
          "name": "stderr",
          "output_type": "stream",
          "text": [
            "Epoch 447/1000: 100%|██████████| 13/13 [00:03<00:00,  4.11batch/s]\n"
          ]
        },
        {
          "name": "stdout",
          "output_type": "stream",
          "text": [
            "Epoch: 447/1000  Loss: 0.0000, Val Loss: 0.0960\n"
          ]
        },
        {
          "name": "stderr",
          "output_type": "stream",
          "text": [
            "Epoch 448/1000: 100%|██████████| 13/13 [00:02<00:00,  4.36batch/s]\n"
          ]
        },
        {
          "name": "stdout",
          "output_type": "stream",
          "text": [
            "Epoch: 448/1000  Loss: 0.0000, Val Loss: 0.0960\n"
          ]
        },
        {
          "name": "stderr",
          "output_type": "stream",
          "text": [
            "Epoch 449/1000: 100%|██████████| 13/13 [00:02<00:00,  4.45batch/s]\n"
          ]
        },
        {
          "name": "stdout",
          "output_type": "stream",
          "text": [
            "Epoch: 449/1000  Loss: 0.0000, Val Loss: 0.0960\n"
          ]
        },
        {
          "name": "stderr",
          "output_type": "stream",
          "text": [
            "Epoch 450/1000: 100%|██████████| 13/13 [00:02<00:00,  4.41batch/s]\n"
          ]
        },
        {
          "name": "stdout",
          "output_type": "stream",
          "text": [
            "Epoch: 450/1000  Loss: 0.0000, Val Loss: 0.0960\n"
          ]
        },
        {
          "name": "stderr",
          "output_type": "stream",
          "text": [
            "Epoch 451/1000: 100%|██████████| 13/13 [00:03<00:00,  4.22batch/s]\n"
          ]
        },
        {
          "name": "stdout",
          "output_type": "stream",
          "text": [
            "Epoch: 451/1000  Loss: 0.0000, Val Loss: 0.0960\n"
          ]
        },
        {
          "name": "stderr",
          "output_type": "stream",
          "text": [
            "Epoch 452/1000: 100%|██████████| 13/13 [00:03<00:00,  4.26batch/s]\n"
          ]
        },
        {
          "name": "stdout",
          "output_type": "stream",
          "text": [
            "Epoch: 452/1000  Loss: 0.0000, Val Loss: 0.0960\n"
          ]
        },
        {
          "name": "stderr",
          "output_type": "stream",
          "text": [
            "Epoch 453/1000: 100%|██████████| 13/13 [00:02<00:00,  4.41batch/s]\n"
          ]
        },
        {
          "name": "stdout",
          "output_type": "stream",
          "text": [
            "Epoch: 453/1000  Loss: 0.0000, Val Loss: 0.0960\n"
          ]
        },
        {
          "name": "stderr",
          "output_type": "stream",
          "text": [
            "Epoch 454/1000: 100%|██████████| 13/13 [00:02<00:00,  4.45batch/s]\n"
          ]
        },
        {
          "name": "stdout",
          "output_type": "stream",
          "text": [
            "Epoch: 454/1000  Loss: 0.0000, Val Loss: 0.0960\n"
          ]
        },
        {
          "name": "stderr",
          "output_type": "stream",
          "text": [
            "Epoch 455/1000: 100%|██████████| 13/13 [00:02<00:00,  4.37batch/s]\n"
          ]
        },
        {
          "name": "stdout",
          "output_type": "stream",
          "text": [
            "Epoch: 455/1000  Loss: 0.0000, Val Loss: 0.0960\n"
          ]
        },
        {
          "name": "stderr",
          "output_type": "stream",
          "text": [
            "Epoch 456/1000: 100%|██████████| 13/13 [00:03<00:00,  4.15batch/s]\n"
          ]
        },
        {
          "name": "stdout",
          "output_type": "stream",
          "text": [
            "Epoch: 456/1000  Loss: 0.0000, Val Loss: 0.0960\n"
          ]
        },
        {
          "name": "stderr",
          "output_type": "stream",
          "text": [
            "Epoch 457/1000: 100%|██████████| 13/13 [00:02<00:00,  4.43batch/s]\n"
          ]
        },
        {
          "name": "stdout",
          "output_type": "stream",
          "text": [
            "Epoch: 457/1000  Loss: 0.0000, Val Loss: 0.0960\n"
          ]
        },
        {
          "name": "stderr",
          "output_type": "stream",
          "text": [
            "Epoch 458/1000: 100%|██████████| 13/13 [00:02<00:00,  4.46batch/s]\n"
          ]
        },
        {
          "name": "stdout",
          "output_type": "stream",
          "text": [
            "Epoch: 458/1000  Loss: 0.0000, Val Loss: 0.0960\n"
          ]
        },
        {
          "name": "stderr",
          "output_type": "stream",
          "text": [
            "Epoch 459/1000: 100%|██████████| 13/13 [00:02<00:00,  4.44batch/s]\n"
          ]
        },
        {
          "name": "stdout",
          "output_type": "stream",
          "text": [
            "Epoch: 459/1000  Loss: 0.0000, Val Loss: 0.0960\n"
          ]
        },
        {
          "name": "stderr",
          "output_type": "stream",
          "text": [
            "Epoch 460/1000: 100%|██████████| 13/13 [00:03<00:00,  4.24batch/s]\n"
          ]
        },
        {
          "name": "stdout",
          "output_type": "stream",
          "text": [
            "Epoch: 460/1000  Loss: 0.0000, Val Loss: 0.0960\n"
          ]
        },
        {
          "name": "stderr",
          "output_type": "stream",
          "text": [
            "Epoch 461/1000: 100%|██████████| 13/13 [00:03<00:00,  4.28batch/s]\n"
          ]
        },
        {
          "name": "stdout",
          "output_type": "stream",
          "text": [
            "Epoch: 461/1000  Loss: 0.0000, Val Loss: 0.0960\n"
          ]
        },
        {
          "name": "stderr",
          "output_type": "stream",
          "text": [
            "Epoch 462/1000: 100%|██████████| 13/13 [00:02<00:00,  4.45batch/s]\n"
          ]
        },
        {
          "name": "stdout",
          "output_type": "stream",
          "text": [
            "Epoch: 462/1000  Loss: 0.0000, Val Loss: 0.0960\n"
          ]
        },
        {
          "name": "stderr",
          "output_type": "stream",
          "text": [
            "Epoch 463/1000: 100%|██████████| 13/13 [00:02<00:00,  4.45batch/s]\n"
          ]
        },
        {
          "name": "stdout",
          "output_type": "stream",
          "text": [
            "Epoch: 463/1000  Loss: 0.0000, Val Loss: 0.0960\n"
          ]
        },
        {
          "name": "stderr",
          "output_type": "stream",
          "text": [
            "Epoch 464/1000: 100%|██████████| 13/13 [00:02<00:00,  4.39batch/s]\n"
          ]
        },
        {
          "name": "stdout",
          "output_type": "stream",
          "text": [
            "Epoch: 464/1000  Loss: 0.0000, Val Loss: 0.0960\n"
          ]
        },
        {
          "name": "stderr",
          "output_type": "stream",
          "text": [
            "Epoch 465/1000: 100%|██████████| 13/13 [00:03<00:00,  4.23batch/s]\n"
          ]
        },
        {
          "name": "stdout",
          "output_type": "stream",
          "text": [
            "Epoch: 465/1000  Loss: 0.0000, Val Loss: 0.0960\n"
          ]
        },
        {
          "name": "stderr",
          "output_type": "stream",
          "text": [
            "Epoch 466/1000: 100%|██████████| 13/13 [00:02<00:00,  4.41batch/s]\n"
          ]
        },
        {
          "name": "stdout",
          "output_type": "stream",
          "text": [
            "Epoch: 466/1000  Loss: 0.0000, Val Loss: 0.0960\n"
          ]
        },
        {
          "name": "stderr",
          "output_type": "stream",
          "text": [
            "Epoch 467/1000: 100%|██████████| 13/13 [00:02<00:00,  4.42batch/s]\n"
          ]
        },
        {
          "name": "stdout",
          "output_type": "stream",
          "text": [
            "Epoch: 467/1000  Loss: 0.0000, Val Loss: 0.0960\n"
          ]
        },
        {
          "name": "stderr",
          "output_type": "stream",
          "text": [
            "Epoch 468/1000: 100%|██████████| 13/13 [00:02<00:00,  4.45batch/s]\n"
          ]
        },
        {
          "name": "stdout",
          "output_type": "stream",
          "text": [
            "Epoch: 468/1000  Loss: 0.0000, Val Loss: 0.0960\n"
          ]
        },
        {
          "name": "stderr",
          "output_type": "stream",
          "text": [
            "Epoch 469/1000: 100%|██████████| 13/13 [00:03<00:00,  4.27batch/s]\n"
          ]
        },
        {
          "name": "stdout",
          "output_type": "stream",
          "text": [
            "Epoch: 469/1000  Loss: 0.0000, Val Loss: 0.0960\n"
          ]
        },
        {
          "name": "stderr",
          "output_type": "stream",
          "text": [
            "Epoch 470/1000: 100%|██████████| 13/13 [00:03<00:00,  4.26batch/s]\n"
          ]
        },
        {
          "name": "stdout",
          "output_type": "stream",
          "text": [
            "Epoch: 470/1000  Loss: 0.0000, Val Loss: 0.0960\n"
          ]
        },
        {
          "name": "stderr",
          "output_type": "stream",
          "text": [
            "Epoch 471/1000: 100%|██████████| 13/13 [00:02<00:00,  4.44batch/s]\n"
          ]
        },
        {
          "name": "stdout",
          "output_type": "stream",
          "text": [
            "Epoch: 471/1000  Loss: 0.0000, Val Loss: 0.0960\n"
          ]
        },
        {
          "name": "stderr",
          "output_type": "stream",
          "text": [
            "Epoch 472/1000: 100%|██████████| 13/13 [00:02<00:00,  4.46batch/s]\n"
          ]
        },
        {
          "name": "stdout",
          "output_type": "stream",
          "text": [
            "Epoch: 472/1000  Loss: 0.0000, Val Loss: 0.0960\n"
          ]
        },
        {
          "name": "stderr",
          "output_type": "stream",
          "text": [
            "Epoch 473/1000: 100%|██████████| 13/13 [00:02<00:00,  4.43batch/s]\n"
          ]
        },
        {
          "name": "stdout",
          "output_type": "stream",
          "text": [
            "Epoch: 473/1000  Loss: 0.0000, Val Loss: 0.0960\n"
          ]
        },
        {
          "name": "stderr",
          "output_type": "stream",
          "text": [
            "Epoch 474/1000: 100%|██████████| 13/13 [00:03<00:00,  4.24batch/s]\n"
          ]
        },
        {
          "name": "stdout",
          "output_type": "stream",
          "text": [
            "Epoch: 474/1000  Loss: 0.0000, Val Loss: 0.0960\n"
          ]
        },
        {
          "name": "stderr",
          "output_type": "stream",
          "text": [
            "Epoch 475/1000: 100%|██████████| 13/13 [00:02<00:00,  4.41batch/s]\n"
          ]
        },
        {
          "name": "stdout",
          "output_type": "stream",
          "text": [
            "Epoch: 475/1000  Loss: 0.0000, Val Loss: 0.0960\n"
          ]
        },
        {
          "name": "stderr",
          "output_type": "stream",
          "text": [
            "Epoch 476/1000: 100%|██████████| 13/13 [00:02<00:00,  4.47batch/s]\n"
          ]
        },
        {
          "name": "stdout",
          "output_type": "stream",
          "text": [
            "Epoch: 476/1000  Loss: 0.0000, Val Loss: 0.0960\n"
          ]
        },
        {
          "name": "stderr",
          "output_type": "stream",
          "text": [
            "Epoch 477/1000: 100%|██████████| 13/13 [00:02<00:00,  4.48batch/s]\n"
          ]
        },
        {
          "name": "stdout",
          "output_type": "stream",
          "text": [
            "Epoch: 477/1000  Loss: 0.0000, Val Loss: 0.0960\n"
          ]
        },
        {
          "name": "stderr",
          "output_type": "stream",
          "text": [
            "Epoch 478/1000: 100%|██████████| 13/13 [00:03<00:00,  4.22batch/s]\n"
          ]
        },
        {
          "name": "stdout",
          "output_type": "stream",
          "text": [
            "Epoch: 478/1000  Loss: 0.0000, Val Loss: 0.0960\n"
          ]
        },
        {
          "name": "stderr",
          "output_type": "stream",
          "text": [
            "Epoch 479/1000: 100%|██████████| 13/13 [00:03<00:00,  4.22batch/s]\n"
          ]
        },
        {
          "name": "stdout",
          "output_type": "stream",
          "text": [
            "Epoch: 479/1000  Loss: 0.0000, Val Loss: 0.0960\n"
          ]
        },
        {
          "name": "stderr",
          "output_type": "stream",
          "text": [
            "Epoch 480/1000: 100%|██████████| 13/13 [00:02<00:00,  4.47batch/s]\n"
          ]
        },
        {
          "name": "stdout",
          "output_type": "stream",
          "text": [
            "Epoch: 480/1000  Loss: 0.0000, Val Loss: 0.0960\n"
          ]
        },
        {
          "name": "stderr",
          "output_type": "stream",
          "text": [
            "Epoch 481/1000: 100%|██████████| 13/13 [00:02<00:00,  4.47batch/s]\n"
          ]
        },
        {
          "name": "stdout",
          "output_type": "stream",
          "text": [
            "Epoch: 481/1000  Loss: 0.0000, Val Loss: 0.0960\n"
          ]
        },
        {
          "name": "stderr",
          "output_type": "stream",
          "text": [
            "Epoch 482/1000: 100%|██████████| 13/13 [00:02<00:00,  4.40batch/s]\n"
          ]
        },
        {
          "name": "stdout",
          "output_type": "stream",
          "text": [
            "Epoch: 482/1000  Loss: 0.0000, Val Loss: 0.0960\n"
          ]
        },
        {
          "name": "stderr",
          "output_type": "stream",
          "text": [
            "Epoch 483/1000: 100%|██████████| 13/13 [00:03<00:00,  4.16batch/s]\n"
          ]
        },
        {
          "name": "stdout",
          "output_type": "stream",
          "text": [
            "Epoch: 483/1000  Loss: 0.0000, Val Loss: 0.0960\n"
          ]
        },
        {
          "name": "stderr",
          "output_type": "stream",
          "text": [
            "Epoch 484/1000: 100%|██████████| 13/13 [00:02<00:00,  4.41batch/s]\n"
          ]
        },
        {
          "name": "stdout",
          "output_type": "stream",
          "text": [
            "Epoch: 484/1000  Loss: 0.0000, Val Loss: 0.0960\n"
          ]
        },
        {
          "name": "stderr",
          "output_type": "stream",
          "text": [
            "Epoch 485/1000: 100%|██████████| 13/13 [00:02<00:00,  4.49batch/s]\n"
          ]
        },
        {
          "name": "stdout",
          "output_type": "stream",
          "text": [
            "Epoch: 485/1000  Loss: 0.0000, Val Loss: 0.0960\n"
          ]
        },
        {
          "name": "stderr",
          "output_type": "stream",
          "text": [
            "Epoch 486/1000: 100%|██████████| 13/13 [00:02<00:00,  4.46batch/s]\n"
          ]
        },
        {
          "name": "stdout",
          "output_type": "stream",
          "text": [
            "Epoch: 486/1000  Loss: 0.0000, Val Loss: 0.0960\n"
          ]
        },
        {
          "name": "stderr",
          "output_type": "stream",
          "text": [
            "Epoch 487/1000: 100%|██████████| 13/13 [00:03<00:00,  4.25batch/s]\n"
          ]
        },
        {
          "name": "stdout",
          "output_type": "stream",
          "text": [
            "Epoch: 487/1000  Loss: 0.0000, Val Loss: 0.0960\n"
          ]
        },
        {
          "name": "stderr",
          "output_type": "stream",
          "text": [
            "Epoch 488/1000: 100%|██████████| 13/13 [00:03<00:00,  4.25batch/s]\n"
          ]
        },
        {
          "name": "stdout",
          "output_type": "stream",
          "text": [
            "Epoch: 488/1000  Loss: 0.0000, Val Loss: 0.0960\n"
          ]
        },
        {
          "name": "stderr",
          "output_type": "stream",
          "text": [
            "Epoch 489/1000: 100%|██████████| 13/13 [00:02<00:00,  4.44batch/s]\n"
          ]
        },
        {
          "name": "stdout",
          "output_type": "stream",
          "text": [
            "Epoch: 489/1000  Loss: 0.0000, Val Loss: 0.0960\n"
          ]
        },
        {
          "name": "stderr",
          "output_type": "stream",
          "text": [
            "Epoch 490/1000: 100%|██████████| 13/13 [00:02<00:00,  4.46batch/s]\n"
          ]
        },
        {
          "name": "stdout",
          "output_type": "stream",
          "text": [
            "Epoch: 490/1000  Loss: 0.0000, Val Loss: 0.0960\n"
          ]
        },
        {
          "name": "stderr",
          "output_type": "stream",
          "text": [
            "Epoch 491/1000: 100%|██████████| 13/13 [00:02<00:00,  4.41batch/s]\n"
          ]
        },
        {
          "name": "stdout",
          "output_type": "stream",
          "text": [
            "Epoch: 491/1000  Loss: 0.0000, Val Loss: 0.0960\n"
          ]
        },
        {
          "name": "stderr",
          "output_type": "stream",
          "text": [
            "Epoch 492/1000: 100%|██████████| 13/13 [00:03<00:00,  4.19batch/s]\n"
          ]
        },
        {
          "name": "stdout",
          "output_type": "stream",
          "text": [
            "Epoch: 492/1000  Loss: 0.0000, Val Loss: 0.0960\n"
          ]
        },
        {
          "name": "stderr",
          "output_type": "stream",
          "text": [
            "Epoch 493/1000: 100%|██████████| 13/13 [00:02<00:00,  4.38batch/s]\n"
          ]
        },
        {
          "name": "stdout",
          "output_type": "stream",
          "text": [
            "Epoch: 493/1000  Loss: 0.0000, Val Loss: 0.0960\n"
          ]
        },
        {
          "name": "stderr",
          "output_type": "stream",
          "text": [
            "Epoch 494/1000: 100%|██████████| 13/13 [00:02<00:00,  4.47batch/s]\n"
          ]
        },
        {
          "name": "stdout",
          "output_type": "stream",
          "text": [
            "Epoch: 494/1000  Loss: 0.0000, Val Loss: 0.0960\n"
          ]
        },
        {
          "name": "stderr",
          "output_type": "stream",
          "text": [
            "Epoch 495/1000: 100%|██████████| 13/13 [00:02<00:00,  4.48batch/s]\n"
          ]
        },
        {
          "name": "stdout",
          "output_type": "stream",
          "text": [
            "Epoch: 495/1000  Loss: 0.0000, Val Loss: 0.0960\n"
          ]
        },
        {
          "name": "stderr",
          "output_type": "stream",
          "text": [
            "Epoch 496/1000: 100%|██████████| 13/13 [00:03<00:00,  4.26batch/s]\n"
          ]
        },
        {
          "name": "stdout",
          "output_type": "stream",
          "text": [
            "Epoch: 496/1000  Loss: 0.0000, Val Loss: 0.0960\n"
          ]
        },
        {
          "name": "stderr",
          "output_type": "stream",
          "text": [
            "Epoch 497/1000: 100%|██████████| 13/13 [00:03<00:00,  4.19batch/s]\n"
          ]
        },
        {
          "name": "stdout",
          "output_type": "stream",
          "text": [
            "Epoch: 497/1000  Loss: 0.0000, Val Loss: 0.0960\n"
          ]
        },
        {
          "name": "stderr",
          "output_type": "stream",
          "text": [
            "Epoch 498/1000: 100%|██████████| 13/13 [00:02<00:00,  4.47batch/s]\n"
          ]
        },
        {
          "name": "stdout",
          "output_type": "stream",
          "text": [
            "Epoch: 498/1000  Loss: 0.0000, Val Loss: 0.0960\n"
          ]
        },
        {
          "name": "stderr",
          "output_type": "stream",
          "text": [
            "Epoch 499/1000: 100%|██████████| 13/13 [00:02<00:00,  4.44batch/s]\n"
          ]
        },
        {
          "name": "stdout",
          "output_type": "stream",
          "text": [
            "Epoch: 499/1000  Loss: 0.0000, Val Loss: 0.0960\n"
          ]
        },
        {
          "name": "stderr",
          "output_type": "stream",
          "text": [
            "Epoch 500/1000: 100%|██████████| 13/13 [00:02<00:00,  4.48batch/s]\n"
          ]
        },
        {
          "name": "stdout",
          "output_type": "stream",
          "text": [
            "Epoch: 500/1000  Loss: 0.0000, Val Loss: 0.0960\n"
          ]
        },
        {
          "name": "stderr",
          "output_type": "stream",
          "text": [
            "Epoch 501/1000: 100%|██████████| 13/13 [00:03<00:00,  4.20batch/s]\n"
          ]
        },
        {
          "name": "stdout",
          "output_type": "stream",
          "text": [
            "Epoch: 501/1000  Loss: 0.0000, Val Loss: 0.0960\n"
          ]
        },
        {
          "name": "stderr",
          "output_type": "stream",
          "text": [
            "Epoch 502/1000: 100%|██████████| 13/13 [00:03<00:00,  4.23batch/s]\n"
          ]
        },
        {
          "name": "stdout",
          "output_type": "stream",
          "text": [
            "Epoch: 502/1000  Loss: 0.0000, Val Loss: 0.0960\n"
          ]
        },
        {
          "name": "stderr",
          "output_type": "stream",
          "text": [
            "Epoch 503/1000: 100%|██████████| 13/13 [00:02<00:00,  4.46batch/s]\n"
          ]
        },
        {
          "name": "stdout",
          "output_type": "stream",
          "text": [
            "Epoch: 503/1000  Loss: 0.0000, Val Loss: 0.0909\n"
          ]
        },
        {
          "name": "stderr",
          "output_type": "stream",
          "text": [
            "Epoch 504/1000: 100%|██████████| 13/13 [00:02<00:00,  4.45batch/s]\n"
          ]
        },
        {
          "name": "stdout",
          "output_type": "stream",
          "text": [
            "Epoch: 504/1000  Loss: 0.0000, Val Loss: 0.0909\n"
          ]
        },
        {
          "name": "stderr",
          "output_type": "stream",
          "text": [
            "Epoch 505/1000: 100%|██████████| 13/13 [00:03<00:00,  4.25batch/s]\n"
          ]
        },
        {
          "name": "stdout",
          "output_type": "stream",
          "text": [
            "Epoch: 505/1000  Loss: 0.0000, Val Loss: 0.0909\n"
          ]
        },
        {
          "name": "stderr",
          "output_type": "stream",
          "text": [
            "Epoch 506/1000: 100%|██████████| 13/13 [00:03<00:00,  4.19batch/s]\n"
          ]
        },
        {
          "name": "stdout",
          "output_type": "stream",
          "text": [
            "Epoch: 506/1000  Loss: 0.0000, Val Loss: 0.0909\n"
          ]
        },
        {
          "name": "stderr",
          "output_type": "stream",
          "text": [
            "Epoch 507/1000: 100%|██████████| 13/13 [00:02<00:00,  4.45batch/s]\n"
          ]
        },
        {
          "name": "stdout",
          "output_type": "stream",
          "text": [
            "Epoch: 507/1000  Loss: 0.0000, Val Loss: 0.0909\n"
          ]
        },
        {
          "name": "stderr",
          "output_type": "stream",
          "text": [
            "Epoch 508/1000: 100%|██████████| 13/13 [00:02<00:00,  4.45batch/s]\n"
          ]
        },
        {
          "name": "stdout",
          "output_type": "stream",
          "text": [
            "Epoch: 508/1000  Loss: 0.0000, Val Loss: 0.0909\n"
          ]
        },
        {
          "name": "stderr",
          "output_type": "stream",
          "text": [
            "Epoch 509/1000: 100%|██████████| 13/13 [00:02<00:00,  4.43batch/s]\n"
          ]
        },
        {
          "name": "stdout",
          "output_type": "stream",
          "text": [
            "Epoch: 509/1000  Loss: 0.0000, Val Loss: 0.0909\n"
          ]
        },
        {
          "name": "stderr",
          "output_type": "stream",
          "text": [
            "Epoch 510/1000: 100%|██████████| 13/13 [00:03<00:00,  4.22batch/s]\n"
          ]
        },
        {
          "name": "stdout",
          "output_type": "stream",
          "text": [
            "Epoch: 510/1000  Loss: 0.0000, Val Loss: 0.0909\n"
          ]
        },
        {
          "name": "stderr",
          "output_type": "stream",
          "text": [
            "Epoch 511/1000: 100%|██████████| 13/13 [00:02<00:00,  4.39batch/s]\n"
          ]
        },
        {
          "name": "stdout",
          "output_type": "stream",
          "text": [
            "Epoch: 511/1000  Loss: 0.0000, Val Loss: 0.0909\n"
          ]
        },
        {
          "name": "stderr",
          "output_type": "stream",
          "text": [
            "Epoch 512/1000: 100%|██████████| 13/13 [00:02<00:00,  4.46batch/s]\n"
          ]
        },
        {
          "name": "stdout",
          "output_type": "stream",
          "text": [
            "Epoch: 512/1000  Loss: 0.0000, Val Loss: 0.0909\n"
          ]
        },
        {
          "name": "stderr",
          "output_type": "stream",
          "text": [
            "Epoch 513/1000: 100%|██████████| 13/13 [00:02<00:00,  4.44batch/s]\n"
          ]
        },
        {
          "name": "stdout",
          "output_type": "stream",
          "text": [
            "Epoch: 513/1000  Loss: 0.0000, Val Loss: 0.0909\n"
          ]
        },
        {
          "name": "stderr",
          "output_type": "stream",
          "text": [
            "Epoch 514/1000: 100%|██████████| 13/13 [00:02<00:00,  4.37batch/s]\n"
          ]
        },
        {
          "name": "stdout",
          "output_type": "stream",
          "text": [
            "Epoch: 514/1000  Loss: 0.0000, Val Loss: 0.0909\n"
          ]
        },
        {
          "name": "stderr",
          "output_type": "stream",
          "text": [
            "Epoch 515/1000: 100%|██████████| 13/13 [00:03<00:00,  4.18batch/s]\n"
          ]
        },
        {
          "name": "stdout",
          "output_type": "stream",
          "text": [
            "Epoch: 515/1000  Loss: 0.0000, Val Loss: 0.0909\n"
          ]
        },
        {
          "name": "stderr",
          "output_type": "stream",
          "text": [
            "Epoch 516/1000: 100%|██████████| 13/13 [00:02<00:00,  4.46batch/s]\n"
          ]
        },
        {
          "name": "stdout",
          "output_type": "stream",
          "text": [
            "Epoch: 516/1000  Loss: 0.0000, Val Loss: 0.0909\n"
          ]
        },
        {
          "name": "stderr",
          "output_type": "stream",
          "text": [
            "Epoch 517/1000: 100%|██████████| 13/13 [00:02<00:00,  4.45batch/s]\n"
          ]
        },
        {
          "name": "stdout",
          "output_type": "stream",
          "text": [
            "Epoch: 517/1000  Loss: 0.0000, Val Loss: 0.0909\n"
          ]
        },
        {
          "name": "stderr",
          "output_type": "stream",
          "text": [
            "Epoch 518/1000: 100%|██████████| 13/13 [00:02<00:00,  4.45batch/s]\n"
          ]
        },
        {
          "name": "stdout",
          "output_type": "stream",
          "text": [
            "Epoch: 518/1000  Loss: 0.0000, Val Loss: 0.0909\n"
          ]
        },
        {
          "name": "stderr",
          "output_type": "stream",
          "text": [
            "Epoch 519/1000: 100%|██████████| 13/13 [00:03<00:00,  4.26batch/s]\n"
          ]
        },
        {
          "name": "stdout",
          "output_type": "stream",
          "text": [
            "Epoch: 519/1000  Loss: 0.0000, Val Loss: 0.0909\n"
          ]
        },
        {
          "name": "stderr",
          "output_type": "stream",
          "text": [
            "Epoch 520/1000: 100%|██████████| 13/13 [00:02<00:00,  4.40batch/s]\n"
          ]
        },
        {
          "name": "stdout",
          "output_type": "stream",
          "text": [
            "Epoch: 520/1000  Loss: 0.0000, Val Loss: 0.0909\n"
          ]
        },
        {
          "name": "stderr",
          "output_type": "stream",
          "text": [
            "Epoch 521/1000: 100%|██████████| 13/13 [00:02<00:00,  4.47batch/s]\n"
          ]
        },
        {
          "name": "stdout",
          "output_type": "stream",
          "text": [
            "Epoch: 521/1000  Loss: 0.0000, Val Loss: 0.0909\n"
          ]
        },
        {
          "name": "stderr",
          "output_type": "stream",
          "text": [
            "Epoch 522/1000: 100%|██████████| 13/13 [00:02<00:00,  4.45batch/s]\n"
          ]
        },
        {
          "name": "stdout",
          "output_type": "stream",
          "text": [
            "Epoch: 522/1000  Loss: 0.0000, Val Loss: 0.0909\n"
          ]
        },
        {
          "name": "stderr",
          "output_type": "stream",
          "text": [
            "Epoch 523/1000: 100%|██████████| 13/13 [00:03<00:00,  4.31batch/s]\n"
          ]
        },
        {
          "name": "stdout",
          "output_type": "stream",
          "text": [
            "Epoch: 523/1000  Loss: 0.0000, Val Loss: 0.0909\n"
          ]
        },
        {
          "name": "stderr",
          "output_type": "stream",
          "text": [
            "Epoch 524/1000: 100%|██████████| 13/13 [00:03<00:00,  4.19batch/s]\n"
          ]
        },
        {
          "name": "stdout",
          "output_type": "stream",
          "text": [
            "Epoch: 524/1000  Loss: 0.0000, Val Loss: 0.0909\n"
          ]
        },
        {
          "name": "stderr",
          "output_type": "stream",
          "text": [
            "Epoch 525/1000: 100%|██████████| 13/13 [00:02<00:00,  4.45batch/s]\n"
          ]
        },
        {
          "name": "stdout",
          "output_type": "stream",
          "text": [
            "Epoch: 525/1000  Loss: 0.0000, Val Loss: 0.0909\n"
          ]
        },
        {
          "name": "stderr",
          "output_type": "stream",
          "text": [
            "Epoch 526/1000: 100%|██████████| 13/13 [00:02<00:00,  4.46batch/s]\n"
          ]
        },
        {
          "name": "stdout",
          "output_type": "stream",
          "text": [
            "Epoch: 526/1000  Loss: 0.0000, Val Loss: 0.0909\n"
          ]
        },
        {
          "name": "stderr",
          "output_type": "stream",
          "text": [
            "Epoch 527/1000: 100%|██████████| 13/13 [00:02<00:00,  4.50batch/s]\n"
          ]
        },
        {
          "name": "stdout",
          "output_type": "stream",
          "text": [
            "Epoch: 527/1000  Loss: 0.0000, Val Loss: 0.0909\n"
          ]
        },
        {
          "name": "stderr",
          "output_type": "stream",
          "text": [
            "Epoch 528/1000: 100%|██████████| 13/13 [00:03<00:00,  4.18batch/s]\n"
          ]
        },
        {
          "name": "stdout",
          "output_type": "stream",
          "text": [
            "Epoch: 528/1000  Loss: 0.0000, Val Loss: 0.0909\n"
          ]
        },
        {
          "name": "stderr",
          "output_type": "stream",
          "text": [
            "Epoch 529/1000: 100%|██████████| 13/13 [00:02<00:00,  4.35batch/s]\n"
          ]
        },
        {
          "name": "stdout",
          "output_type": "stream",
          "text": [
            "Epoch: 529/1000  Loss: 0.0000, Val Loss: 0.0909\n"
          ]
        },
        {
          "name": "stderr",
          "output_type": "stream",
          "text": [
            "Epoch 530/1000: 100%|██████████| 13/13 [00:02<00:00,  4.43batch/s]\n"
          ]
        },
        {
          "name": "stdout",
          "output_type": "stream",
          "text": [
            "Epoch: 530/1000  Loss: 0.0000, Val Loss: 0.0909\n"
          ]
        },
        {
          "name": "stderr",
          "output_type": "stream",
          "text": [
            "Epoch 531/1000: 100%|██████████| 13/13 [00:02<00:00,  4.51batch/s]\n"
          ]
        },
        {
          "name": "stdout",
          "output_type": "stream",
          "text": [
            "Epoch: 531/1000  Loss: 0.0000, Val Loss: 0.0909\n"
          ]
        },
        {
          "name": "stderr",
          "output_type": "stream",
          "text": [
            "Epoch 532/1000: 100%|██████████| 13/13 [00:02<00:00,  4.39batch/s]\n"
          ]
        },
        {
          "name": "stdout",
          "output_type": "stream",
          "text": [
            "Epoch: 532/1000  Loss: 0.0000, Val Loss: 0.0909\n"
          ]
        },
        {
          "name": "stderr",
          "output_type": "stream",
          "text": [
            "Epoch 533/1000: 100%|██████████| 13/13 [00:03<00:00,  4.21batch/s]\n"
          ]
        },
        {
          "name": "stdout",
          "output_type": "stream",
          "text": [
            "Epoch: 533/1000  Loss: 0.0000, Val Loss: 0.0909\n"
          ]
        },
        {
          "name": "stderr",
          "output_type": "stream",
          "text": [
            "Epoch 534/1000: 100%|██████████| 13/13 [00:02<00:00,  4.42batch/s]\n"
          ]
        },
        {
          "name": "stdout",
          "output_type": "stream",
          "text": [
            "Epoch: 534/1000  Loss: 0.0000, Val Loss: 0.0909\n"
          ]
        },
        {
          "name": "stderr",
          "output_type": "stream",
          "text": [
            "Epoch 535/1000: 100%|██████████| 13/13 [00:02<00:00,  4.42batch/s]\n"
          ]
        },
        {
          "name": "stdout",
          "output_type": "stream",
          "text": [
            "Epoch: 535/1000  Loss: 0.0000, Val Loss: 0.0909\n"
          ]
        },
        {
          "name": "stderr",
          "output_type": "stream",
          "text": [
            "Epoch 536/1000: 100%|██████████| 13/13 [00:02<00:00,  4.42batch/s]\n"
          ]
        },
        {
          "name": "stdout",
          "output_type": "stream",
          "text": [
            "Epoch: 536/1000  Loss: 0.0000, Val Loss: 0.0909\n"
          ]
        },
        {
          "name": "stderr",
          "output_type": "stream",
          "text": [
            "Epoch 537/1000: 100%|██████████| 13/13 [00:03<00:00,  4.19batch/s]\n"
          ]
        },
        {
          "name": "stdout",
          "output_type": "stream",
          "text": [
            "Epoch: 537/1000  Loss: 0.0000, Val Loss: 0.0909\n"
          ]
        },
        {
          "name": "stderr",
          "output_type": "stream",
          "text": [
            "Epoch 538/1000: 100%|██████████| 13/13 [00:03<00:00,  4.31batch/s]\n"
          ]
        },
        {
          "name": "stdout",
          "output_type": "stream",
          "text": [
            "Epoch: 538/1000  Loss: 0.0000, Val Loss: 0.0909\n"
          ]
        },
        {
          "name": "stderr",
          "output_type": "stream",
          "text": [
            "Epoch 539/1000: 100%|██████████| 13/13 [00:02<00:00,  4.47batch/s]\n"
          ]
        },
        {
          "name": "stdout",
          "output_type": "stream",
          "text": [
            "Epoch: 539/1000  Loss: 0.0000, Val Loss: 0.0909\n"
          ]
        },
        {
          "name": "stderr",
          "output_type": "stream",
          "text": [
            "Epoch 540/1000: 100%|██████████| 13/13 [00:02<00:00,  4.48batch/s]\n"
          ]
        },
        {
          "name": "stdout",
          "output_type": "stream",
          "text": [
            "Epoch: 540/1000  Loss: 0.0000, Val Loss: 0.0909\n"
          ]
        },
        {
          "name": "stderr",
          "output_type": "stream",
          "text": [
            "Epoch 541/1000: 100%|██████████| 13/13 [00:03<00:00,  4.31batch/s]\n"
          ]
        },
        {
          "name": "stdout",
          "output_type": "stream",
          "text": [
            "Epoch: 541/1000  Loss: 0.0000, Val Loss: 0.0909\n"
          ]
        },
        {
          "name": "stderr",
          "output_type": "stream",
          "text": [
            "Epoch 542/1000: 100%|██████████| 13/13 [00:03<00:00,  4.19batch/s]\n"
          ]
        },
        {
          "name": "stdout",
          "output_type": "stream",
          "text": [
            "Epoch: 542/1000  Loss: 0.0000, Val Loss: 0.0909\n"
          ]
        },
        {
          "name": "stderr",
          "output_type": "stream",
          "text": [
            "Epoch 543/1000: 100%|██████████| 13/13 [00:02<00:00,  4.41batch/s]\n"
          ]
        },
        {
          "name": "stdout",
          "output_type": "stream",
          "text": [
            "Epoch: 543/1000  Loss: 0.0000, Val Loss: 0.0909\n"
          ]
        },
        {
          "name": "stderr",
          "output_type": "stream",
          "text": [
            "Epoch 544/1000: 100%|██████████| 13/13 [00:02<00:00,  4.45batch/s]\n"
          ]
        },
        {
          "name": "stdout",
          "output_type": "stream",
          "text": [
            "Epoch: 544/1000  Loss: 0.0000, Val Loss: 0.0909\n"
          ]
        },
        {
          "name": "stderr",
          "output_type": "stream",
          "text": [
            "Epoch 545/1000: 100%|██████████| 13/13 [00:02<00:00,  4.49batch/s]\n"
          ]
        },
        {
          "name": "stdout",
          "output_type": "stream",
          "text": [
            "Epoch: 545/1000  Loss: 0.0000, Val Loss: 0.0909\n"
          ]
        },
        {
          "name": "stderr",
          "output_type": "stream",
          "text": [
            "Epoch 546/1000: 100%|██████████| 13/13 [00:03<00:00,  4.18batch/s]\n"
          ]
        },
        {
          "name": "stdout",
          "output_type": "stream",
          "text": [
            "Epoch: 546/1000  Loss: 0.0000, Val Loss: 0.0909\n"
          ]
        },
        {
          "name": "stderr",
          "output_type": "stream",
          "text": [
            "Epoch 547/1000: 100%|██████████| 13/13 [00:03<00:00,  4.32batch/s]\n"
          ]
        },
        {
          "name": "stdout",
          "output_type": "stream",
          "text": [
            "Epoch: 547/1000  Loss: 0.0000, Val Loss: 0.0909\n"
          ]
        },
        {
          "name": "stderr",
          "output_type": "stream",
          "text": [
            "Epoch 548/1000: 100%|██████████| 13/13 [00:02<00:00,  4.45batch/s]\n"
          ]
        },
        {
          "name": "stdout",
          "output_type": "stream",
          "text": [
            "Epoch: 548/1000  Loss: 0.0000, Val Loss: 0.0909\n"
          ]
        },
        {
          "name": "stderr",
          "output_type": "stream",
          "text": [
            "Epoch 549/1000: 100%|██████████| 13/13 [00:02<00:00,  4.47batch/s]\n"
          ]
        },
        {
          "name": "stdout",
          "output_type": "stream",
          "text": [
            "Epoch: 549/1000  Loss: 0.0000, Val Loss: 0.0909\n"
          ]
        },
        {
          "name": "stderr",
          "output_type": "stream",
          "text": [
            "Epoch 550/1000: 100%|██████████| 13/13 [00:02<00:00,  4.37batch/s]\n"
          ]
        },
        {
          "name": "stdout",
          "output_type": "stream",
          "text": [
            "Epoch: 550/1000  Loss: 0.0000, Val Loss: 0.0909\n"
          ]
        },
        {
          "name": "stderr",
          "output_type": "stream",
          "text": [
            "Epoch 551/1000: 100%|██████████| 13/13 [00:03<00:00,  4.20batch/s]\n"
          ]
        },
        {
          "name": "stdout",
          "output_type": "stream",
          "text": [
            "Epoch: 551/1000  Loss: 0.0000, Val Loss: 0.0909\n"
          ]
        },
        {
          "name": "stderr",
          "output_type": "stream",
          "text": [
            "Epoch 552/1000: 100%|██████████| 13/13 [00:02<00:00,  4.46batch/s]\n"
          ]
        },
        {
          "name": "stdout",
          "output_type": "stream",
          "text": [
            "Epoch: 552/1000  Loss: 0.0000, Val Loss: 0.0909\n"
          ]
        },
        {
          "name": "stderr",
          "output_type": "stream",
          "text": [
            "Epoch 553/1000: 100%|██████████| 13/13 [00:02<00:00,  4.47batch/s]\n"
          ]
        },
        {
          "name": "stdout",
          "output_type": "stream",
          "text": [
            "Epoch: 553/1000  Loss: 0.0000, Val Loss: 0.0909\n"
          ]
        },
        {
          "name": "stderr",
          "output_type": "stream",
          "text": [
            "Epoch 554/1000: 100%|██████████| 13/13 [00:02<00:00,  4.46batch/s]\n"
          ]
        },
        {
          "name": "stdout",
          "output_type": "stream",
          "text": [
            "Epoch: 554/1000  Loss: 0.0000, Val Loss: 0.0909\n"
          ]
        },
        {
          "name": "stderr",
          "output_type": "stream",
          "text": [
            "Epoch 555/1000: 100%|██████████| 13/13 [00:03<00:00,  4.23batch/s]\n"
          ]
        },
        {
          "name": "stdout",
          "output_type": "stream",
          "text": [
            "Epoch: 555/1000  Loss: 0.0000, Val Loss: 0.0909\n"
          ]
        },
        {
          "name": "stderr",
          "output_type": "stream",
          "text": [
            "Epoch 556/1000: 100%|██████████| 13/13 [00:02<00:00,  4.38batch/s]\n"
          ]
        },
        {
          "name": "stdout",
          "output_type": "stream",
          "text": [
            "Epoch: 556/1000  Loss: 0.0000, Val Loss: 0.0909\n"
          ]
        },
        {
          "name": "stderr",
          "output_type": "stream",
          "text": [
            "Epoch 557/1000: 100%|██████████| 13/13 [00:02<00:00,  4.47batch/s]\n"
          ]
        },
        {
          "name": "stdout",
          "output_type": "stream",
          "text": [
            "Epoch: 557/1000  Loss: 0.0000, Val Loss: 0.0909\n"
          ]
        },
        {
          "name": "stderr",
          "output_type": "stream",
          "text": [
            "Epoch 558/1000: 100%|██████████| 13/13 [00:02<00:00,  4.46batch/s]\n"
          ]
        },
        {
          "name": "stdout",
          "output_type": "stream",
          "text": [
            "Epoch: 558/1000  Loss: 0.0000, Val Loss: 0.0909\n"
          ]
        },
        {
          "name": "stderr",
          "output_type": "stream",
          "text": [
            "Epoch 559/1000: 100%|██████████| 13/13 [00:02<00:00,  4.34batch/s]\n"
          ]
        },
        {
          "name": "stdout",
          "output_type": "stream",
          "text": [
            "Epoch: 559/1000  Loss: 0.0000, Val Loss: 0.0909\n"
          ]
        },
        {
          "name": "stderr",
          "output_type": "stream",
          "text": [
            "Epoch 560/1000: 100%|██████████| 13/13 [00:03<00:00,  4.20batch/s]\n"
          ]
        },
        {
          "name": "stdout",
          "output_type": "stream",
          "text": [
            "Epoch: 560/1000  Loss: 0.0000, Val Loss: 0.0909\n"
          ]
        },
        {
          "name": "stderr",
          "output_type": "stream",
          "text": [
            "Epoch 561/1000: 100%|██████████| 13/13 [00:02<00:00,  4.44batch/s]\n"
          ]
        },
        {
          "name": "stdout",
          "output_type": "stream",
          "text": [
            "Epoch: 561/1000  Loss: 0.0000, Val Loss: 0.0909\n"
          ]
        },
        {
          "name": "stderr",
          "output_type": "stream",
          "text": [
            "Epoch 562/1000: 100%|██████████| 13/13 [00:02<00:00,  4.46batch/s]\n"
          ]
        },
        {
          "name": "stdout",
          "output_type": "stream",
          "text": [
            "Epoch: 562/1000  Loss: 0.0000, Val Loss: 0.0909\n"
          ]
        },
        {
          "name": "stderr",
          "output_type": "stream",
          "text": [
            "Epoch 563/1000: 100%|██████████| 13/13 [00:02<00:00,  4.49batch/s]\n"
          ]
        },
        {
          "name": "stdout",
          "output_type": "stream",
          "text": [
            "Epoch: 563/1000  Loss: 0.0000, Val Loss: 0.0909\n"
          ]
        },
        {
          "name": "stderr",
          "output_type": "stream",
          "text": [
            "Epoch 564/1000: 100%|██████████| 13/13 [00:03<00:00,  4.26batch/s]\n"
          ]
        },
        {
          "name": "stdout",
          "output_type": "stream",
          "text": [
            "Epoch: 564/1000  Loss: 0.0000, Val Loss: 0.0909\n"
          ]
        },
        {
          "name": "stderr",
          "output_type": "stream",
          "text": [
            "Epoch 565/1000: 100%|██████████| 13/13 [00:03<00:00,  4.32batch/s]\n"
          ]
        },
        {
          "name": "stdout",
          "output_type": "stream",
          "text": [
            "Epoch: 565/1000  Loss: 0.0000, Val Loss: 0.0909\n"
          ]
        },
        {
          "name": "stderr",
          "output_type": "stream",
          "text": [
            "Epoch 566/1000: 100%|██████████| 13/13 [00:02<00:00,  4.51batch/s]\n"
          ]
        },
        {
          "name": "stdout",
          "output_type": "stream",
          "text": [
            "Epoch: 566/1000  Loss: 0.0000, Val Loss: 0.0909\n"
          ]
        },
        {
          "name": "stderr",
          "output_type": "stream",
          "text": [
            "Epoch 567/1000: 100%|██████████| 13/13 [00:02<00:00,  4.47batch/s]\n"
          ]
        },
        {
          "name": "stdout",
          "output_type": "stream",
          "text": [
            "Epoch: 567/1000  Loss: 0.0000, Val Loss: 0.0909\n"
          ]
        },
        {
          "name": "stderr",
          "output_type": "stream",
          "text": [
            "Epoch 568/1000: 100%|██████████| 13/13 [00:02<00:00,  4.38batch/s]\n"
          ]
        },
        {
          "name": "stdout",
          "output_type": "stream",
          "text": [
            "Epoch: 568/1000  Loss: 0.0000, Val Loss: 0.0909\n"
          ]
        },
        {
          "name": "stderr",
          "output_type": "stream",
          "text": [
            "Epoch 569/1000: 100%|██████████| 13/13 [00:03<00:00,  4.17batch/s]\n"
          ]
        },
        {
          "name": "stdout",
          "output_type": "stream",
          "text": [
            "Epoch: 569/1000  Loss: 0.0000, Val Loss: 0.0909\n"
          ]
        },
        {
          "name": "stderr",
          "output_type": "stream",
          "text": [
            "Epoch 570/1000: 100%|██████████| 13/13 [00:02<00:00,  4.50batch/s]\n"
          ]
        },
        {
          "name": "stdout",
          "output_type": "stream",
          "text": [
            "Epoch: 570/1000  Loss: 0.0000, Val Loss: 0.0909\n"
          ]
        },
        {
          "name": "stderr",
          "output_type": "stream",
          "text": [
            "Epoch 571/1000: 100%|██████████| 13/13 [00:02<00:00,  4.46batch/s]\n"
          ]
        },
        {
          "name": "stdout",
          "output_type": "stream",
          "text": [
            "Epoch: 571/1000  Loss: 0.0000, Val Loss: 0.0909\n"
          ]
        },
        {
          "name": "stderr",
          "output_type": "stream",
          "text": [
            "Epoch 572/1000: 100%|██████████| 13/13 [00:02<00:00,  4.49batch/s]\n"
          ]
        },
        {
          "name": "stdout",
          "output_type": "stream",
          "text": [
            "Epoch: 572/1000  Loss: 0.0000, Val Loss: 0.0909\n"
          ]
        },
        {
          "name": "stderr",
          "output_type": "stream",
          "text": [
            "Epoch 573/1000: 100%|██████████| 13/13 [00:03<00:00,  4.23batch/s]\n"
          ]
        },
        {
          "name": "stdout",
          "output_type": "stream",
          "text": [
            "Epoch: 573/1000  Loss: 0.0000, Val Loss: 0.0909\n"
          ]
        },
        {
          "name": "stderr",
          "output_type": "stream",
          "text": [
            "Epoch 574/1000: 100%|██████████| 13/13 [00:02<00:00,  4.34batch/s]\n"
          ]
        },
        {
          "name": "stdout",
          "output_type": "stream",
          "text": [
            "Epoch: 574/1000  Loss: 0.0000, Val Loss: 0.0909\n"
          ]
        },
        {
          "name": "stderr",
          "output_type": "stream",
          "text": [
            "Epoch 575/1000: 100%|██████████| 13/13 [00:02<00:00,  4.45batch/s]\n"
          ]
        },
        {
          "name": "stdout",
          "output_type": "stream",
          "text": [
            "Epoch: 575/1000  Loss: 0.0000, Val Loss: 0.0909\n"
          ]
        },
        {
          "name": "stderr",
          "output_type": "stream",
          "text": [
            "Epoch 576/1000: 100%|██████████| 13/13 [00:02<00:00,  4.45batch/s]\n"
          ]
        },
        {
          "name": "stdout",
          "output_type": "stream",
          "text": [
            "Epoch: 576/1000  Loss: 0.0000, Val Loss: 0.0909\n"
          ]
        },
        {
          "name": "stderr",
          "output_type": "stream",
          "text": [
            "Epoch 577/1000: 100%|██████████| 13/13 [00:02<00:00,  4.40batch/s]\n"
          ]
        },
        {
          "name": "stdout",
          "output_type": "stream",
          "text": [
            "Epoch: 577/1000  Loss: 0.0000, Val Loss: 0.0909\n"
          ]
        },
        {
          "name": "stderr",
          "output_type": "stream",
          "text": [
            "Epoch 578/1000: 100%|██████████| 13/13 [00:03<00:00,  4.14batch/s]\n"
          ]
        },
        {
          "name": "stdout",
          "output_type": "stream",
          "text": [
            "Epoch: 578/1000  Loss: 0.0000, Val Loss: 0.0909\n"
          ]
        },
        {
          "name": "stderr",
          "output_type": "stream",
          "text": [
            "Epoch 579/1000: 100%|██████████| 13/13 [00:02<00:00,  4.48batch/s]\n"
          ]
        },
        {
          "name": "stdout",
          "output_type": "stream",
          "text": [
            "Epoch: 579/1000  Loss: 0.0000, Val Loss: 0.0909\n"
          ]
        },
        {
          "name": "stderr",
          "output_type": "stream",
          "text": [
            "Epoch 580/1000: 100%|██████████| 13/13 [00:02<00:00,  4.44batch/s]\n"
          ]
        },
        {
          "name": "stdout",
          "output_type": "stream",
          "text": [
            "Epoch: 580/1000  Loss: 0.0000, Val Loss: 0.0909\n"
          ]
        },
        {
          "name": "stderr",
          "output_type": "stream",
          "text": [
            "Epoch 581/1000: 100%|██████████| 13/13 [00:02<00:00,  4.47batch/s]\n"
          ]
        },
        {
          "name": "stdout",
          "output_type": "stream",
          "text": [
            "Epoch: 581/1000  Loss: 0.0000, Val Loss: 0.0909\n"
          ]
        },
        {
          "name": "stderr",
          "output_type": "stream",
          "text": [
            "Epoch 582/1000: 100%|██████████| 13/13 [00:03<00:00,  4.20batch/s]\n"
          ]
        },
        {
          "name": "stdout",
          "output_type": "stream",
          "text": [
            "Epoch: 582/1000  Loss: 0.0000, Val Loss: 0.0909\n"
          ]
        },
        {
          "name": "stderr",
          "output_type": "stream",
          "text": [
            "Epoch 583/1000: 100%|██████████| 13/13 [00:03<00:00,  4.24batch/s]\n"
          ]
        },
        {
          "name": "stdout",
          "output_type": "stream",
          "text": [
            "Epoch: 583/1000  Loss: 0.0000, Val Loss: 0.0909\n"
          ]
        },
        {
          "name": "stderr",
          "output_type": "stream",
          "text": [
            "Epoch 584/1000: 100%|██████████| 13/13 [00:02<00:00,  4.49batch/s]\n"
          ]
        },
        {
          "name": "stdout",
          "output_type": "stream",
          "text": [
            "Epoch: 584/1000  Loss: 0.0000, Val Loss: 0.0909\n"
          ]
        },
        {
          "name": "stderr",
          "output_type": "stream",
          "text": [
            "Epoch 585/1000: 100%|██████████| 13/13 [00:02<00:00,  4.50batch/s]\n"
          ]
        },
        {
          "name": "stdout",
          "output_type": "stream",
          "text": [
            "Epoch: 585/1000  Loss: 0.0000, Val Loss: 0.0909\n"
          ]
        },
        {
          "name": "stderr",
          "output_type": "stream",
          "text": [
            "Epoch 586/1000: 100%|██████████| 13/13 [00:02<00:00,  4.45batch/s]\n"
          ]
        },
        {
          "name": "stdout",
          "output_type": "stream",
          "text": [
            "Epoch: 586/1000  Loss: 0.0000, Val Loss: 0.0909\n"
          ]
        },
        {
          "name": "stderr",
          "output_type": "stream",
          "text": [
            "Epoch 587/1000: 100%|██████████| 13/13 [00:03<00:00,  4.30batch/s]\n"
          ]
        },
        {
          "name": "stdout",
          "output_type": "stream",
          "text": [
            "Epoch: 587/1000  Loss: 0.0000, Val Loss: 0.0909\n"
          ]
        },
        {
          "name": "stderr",
          "output_type": "stream",
          "text": [
            "Epoch 588/1000: 100%|██████████| 13/13 [00:02<00:00,  4.44batch/s]\n"
          ]
        },
        {
          "name": "stdout",
          "output_type": "stream",
          "text": [
            "Epoch: 588/1000  Loss: 0.0000, Val Loss: 0.0909\n"
          ]
        },
        {
          "name": "stderr",
          "output_type": "stream",
          "text": [
            "Epoch 589/1000: 100%|██████████| 13/13 [00:02<00:00,  4.47batch/s]\n"
          ]
        },
        {
          "name": "stdout",
          "output_type": "stream",
          "text": [
            "Epoch: 589/1000  Loss: 0.0000, Val Loss: 0.0909\n"
          ]
        },
        {
          "name": "stderr",
          "output_type": "stream",
          "text": [
            "Epoch 590/1000: 100%|██████████| 13/13 [00:02<00:00,  4.47batch/s]\n"
          ]
        },
        {
          "name": "stdout",
          "output_type": "stream",
          "text": [
            "Epoch: 590/1000  Loss: 0.0000, Val Loss: 0.0909\n"
          ]
        },
        {
          "name": "stderr",
          "output_type": "stream",
          "text": [
            "Epoch 591/1000: 100%|██████████| 13/13 [00:03<00:00,  4.30batch/s]\n"
          ]
        },
        {
          "name": "stdout",
          "output_type": "stream",
          "text": [
            "Epoch: 591/1000  Loss: 0.0000, Val Loss: 0.0909\n"
          ]
        },
        {
          "name": "stderr",
          "output_type": "stream",
          "text": [
            "Epoch 592/1000: 100%|██████████| 13/13 [00:03<00:00,  4.23batch/s]\n"
          ]
        },
        {
          "name": "stdout",
          "output_type": "stream",
          "text": [
            "Epoch: 592/1000  Loss: 0.0000, Val Loss: 0.0909\n"
          ]
        },
        {
          "name": "stderr",
          "output_type": "stream",
          "text": [
            "Epoch 593/1000: 100%|██████████| 13/13 [00:02<00:00,  4.49batch/s]\n"
          ]
        },
        {
          "name": "stdout",
          "output_type": "stream",
          "text": [
            "Epoch: 593/1000  Loss: 0.0000, Val Loss: 0.0909\n"
          ]
        },
        {
          "name": "stderr",
          "output_type": "stream",
          "text": [
            "Epoch 594/1000: 100%|██████████| 13/13 [00:02<00:00,  4.51batch/s]\n"
          ]
        },
        {
          "name": "stdout",
          "output_type": "stream",
          "text": [
            "Epoch: 594/1000  Loss: 0.0000, Val Loss: 0.0909\n"
          ]
        },
        {
          "name": "stderr",
          "output_type": "stream",
          "text": [
            "Epoch 595/1000: 100%|██████████| 13/13 [00:02<00:00,  4.44batch/s]\n"
          ]
        },
        {
          "name": "stdout",
          "output_type": "stream",
          "text": [
            "Epoch: 595/1000  Loss: 0.0000, Val Loss: 0.0909\n"
          ]
        },
        {
          "name": "stderr",
          "output_type": "stream",
          "text": [
            "Epoch 596/1000: 100%|██████████| 13/13 [00:03<00:00,  4.17batch/s]\n"
          ]
        },
        {
          "name": "stdout",
          "output_type": "stream",
          "text": [
            "Epoch: 596/1000  Loss: 0.0000, Val Loss: 0.0909\n"
          ]
        },
        {
          "name": "stderr",
          "output_type": "stream",
          "text": [
            "Epoch 597/1000: 100%|██████████| 13/13 [00:02<00:00,  4.44batch/s]\n"
          ]
        },
        {
          "name": "stdout",
          "output_type": "stream",
          "text": [
            "Epoch: 597/1000  Loss: 0.0000, Val Loss: 0.0909\n"
          ]
        },
        {
          "name": "stderr",
          "output_type": "stream",
          "text": [
            "Epoch 598/1000: 100%|██████████| 13/13 [00:02<00:00,  4.47batch/s]\n"
          ]
        },
        {
          "name": "stdout",
          "output_type": "stream",
          "text": [
            "Epoch: 598/1000  Loss: 0.0000, Val Loss: 0.0909\n"
          ]
        },
        {
          "name": "stderr",
          "output_type": "stream",
          "text": [
            "Epoch 599/1000: 100%|██████████| 13/13 [00:02<00:00,  4.47batch/s]\n"
          ]
        },
        {
          "name": "stdout",
          "output_type": "stream",
          "text": [
            "Epoch: 599/1000  Loss: 0.0000, Val Loss: 0.0909\n"
          ]
        },
        {
          "name": "stderr",
          "output_type": "stream",
          "text": [
            "Epoch 600/1000: 100%|██████████| 13/13 [00:03<00:00,  4.32batch/s]\n"
          ]
        },
        {
          "name": "stdout",
          "output_type": "stream",
          "text": [
            "Epoch: 600/1000  Loss: 0.0000, Val Loss: 0.0909\n"
          ]
        },
        {
          "name": "stderr",
          "output_type": "stream",
          "text": [
            "Epoch 601/1000: 100%|██████████| 13/13 [00:03<00:00,  4.27batch/s]\n"
          ]
        },
        {
          "name": "stdout",
          "output_type": "stream",
          "text": [
            "Epoch: 601/1000  Loss: 0.0000, Val Loss: 0.0909\n"
          ]
        },
        {
          "name": "stderr",
          "output_type": "stream",
          "text": [
            "Epoch 602/1000: 100%|██████████| 13/13 [00:02<00:00,  4.49batch/s]\n"
          ]
        },
        {
          "name": "stdout",
          "output_type": "stream",
          "text": [
            "Epoch: 602/1000  Loss: 0.0000, Val Loss: 0.0909\n"
          ]
        },
        {
          "name": "stderr",
          "output_type": "stream",
          "text": [
            "Epoch 603/1000: 100%|██████████| 13/13 [00:02<00:00,  4.49batch/s]\n"
          ]
        },
        {
          "name": "stdout",
          "output_type": "stream",
          "text": [
            "Epoch: 603/1000  Loss: 0.0000, Val Loss: 0.0909\n"
          ]
        },
        {
          "name": "stderr",
          "output_type": "stream",
          "text": [
            "Epoch 604/1000: 100%|██████████| 13/13 [00:02<00:00,  4.45batch/s]\n"
          ]
        },
        {
          "name": "stdout",
          "output_type": "stream",
          "text": [
            "Epoch: 604/1000  Loss: 0.0000, Val Loss: 0.0909\n"
          ]
        },
        {
          "name": "stderr",
          "output_type": "stream",
          "text": [
            "Epoch 605/1000: 100%|██████████| 13/13 [00:03<00:00,  4.20batch/s]\n"
          ]
        },
        {
          "name": "stdout",
          "output_type": "stream",
          "text": [
            "Epoch: 605/1000  Loss: 0.0000, Val Loss: 0.0909\n"
          ]
        },
        {
          "name": "stderr",
          "output_type": "stream",
          "text": [
            "Epoch 606/1000: 100%|██████████| 13/13 [00:02<00:00,  4.41batch/s]\n"
          ]
        },
        {
          "name": "stdout",
          "output_type": "stream",
          "text": [
            "Epoch: 606/1000  Loss: 0.0000, Val Loss: 0.0909\n"
          ]
        },
        {
          "name": "stderr",
          "output_type": "stream",
          "text": [
            "Epoch 607/1000: 100%|██████████| 13/13 [00:02<00:00,  4.50batch/s]\n"
          ]
        },
        {
          "name": "stdout",
          "output_type": "stream",
          "text": [
            "Epoch: 607/1000  Loss: 0.0000, Val Loss: 0.0909\n"
          ]
        },
        {
          "name": "stderr",
          "output_type": "stream",
          "text": [
            "Epoch 608/1000: 100%|██████████| 13/13 [00:02<00:00,  4.49batch/s]\n"
          ]
        },
        {
          "name": "stdout",
          "output_type": "stream",
          "text": [
            "Epoch: 608/1000  Loss: 0.0000, Val Loss: 0.0909\n"
          ]
        },
        {
          "name": "stderr",
          "output_type": "stream",
          "text": [
            "Epoch 609/1000: 100%|██████████| 13/13 [00:03<00:00,  4.30batch/s]\n"
          ]
        },
        {
          "name": "stdout",
          "output_type": "stream",
          "text": [
            "Epoch: 609/1000  Loss: 0.0000, Val Loss: 0.0909\n"
          ]
        },
        {
          "name": "stderr",
          "output_type": "stream",
          "text": [
            "Epoch 610/1000: 100%|██████████| 13/13 [00:03<00:00,  4.32batch/s]\n"
          ]
        },
        {
          "name": "stdout",
          "output_type": "stream",
          "text": [
            "Epoch: 610/1000  Loss: 0.0000, Val Loss: 0.0909\n"
          ]
        },
        {
          "name": "stderr",
          "output_type": "stream",
          "text": [
            "Epoch 611/1000: 100%|██████████| 13/13 [00:02<00:00,  4.50batch/s]\n"
          ]
        },
        {
          "name": "stdout",
          "output_type": "stream",
          "text": [
            "Epoch: 611/1000  Loss: 0.0000, Val Loss: 0.0909\n"
          ]
        },
        {
          "name": "stderr",
          "output_type": "stream",
          "text": [
            "Epoch 612/1000: 100%|██████████| 13/13 [00:02<00:00,  4.51batch/s]\n"
          ]
        },
        {
          "name": "stdout",
          "output_type": "stream",
          "text": [
            "Epoch: 612/1000  Loss: 0.0000, Val Loss: 0.0909\n"
          ]
        },
        {
          "name": "stderr",
          "output_type": "stream",
          "text": [
            "Epoch 613/1000: 100%|██████████| 13/13 [00:02<00:00,  4.48batch/s]\n"
          ]
        },
        {
          "name": "stdout",
          "output_type": "stream",
          "text": [
            "Epoch: 613/1000  Loss: 0.0000, Val Loss: 0.0909\n"
          ]
        },
        {
          "name": "stderr",
          "output_type": "stream",
          "text": [
            "Epoch 614/1000: 100%|██████████| 13/13 [00:03<00:00,  4.13batch/s]\n"
          ]
        },
        {
          "name": "stdout",
          "output_type": "stream",
          "text": [
            "Epoch: 614/1000  Loss: 0.0000, Val Loss: 0.0909\n"
          ]
        },
        {
          "name": "stderr",
          "output_type": "stream",
          "text": [
            "Epoch 615/1000: 100%|██████████| 13/13 [00:03<00:00,  4.33batch/s]\n"
          ]
        },
        {
          "name": "stdout",
          "output_type": "stream",
          "text": [
            "Epoch: 615/1000  Loss: 0.0000, Val Loss: 0.0909\n"
          ]
        },
        {
          "name": "stderr",
          "output_type": "stream",
          "text": [
            "Epoch 616/1000: 100%|██████████| 13/13 [00:02<00:00,  4.47batch/s]\n"
          ]
        },
        {
          "name": "stdout",
          "output_type": "stream",
          "text": [
            "Epoch: 616/1000  Loss: 0.0000, Val Loss: 0.0909\n"
          ]
        },
        {
          "name": "stderr",
          "output_type": "stream",
          "text": [
            "Epoch 617/1000: 100%|██████████| 13/13 [00:02<00:00,  4.46batch/s]\n"
          ]
        },
        {
          "name": "stdout",
          "output_type": "stream",
          "text": [
            "Epoch: 617/1000  Loss: 0.0000, Val Loss: 0.0909\n"
          ]
        },
        {
          "name": "stderr",
          "output_type": "stream",
          "text": [
            "Epoch 618/1000: 100%|██████████| 13/13 [00:03<00:00,  4.30batch/s]\n"
          ]
        },
        {
          "name": "stdout",
          "output_type": "stream",
          "text": [
            "Epoch: 618/1000  Loss: 0.0000, Val Loss: 0.0909\n"
          ]
        },
        {
          "name": "stderr",
          "output_type": "stream",
          "text": [
            "Epoch 619/1000: 100%|██████████| 13/13 [00:03<00:00,  4.28batch/s]\n"
          ]
        },
        {
          "name": "stdout",
          "output_type": "stream",
          "text": [
            "Epoch: 619/1000  Loss: 0.0000, Val Loss: 0.0909\n"
          ]
        },
        {
          "name": "stderr",
          "output_type": "stream",
          "text": [
            "Epoch 620/1000: 100%|██████████| 13/13 [00:02<00:00,  4.49batch/s]\n"
          ]
        },
        {
          "name": "stdout",
          "output_type": "stream",
          "text": [
            "Epoch: 620/1000  Loss: 0.0000, Val Loss: 0.0909\n"
          ]
        },
        {
          "name": "stderr",
          "output_type": "stream",
          "text": [
            "Epoch 621/1000: 100%|██████████| 13/13 [00:02<00:00,  4.51batch/s]\n"
          ]
        },
        {
          "name": "stdout",
          "output_type": "stream",
          "text": [
            "Epoch: 621/1000  Loss: 0.0000, Val Loss: 0.0909\n"
          ]
        },
        {
          "name": "stderr",
          "output_type": "stream",
          "text": [
            "Epoch 622/1000: 100%|██████████| 13/13 [00:02<00:00,  4.48batch/s]\n"
          ]
        },
        {
          "name": "stdout",
          "output_type": "stream",
          "text": [
            "Epoch: 622/1000  Loss: 0.0000, Val Loss: 0.0909\n"
          ]
        },
        {
          "name": "stderr",
          "output_type": "stream",
          "text": [
            "Epoch 623/1000: 100%|██████████| 13/13 [00:03<00:00,  4.21batch/s]\n"
          ]
        },
        {
          "name": "stdout",
          "output_type": "stream",
          "text": [
            "Epoch: 623/1000  Loss: 0.0000, Val Loss: 0.0909\n"
          ]
        },
        {
          "name": "stderr",
          "output_type": "stream",
          "text": [
            "Epoch 624/1000: 100%|██████████| 13/13 [00:02<00:00,  4.41batch/s]\n"
          ]
        },
        {
          "name": "stdout",
          "output_type": "stream",
          "text": [
            "Epoch: 624/1000  Loss: 0.0000, Val Loss: 0.0909\n"
          ]
        },
        {
          "name": "stderr",
          "output_type": "stream",
          "text": [
            "Epoch 625/1000: 100%|██████████| 13/13 [00:02<00:00,  4.47batch/s]\n"
          ]
        },
        {
          "name": "stdout",
          "output_type": "stream",
          "text": [
            "Epoch: 625/1000  Loss: 0.0000, Val Loss: 0.0909\n"
          ]
        },
        {
          "name": "stderr",
          "output_type": "stream",
          "text": [
            "Epoch 626/1000: 100%|██████████| 13/13 [00:02<00:00,  4.52batch/s]\n"
          ]
        },
        {
          "name": "stdout",
          "output_type": "stream",
          "text": [
            "Epoch: 626/1000  Loss: 0.0000, Val Loss: 0.0909\n"
          ]
        },
        {
          "name": "stderr",
          "output_type": "stream",
          "text": [
            "Epoch 627/1000: 100%|██████████| 13/13 [00:03<00:00,  4.30batch/s]\n"
          ]
        },
        {
          "name": "stdout",
          "output_type": "stream",
          "text": [
            "Epoch: 627/1000  Loss: 0.0000, Val Loss: 0.0909\n"
          ]
        },
        {
          "name": "stderr",
          "output_type": "stream",
          "text": [
            "Epoch 628/1000: 100%|██████████| 13/13 [00:03<00:00,  4.22batch/s]\n"
          ]
        },
        {
          "name": "stdout",
          "output_type": "stream",
          "text": [
            "Epoch: 628/1000  Loss: 0.0000, Val Loss: 0.0909\n"
          ]
        },
        {
          "name": "stderr",
          "output_type": "stream",
          "text": [
            "Epoch 629/1000: 100%|██████████| 13/13 [00:02<00:00,  4.51batch/s]\n"
          ]
        },
        {
          "name": "stdout",
          "output_type": "stream",
          "text": [
            "Epoch: 629/1000  Loss: 0.0000, Val Loss: 0.0909\n"
          ]
        },
        {
          "name": "stderr",
          "output_type": "stream",
          "text": [
            "Epoch 630/1000: 100%|██████████| 13/13 [00:02<00:00,  4.47batch/s]\n"
          ]
        },
        {
          "name": "stdout",
          "output_type": "stream",
          "text": [
            "Epoch: 630/1000  Loss: 0.0000, Val Loss: 0.0909\n"
          ]
        },
        {
          "name": "stderr",
          "output_type": "stream",
          "text": [
            "Epoch 631/1000: 100%|██████████| 13/13 [00:02<00:00,  4.49batch/s]\n"
          ]
        },
        {
          "name": "stdout",
          "output_type": "stream",
          "text": [
            "Epoch: 631/1000  Loss: 0.0000, Val Loss: 0.0909\n"
          ]
        },
        {
          "name": "stderr",
          "output_type": "stream",
          "text": [
            "Epoch 632/1000: 100%|██████████| 13/13 [00:03<00:00,  4.20batch/s]\n"
          ]
        },
        {
          "name": "stdout",
          "output_type": "stream",
          "text": [
            "Epoch: 632/1000  Loss: 0.0000, Val Loss: 0.0909\n"
          ]
        },
        {
          "name": "stderr",
          "output_type": "stream",
          "text": [
            "Epoch 633/1000: 100%|██████████| 13/13 [00:02<00:00,  4.41batch/s]\n"
          ]
        },
        {
          "name": "stdout",
          "output_type": "stream",
          "text": [
            "Epoch: 633/1000  Loss: 0.0000, Val Loss: 0.0909\n"
          ]
        },
        {
          "name": "stderr",
          "output_type": "stream",
          "text": [
            "Epoch 634/1000: 100%|██████████| 13/13 [00:02<00:00,  4.48batch/s]\n"
          ]
        },
        {
          "name": "stdout",
          "output_type": "stream",
          "text": [
            "Epoch: 634/1000  Loss: 0.0000, Val Loss: 0.0909\n"
          ]
        },
        {
          "name": "stderr",
          "output_type": "stream",
          "text": [
            "Epoch 635/1000: 100%|██████████| 13/13 [00:02<00:00,  4.49batch/s]\n"
          ]
        },
        {
          "name": "stdout",
          "output_type": "stream",
          "text": [
            "Epoch: 635/1000  Loss: 0.0000, Val Loss: 0.0909\n"
          ]
        },
        {
          "name": "stderr",
          "output_type": "stream",
          "text": [
            "Epoch 636/1000: 100%|██████████| 13/13 [00:02<00:00,  4.34batch/s]\n"
          ]
        },
        {
          "name": "stdout",
          "output_type": "stream",
          "text": [
            "Epoch: 636/1000  Loss: 0.0000, Val Loss: 0.0909\n"
          ]
        },
        {
          "name": "stderr",
          "output_type": "stream",
          "text": [
            "Epoch 637/1000: 100%|██████████| 13/13 [00:03<00:00,  4.25batch/s]\n"
          ]
        },
        {
          "name": "stdout",
          "output_type": "stream",
          "text": [
            "Epoch: 637/1000  Loss: 0.0000, Val Loss: 0.0909\n"
          ]
        },
        {
          "name": "stderr",
          "output_type": "stream",
          "text": [
            "Epoch 638/1000: 100%|██████████| 13/13 [00:02<00:00,  4.48batch/s]\n"
          ]
        },
        {
          "name": "stdout",
          "output_type": "stream",
          "text": [
            "Epoch: 638/1000  Loss: 0.0000, Val Loss: 0.0909\n"
          ]
        },
        {
          "name": "stderr",
          "output_type": "stream",
          "text": [
            "Epoch 639/1000: 100%|██████████| 13/13 [00:02<00:00,  4.49batch/s]\n"
          ]
        },
        {
          "name": "stdout",
          "output_type": "stream",
          "text": [
            "Epoch: 639/1000  Loss: 0.0000, Val Loss: 0.0909\n"
          ]
        },
        {
          "name": "stderr",
          "output_type": "stream",
          "text": [
            "Epoch 640/1000: 100%|██████████| 13/13 [00:02<00:00,  4.47batch/s]\n"
          ]
        },
        {
          "name": "stdout",
          "output_type": "stream",
          "text": [
            "Epoch: 640/1000  Loss: 0.0000, Val Loss: 0.0909\n"
          ]
        },
        {
          "name": "stderr",
          "output_type": "stream",
          "text": [
            "Epoch 641/1000: 100%|██████████| 13/13 [00:03<00:00,  4.23batch/s]\n"
          ]
        },
        {
          "name": "stdout",
          "output_type": "stream",
          "text": [
            "Epoch: 641/1000  Loss: 0.0000, Val Loss: 0.0909\n"
          ]
        },
        {
          "name": "stderr",
          "output_type": "stream",
          "text": [
            "Epoch 642/1000: 100%|██████████| 13/13 [00:03<00:00,  4.33batch/s]\n"
          ]
        },
        {
          "name": "stdout",
          "output_type": "stream",
          "text": [
            "Epoch: 642/1000  Loss: 0.0000, Val Loss: 0.0909\n"
          ]
        },
        {
          "name": "stderr",
          "output_type": "stream",
          "text": [
            "Epoch 643/1000: 100%|██████████| 13/13 [00:02<00:00,  4.45batch/s]\n"
          ]
        },
        {
          "name": "stdout",
          "output_type": "stream",
          "text": [
            "Epoch: 643/1000  Loss: 0.0000, Val Loss: 0.0909\n"
          ]
        },
        {
          "name": "stderr",
          "output_type": "stream",
          "text": [
            "Epoch 644/1000: 100%|██████████| 13/13 [00:02<00:00,  4.51batch/s]\n"
          ]
        },
        {
          "name": "stdout",
          "output_type": "stream",
          "text": [
            "Epoch: 644/1000  Loss: 0.0000, Val Loss: 0.0909\n"
          ]
        },
        {
          "name": "stderr",
          "output_type": "stream",
          "text": [
            "Epoch 645/1000: 100%|██████████| 13/13 [00:02<00:00,  4.38batch/s]\n"
          ]
        },
        {
          "name": "stdout",
          "output_type": "stream",
          "text": [
            "Epoch: 645/1000  Loss: 0.0000, Val Loss: 0.0909\n"
          ]
        },
        {
          "name": "stderr",
          "output_type": "stream",
          "text": [
            "Epoch 646/1000: 100%|██████████| 13/13 [00:03<00:00,  4.31batch/s]\n"
          ]
        },
        {
          "name": "stdout",
          "output_type": "stream",
          "text": [
            "Epoch: 646/1000  Loss: 0.0000, Val Loss: 0.0909\n"
          ]
        },
        {
          "name": "stderr",
          "output_type": "stream",
          "text": [
            "Epoch 647/1000: 100%|██████████| 13/13 [00:02<00:00,  4.48batch/s]\n"
          ]
        },
        {
          "name": "stdout",
          "output_type": "stream",
          "text": [
            "Epoch: 647/1000  Loss: 0.0000, Val Loss: 0.0909\n"
          ]
        },
        {
          "name": "stderr",
          "output_type": "stream",
          "text": [
            "Epoch 648/1000: 100%|██████████| 13/13 [00:02<00:00,  4.48batch/s]\n"
          ]
        },
        {
          "name": "stdout",
          "output_type": "stream",
          "text": [
            "Epoch: 648/1000  Loss: 0.0000, Val Loss: 0.0909\n"
          ]
        },
        {
          "name": "stderr",
          "output_type": "stream",
          "text": [
            "Epoch 649/1000: 100%|██████████| 13/13 [00:02<00:00,  4.46batch/s]\n"
          ]
        },
        {
          "name": "stdout",
          "output_type": "stream",
          "text": [
            "Epoch: 649/1000  Loss: 0.0000, Val Loss: 0.0909\n"
          ]
        },
        {
          "name": "stderr",
          "output_type": "stream",
          "text": [
            "Epoch 650/1000: 100%|██████████| 13/13 [00:03<00:00,  4.29batch/s]\n"
          ]
        },
        {
          "name": "stdout",
          "output_type": "stream",
          "text": [
            "Epoch: 650/1000  Loss: 0.0000, Val Loss: 0.0909\n"
          ]
        },
        {
          "name": "stderr",
          "output_type": "stream",
          "text": [
            "Epoch 651/1000: 100%|██████████| 13/13 [00:03<00:00,  4.33batch/s]\n"
          ]
        },
        {
          "name": "stdout",
          "output_type": "stream",
          "text": [
            "Epoch: 651/1000  Loss: 0.0000, Val Loss: 0.0909\n"
          ]
        },
        {
          "name": "stderr",
          "output_type": "stream",
          "text": [
            "Epoch 652/1000: 100%|██████████| 13/13 [00:02<00:00,  4.48batch/s]\n"
          ]
        },
        {
          "name": "stdout",
          "output_type": "stream",
          "text": [
            "Epoch: 652/1000  Loss: 0.0000, Val Loss: 0.0909\n"
          ]
        },
        {
          "name": "stderr",
          "output_type": "stream",
          "text": [
            "Epoch 653/1000: 100%|██████████| 13/13 [00:02<00:00,  4.47batch/s]\n"
          ]
        },
        {
          "name": "stdout",
          "output_type": "stream",
          "text": [
            "Epoch: 653/1000  Loss: 0.0000, Val Loss: 0.0909\n"
          ]
        },
        {
          "name": "stderr",
          "output_type": "stream",
          "text": [
            "Epoch 654/1000: 100%|██████████| 13/13 [00:02<00:00,  4.42batch/s]\n"
          ]
        },
        {
          "name": "stdout",
          "output_type": "stream",
          "text": [
            "Epoch: 654/1000  Loss: 0.0000, Val Loss: 0.0909\n"
          ]
        },
        {
          "name": "stderr",
          "output_type": "stream",
          "text": [
            "Epoch 655/1000: 100%|██████████| 13/13 [00:03<00:00,  4.19batch/s]\n"
          ]
        },
        {
          "name": "stdout",
          "output_type": "stream",
          "text": [
            "Epoch: 655/1000  Loss: 0.0000, Val Loss: 0.0909\n"
          ]
        },
        {
          "name": "stderr",
          "output_type": "stream",
          "text": [
            "Epoch 656/1000: 100%|██████████| 13/13 [00:02<00:00,  4.41batch/s]\n"
          ]
        },
        {
          "name": "stdout",
          "output_type": "stream",
          "text": [
            "Epoch: 656/1000  Loss: 0.0000, Val Loss: 0.0909\n"
          ]
        },
        {
          "name": "stderr",
          "output_type": "stream",
          "text": [
            "Epoch 657/1000: 100%|██████████| 13/13 [00:02<00:00,  4.51batch/s]\n"
          ]
        },
        {
          "name": "stdout",
          "output_type": "stream",
          "text": [
            "Epoch: 657/1000  Loss: 0.0000, Val Loss: 0.0909\n"
          ]
        },
        {
          "name": "stderr",
          "output_type": "stream",
          "text": [
            "Epoch 658/1000: 100%|██████████| 13/13 [00:02<00:00,  4.52batch/s]\n"
          ]
        },
        {
          "name": "stdout",
          "output_type": "stream",
          "text": [
            "Epoch: 658/1000  Loss: 0.0000, Val Loss: 0.0909\n"
          ]
        },
        {
          "name": "stderr",
          "output_type": "stream",
          "text": [
            "Epoch 659/1000: 100%|██████████| 13/13 [00:02<00:00,  4.37batch/s]\n"
          ]
        },
        {
          "name": "stdout",
          "output_type": "stream",
          "text": [
            "Epoch: 659/1000  Loss: 0.0000, Val Loss: 0.0909\n"
          ]
        },
        {
          "name": "stderr",
          "output_type": "stream",
          "text": [
            "Epoch 660/1000: 100%|██████████| 13/13 [00:03<00:00,  4.28batch/s]\n"
          ]
        },
        {
          "name": "stdout",
          "output_type": "stream",
          "text": [
            "Epoch: 660/1000  Loss: 0.0000, Val Loss: 0.0909\n"
          ]
        },
        {
          "name": "stderr",
          "output_type": "stream",
          "text": [
            "Epoch 661/1000: 100%|██████████| 13/13 [00:02<00:00,  4.47batch/s]\n"
          ]
        },
        {
          "name": "stdout",
          "output_type": "stream",
          "text": [
            "Epoch: 661/1000  Loss: 0.0000, Val Loss: 0.0909\n"
          ]
        },
        {
          "name": "stderr",
          "output_type": "stream",
          "text": [
            "Epoch 662/1000: 100%|██████████| 13/13 [00:02<00:00,  4.51batch/s]\n"
          ]
        },
        {
          "name": "stdout",
          "output_type": "stream",
          "text": [
            "Epoch: 662/1000  Loss: 0.0000, Val Loss: 0.0909\n"
          ]
        },
        {
          "name": "stderr",
          "output_type": "stream",
          "text": [
            "Epoch 663/1000: 100%|██████████| 13/13 [00:02<00:00,  4.45batch/s]\n"
          ]
        },
        {
          "name": "stdout",
          "output_type": "stream",
          "text": [
            "Epoch: 663/1000  Loss: 0.0000, Val Loss: 0.0909\n"
          ]
        },
        {
          "name": "stderr",
          "output_type": "stream",
          "text": [
            "Epoch 664/1000: 100%|██████████| 13/13 [00:03<00:00,  4.08batch/s]\n"
          ]
        },
        {
          "name": "stdout",
          "output_type": "stream",
          "text": [
            "Epoch: 664/1000  Loss: 0.0000, Val Loss: 0.0909\n"
          ]
        },
        {
          "name": "stderr",
          "output_type": "stream",
          "text": [
            "Epoch 665/1000: 100%|██████████| 13/13 [00:02<00:00,  4.38batch/s]\n"
          ]
        },
        {
          "name": "stdout",
          "output_type": "stream",
          "text": [
            "Epoch: 665/1000  Loss: 0.0000, Val Loss: 0.0909\n"
          ]
        },
        {
          "name": "stderr",
          "output_type": "stream",
          "text": [
            "Epoch 666/1000: 100%|██████████| 13/13 [00:02<00:00,  4.50batch/s]\n"
          ]
        },
        {
          "name": "stdout",
          "output_type": "stream",
          "text": [
            "Epoch: 666/1000  Loss: 0.0000, Val Loss: 0.0909\n"
          ]
        },
        {
          "name": "stderr",
          "output_type": "stream",
          "text": [
            "Epoch 667/1000: 100%|██████████| 13/13 [00:02<00:00,  4.49batch/s]\n"
          ]
        },
        {
          "name": "stdout",
          "output_type": "stream",
          "text": [
            "Epoch: 667/1000  Loss: 0.0000, Val Loss: 0.0909\n"
          ]
        },
        {
          "name": "stderr",
          "output_type": "stream",
          "text": [
            "Epoch 668/1000: 100%|██████████| 13/13 [00:03<00:00,  4.31batch/s]\n"
          ]
        },
        {
          "name": "stdout",
          "output_type": "stream",
          "text": [
            "Epoch: 668/1000  Loss: 0.0000, Val Loss: 0.0909\n"
          ]
        },
        {
          "name": "stderr",
          "output_type": "stream",
          "text": [
            "Epoch 669/1000: 100%|██████████| 13/13 [00:03<00:00,  4.17batch/s]\n"
          ]
        },
        {
          "name": "stdout",
          "output_type": "stream",
          "text": [
            "Epoch: 669/1000  Loss: 0.0000, Val Loss: 0.0909\n"
          ]
        },
        {
          "name": "stderr",
          "output_type": "stream",
          "text": [
            "Epoch 670/1000: 100%|██████████| 13/13 [00:02<00:00,  4.49batch/s]\n"
          ]
        },
        {
          "name": "stdout",
          "output_type": "stream",
          "text": [
            "Epoch: 670/1000  Loss: 0.0000, Val Loss: 0.0909\n"
          ]
        },
        {
          "name": "stderr",
          "output_type": "stream",
          "text": [
            "Epoch 671/1000: 100%|██████████| 13/13 [00:02<00:00,  4.48batch/s]\n"
          ]
        },
        {
          "name": "stdout",
          "output_type": "stream",
          "text": [
            "Epoch: 671/1000  Loss: 0.0000, Val Loss: 0.0909\n"
          ]
        },
        {
          "name": "stderr",
          "output_type": "stream",
          "text": [
            "Epoch 672/1000: 100%|██████████| 13/13 [00:02<00:00,  4.48batch/s]\n"
          ]
        },
        {
          "name": "stdout",
          "output_type": "stream",
          "text": [
            "Epoch: 672/1000  Loss: 0.0000, Val Loss: 0.0909\n"
          ]
        },
        {
          "name": "stderr",
          "output_type": "stream",
          "text": [
            "Epoch 673/1000: 100%|██████████| 13/13 [00:03<00:00,  4.13batch/s]\n"
          ]
        },
        {
          "name": "stdout",
          "output_type": "stream",
          "text": [
            "Epoch: 673/1000  Loss: 0.0000, Val Loss: 0.0909\n"
          ]
        },
        {
          "name": "stderr",
          "output_type": "stream",
          "text": [
            "Epoch 674/1000: 100%|██████████| 13/13 [00:02<00:00,  4.35batch/s]\n"
          ]
        },
        {
          "name": "stdout",
          "output_type": "stream",
          "text": [
            "Epoch: 674/1000  Loss: 0.0000, Val Loss: 0.0909\n"
          ]
        },
        {
          "name": "stderr",
          "output_type": "stream",
          "text": [
            "Epoch 675/1000: 100%|██████████| 13/13 [00:02<00:00,  4.47batch/s]\n"
          ]
        },
        {
          "name": "stdout",
          "output_type": "stream",
          "text": [
            "Epoch: 675/1000  Loss: 0.0000, Val Loss: 0.0909\n"
          ]
        },
        {
          "name": "stderr",
          "output_type": "stream",
          "text": [
            "Epoch 676/1000: 100%|██████████| 13/13 [00:02<00:00,  4.42batch/s]\n"
          ]
        },
        {
          "name": "stdout",
          "output_type": "stream",
          "text": [
            "Epoch: 676/1000  Loss: 0.0000, Val Loss: 0.0909\n"
          ]
        },
        {
          "name": "stderr",
          "output_type": "stream",
          "text": [
            "Epoch 677/1000: 100%|██████████| 13/13 [00:03<00:00,  4.33batch/s]\n"
          ]
        },
        {
          "name": "stdout",
          "output_type": "stream",
          "text": [
            "Epoch: 677/1000  Loss: 0.0000, Val Loss: 0.0909\n"
          ]
        },
        {
          "name": "stderr",
          "output_type": "stream",
          "text": [
            "Epoch 678/1000: 100%|██████████| 13/13 [00:03<00:00,  4.15batch/s]\n"
          ]
        },
        {
          "name": "stdout",
          "output_type": "stream",
          "text": [
            "Epoch: 678/1000  Loss: 0.0000, Val Loss: 0.0909\n"
          ]
        },
        {
          "name": "stderr",
          "output_type": "stream",
          "text": [
            "Epoch 679/1000: 100%|██████████| 13/13 [00:02<00:00,  4.47batch/s]\n"
          ]
        },
        {
          "name": "stdout",
          "output_type": "stream",
          "text": [
            "Epoch: 679/1000  Loss: 0.0000, Val Loss: 0.0909\n"
          ]
        },
        {
          "name": "stderr",
          "output_type": "stream",
          "text": [
            "Epoch 680/1000: 100%|██████████| 13/13 [00:02<00:00,  4.48batch/s]\n"
          ]
        },
        {
          "name": "stdout",
          "output_type": "stream",
          "text": [
            "Epoch: 680/1000  Loss: 0.0000, Val Loss: 0.0909\n"
          ]
        },
        {
          "name": "stderr",
          "output_type": "stream",
          "text": [
            "Epoch 681/1000: 100%|██████████| 13/13 [00:02<00:00,  4.43batch/s]\n"
          ]
        },
        {
          "name": "stdout",
          "output_type": "stream",
          "text": [
            "Epoch: 681/1000  Loss: 0.0000, Val Loss: 0.0909\n"
          ]
        },
        {
          "name": "stderr",
          "output_type": "stream",
          "text": [
            "Epoch 682/1000: 100%|██████████| 13/13 [00:03<00:00,  4.17batch/s]\n"
          ]
        },
        {
          "name": "stdout",
          "output_type": "stream",
          "text": [
            "Epoch: 682/1000  Loss: 0.0000, Val Loss: 0.0909\n"
          ]
        },
        {
          "name": "stderr",
          "output_type": "stream",
          "text": [
            "Epoch 683/1000: 100%|██████████| 13/13 [00:03<00:00,  4.31batch/s]\n"
          ]
        },
        {
          "name": "stdout",
          "output_type": "stream",
          "text": [
            "Epoch: 683/1000  Loss: 0.0000, Val Loss: 0.0909\n"
          ]
        },
        {
          "name": "stderr",
          "output_type": "stream",
          "text": [
            "Epoch 684/1000: 100%|██████████| 13/13 [00:02<00:00,  4.45batch/s]\n"
          ]
        },
        {
          "name": "stdout",
          "output_type": "stream",
          "text": [
            "Epoch: 684/1000  Loss: 0.0000, Val Loss: 0.0909\n"
          ]
        },
        {
          "name": "stderr",
          "output_type": "stream",
          "text": [
            "Epoch 685/1000: 100%|██████████| 13/13 [00:02<00:00,  4.43batch/s]\n"
          ]
        },
        {
          "name": "stdout",
          "output_type": "stream",
          "text": [
            "Epoch: 685/1000  Loss: 0.0000, Val Loss: 0.0909\n"
          ]
        },
        {
          "name": "stderr",
          "output_type": "stream",
          "text": [
            "Epoch 686/1000: 100%|██████████| 13/13 [00:03<00:00,  4.25batch/s]\n"
          ]
        },
        {
          "name": "stdout",
          "output_type": "stream",
          "text": [
            "Epoch: 686/1000  Loss: 0.0000, Val Loss: 0.0909\n"
          ]
        },
        {
          "name": "stderr",
          "output_type": "stream",
          "text": [
            "Epoch 687/1000: 100%|██████████| 13/13 [00:03<00:00,  4.18batch/s]\n"
          ]
        },
        {
          "name": "stdout",
          "output_type": "stream",
          "text": [
            "Epoch: 687/1000  Loss: 0.0000, Val Loss: 0.0909\n"
          ]
        },
        {
          "name": "stderr",
          "output_type": "stream",
          "text": [
            "Epoch 688/1000: 100%|██████████| 13/13 [00:02<00:00,  4.45batch/s]\n"
          ]
        },
        {
          "name": "stdout",
          "output_type": "stream",
          "text": [
            "Epoch: 688/1000  Loss: 0.0000, Val Loss: 0.0909\n"
          ]
        },
        {
          "name": "stderr",
          "output_type": "stream",
          "text": [
            "Epoch 689/1000: 100%|██████████| 13/13 [00:02<00:00,  4.41batch/s]\n"
          ]
        },
        {
          "name": "stdout",
          "output_type": "stream",
          "text": [
            "Epoch: 689/1000  Loss: 0.0000, Val Loss: 0.0909\n"
          ]
        },
        {
          "name": "stderr",
          "output_type": "stream",
          "text": [
            "Epoch 690/1000: 100%|██████████| 13/13 [00:02<00:00,  4.41batch/s]\n"
          ]
        },
        {
          "name": "stdout",
          "output_type": "stream",
          "text": [
            "Epoch: 690/1000  Loss: 0.0000, Val Loss: 0.0909\n"
          ]
        },
        {
          "name": "stderr",
          "output_type": "stream",
          "text": [
            "Epoch 691/1000: 100%|██████████| 13/13 [00:03<00:00,  4.11batch/s]\n"
          ]
        },
        {
          "name": "stdout",
          "output_type": "stream",
          "text": [
            "Epoch: 691/1000  Loss: 0.0000, Val Loss: 0.0909\n"
          ]
        },
        {
          "name": "stderr",
          "output_type": "stream",
          "text": [
            "Epoch 692/1000: 100%|██████████| 13/13 [00:03<00:00,  4.24batch/s]\n"
          ]
        },
        {
          "name": "stdout",
          "output_type": "stream",
          "text": [
            "Epoch: 692/1000  Loss: 0.0000, Val Loss: 0.0909\n"
          ]
        },
        {
          "name": "stderr",
          "output_type": "stream",
          "text": [
            "Epoch 693/1000: 100%|██████████| 13/13 [00:02<00:00,  4.41batch/s]\n"
          ]
        },
        {
          "name": "stdout",
          "output_type": "stream",
          "text": [
            "Epoch: 693/1000  Loss: 0.0000, Val Loss: 0.0909\n"
          ]
        },
        {
          "name": "stderr",
          "output_type": "stream",
          "text": [
            "Epoch 694/1000: 100%|██████████| 13/13 [00:02<00:00,  4.39batch/s]\n"
          ]
        },
        {
          "name": "stdout",
          "output_type": "stream",
          "text": [
            "Epoch: 694/1000  Loss: 0.0000, Val Loss: 0.0909\n"
          ]
        },
        {
          "name": "stderr",
          "output_type": "stream",
          "text": [
            "Epoch 695/1000: 100%|██████████| 13/13 [00:02<00:00,  4.37batch/s]\n"
          ]
        },
        {
          "name": "stdout",
          "output_type": "stream",
          "text": [
            "Epoch: 695/1000  Loss: 0.0000, Val Loss: 0.0909\n"
          ]
        },
        {
          "name": "stderr",
          "output_type": "stream",
          "text": [
            "Epoch 696/1000: 100%|██████████| 13/13 [00:03<00:00,  4.23batch/s]\n"
          ]
        },
        {
          "name": "stdout",
          "output_type": "stream",
          "text": [
            "Epoch: 696/1000  Loss: 0.0000, Val Loss: 0.0909\n"
          ]
        },
        {
          "name": "stderr",
          "output_type": "stream",
          "text": [
            "Epoch 697/1000: 100%|██████████| 13/13 [00:02<00:00,  4.41batch/s]\n"
          ]
        },
        {
          "name": "stdout",
          "output_type": "stream",
          "text": [
            "Epoch: 697/1000  Loss: 0.0000, Val Loss: 0.0909\n"
          ]
        },
        {
          "name": "stderr",
          "output_type": "stream",
          "text": [
            "Epoch 698/1000: 100%|██████████| 13/13 [00:02<00:00,  4.43batch/s]\n"
          ]
        },
        {
          "name": "stdout",
          "output_type": "stream",
          "text": [
            "Epoch: 698/1000  Loss: 0.0000, Val Loss: 0.0909\n"
          ]
        },
        {
          "name": "stderr",
          "output_type": "stream",
          "text": [
            "Epoch 699/1000: 100%|██████████| 13/13 [00:02<00:00,  4.41batch/s]\n"
          ]
        },
        {
          "name": "stdout",
          "output_type": "stream",
          "text": [
            "Epoch: 699/1000  Loss: 0.0000, Val Loss: 0.0909\n"
          ]
        },
        {
          "name": "stderr",
          "output_type": "stream",
          "text": [
            "Epoch 700/1000: 100%|██████████| 13/13 [00:03<00:00,  4.21batch/s]\n"
          ]
        },
        {
          "name": "stdout",
          "output_type": "stream",
          "text": [
            "Epoch: 700/1000  Loss: 0.0000, Val Loss: 0.0909\n"
          ]
        },
        {
          "name": "stderr",
          "output_type": "stream",
          "text": [
            "Epoch 701/1000: 100%|██████████| 13/13 [00:03<00:00,  4.22batch/s]\n"
          ]
        },
        {
          "name": "stdout",
          "output_type": "stream",
          "text": [
            "Epoch: 701/1000  Loss: 0.0000, Val Loss: 0.0909\n"
          ]
        },
        {
          "name": "stderr",
          "output_type": "stream",
          "text": [
            "Epoch 702/1000: 100%|██████████| 13/13 [00:02<00:00,  4.43batch/s]\n"
          ]
        },
        {
          "name": "stdout",
          "output_type": "stream",
          "text": [
            "Epoch: 702/1000  Loss: 0.0000, Val Loss: 0.0909\n"
          ]
        },
        {
          "name": "stderr",
          "output_type": "stream",
          "text": [
            "Epoch 703/1000: 100%|██████████| 13/13 [00:02<00:00,  4.44batch/s]\n"
          ]
        },
        {
          "name": "stdout",
          "output_type": "stream",
          "text": [
            "Epoch: 703/1000  Loss: 0.0000, Val Loss: 0.0909\n"
          ]
        },
        {
          "name": "stderr",
          "output_type": "stream",
          "text": [
            "Epoch 704/1000: 100%|██████████| 13/13 [00:03<00:00,  4.29batch/s]\n"
          ]
        },
        {
          "name": "stdout",
          "output_type": "stream",
          "text": [
            "Epoch: 704/1000  Loss: 0.0000, Val Loss: 0.0909\n"
          ]
        },
        {
          "name": "stderr",
          "output_type": "stream",
          "text": [
            "Epoch 705/1000: 100%|██████████| 13/13 [00:03<00:00,  4.21batch/s]\n"
          ]
        },
        {
          "name": "stdout",
          "output_type": "stream",
          "text": [
            "Epoch: 705/1000  Loss: 0.0000, Val Loss: 0.0909\n"
          ]
        },
        {
          "name": "stderr",
          "output_type": "stream",
          "text": [
            "Epoch 706/1000: 100%|██████████| 13/13 [00:02<00:00,  4.38batch/s]\n"
          ]
        },
        {
          "name": "stdout",
          "output_type": "stream",
          "text": [
            "Epoch: 706/1000  Loss: 0.0000, Val Loss: 0.0909\n"
          ]
        },
        {
          "name": "stderr",
          "output_type": "stream",
          "text": [
            "Epoch 707/1000: 100%|██████████| 13/13 [00:02<00:00,  4.43batch/s]\n"
          ]
        },
        {
          "name": "stdout",
          "output_type": "stream",
          "text": [
            "Epoch: 707/1000  Loss: 0.0000, Val Loss: 0.0909\n"
          ]
        },
        {
          "name": "stderr",
          "output_type": "stream",
          "text": [
            "Epoch 708/1000: 100%|██████████| 13/13 [00:02<00:00,  4.42batch/s]\n"
          ]
        },
        {
          "name": "stdout",
          "output_type": "stream",
          "text": [
            "Epoch: 708/1000  Loss: 0.0000, Val Loss: 0.0909\n"
          ]
        },
        {
          "name": "stderr",
          "output_type": "stream",
          "text": [
            "Epoch 709/1000: 100%|██████████| 13/13 [00:03<00:00,  4.30batch/s]\n"
          ]
        },
        {
          "name": "stdout",
          "output_type": "stream",
          "text": [
            "Epoch: 709/1000  Loss: 0.0000, Val Loss: 0.0909\n"
          ]
        },
        {
          "name": "stderr",
          "output_type": "stream",
          "text": [
            "Epoch 710/1000: 100%|██████████| 13/13 [00:03<00:00,  4.29batch/s]\n"
          ]
        },
        {
          "name": "stdout",
          "output_type": "stream",
          "text": [
            "Epoch: 710/1000  Loss: 0.0000, Val Loss: 0.0909\n"
          ]
        },
        {
          "name": "stderr",
          "output_type": "stream",
          "text": [
            "Epoch 711/1000: 100%|██████████| 13/13 [00:02<00:00,  4.40batch/s]\n"
          ]
        },
        {
          "name": "stdout",
          "output_type": "stream",
          "text": [
            "Epoch: 711/1000  Loss: 0.0000, Val Loss: 0.0909\n"
          ]
        },
        {
          "name": "stderr",
          "output_type": "stream",
          "text": [
            "Epoch 712/1000: 100%|██████████| 13/13 [00:02<00:00,  4.41batch/s]\n"
          ]
        },
        {
          "name": "stdout",
          "output_type": "stream",
          "text": [
            "Epoch: 712/1000  Loss: 0.0000, Val Loss: 0.0909\n"
          ]
        },
        {
          "name": "stderr",
          "output_type": "stream",
          "text": [
            "Epoch 713/1000: 100%|██████████| 13/13 [00:03<00:00,  4.32batch/s]\n"
          ]
        },
        {
          "name": "stdout",
          "output_type": "stream",
          "text": [
            "Epoch: 713/1000  Loss: 0.0000, Val Loss: 0.0909\n"
          ]
        },
        {
          "name": "stderr",
          "output_type": "stream",
          "text": [
            "Epoch 714/1000: 100%|██████████| 13/13 [00:03<00:00,  4.08batch/s]\n"
          ]
        },
        {
          "name": "stdout",
          "output_type": "stream",
          "text": [
            "Epoch: 714/1000  Loss: 0.0000, Val Loss: 0.0909\n"
          ]
        },
        {
          "name": "stderr",
          "output_type": "stream",
          "text": [
            "Epoch 715/1000: 100%|██████████| 13/13 [00:02<00:00,  4.41batch/s]\n"
          ]
        },
        {
          "name": "stdout",
          "output_type": "stream",
          "text": [
            "Epoch: 715/1000  Loss: 0.0000, Val Loss: 0.0909\n"
          ]
        },
        {
          "name": "stderr",
          "output_type": "stream",
          "text": [
            "Epoch 716/1000: 100%|██████████| 13/13 [00:02<00:00,  4.45batch/s]\n"
          ]
        },
        {
          "name": "stdout",
          "output_type": "stream",
          "text": [
            "Epoch: 716/1000  Loss: 0.0000, Val Loss: 0.0909\n"
          ]
        },
        {
          "name": "stderr",
          "output_type": "stream",
          "text": [
            "Epoch 717/1000: 100%|██████████| 13/13 [00:02<00:00,  4.42batch/s]\n"
          ]
        },
        {
          "name": "stdout",
          "output_type": "stream",
          "text": [
            "Epoch: 717/1000  Loss: 0.0000, Val Loss: 0.0909\n"
          ]
        },
        {
          "name": "stderr",
          "output_type": "stream",
          "text": [
            "Epoch 718/1000: 100%|██████████| 13/13 [00:03<00:00,  4.17batch/s]\n"
          ]
        },
        {
          "name": "stdout",
          "output_type": "stream",
          "text": [
            "Epoch: 718/1000  Loss: 0.0000, Val Loss: 0.0909\n"
          ]
        },
        {
          "name": "stderr",
          "output_type": "stream",
          "text": [
            "Epoch 719/1000: 100%|██████████| 13/13 [00:03<00:00,  4.25batch/s]\n"
          ]
        },
        {
          "name": "stdout",
          "output_type": "stream",
          "text": [
            "Epoch: 719/1000  Loss: 0.0000, Val Loss: 0.0909\n"
          ]
        },
        {
          "name": "stderr",
          "output_type": "stream",
          "text": [
            "Epoch 720/1000: 100%|██████████| 13/13 [00:02<00:00,  4.43batch/s]\n"
          ]
        },
        {
          "name": "stdout",
          "output_type": "stream",
          "text": [
            "Epoch: 720/1000  Loss: 0.0000, Val Loss: 0.0909\n"
          ]
        },
        {
          "name": "stderr",
          "output_type": "stream",
          "text": [
            "Epoch 721/1000: 100%|██████████| 13/13 [00:02<00:00,  4.42batch/s]\n"
          ]
        },
        {
          "name": "stdout",
          "output_type": "stream",
          "text": [
            "Epoch: 721/1000  Loss: 0.0000, Val Loss: 0.0909\n"
          ]
        },
        {
          "name": "stderr",
          "output_type": "stream",
          "text": [
            "Epoch 722/1000: 100%|██████████| 13/13 [00:02<00:00,  4.38batch/s]\n"
          ]
        },
        {
          "name": "stdout",
          "output_type": "stream",
          "text": [
            "Epoch: 722/1000  Loss: 0.0000, Val Loss: 0.0909\n"
          ]
        },
        {
          "name": "stderr",
          "output_type": "stream",
          "text": [
            "Epoch 723/1000: 100%|██████████| 13/13 [00:03<00:00,  4.17batch/s]\n"
          ]
        },
        {
          "name": "stdout",
          "output_type": "stream",
          "text": [
            "Epoch: 723/1000  Loss: 0.0000, Val Loss: 0.0909\n"
          ]
        },
        {
          "name": "stderr",
          "output_type": "stream",
          "text": [
            "Epoch 724/1000: 100%|██████████| 13/13 [00:02<00:00,  4.36batch/s]\n"
          ]
        },
        {
          "name": "stdout",
          "output_type": "stream",
          "text": [
            "Epoch: 724/1000  Loss: 0.0000, Val Loss: 0.0909\n"
          ]
        },
        {
          "name": "stderr",
          "output_type": "stream",
          "text": [
            "Epoch 725/1000: 100%|██████████| 13/13 [00:02<00:00,  4.38batch/s]\n"
          ]
        },
        {
          "name": "stdout",
          "output_type": "stream",
          "text": [
            "Epoch: 725/1000  Loss: 0.0000, Val Loss: 0.0909\n"
          ]
        },
        {
          "name": "stderr",
          "output_type": "stream",
          "text": [
            "Epoch 726/1000: 100%|██████████| 13/13 [00:02<00:00,  4.41batch/s]\n"
          ]
        },
        {
          "name": "stdout",
          "output_type": "stream",
          "text": [
            "Epoch: 726/1000  Loss: 0.0000, Val Loss: 0.0909\n"
          ]
        },
        {
          "name": "stderr",
          "output_type": "stream",
          "text": [
            "Epoch 727/1000: 100%|██████████| 13/13 [00:03<00:00,  4.22batch/s]\n"
          ]
        },
        {
          "name": "stdout",
          "output_type": "stream",
          "text": [
            "Epoch: 727/1000  Loss: 0.0000, Val Loss: 0.0909\n"
          ]
        },
        {
          "name": "stderr",
          "output_type": "stream",
          "text": [
            "Epoch 728/1000: 100%|██████████| 13/13 [00:03<00:00,  4.29batch/s]\n"
          ]
        },
        {
          "name": "stdout",
          "output_type": "stream",
          "text": [
            "Epoch: 728/1000  Loss: 0.0000, Val Loss: 0.0909\n"
          ]
        },
        {
          "name": "stderr",
          "output_type": "stream",
          "text": [
            "Epoch 729/1000: 100%|██████████| 13/13 [00:02<00:00,  4.40batch/s]\n"
          ]
        },
        {
          "name": "stdout",
          "output_type": "stream",
          "text": [
            "Epoch: 729/1000  Loss: 0.0000, Val Loss: 0.0909\n"
          ]
        },
        {
          "name": "stderr",
          "output_type": "stream",
          "text": [
            "Epoch 730/1000: 100%|██████████| 13/13 [00:02<00:00,  4.43batch/s]\n"
          ]
        },
        {
          "name": "stdout",
          "output_type": "stream",
          "text": [
            "Epoch: 730/1000  Loss: 0.0000, Val Loss: 0.0909\n"
          ]
        },
        {
          "name": "stderr",
          "output_type": "stream",
          "text": [
            "Epoch 731/1000: 100%|██████████| 13/13 [00:02<00:00,  4.42batch/s]\n"
          ]
        },
        {
          "name": "stdout",
          "output_type": "stream",
          "text": [
            "Epoch: 731/1000  Loss: 0.0000, Val Loss: 0.0909\n"
          ]
        },
        {
          "name": "stderr",
          "output_type": "stream",
          "text": [
            "Epoch 732/1000: 100%|██████████| 13/13 [00:03<00:00,  4.11batch/s]\n"
          ]
        },
        {
          "name": "stdout",
          "output_type": "stream",
          "text": [
            "Epoch: 732/1000  Loss: 0.0000, Val Loss: 0.0909\n"
          ]
        },
        {
          "name": "stderr",
          "output_type": "stream",
          "text": [
            "Epoch 733/1000: 100%|██████████| 13/13 [00:03<00:00,  4.33batch/s]\n"
          ]
        },
        {
          "name": "stdout",
          "output_type": "stream",
          "text": [
            "Epoch: 733/1000  Loss: 0.0000, Val Loss: 0.0909\n"
          ]
        },
        {
          "name": "stderr",
          "output_type": "stream",
          "text": [
            "Epoch 734/1000: 100%|██████████| 13/13 [00:02<00:00,  4.46batch/s]\n"
          ]
        },
        {
          "name": "stdout",
          "output_type": "stream",
          "text": [
            "Epoch: 734/1000  Loss: 0.0000, Val Loss: 0.0909\n"
          ]
        },
        {
          "name": "stderr",
          "output_type": "stream",
          "text": [
            "Epoch 735/1000: 100%|██████████| 13/13 [00:02<00:00,  4.42batch/s]\n"
          ]
        },
        {
          "name": "stdout",
          "output_type": "stream",
          "text": [
            "Epoch: 735/1000  Loss: 0.0000, Val Loss: 0.0909\n"
          ]
        },
        {
          "name": "stderr",
          "output_type": "stream",
          "text": [
            "Epoch 736/1000: 100%|██████████| 13/13 [00:03<00:00,  4.31batch/s]\n"
          ]
        },
        {
          "name": "stdout",
          "output_type": "stream",
          "text": [
            "Epoch: 736/1000  Loss: 0.0000, Val Loss: 0.0909\n"
          ]
        },
        {
          "name": "stderr",
          "output_type": "stream",
          "text": [
            "Epoch 737/1000: 100%|██████████| 13/13 [00:03<00:00,  4.18batch/s]\n"
          ]
        },
        {
          "name": "stdout",
          "output_type": "stream",
          "text": [
            "Epoch: 737/1000  Loss: 0.0000, Val Loss: 0.0909\n"
          ]
        },
        {
          "name": "stderr",
          "output_type": "stream",
          "text": [
            "Epoch 738/1000: 100%|██████████| 13/13 [00:02<00:00,  4.44batch/s]\n"
          ]
        },
        {
          "name": "stdout",
          "output_type": "stream",
          "text": [
            "Epoch: 738/1000  Loss: 0.0000, Val Loss: 0.0909\n"
          ]
        },
        {
          "name": "stderr",
          "output_type": "stream",
          "text": [
            "Epoch 739/1000: 100%|██████████| 13/13 [00:02<00:00,  4.45batch/s]\n"
          ]
        },
        {
          "name": "stdout",
          "output_type": "stream",
          "text": [
            "Epoch: 739/1000  Loss: 0.0000, Val Loss: 0.0909\n"
          ]
        },
        {
          "name": "stderr",
          "output_type": "stream",
          "text": [
            "Epoch 740/1000: 100%|██████████| 13/13 [00:02<00:00,  4.41batch/s]\n"
          ]
        },
        {
          "name": "stdout",
          "output_type": "stream",
          "text": [
            "Epoch: 740/1000  Loss: 0.0000, Val Loss: 0.0909\n"
          ]
        },
        {
          "name": "stderr",
          "output_type": "stream",
          "text": [
            "Epoch 741/1000: 100%|██████████| 13/13 [00:03<00:00,  4.16batch/s]\n"
          ]
        },
        {
          "name": "stdout",
          "output_type": "stream",
          "text": [
            "Epoch: 741/1000  Loss: 0.0000, Val Loss: 0.0909\n"
          ]
        },
        {
          "name": "stderr",
          "output_type": "stream",
          "text": [
            "Epoch 742/1000: 100%|██████████| 13/13 [00:03<00:00,  4.28batch/s]\n"
          ]
        },
        {
          "name": "stdout",
          "output_type": "stream",
          "text": [
            "Epoch: 742/1000  Loss: 0.0000, Val Loss: 0.0909\n"
          ]
        },
        {
          "name": "stderr",
          "output_type": "stream",
          "text": [
            "Epoch 743/1000: 100%|██████████| 13/13 [00:02<00:00,  4.45batch/s]\n"
          ]
        },
        {
          "name": "stdout",
          "output_type": "stream",
          "text": [
            "Epoch: 743/1000  Loss: 0.0000, Val Loss: 0.0909\n"
          ]
        },
        {
          "name": "stderr",
          "output_type": "stream",
          "text": [
            "Epoch 744/1000: 100%|██████████| 13/13 [00:02<00:00,  4.46batch/s]\n"
          ]
        },
        {
          "name": "stdout",
          "output_type": "stream",
          "text": [
            "Epoch: 744/1000  Loss: 0.0000, Val Loss: 0.0909\n"
          ]
        },
        {
          "name": "stderr",
          "output_type": "stream",
          "text": [
            "Epoch 745/1000: 100%|██████████| 13/13 [00:02<00:00,  4.34batch/s]\n"
          ]
        },
        {
          "name": "stdout",
          "output_type": "stream",
          "text": [
            "Epoch: 745/1000  Loss: 0.0000, Val Loss: 0.0909\n"
          ]
        },
        {
          "name": "stderr",
          "output_type": "stream",
          "text": [
            "Epoch 746/1000: 100%|██████████| 13/13 [00:03<00:00,  4.15batch/s]\n"
          ]
        },
        {
          "name": "stdout",
          "output_type": "stream",
          "text": [
            "Epoch: 746/1000  Loss: 0.0000, Val Loss: 0.0909\n"
          ]
        },
        {
          "name": "stderr",
          "output_type": "stream",
          "text": [
            "Epoch 747/1000: 100%|██████████| 13/13 [00:02<00:00,  4.39batch/s]\n"
          ]
        },
        {
          "name": "stdout",
          "output_type": "stream",
          "text": [
            "Epoch: 747/1000  Loss: 0.0000, Val Loss: 0.0909\n"
          ]
        },
        {
          "name": "stderr",
          "output_type": "stream",
          "text": [
            "Epoch 748/1000: 100%|██████████| 13/13 [00:02<00:00,  4.40batch/s]\n"
          ]
        },
        {
          "name": "stdout",
          "output_type": "stream",
          "text": [
            "Epoch: 748/1000  Loss: 0.0000, Val Loss: 0.0909\n"
          ]
        },
        {
          "name": "stderr",
          "output_type": "stream",
          "text": [
            "Epoch 749/1000: 100%|██████████| 13/13 [00:02<00:00,  4.45batch/s]\n"
          ]
        },
        {
          "name": "stdout",
          "output_type": "stream",
          "text": [
            "Epoch: 749/1000  Loss: 0.0000, Val Loss: 0.0909\n"
          ]
        },
        {
          "name": "stderr",
          "output_type": "stream",
          "text": [
            "Epoch 750/1000: 100%|██████████| 13/13 [00:03<00:00,  4.18batch/s]\n"
          ]
        },
        {
          "name": "stdout",
          "output_type": "stream",
          "text": [
            "Epoch: 750/1000  Loss: 0.0000, Val Loss: 0.0909\n"
          ]
        },
        {
          "name": "stderr",
          "output_type": "stream",
          "text": [
            "Epoch 751/1000: 100%|██████████| 13/13 [00:03<00:00,  4.30batch/s]\n"
          ]
        },
        {
          "name": "stdout",
          "output_type": "stream",
          "text": [
            "Epoch: 751/1000  Loss: 0.0000, Val Loss: 0.0909\n"
          ]
        },
        {
          "name": "stderr",
          "output_type": "stream",
          "text": [
            "Epoch 752/1000: 100%|██████████| 13/13 [00:02<00:00,  4.48batch/s]\n"
          ]
        },
        {
          "name": "stdout",
          "output_type": "stream",
          "text": [
            "Epoch: 752/1000  Loss: 0.0000, Val Loss: 0.0909\n"
          ]
        },
        {
          "name": "stderr",
          "output_type": "stream",
          "text": [
            "Epoch 753/1000: 100%|██████████| 13/13 [00:02<00:00,  4.50batch/s]\n"
          ]
        },
        {
          "name": "stdout",
          "output_type": "stream",
          "text": [
            "Epoch: 753/1000  Loss: 0.0000, Val Loss: 0.0909\n"
          ]
        },
        {
          "name": "stderr",
          "output_type": "stream",
          "text": [
            "Epoch 754/1000: 100%|██████████| 13/13 [00:02<00:00,  4.34batch/s]\n"
          ]
        },
        {
          "name": "stdout",
          "output_type": "stream",
          "text": [
            "Epoch: 754/1000  Loss: 0.0000, Val Loss: 0.0909\n"
          ]
        },
        {
          "name": "stderr",
          "output_type": "stream",
          "text": [
            "Epoch 755/1000: 100%|██████████| 13/13 [00:03<00:00,  4.18batch/s]\n"
          ]
        },
        {
          "name": "stdout",
          "output_type": "stream",
          "text": [
            "Epoch: 755/1000  Loss: 0.0000, Val Loss: 0.0909\n"
          ]
        },
        {
          "name": "stderr",
          "output_type": "stream",
          "text": [
            "Epoch 756/1000: 100%|██████████| 13/13 [00:02<00:00,  4.40batch/s]\n"
          ]
        },
        {
          "name": "stdout",
          "output_type": "stream",
          "text": [
            "Epoch: 756/1000  Loss: 0.0000, Val Loss: 0.0909\n"
          ]
        },
        {
          "name": "stderr",
          "output_type": "stream",
          "text": [
            "Epoch 757/1000: 100%|██████████| 13/13 [00:02<00:00,  4.43batch/s]\n"
          ]
        },
        {
          "name": "stdout",
          "output_type": "stream",
          "text": [
            "Epoch: 757/1000  Loss: 0.0000, Val Loss: 0.0909\n"
          ]
        },
        {
          "name": "stderr",
          "output_type": "stream",
          "text": [
            "Epoch 758/1000: 100%|██████████| 13/13 [00:02<00:00,  4.44batch/s]\n"
          ]
        },
        {
          "name": "stdout",
          "output_type": "stream",
          "text": [
            "Epoch: 758/1000  Loss: 0.0000, Val Loss: 0.0909\n"
          ]
        },
        {
          "name": "stderr",
          "output_type": "stream",
          "text": [
            "Epoch 759/1000: 100%|██████████| 13/13 [00:03<00:00,  4.13batch/s]\n"
          ]
        },
        {
          "name": "stdout",
          "output_type": "stream",
          "text": [
            "Epoch: 759/1000  Loss: 0.0000, Val Loss: 0.0909\n"
          ]
        },
        {
          "name": "stderr",
          "output_type": "stream",
          "text": [
            "Epoch 760/1000: 100%|██████████| 13/13 [00:02<00:00,  4.37batch/s]\n"
          ]
        },
        {
          "name": "stdout",
          "output_type": "stream",
          "text": [
            "Epoch: 760/1000  Loss: 0.0000, Val Loss: 0.0909\n"
          ]
        },
        {
          "name": "stderr",
          "output_type": "stream",
          "text": [
            "Epoch 761/1000: 100%|██████████| 13/13 [00:02<00:00,  4.44batch/s]\n"
          ]
        },
        {
          "name": "stdout",
          "output_type": "stream",
          "text": [
            "Epoch: 761/1000  Loss: 0.0000, Val Loss: 0.0909\n"
          ]
        },
        {
          "name": "stderr",
          "output_type": "stream",
          "text": [
            "Epoch 762/1000: 100%|██████████| 13/13 [00:02<00:00,  4.46batch/s]\n"
          ]
        },
        {
          "name": "stdout",
          "output_type": "stream",
          "text": [
            "Epoch: 762/1000  Loss: 0.0000, Val Loss: 0.0909\n"
          ]
        },
        {
          "name": "stderr",
          "output_type": "stream",
          "text": [
            "Epoch 763/1000: 100%|██████████| 13/13 [00:03<00:00,  4.30batch/s]\n"
          ]
        },
        {
          "name": "stdout",
          "output_type": "stream",
          "text": [
            "Epoch: 763/1000  Loss: 0.0000, Val Loss: 0.0909\n"
          ]
        },
        {
          "name": "stderr",
          "output_type": "stream",
          "text": [
            "Epoch 764/1000: 100%|██████████| 13/13 [00:03<00:00,  4.15batch/s]\n"
          ]
        },
        {
          "name": "stdout",
          "output_type": "stream",
          "text": [
            "Epoch: 764/1000  Loss: 0.0000, Val Loss: 0.0909\n"
          ]
        },
        {
          "name": "stderr",
          "output_type": "stream",
          "text": [
            "Epoch 765/1000: 100%|██████████| 13/13 [00:02<00:00,  4.44batch/s]\n"
          ]
        },
        {
          "name": "stdout",
          "output_type": "stream",
          "text": [
            "Epoch: 765/1000  Loss: 0.0000, Val Loss: 0.0909\n"
          ]
        },
        {
          "name": "stderr",
          "output_type": "stream",
          "text": [
            "Epoch 766/1000: 100%|██████████| 13/13 [00:02<00:00,  4.42batch/s]\n"
          ]
        },
        {
          "name": "stdout",
          "output_type": "stream",
          "text": [
            "Epoch: 766/1000  Loss: 0.0000, Val Loss: 0.0909\n"
          ]
        },
        {
          "name": "stderr",
          "output_type": "stream",
          "text": [
            "Epoch 767/1000: 100%|██████████| 13/13 [00:02<00:00,  4.43batch/s]\n"
          ]
        },
        {
          "name": "stdout",
          "output_type": "stream",
          "text": [
            "Epoch: 767/1000  Loss: 0.0000, Val Loss: 0.0909\n"
          ]
        },
        {
          "name": "stderr",
          "output_type": "stream",
          "text": [
            "Epoch 768/1000: 100%|██████████| 13/13 [00:03<00:00,  4.12batch/s]\n"
          ]
        },
        {
          "name": "stdout",
          "output_type": "stream",
          "text": [
            "Epoch: 768/1000  Loss: 0.0000, Val Loss: 0.0909\n"
          ]
        },
        {
          "name": "stderr",
          "output_type": "stream",
          "text": [
            "Epoch 769/1000: 100%|██████████| 13/13 [00:03<00:00,  4.26batch/s]\n"
          ]
        },
        {
          "name": "stdout",
          "output_type": "stream",
          "text": [
            "Epoch: 769/1000  Loss: 0.0000, Val Loss: 0.0909\n"
          ]
        },
        {
          "name": "stderr",
          "output_type": "stream",
          "text": [
            "Epoch 770/1000: 100%|██████████| 13/13 [00:02<00:00,  4.48batch/s]\n"
          ]
        },
        {
          "name": "stdout",
          "output_type": "stream",
          "text": [
            "Epoch: 770/1000  Loss: 0.0000, Val Loss: 0.0909\n"
          ]
        },
        {
          "name": "stderr",
          "output_type": "stream",
          "text": [
            "Epoch 771/1000: 100%|██████████| 13/13 [00:02<00:00,  4.47batch/s]\n"
          ]
        },
        {
          "name": "stdout",
          "output_type": "stream",
          "text": [
            "Epoch: 771/1000  Loss: 0.0000, Val Loss: 0.0909\n"
          ]
        },
        {
          "name": "stderr",
          "output_type": "stream",
          "text": [
            "Epoch 772/1000: 100%|██████████| 13/13 [00:03<00:00,  4.32batch/s]\n"
          ]
        },
        {
          "name": "stdout",
          "output_type": "stream",
          "text": [
            "Epoch: 772/1000  Loss: 0.0000, Val Loss: 0.0909\n"
          ]
        },
        {
          "name": "stderr",
          "output_type": "stream",
          "text": [
            "Epoch 773/1000: 100%|██████████| 13/13 [00:03<00:00,  4.24batch/s]\n"
          ]
        },
        {
          "name": "stdout",
          "output_type": "stream",
          "text": [
            "Epoch: 773/1000  Loss: 0.0000, Val Loss: 0.0909\n"
          ]
        },
        {
          "name": "stderr",
          "output_type": "stream",
          "text": [
            "Epoch 774/1000: 100%|██████████| 13/13 [00:02<00:00,  4.45batch/s]\n"
          ]
        },
        {
          "name": "stdout",
          "output_type": "stream",
          "text": [
            "Epoch: 774/1000  Loss: 0.0000, Val Loss: 0.0909\n"
          ]
        },
        {
          "name": "stderr",
          "output_type": "stream",
          "text": [
            "Epoch 775/1000: 100%|██████████| 13/13 [00:02<00:00,  4.41batch/s]\n"
          ]
        },
        {
          "name": "stdout",
          "output_type": "stream",
          "text": [
            "Epoch: 775/1000  Loss: 0.0000, Val Loss: 0.0909\n"
          ]
        },
        {
          "name": "stderr",
          "output_type": "stream",
          "text": [
            "Epoch 776/1000: 100%|██████████| 13/13 [00:02<00:00,  4.44batch/s]\n"
          ]
        },
        {
          "name": "stdout",
          "output_type": "stream",
          "text": [
            "Epoch: 776/1000  Loss: 0.0000, Val Loss: 0.0909\n"
          ]
        },
        {
          "name": "stderr",
          "output_type": "stream",
          "text": [
            "Epoch 777/1000: 100%|██████████| 13/13 [00:03<00:00,  4.18batch/s]\n"
          ]
        },
        {
          "name": "stdout",
          "output_type": "stream",
          "text": [
            "Epoch: 777/1000  Loss: 0.0000, Val Loss: 0.0909\n"
          ]
        },
        {
          "name": "stderr",
          "output_type": "stream",
          "text": [
            "Epoch 778/1000: 100%|██████████| 13/13 [00:03<00:00,  4.32batch/s]\n"
          ]
        },
        {
          "name": "stdout",
          "output_type": "stream",
          "text": [
            "Epoch: 778/1000  Loss: 0.0000, Val Loss: 0.0909\n"
          ]
        },
        {
          "name": "stderr",
          "output_type": "stream",
          "text": [
            "Epoch 779/1000: 100%|██████████| 13/13 [00:02<00:00,  4.44batch/s]\n"
          ]
        },
        {
          "name": "stdout",
          "output_type": "stream",
          "text": [
            "Epoch: 779/1000  Loss: 0.0000, Val Loss: 0.0909\n"
          ]
        },
        {
          "name": "stderr",
          "output_type": "stream",
          "text": [
            "Epoch 780/1000: 100%|██████████| 13/13 [00:02<00:00,  4.45batch/s]\n"
          ]
        },
        {
          "name": "stdout",
          "output_type": "stream",
          "text": [
            "Epoch: 780/1000  Loss: 0.0000, Val Loss: 0.0909\n"
          ]
        },
        {
          "name": "stderr",
          "output_type": "stream",
          "text": [
            "Epoch 781/1000: 100%|██████████| 13/13 [00:02<00:00,  4.34batch/s]\n"
          ]
        },
        {
          "name": "stdout",
          "output_type": "stream",
          "text": [
            "Epoch: 781/1000  Loss: 0.0000, Val Loss: 0.0909\n"
          ]
        },
        {
          "name": "stderr",
          "output_type": "stream",
          "text": [
            "Epoch 782/1000: 100%|██████████| 13/13 [00:03<00:00,  4.13batch/s]\n"
          ]
        },
        {
          "name": "stdout",
          "output_type": "stream",
          "text": [
            "Epoch: 782/1000  Loss: 0.0000, Val Loss: 0.0909\n"
          ]
        },
        {
          "name": "stderr",
          "output_type": "stream",
          "text": [
            "Epoch 783/1000: 100%|██████████| 13/13 [00:02<00:00,  4.41batch/s]\n"
          ]
        },
        {
          "name": "stdout",
          "output_type": "stream",
          "text": [
            "Epoch: 783/1000  Loss: 0.0000, Val Loss: 0.0909\n"
          ]
        },
        {
          "name": "stderr",
          "output_type": "stream",
          "text": [
            "Epoch 784/1000: 100%|██████████| 13/13 [00:02<00:00,  4.42batch/s]\n"
          ]
        },
        {
          "name": "stdout",
          "output_type": "stream",
          "text": [
            "Epoch: 784/1000  Loss: 0.0000, Val Loss: 0.0909\n"
          ]
        },
        {
          "name": "stderr",
          "output_type": "stream",
          "text": [
            "Epoch 785/1000: 100%|██████████| 13/13 [00:02<00:00,  4.42batch/s]\n"
          ]
        },
        {
          "name": "stdout",
          "output_type": "stream",
          "text": [
            "Epoch: 785/1000  Loss: 0.0000, Val Loss: 0.0909\n"
          ]
        },
        {
          "name": "stderr",
          "output_type": "stream",
          "text": [
            "Epoch 786/1000: 100%|██████████| 13/13 [00:03<00:00,  4.29batch/s]\n"
          ]
        },
        {
          "name": "stdout",
          "output_type": "stream",
          "text": [
            "Epoch: 786/1000  Loss: 0.0000, Val Loss: 0.0909\n"
          ]
        },
        {
          "name": "stderr",
          "output_type": "stream",
          "text": [
            "Epoch 787/1000: 100%|██████████| 13/13 [00:03<00:00,  4.23batch/s]\n"
          ]
        },
        {
          "name": "stdout",
          "output_type": "stream",
          "text": [
            "Epoch: 787/1000  Loss: 0.0000, Val Loss: 0.0859\n"
          ]
        },
        {
          "name": "stderr",
          "output_type": "stream",
          "text": [
            "Epoch 788/1000: 100%|██████████| 13/13 [00:02<00:00,  4.48batch/s]\n"
          ]
        },
        {
          "name": "stdout",
          "output_type": "stream",
          "text": [
            "Epoch: 788/1000  Loss: 0.0000, Val Loss: 0.0859\n"
          ]
        },
        {
          "name": "stderr",
          "output_type": "stream",
          "text": [
            "Epoch 789/1000: 100%|██████████| 13/13 [00:02<00:00,  4.43batch/s]\n"
          ]
        },
        {
          "name": "stdout",
          "output_type": "stream",
          "text": [
            "Epoch: 789/1000  Loss: 0.0000, Val Loss: 0.0859\n"
          ]
        },
        {
          "name": "stderr",
          "output_type": "stream",
          "text": [
            "Epoch 790/1000: 100%|██████████| 13/13 [00:03<00:00,  4.33batch/s]\n"
          ]
        },
        {
          "name": "stdout",
          "output_type": "stream",
          "text": [
            "Epoch: 790/1000  Loss: 0.0000, Val Loss: 0.0859\n"
          ]
        },
        {
          "name": "stderr",
          "output_type": "stream",
          "text": [
            "Epoch 791/1000: 100%|██████████| 13/13 [00:03<00:00,  4.20batch/s]\n"
          ]
        },
        {
          "name": "stdout",
          "output_type": "stream",
          "text": [
            "Epoch: 791/1000  Loss: 0.0000, Val Loss: 0.0859\n"
          ]
        },
        {
          "name": "stderr",
          "output_type": "stream",
          "text": [
            "Epoch 792/1000: 100%|██████████| 13/13 [00:02<00:00,  4.40batch/s]\n"
          ]
        },
        {
          "name": "stdout",
          "output_type": "stream",
          "text": [
            "Epoch: 792/1000  Loss: 0.0000, Val Loss: 0.0859\n"
          ]
        },
        {
          "name": "stderr",
          "output_type": "stream",
          "text": [
            "Epoch 793/1000: 100%|██████████| 13/13 [00:02<00:00,  4.42batch/s]\n"
          ]
        },
        {
          "name": "stdout",
          "output_type": "stream",
          "text": [
            "Epoch: 793/1000  Loss: 0.0000, Val Loss: 0.0859\n"
          ]
        },
        {
          "name": "stderr",
          "output_type": "stream",
          "text": [
            "Epoch 794/1000: 100%|██████████| 13/13 [00:02<00:00,  4.44batch/s]\n"
          ]
        },
        {
          "name": "stdout",
          "output_type": "stream",
          "text": [
            "Epoch: 794/1000  Loss: 0.0000, Val Loss: 0.0859\n"
          ]
        },
        {
          "name": "stderr",
          "output_type": "stream",
          "text": [
            "Epoch 795/1000: 100%|██████████| 13/13 [00:03<00:00,  4.23batch/s]\n"
          ]
        },
        {
          "name": "stdout",
          "output_type": "stream",
          "text": [
            "Epoch: 795/1000  Loss: 0.0000, Val Loss: 0.0859\n"
          ]
        },
        {
          "name": "stderr",
          "output_type": "stream",
          "text": [
            "Epoch 796/1000: 100%|██████████| 13/13 [00:03<00:00,  4.31batch/s]\n"
          ]
        },
        {
          "name": "stdout",
          "output_type": "stream",
          "text": [
            "Epoch: 796/1000  Loss: 0.0000, Val Loss: 0.0859\n"
          ]
        },
        {
          "name": "stderr",
          "output_type": "stream",
          "text": [
            "Epoch 797/1000: 100%|██████████| 13/13 [00:02<00:00,  4.45batch/s]\n"
          ]
        },
        {
          "name": "stdout",
          "output_type": "stream",
          "text": [
            "Epoch: 797/1000  Loss: 0.0000, Val Loss: 0.0859\n"
          ]
        },
        {
          "name": "stderr",
          "output_type": "stream",
          "text": [
            "Epoch 798/1000: 100%|██████████| 13/13 [00:02<00:00,  4.44batch/s]\n"
          ]
        },
        {
          "name": "stdout",
          "output_type": "stream",
          "text": [
            "Epoch: 798/1000  Loss: 0.0000, Val Loss: 0.0859\n"
          ]
        },
        {
          "name": "stderr",
          "output_type": "stream",
          "text": [
            "Epoch 799/1000: 100%|██████████| 13/13 [00:02<00:00,  4.37batch/s]\n"
          ]
        },
        {
          "name": "stdout",
          "output_type": "stream",
          "text": [
            "Epoch: 799/1000  Loss: 0.0000, Val Loss: 0.0859\n"
          ]
        },
        {
          "name": "stderr",
          "output_type": "stream",
          "text": [
            "Epoch 800/1000: 100%|██████████| 13/13 [00:03<00:00,  4.21batch/s]\n"
          ]
        },
        {
          "name": "stdout",
          "output_type": "stream",
          "text": [
            "Epoch: 800/1000  Loss: 0.0000, Val Loss: 0.0859\n"
          ]
        },
        {
          "name": "stderr",
          "output_type": "stream",
          "text": [
            "Epoch 801/1000: 100%|██████████| 13/13 [00:02<00:00,  4.42batch/s]\n"
          ]
        },
        {
          "name": "stdout",
          "output_type": "stream",
          "text": [
            "Epoch: 801/1000  Loss: 0.0000, Val Loss: 0.0859\n"
          ]
        },
        {
          "name": "stderr",
          "output_type": "stream",
          "text": [
            "Epoch 802/1000: 100%|██████████| 13/13 [00:02<00:00,  4.45batch/s]\n"
          ]
        },
        {
          "name": "stdout",
          "output_type": "stream",
          "text": [
            "Epoch: 802/1000  Loss: 0.0000, Val Loss: 0.0909\n"
          ]
        },
        {
          "name": "stderr",
          "output_type": "stream",
          "text": [
            "Epoch 803/1000: 100%|██████████| 13/13 [00:02<00:00,  4.48batch/s]\n"
          ]
        },
        {
          "name": "stdout",
          "output_type": "stream",
          "text": [
            "Epoch: 803/1000  Loss: 0.0000, Val Loss: 0.0909\n"
          ]
        },
        {
          "name": "stderr",
          "output_type": "stream",
          "text": [
            "Epoch 804/1000: 100%|██████████| 13/13 [00:03<00:00,  4.28batch/s]\n"
          ]
        },
        {
          "name": "stdout",
          "output_type": "stream",
          "text": [
            "Epoch: 804/1000  Loss: 0.0000, Val Loss: 0.0909\n"
          ]
        },
        {
          "name": "stderr",
          "output_type": "stream",
          "text": [
            "Epoch 805/1000: 100%|██████████| 13/13 [00:03<00:00,  4.26batch/s]\n"
          ]
        },
        {
          "name": "stdout",
          "output_type": "stream",
          "text": [
            "Epoch: 805/1000  Loss: 0.0000, Val Loss: 0.0909\n"
          ]
        },
        {
          "name": "stderr",
          "output_type": "stream",
          "text": [
            "Epoch 806/1000: 100%|██████████| 13/13 [00:02<00:00,  4.44batch/s]\n"
          ]
        },
        {
          "name": "stdout",
          "output_type": "stream",
          "text": [
            "Epoch: 806/1000  Loss: 0.0000, Val Loss: 0.0909\n"
          ]
        },
        {
          "name": "stderr",
          "output_type": "stream",
          "text": [
            "Epoch 807/1000: 100%|██████████| 13/13 [00:02<00:00,  4.44batch/s]\n"
          ]
        },
        {
          "name": "stdout",
          "output_type": "stream",
          "text": [
            "Epoch: 807/1000  Loss: 0.0000, Val Loss: 0.0909\n"
          ]
        },
        {
          "name": "stderr",
          "output_type": "stream",
          "text": [
            "Epoch 808/1000: 100%|██████████| 13/13 [00:02<00:00,  4.40batch/s]\n"
          ]
        },
        {
          "name": "stdout",
          "output_type": "stream",
          "text": [
            "Epoch: 808/1000  Loss: 0.0000, Val Loss: 0.0909\n"
          ]
        },
        {
          "name": "stderr",
          "output_type": "stream",
          "text": [
            "Epoch 809/1000: 100%|██████████| 13/13 [00:03<00:00,  4.20batch/s]\n"
          ]
        },
        {
          "name": "stdout",
          "output_type": "stream",
          "text": [
            "Epoch: 809/1000  Loss: 0.0000, Val Loss: 0.0909\n"
          ]
        },
        {
          "name": "stderr",
          "output_type": "stream",
          "text": [
            "Epoch 810/1000: 100%|██████████| 13/13 [00:02<00:00,  4.38batch/s]\n"
          ]
        },
        {
          "name": "stdout",
          "output_type": "stream",
          "text": [
            "Epoch: 810/1000  Loss: 0.0000, Val Loss: 0.0909\n"
          ]
        },
        {
          "name": "stderr",
          "output_type": "stream",
          "text": [
            "Epoch 811/1000: 100%|██████████| 13/13 [00:02<00:00,  4.43batch/s]\n"
          ]
        },
        {
          "name": "stdout",
          "output_type": "stream",
          "text": [
            "Epoch: 811/1000  Loss: 0.0000, Val Loss: 0.0909\n"
          ]
        },
        {
          "name": "stderr",
          "output_type": "stream",
          "text": [
            "Epoch 812/1000: 100%|██████████| 13/13 [00:02<00:00,  4.46batch/s]\n"
          ]
        },
        {
          "name": "stdout",
          "output_type": "stream",
          "text": [
            "Epoch: 812/1000  Loss: 0.0000, Val Loss: 0.0859\n"
          ]
        },
        {
          "name": "stderr",
          "output_type": "stream",
          "text": [
            "Epoch 813/1000: 100%|██████████| 13/13 [00:03<00:00,  4.24batch/s]\n"
          ]
        },
        {
          "name": "stdout",
          "output_type": "stream",
          "text": [
            "Epoch: 813/1000  Loss: 0.0000, Val Loss: 0.0909\n"
          ]
        },
        {
          "name": "stderr",
          "output_type": "stream",
          "text": [
            "Epoch 814/1000: 100%|██████████| 13/13 [00:03<00:00,  4.26batch/s]\n"
          ]
        },
        {
          "name": "stdout",
          "output_type": "stream",
          "text": [
            "Epoch: 814/1000  Loss: 0.0000, Val Loss: 0.0859\n"
          ]
        },
        {
          "name": "stderr",
          "output_type": "stream",
          "text": [
            "Epoch 815/1000: 100%|██████████| 13/13 [00:02<00:00,  4.46batch/s]\n"
          ]
        },
        {
          "name": "stdout",
          "output_type": "stream",
          "text": [
            "Epoch: 815/1000  Loss: 0.0000, Val Loss: 0.0859\n"
          ]
        },
        {
          "name": "stderr",
          "output_type": "stream",
          "text": [
            "Epoch 816/1000: 100%|██████████| 13/13 [00:02<00:00,  4.42batch/s]\n"
          ]
        },
        {
          "name": "stdout",
          "output_type": "stream",
          "text": [
            "Epoch: 816/1000  Loss: 0.0000, Val Loss: 0.0859\n"
          ]
        },
        {
          "name": "stderr",
          "output_type": "stream",
          "text": [
            "Epoch 817/1000: 100%|██████████| 13/13 [00:02<00:00,  4.39batch/s]\n"
          ]
        },
        {
          "name": "stdout",
          "output_type": "stream",
          "text": [
            "Epoch: 817/1000  Loss: 0.0000, Val Loss: 0.0859\n"
          ]
        },
        {
          "name": "stderr",
          "output_type": "stream",
          "text": [
            "Epoch 818/1000: 100%|██████████| 13/13 [00:03<00:00,  4.06batch/s]\n"
          ]
        },
        {
          "name": "stdout",
          "output_type": "stream",
          "text": [
            "Epoch: 818/1000  Loss: 0.0000, Val Loss: 0.0859\n"
          ]
        },
        {
          "name": "stderr",
          "output_type": "stream",
          "text": [
            "Epoch 819/1000: 100%|██████████| 13/13 [00:03<00:00,  4.33batch/s]\n"
          ]
        },
        {
          "name": "stdout",
          "output_type": "stream",
          "text": [
            "Epoch: 819/1000  Loss: 0.0000, Val Loss: 0.0859\n"
          ]
        },
        {
          "name": "stderr",
          "output_type": "stream",
          "text": [
            "Epoch 820/1000: 100%|██████████| 13/13 [00:02<00:00,  4.42batch/s]\n"
          ]
        },
        {
          "name": "stdout",
          "output_type": "stream",
          "text": [
            "Epoch: 820/1000  Loss: 0.0000, Val Loss: 0.0859\n"
          ]
        },
        {
          "name": "stderr",
          "output_type": "stream",
          "text": [
            "Epoch 821/1000: 100%|██████████| 13/13 [00:02<00:00,  4.42batch/s]\n"
          ]
        },
        {
          "name": "stdout",
          "output_type": "stream",
          "text": [
            "Epoch: 821/1000  Loss: 0.0000, Val Loss: 0.0859\n"
          ]
        },
        {
          "name": "stderr",
          "output_type": "stream",
          "text": [
            "Epoch 822/1000: 100%|██████████| 13/13 [00:03<00:00,  4.25batch/s]\n"
          ]
        },
        {
          "name": "stdout",
          "output_type": "stream",
          "text": [
            "Epoch: 822/1000  Loss: 0.0000, Val Loss: 0.0859\n"
          ]
        },
        {
          "name": "stderr",
          "output_type": "stream",
          "text": [
            "Epoch 823/1000: 100%|██████████| 13/13 [00:03<00:00,  4.18batch/s]\n"
          ]
        },
        {
          "name": "stdout",
          "output_type": "stream",
          "text": [
            "Epoch: 823/1000  Loss: 0.0000, Val Loss: 0.0859\n"
          ]
        },
        {
          "name": "stderr",
          "output_type": "stream",
          "text": [
            "Epoch 824/1000: 100%|██████████| 13/13 [00:02<00:00,  4.45batch/s]\n"
          ]
        },
        {
          "name": "stdout",
          "output_type": "stream",
          "text": [
            "Epoch: 824/1000  Loss: 0.0000, Val Loss: 0.0859\n"
          ]
        },
        {
          "name": "stderr",
          "output_type": "stream",
          "text": [
            "Epoch 825/1000: 100%|██████████| 13/13 [00:02<00:00,  4.45batch/s]\n"
          ]
        },
        {
          "name": "stdout",
          "output_type": "stream",
          "text": [
            "Epoch: 825/1000  Loss: 0.0000, Val Loss: 0.0859\n"
          ]
        },
        {
          "name": "stderr",
          "output_type": "stream",
          "text": [
            "Epoch 826/1000: 100%|██████████| 13/13 [00:02<00:00,  4.45batch/s]\n"
          ]
        },
        {
          "name": "stdout",
          "output_type": "stream",
          "text": [
            "Epoch: 826/1000  Loss: 0.0000, Val Loss: 0.0859\n"
          ]
        },
        {
          "name": "stderr",
          "output_type": "stream",
          "text": [
            "Epoch 827/1000: 100%|██████████| 13/13 [00:03<00:00,  4.21batch/s]\n"
          ]
        },
        {
          "name": "stdout",
          "output_type": "stream",
          "text": [
            "Epoch: 827/1000  Loss: 0.0000, Val Loss: 0.0859\n"
          ]
        },
        {
          "name": "stderr",
          "output_type": "stream",
          "text": [
            "Epoch 828/1000: 100%|██████████| 13/13 [00:02<00:00,  4.38batch/s]\n"
          ]
        },
        {
          "name": "stdout",
          "output_type": "stream",
          "text": [
            "Epoch: 828/1000  Loss: 0.0000, Val Loss: 0.0859\n"
          ]
        },
        {
          "name": "stderr",
          "output_type": "stream",
          "text": [
            "Epoch 829/1000: 100%|██████████| 13/13 [00:02<00:00,  4.46batch/s]\n"
          ]
        },
        {
          "name": "stdout",
          "output_type": "stream",
          "text": [
            "Epoch: 829/1000  Loss: 0.0000, Val Loss: 0.0859\n"
          ]
        },
        {
          "name": "stderr",
          "output_type": "stream",
          "text": [
            "Epoch 830/1000: 100%|██████████| 13/13 [00:02<00:00,  4.39batch/s]\n"
          ]
        },
        {
          "name": "stdout",
          "output_type": "stream",
          "text": [
            "Epoch: 830/1000  Loss: 0.0000, Val Loss: 0.0859\n"
          ]
        },
        {
          "name": "stderr",
          "output_type": "stream",
          "text": [
            "Epoch 831/1000: 100%|██████████| 13/13 [00:03<00:00,  4.25batch/s]\n"
          ]
        },
        {
          "name": "stdout",
          "output_type": "stream",
          "text": [
            "Epoch: 831/1000  Loss: 0.0000, Val Loss: 0.0859\n"
          ]
        },
        {
          "name": "stderr",
          "output_type": "stream",
          "text": [
            "Epoch 832/1000: 100%|██████████| 13/13 [00:03<00:00,  4.24batch/s]\n"
          ]
        },
        {
          "name": "stdout",
          "output_type": "stream",
          "text": [
            "Epoch: 832/1000  Loss: 0.0000, Val Loss: 0.0859\n"
          ]
        },
        {
          "name": "stderr",
          "output_type": "stream",
          "text": [
            "Epoch 833/1000: 100%|██████████| 13/13 [00:02<00:00,  4.44batch/s]\n"
          ]
        },
        {
          "name": "stdout",
          "output_type": "stream",
          "text": [
            "Epoch: 833/1000  Loss: 0.0000, Val Loss: 0.0859\n"
          ]
        },
        {
          "name": "stderr",
          "output_type": "stream",
          "text": [
            "Epoch 834/1000: 100%|██████████| 13/13 [00:02<00:00,  4.43batch/s]\n"
          ]
        },
        {
          "name": "stdout",
          "output_type": "stream",
          "text": [
            "Epoch: 834/1000  Loss: 0.0000, Val Loss: 0.0909\n"
          ]
        },
        {
          "name": "stderr",
          "output_type": "stream",
          "text": [
            "Epoch 835/1000: 100%|██████████| 13/13 [00:02<00:00,  4.42batch/s]\n"
          ]
        },
        {
          "name": "stdout",
          "output_type": "stream",
          "text": [
            "Epoch: 835/1000  Loss: 0.0000, Val Loss: 0.0909\n"
          ]
        },
        {
          "name": "stderr",
          "output_type": "stream",
          "text": [
            "Epoch 836/1000: 100%|██████████| 13/13 [00:03<00:00,  4.20batch/s]\n"
          ]
        },
        {
          "name": "stdout",
          "output_type": "stream",
          "text": [
            "Epoch: 836/1000  Loss: 0.0000, Val Loss: 0.0909\n"
          ]
        },
        {
          "name": "stderr",
          "output_type": "stream",
          "text": [
            "Epoch 837/1000: 100%|██████████| 13/13 [00:02<00:00,  4.35batch/s]\n"
          ]
        },
        {
          "name": "stdout",
          "output_type": "stream",
          "text": [
            "Epoch: 837/1000  Loss: 0.0000, Val Loss: 0.0909\n"
          ]
        },
        {
          "name": "stderr",
          "output_type": "stream",
          "text": [
            "Epoch 838/1000: 100%|██████████| 13/13 [00:02<00:00,  4.42batch/s]\n"
          ]
        },
        {
          "name": "stdout",
          "output_type": "stream",
          "text": [
            "Epoch: 838/1000  Loss: 0.0000, Val Loss: 0.0909\n"
          ]
        },
        {
          "name": "stderr",
          "output_type": "stream",
          "text": [
            "Epoch 839/1000: 100%|██████████| 13/13 [00:02<00:00,  4.42batch/s]\n"
          ]
        },
        {
          "name": "stdout",
          "output_type": "stream",
          "text": [
            "Epoch: 839/1000  Loss: 0.0000, Val Loss: 0.0909\n"
          ]
        },
        {
          "name": "stderr",
          "output_type": "stream",
          "text": [
            "Epoch 840/1000: 100%|██████████| 13/13 [00:03<00:00,  4.25batch/s]\n"
          ]
        },
        {
          "name": "stdout",
          "output_type": "stream",
          "text": [
            "Epoch: 840/1000  Loss: 0.0000, Val Loss: 0.0909\n"
          ]
        },
        {
          "name": "stderr",
          "output_type": "stream",
          "text": [
            "Epoch 841/1000: 100%|██████████| 13/13 [00:03<00:00,  4.21batch/s]\n"
          ]
        },
        {
          "name": "stdout",
          "output_type": "stream",
          "text": [
            "Epoch: 841/1000  Loss: 0.0000, Val Loss: 0.0909\n"
          ]
        },
        {
          "name": "stderr",
          "output_type": "stream",
          "text": [
            "Epoch 842/1000: 100%|██████████| 13/13 [00:02<00:00,  4.43batch/s]\n"
          ]
        },
        {
          "name": "stdout",
          "output_type": "stream",
          "text": [
            "Epoch: 842/1000  Loss: 0.0000, Val Loss: 0.0909\n"
          ]
        },
        {
          "name": "stderr",
          "output_type": "stream",
          "text": [
            "Epoch 843/1000: 100%|██████████| 13/13 [00:02<00:00,  4.47batch/s]\n"
          ]
        },
        {
          "name": "stdout",
          "output_type": "stream",
          "text": [
            "Epoch: 843/1000  Loss: 0.0000, Val Loss: 0.0909\n"
          ]
        },
        {
          "name": "stderr",
          "output_type": "stream",
          "text": [
            "Epoch 844/1000: 100%|██████████| 13/13 [00:02<00:00,  4.40batch/s]\n"
          ]
        },
        {
          "name": "stdout",
          "output_type": "stream",
          "text": [
            "Epoch: 844/1000  Loss: 0.0000, Val Loss: 0.0909\n"
          ]
        },
        {
          "name": "stderr",
          "output_type": "stream",
          "text": [
            "Epoch 845/1000: 100%|██████████| 13/13 [00:03<00:00,  4.14batch/s]\n"
          ]
        },
        {
          "name": "stdout",
          "output_type": "stream",
          "text": [
            "Epoch: 845/1000  Loss: 0.0000, Val Loss: 0.0909\n"
          ]
        },
        {
          "name": "stderr",
          "output_type": "stream",
          "text": [
            "Epoch 846/1000: 100%|██████████| 13/13 [00:03<00:00,  4.33batch/s]\n"
          ]
        },
        {
          "name": "stdout",
          "output_type": "stream",
          "text": [
            "Epoch: 846/1000  Loss: 0.0000, Val Loss: 0.0909\n"
          ]
        },
        {
          "name": "stderr",
          "output_type": "stream",
          "text": [
            "Epoch 847/1000: 100%|██████████| 13/13 [00:02<00:00,  4.43batch/s]\n"
          ]
        },
        {
          "name": "stdout",
          "output_type": "stream",
          "text": [
            "Epoch: 847/1000  Loss: 0.0000, Val Loss: 0.0909\n"
          ]
        },
        {
          "name": "stderr",
          "output_type": "stream",
          "text": [
            "Epoch 848/1000: 100%|██████████| 13/13 [00:02<00:00,  4.45batch/s]\n"
          ]
        },
        {
          "name": "stdout",
          "output_type": "stream",
          "text": [
            "Epoch: 848/1000  Loss: 0.0000, Val Loss: 0.0909\n"
          ]
        },
        {
          "name": "stderr",
          "output_type": "stream",
          "text": [
            "Epoch 849/1000: 100%|██████████| 13/13 [00:03<00:00,  4.27batch/s]\n"
          ]
        },
        {
          "name": "stdout",
          "output_type": "stream",
          "text": [
            "Epoch: 849/1000  Loss: 0.0000, Val Loss: 0.0909\n"
          ]
        },
        {
          "name": "stderr",
          "output_type": "stream",
          "text": [
            "Epoch 850/1000: 100%|██████████| 13/13 [00:03<00:00,  4.22batch/s]\n"
          ]
        },
        {
          "name": "stdout",
          "output_type": "stream",
          "text": [
            "Epoch: 850/1000  Loss: 0.0000, Val Loss: 0.0909\n"
          ]
        },
        {
          "name": "stderr",
          "output_type": "stream",
          "text": [
            "Epoch 851/1000: 100%|██████████| 13/13 [00:02<00:00,  4.44batch/s]\n"
          ]
        },
        {
          "name": "stdout",
          "output_type": "stream",
          "text": [
            "Epoch: 851/1000  Loss: 0.0000, Val Loss: 0.0909\n"
          ]
        },
        {
          "name": "stderr",
          "output_type": "stream",
          "text": [
            "Epoch 852/1000: 100%|██████████| 13/13 [00:02<00:00,  4.42batch/s]\n"
          ]
        },
        {
          "name": "stdout",
          "output_type": "stream",
          "text": [
            "Epoch: 852/1000  Loss: 0.0000, Val Loss: 0.0909\n"
          ]
        },
        {
          "name": "stderr",
          "output_type": "stream",
          "text": [
            "Epoch 853/1000: 100%|██████████| 13/13 [00:02<00:00,  4.45batch/s]\n"
          ]
        },
        {
          "name": "stdout",
          "output_type": "stream",
          "text": [
            "Epoch: 853/1000  Loss: 0.0000, Val Loss: 0.0909\n"
          ]
        },
        {
          "name": "stderr",
          "output_type": "stream",
          "text": [
            "Epoch 854/1000: 100%|██████████| 13/13 [00:03<00:00,  4.20batch/s]\n"
          ]
        },
        {
          "name": "stdout",
          "output_type": "stream",
          "text": [
            "Epoch: 854/1000  Loss: 0.0000, Val Loss: 0.0909\n"
          ]
        },
        {
          "name": "stderr",
          "output_type": "stream",
          "text": [
            "Epoch 855/1000: 100%|██████████| 13/13 [00:02<00:00,  4.38batch/s]\n"
          ]
        },
        {
          "name": "stdout",
          "output_type": "stream",
          "text": [
            "Epoch: 855/1000  Loss: 0.0000, Val Loss: 0.0909\n"
          ]
        },
        {
          "name": "stderr",
          "output_type": "stream",
          "text": [
            "Epoch 856/1000: 100%|██████████| 13/13 [00:02<00:00,  4.46batch/s]\n"
          ]
        },
        {
          "name": "stdout",
          "output_type": "stream",
          "text": [
            "Epoch: 856/1000  Loss: 0.0000, Val Loss: 0.0909\n"
          ]
        },
        {
          "name": "stderr",
          "output_type": "stream",
          "text": [
            "Epoch 857/1000: 100%|██████████| 13/13 [00:02<00:00,  4.44batch/s]\n"
          ]
        },
        {
          "name": "stdout",
          "output_type": "stream",
          "text": [
            "Epoch: 857/1000  Loss: 0.0000, Val Loss: 0.0909\n"
          ]
        },
        {
          "name": "stderr",
          "output_type": "stream",
          "text": [
            "Epoch 858/1000: 100%|██████████| 13/13 [00:03<00:00,  4.28batch/s]\n"
          ]
        },
        {
          "name": "stdout",
          "output_type": "stream",
          "text": [
            "Epoch: 858/1000  Loss: 0.0000, Val Loss: 0.0909\n"
          ]
        },
        {
          "name": "stderr",
          "output_type": "stream",
          "text": [
            "Epoch 859/1000: 100%|██████████| 13/13 [00:03<00:00,  4.23batch/s]\n"
          ]
        },
        {
          "name": "stdout",
          "output_type": "stream",
          "text": [
            "Epoch: 859/1000  Loss: 0.0000, Val Loss: 0.0909\n"
          ]
        },
        {
          "name": "stderr",
          "output_type": "stream",
          "text": [
            "Epoch 860/1000: 100%|██████████| 13/13 [00:02<00:00,  4.44batch/s]\n"
          ]
        },
        {
          "name": "stdout",
          "output_type": "stream",
          "text": [
            "Epoch: 860/1000  Loss: 0.0000, Val Loss: 0.0909\n"
          ]
        },
        {
          "name": "stderr",
          "output_type": "stream",
          "text": [
            "Epoch 861/1000: 100%|██████████| 13/13 [00:02<00:00,  4.46batch/s]\n"
          ]
        },
        {
          "name": "stdout",
          "output_type": "stream",
          "text": [
            "Epoch: 861/1000  Loss: 0.0000, Val Loss: 0.0909\n"
          ]
        },
        {
          "name": "stderr",
          "output_type": "stream",
          "text": [
            "Epoch 862/1000: 100%|██████████| 13/13 [00:02<00:00,  4.44batch/s]\n"
          ]
        },
        {
          "name": "stdout",
          "output_type": "stream",
          "text": [
            "Epoch: 862/1000  Loss: 0.0000, Val Loss: 0.0909\n"
          ]
        },
        {
          "name": "stderr",
          "output_type": "stream",
          "text": [
            "Epoch 863/1000: 100%|██████████| 13/13 [00:03<00:00,  4.16batch/s]\n"
          ]
        },
        {
          "name": "stdout",
          "output_type": "stream",
          "text": [
            "Epoch: 863/1000  Loss: 0.0000, Val Loss: 0.0909\n"
          ]
        },
        {
          "name": "stderr",
          "output_type": "stream",
          "text": [
            "Epoch 864/1000: 100%|██████████| 13/13 [00:03<00:00,  4.31batch/s]\n"
          ]
        },
        {
          "name": "stdout",
          "output_type": "stream",
          "text": [
            "Epoch: 864/1000  Loss: 0.0000, Val Loss: 0.0909\n"
          ]
        },
        {
          "name": "stderr",
          "output_type": "stream",
          "text": [
            "Epoch 865/1000: 100%|██████████| 13/13 [00:02<00:00,  4.44batch/s]\n"
          ]
        },
        {
          "name": "stdout",
          "output_type": "stream",
          "text": [
            "Epoch: 865/1000  Loss: 0.0000, Val Loss: 0.0909\n"
          ]
        },
        {
          "name": "stderr",
          "output_type": "stream",
          "text": [
            "Epoch 866/1000: 100%|██████████| 13/13 [00:02<00:00,  4.49batch/s]\n"
          ]
        },
        {
          "name": "stdout",
          "output_type": "stream",
          "text": [
            "Epoch: 866/1000  Loss: 0.0000, Val Loss: 0.0909\n"
          ]
        },
        {
          "name": "stderr",
          "output_type": "stream",
          "text": [
            "Epoch 867/1000: 100%|██████████| 13/13 [00:03<00:00,  4.32batch/s]\n"
          ]
        },
        {
          "name": "stdout",
          "output_type": "stream",
          "text": [
            "Epoch: 867/1000  Loss: 0.0000, Val Loss: 0.0909\n"
          ]
        },
        {
          "name": "stderr",
          "output_type": "stream",
          "text": [
            "Epoch 868/1000: 100%|██████████| 13/13 [00:03<00:00,  4.17batch/s]\n"
          ]
        },
        {
          "name": "stdout",
          "output_type": "stream",
          "text": [
            "Epoch: 868/1000  Loss: 0.0000, Val Loss: 0.0909\n"
          ]
        },
        {
          "name": "stderr",
          "output_type": "stream",
          "text": [
            "Epoch 869/1000: 100%|██████████| 13/13 [00:02<00:00,  4.42batch/s]\n"
          ]
        },
        {
          "name": "stdout",
          "output_type": "stream",
          "text": [
            "Epoch: 869/1000  Loss: 0.0000, Val Loss: 0.0909\n"
          ]
        },
        {
          "name": "stderr",
          "output_type": "stream",
          "text": [
            "Epoch 870/1000: 100%|██████████| 13/13 [00:02<00:00,  4.44batch/s]\n"
          ]
        },
        {
          "name": "stdout",
          "output_type": "stream",
          "text": [
            "Epoch: 870/1000  Loss: 0.0000, Val Loss: 0.0909\n"
          ]
        },
        {
          "name": "stderr",
          "output_type": "stream",
          "text": [
            "Epoch 871/1000: 100%|██████████| 13/13 [00:02<00:00,  4.45batch/s]\n"
          ]
        },
        {
          "name": "stdout",
          "output_type": "stream",
          "text": [
            "Epoch: 871/1000  Loss: 0.0000, Val Loss: 0.0909\n"
          ]
        },
        {
          "name": "stderr",
          "output_type": "stream",
          "text": [
            "Epoch 872/1000: 100%|██████████| 13/13 [00:03<00:00,  4.13batch/s]\n"
          ]
        },
        {
          "name": "stdout",
          "output_type": "stream",
          "text": [
            "Epoch: 872/1000  Loss: 0.0000, Val Loss: 0.0909\n"
          ]
        },
        {
          "name": "stderr",
          "output_type": "stream",
          "text": [
            "Epoch 873/1000: 100%|██████████| 13/13 [00:03<00:00,  4.24batch/s]\n"
          ]
        },
        {
          "name": "stdout",
          "output_type": "stream",
          "text": [
            "Epoch: 873/1000  Loss: 0.0000, Val Loss: 0.0909\n"
          ]
        },
        {
          "name": "stderr",
          "output_type": "stream",
          "text": [
            "Epoch 874/1000: 100%|██████████| 13/13 [00:02<00:00,  4.45batch/s]\n"
          ]
        },
        {
          "name": "stdout",
          "output_type": "stream",
          "text": [
            "Epoch: 874/1000  Loss: 0.0000, Val Loss: 0.0909\n"
          ]
        },
        {
          "name": "stderr",
          "output_type": "stream",
          "text": [
            "Epoch 875/1000: 100%|██████████| 13/13 [00:02<00:00,  4.48batch/s]\n"
          ]
        },
        {
          "name": "stdout",
          "output_type": "stream",
          "text": [
            "Epoch: 875/1000  Loss: 0.0000, Val Loss: 0.0909\n"
          ]
        },
        {
          "name": "stderr",
          "output_type": "stream",
          "text": [
            "Epoch 876/1000: 100%|██████████| 13/13 [00:03<00:00,  4.30batch/s]\n"
          ]
        },
        {
          "name": "stdout",
          "output_type": "stream",
          "text": [
            "Epoch: 876/1000  Loss: 0.0000, Val Loss: 0.0909\n"
          ]
        },
        {
          "name": "stderr",
          "output_type": "stream",
          "text": [
            "Epoch 877/1000: 100%|██████████| 13/13 [00:03<00:00,  4.16batch/s]\n"
          ]
        },
        {
          "name": "stdout",
          "output_type": "stream",
          "text": [
            "Epoch: 877/1000  Loss: 0.0000, Val Loss: 0.0909\n"
          ]
        },
        {
          "name": "stderr",
          "output_type": "stream",
          "text": [
            "Epoch 878/1000: 100%|██████████| 13/13 [00:02<00:00,  4.42batch/s]\n"
          ]
        },
        {
          "name": "stdout",
          "output_type": "stream",
          "text": [
            "Epoch: 878/1000  Loss: 0.0000, Val Loss: 0.0909\n"
          ]
        },
        {
          "name": "stderr",
          "output_type": "stream",
          "text": [
            "Epoch 879/1000: 100%|██████████| 13/13 [00:02<00:00,  4.41batch/s]\n"
          ]
        },
        {
          "name": "stdout",
          "output_type": "stream",
          "text": [
            "Epoch: 879/1000  Loss: 0.0000, Val Loss: 0.0909\n"
          ]
        },
        {
          "name": "stderr",
          "output_type": "stream",
          "text": [
            "Epoch 880/1000: 100%|██████████| 13/13 [00:02<00:00,  4.44batch/s]\n"
          ]
        },
        {
          "name": "stdout",
          "output_type": "stream",
          "text": [
            "Epoch: 880/1000  Loss: 0.0000, Val Loss: 0.0909\n"
          ]
        },
        {
          "name": "stderr",
          "output_type": "stream",
          "text": [
            "Epoch 881/1000: 100%|██████████| 13/13 [00:03<00:00,  4.26batch/s]\n"
          ]
        },
        {
          "name": "stdout",
          "output_type": "stream",
          "text": [
            "Epoch: 881/1000  Loss: 0.0000, Val Loss: 0.0909\n"
          ]
        },
        {
          "name": "stderr",
          "output_type": "stream",
          "text": [
            "Epoch 882/1000: 100%|██████████| 13/13 [00:03<00:00,  4.31batch/s]\n"
          ]
        },
        {
          "name": "stdout",
          "output_type": "stream",
          "text": [
            "Epoch: 882/1000  Loss: 0.0000, Val Loss: 0.0909\n"
          ]
        },
        {
          "name": "stderr",
          "output_type": "stream",
          "text": [
            "Epoch 883/1000: 100%|██████████| 13/13 [00:02<00:00,  4.46batch/s]\n"
          ]
        },
        {
          "name": "stdout",
          "output_type": "stream",
          "text": [
            "Epoch: 883/1000  Loss: 0.0000, Val Loss: 0.0909\n"
          ]
        },
        {
          "name": "stderr",
          "output_type": "stream",
          "text": [
            "Epoch 884/1000: 100%|██████████| 13/13 [00:02<00:00,  4.44batch/s]\n"
          ]
        },
        {
          "name": "stdout",
          "output_type": "stream",
          "text": [
            "Epoch: 884/1000  Loss: 0.0000, Val Loss: 0.0909\n"
          ]
        },
        {
          "name": "stderr",
          "output_type": "stream",
          "text": [
            "Epoch 885/1000: 100%|██████████| 13/13 [00:03<00:00,  4.33batch/s]\n"
          ]
        },
        {
          "name": "stdout",
          "output_type": "stream",
          "text": [
            "Epoch: 885/1000  Loss: 0.0000, Val Loss: 0.0909\n"
          ]
        },
        {
          "name": "stderr",
          "output_type": "stream",
          "text": [
            "Epoch 886/1000: 100%|██████████| 13/13 [00:03<00:00,  4.12batch/s]\n"
          ]
        },
        {
          "name": "stdout",
          "output_type": "stream",
          "text": [
            "Epoch: 886/1000  Loss: 0.0000, Val Loss: 0.0909\n"
          ]
        },
        {
          "name": "stderr",
          "output_type": "stream",
          "text": [
            "Epoch 887/1000: 100%|██████████| 13/13 [00:02<00:00,  4.40batch/s]\n"
          ]
        },
        {
          "name": "stdout",
          "output_type": "stream",
          "text": [
            "Epoch: 887/1000  Loss: 0.0000, Val Loss: 0.0909\n"
          ]
        },
        {
          "name": "stderr",
          "output_type": "stream",
          "text": [
            "Epoch 888/1000: 100%|██████████| 13/13 [00:02<00:00,  4.41batch/s]\n"
          ]
        },
        {
          "name": "stdout",
          "output_type": "stream",
          "text": [
            "Epoch: 888/1000  Loss: 0.0000, Val Loss: 0.0909\n"
          ]
        },
        {
          "name": "stderr",
          "output_type": "stream",
          "text": [
            "Epoch 889/1000: 100%|██████████| 13/13 [00:02<00:00,  4.46batch/s]\n"
          ]
        },
        {
          "name": "stdout",
          "output_type": "stream",
          "text": [
            "Epoch: 889/1000  Loss: 0.0000, Val Loss: 0.0909\n"
          ]
        },
        {
          "name": "stderr",
          "output_type": "stream",
          "text": [
            "Epoch 890/1000: 100%|██████████| 13/13 [00:03<00:00,  4.19batch/s]\n"
          ]
        },
        {
          "name": "stdout",
          "output_type": "stream",
          "text": [
            "Epoch: 890/1000  Loss: 0.0000, Val Loss: 0.0909\n"
          ]
        },
        {
          "name": "stderr",
          "output_type": "stream",
          "text": [
            "Epoch 891/1000: 100%|██████████| 13/13 [00:03<00:00,  4.27batch/s]\n"
          ]
        },
        {
          "name": "stdout",
          "output_type": "stream",
          "text": [
            "Epoch: 891/1000  Loss: 0.0000, Val Loss: 0.0909\n"
          ]
        },
        {
          "name": "stderr",
          "output_type": "stream",
          "text": [
            "Epoch 892/1000: 100%|██████████| 13/13 [00:02<00:00,  4.42batch/s]\n"
          ]
        },
        {
          "name": "stdout",
          "output_type": "stream",
          "text": [
            "Epoch: 892/1000  Loss: 0.0000, Val Loss: 0.0909\n"
          ]
        },
        {
          "name": "stderr",
          "output_type": "stream",
          "text": [
            "Epoch 893/1000: 100%|██████████| 13/13 [00:02<00:00,  4.41batch/s]\n"
          ]
        },
        {
          "name": "stdout",
          "output_type": "stream",
          "text": [
            "Epoch: 893/1000  Loss: 0.0000, Val Loss: 0.0909\n"
          ]
        },
        {
          "name": "stderr",
          "output_type": "stream",
          "text": [
            "Epoch 894/1000: 100%|██████████| 13/13 [00:02<00:00,  4.42batch/s]\n"
          ]
        },
        {
          "name": "stdout",
          "output_type": "stream",
          "text": [
            "Epoch: 894/1000  Loss: 0.0000, Val Loss: 0.0909\n"
          ]
        },
        {
          "name": "stderr",
          "output_type": "stream",
          "text": [
            "Epoch 895/1000: 100%|██████████| 13/13 [00:03<00:00,  4.13batch/s]\n"
          ]
        },
        {
          "name": "stdout",
          "output_type": "stream",
          "text": [
            "Epoch: 895/1000  Loss: 0.0000, Val Loss: 0.0909\n"
          ]
        },
        {
          "name": "stderr",
          "output_type": "stream",
          "text": [
            "Epoch 896/1000: 100%|██████████| 13/13 [00:02<00:00,  4.37batch/s]\n"
          ]
        },
        {
          "name": "stdout",
          "output_type": "stream",
          "text": [
            "Epoch: 896/1000  Loss: 0.0000, Val Loss: 0.0909\n"
          ]
        },
        {
          "name": "stderr",
          "output_type": "stream",
          "text": [
            "Epoch 897/1000: 100%|██████████| 13/13 [00:02<00:00,  4.46batch/s]\n"
          ]
        },
        {
          "name": "stdout",
          "output_type": "stream",
          "text": [
            "Epoch: 897/1000  Loss: 0.0000, Val Loss: 0.0909\n"
          ]
        },
        {
          "name": "stderr",
          "output_type": "stream",
          "text": [
            "Epoch 898/1000: 100%|██████████| 13/13 [00:02<00:00,  4.47batch/s]\n"
          ]
        },
        {
          "name": "stdout",
          "output_type": "stream",
          "text": [
            "Epoch: 898/1000  Loss: 0.0000, Val Loss: 0.0909\n"
          ]
        },
        {
          "name": "stderr",
          "output_type": "stream",
          "text": [
            "Epoch 899/1000: 100%|██████████| 13/13 [00:02<00:00,  4.34batch/s]\n"
          ]
        },
        {
          "name": "stdout",
          "output_type": "stream",
          "text": [
            "Epoch: 899/1000  Loss: 0.0000, Val Loss: 0.0909\n"
          ]
        },
        {
          "name": "stderr",
          "output_type": "stream",
          "text": [
            "Epoch 900/1000: 100%|██████████| 13/13 [00:03<00:00,  4.29batch/s]\n"
          ]
        },
        {
          "name": "stdout",
          "output_type": "stream",
          "text": [
            "Epoch: 900/1000  Loss: 0.0000, Val Loss: 0.0909\n"
          ]
        },
        {
          "name": "stderr",
          "output_type": "stream",
          "text": [
            "Epoch 901/1000: 100%|██████████| 13/13 [00:02<00:00,  4.40batch/s]\n"
          ]
        },
        {
          "name": "stdout",
          "output_type": "stream",
          "text": [
            "Epoch: 901/1000  Loss: 0.0000, Val Loss: 0.0909\n"
          ]
        },
        {
          "name": "stderr",
          "output_type": "stream",
          "text": [
            "Epoch 902/1000: 100%|██████████| 13/13 [00:02<00:00,  4.42batch/s]\n"
          ]
        },
        {
          "name": "stdout",
          "output_type": "stream",
          "text": [
            "Epoch: 902/1000  Loss: 0.0000, Val Loss: 0.0909\n"
          ]
        },
        {
          "name": "stderr",
          "output_type": "stream",
          "text": [
            "Epoch 903/1000: 100%|██████████| 13/13 [00:02<00:00,  4.45batch/s]\n"
          ]
        },
        {
          "name": "stdout",
          "output_type": "stream",
          "text": [
            "Epoch: 903/1000  Loss: 0.0000, Val Loss: 0.0909\n"
          ]
        },
        {
          "name": "stderr",
          "output_type": "stream",
          "text": [
            "Epoch 904/1000: 100%|██████████| 13/13 [00:03<00:00,  4.12batch/s]\n"
          ]
        },
        {
          "name": "stdout",
          "output_type": "stream",
          "text": [
            "Epoch: 904/1000  Loss: 0.0000, Val Loss: 0.0909\n"
          ]
        },
        {
          "name": "stderr",
          "output_type": "stream",
          "text": [
            "Epoch 905/1000: 100%|██████████| 13/13 [00:03<00:00,  4.33batch/s]\n"
          ]
        },
        {
          "name": "stdout",
          "output_type": "stream",
          "text": [
            "Epoch: 905/1000  Loss: 0.0000, Val Loss: 0.0909\n"
          ]
        },
        {
          "name": "stderr",
          "output_type": "stream",
          "text": [
            "Epoch 906/1000: 100%|██████████| 13/13 [00:02<00:00,  4.43batch/s]\n"
          ]
        },
        {
          "name": "stdout",
          "output_type": "stream",
          "text": [
            "Epoch: 906/1000  Loss: 0.0000, Val Loss: 0.0909\n"
          ]
        },
        {
          "name": "stderr",
          "output_type": "stream",
          "text": [
            "Epoch 907/1000: 100%|██████████| 13/13 [00:02<00:00,  4.42batch/s]\n"
          ]
        },
        {
          "name": "stdout",
          "output_type": "stream",
          "text": [
            "Epoch: 907/1000  Loss: 0.0000, Val Loss: 0.0909\n"
          ]
        },
        {
          "name": "stderr",
          "output_type": "stream",
          "text": [
            "Epoch 908/1000: 100%|██████████| 13/13 [00:03<00:00,  4.29batch/s]\n"
          ]
        },
        {
          "name": "stdout",
          "output_type": "stream",
          "text": [
            "Epoch: 908/1000  Loss: 0.0000, Val Loss: 0.0909\n"
          ]
        },
        {
          "name": "stderr",
          "output_type": "stream",
          "text": [
            "Epoch 909/1000: 100%|██████████| 13/13 [00:03<00:00,  4.17batch/s]\n"
          ]
        },
        {
          "name": "stdout",
          "output_type": "stream",
          "text": [
            "Epoch: 909/1000  Loss: 0.0000, Val Loss: 0.0909\n"
          ]
        },
        {
          "name": "stderr",
          "output_type": "stream",
          "text": [
            "Epoch 910/1000: 100%|██████████| 13/13 [00:02<00:00,  4.43batch/s]\n"
          ]
        },
        {
          "name": "stdout",
          "output_type": "stream",
          "text": [
            "Epoch: 910/1000  Loss: 0.0000, Val Loss: 0.0909\n"
          ]
        },
        {
          "name": "stderr",
          "output_type": "stream",
          "text": [
            "Epoch 911/1000: 100%|██████████| 13/13 [00:02<00:00,  4.46batch/s]\n"
          ]
        },
        {
          "name": "stdout",
          "output_type": "stream",
          "text": [
            "Epoch: 911/1000  Loss: 0.0000, Val Loss: 0.0909\n"
          ]
        },
        {
          "name": "stderr",
          "output_type": "stream",
          "text": [
            "Epoch 912/1000: 100%|██████████| 13/13 [00:02<00:00,  4.41batch/s]\n"
          ]
        },
        {
          "name": "stdout",
          "output_type": "stream",
          "text": [
            "Epoch: 912/1000  Loss: 0.0000, Val Loss: 0.0909\n"
          ]
        },
        {
          "name": "stderr",
          "output_type": "stream",
          "text": [
            "Epoch 913/1000: 100%|██████████| 13/13 [00:03<00:00,  4.21batch/s]\n"
          ]
        },
        {
          "name": "stdout",
          "output_type": "stream",
          "text": [
            "Epoch: 913/1000  Loss: 0.0000, Val Loss: 0.0909\n"
          ]
        },
        {
          "name": "stderr",
          "output_type": "stream",
          "text": [
            "Epoch 914/1000: 100%|██████████| 13/13 [00:03<00:00,  4.26batch/s]\n"
          ]
        },
        {
          "name": "stdout",
          "output_type": "stream",
          "text": [
            "Epoch: 914/1000  Loss: 0.0000, Val Loss: 0.0909\n"
          ]
        },
        {
          "name": "stderr",
          "output_type": "stream",
          "text": [
            "Epoch 915/1000: 100%|██████████| 13/13 [00:02<00:00,  4.45batch/s]\n"
          ]
        },
        {
          "name": "stdout",
          "output_type": "stream",
          "text": [
            "Epoch: 915/1000  Loss: 0.0000, Val Loss: 0.0909\n"
          ]
        },
        {
          "name": "stderr",
          "output_type": "stream",
          "text": [
            "Epoch 916/1000: 100%|██████████| 13/13 [00:02<00:00,  4.45batch/s]\n"
          ]
        },
        {
          "name": "stdout",
          "output_type": "stream",
          "text": [
            "Epoch: 916/1000  Loss: 0.0000, Val Loss: 0.0909\n"
          ]
        },
        {
          "name": "stderr",
          "output_type": "stream",
          "text": [
            "Epoch 917/1000: 100%|██████████| 13/13 [00:03<00:00,  4.33batch/s]\n"
          ]
        },
        {
          "name": "stdout",
          "output_type": "stream",
          "text": [
            "Epoch: 917/1000  Loss: 0.0000, Val Loss: 0.0909\n"
          ]
        },
        {
          "name": "stderr",
          "output_type": "stream",
          "text": [
            "Epoch 918/1000: 100%|██████████| 13/13 [00:03<00:00,  4.15batch/s]\n"
          ]
        },
        {
          "name": "stdout",
          "output_type": "stream",
          "text": [
            "Epoch: 918/1000  Loss: 0.0000, Val Loss: 0.0909\n"
          ]
        },
        {
          "name": "stderr",
          "output_type": "stream",
          "text": [
            "Epoch 919/1000: 100%|██████████| 13/13 [00:02<00:00,  4.44batch/s]\n"
          ]
        },
        {
          "name": "stdout",
          "output_type": "stream",
          "text": [
            "Epoch: 919/1000  Loss: 0.0000, Val Loss: 0.0909\n"
          ]
        },
        {
          "name": "stderr",
          "output_type": "stream",
          "text": [
            "Epoch 920/1000: 100%|██████████| 13/13 [00:02<00:00,  4.44batch/s]\n"
          ]
        },
        {
          "name": "stdout",
          "output_type": "stream",
          "text": [
            "Epoch: 920/1000  Loss: 0.0000, Val Loss: 0.0909\n"
          ]
        },
        {
          "name": "stderr",
          "output_type": "stream",
          "text": [
            "Epoch 921/1000: 100%|██████████| 13/13 [00:02<00:00,  4.44batch/s]\n"
          ]
        },
        {
          "name": "stdout",
          "output_type": "stream",
          "text": [
            "Epoch: 921/1000  Loss: 0.0000, Val Loss: 0.0909\n"
          ]
        },
        {
          "name": "stderr",
          "output_type": "stream",
          "text": [
            "Epoch 922/1000: 100%|██████████| 13/13 [00:03<00:00,  4.17batch/s]\n"
          ]
        },
        {
          "name": "stdout",
          "output_type": "stream",
          "text": [
            "Epoch: 922/1000  Loss: 0.0000, Val Loss: 0.0909\n"
          ]
        },
        {
          "name": "stderr",
          "output_type": "stream",
          "text": [
            "Epoch 923/1000: 100%|██████████| 13/13 [00:03<00:00,  4.26batch/s]\n"
          ]
        },
        {
          "name": "stdout",
          "output_type": "stream",
          "text": [
            "Epoch: 923/1000  Loss: 0.0000, Val Loss: 0.0909\n"
          ]
        },
        {
          "name": "stderr",
          "output_type": "stream",
          "text": [
            "Epoch 924/1000: 100%|██████████| 13/13 [00:02<00:00,  4.45batch/s]\n"
          ]
        },
        {
          "name": "stdout",
          "output_type": "stream",
          "text": [
            "Epoch: 924/1000  Loss: 0.0000, Val Loss: 0.0909\n"
          ]
        },
        {
          "name": "stderr",
          "output_type": "stream",
          "text": [
            "Epoch 925/1000: 100%|██████████| 13/13 [00:02<00:00,  4.41batch/s]\n"
          ]
        },
        {
          "name": "stdout",
          "output_type": "stream",
          "text": [
            "Epoch: 925/1000  Loss: 0.0000, Val Loss: 0.0909\n"
          ]
        },
        {
          "name": "stderr",
          "output_type": "stream",
          "text": [
            "Epoch 926/1000: 100%|██████████| 13/13 [00:02<00:00,  4.35batch/s]\n"
          ]
        },
        {
          "name": "stdout",
          "output_type": "stream",
          "text": [
            "Epoch: 926/1000  Loss: 0.0000, Val Loss: 0.0909\n"
          ]
        },
        {
          "name": "stderr",
          "output_type": "stream",
          "text": [
            "Epoch 927/1000: 100%|██████████| 13/13 [00:03<00:00,  4.14batch/s]\n"
          ]
        },
        {
          "name": "stdout",
          "output_type": "stream",
          "text": [
            "Epoch: 927/1000  Loss: 0.0000, Val Loss: 0.0909\n"
          ]
        },
        {
          "name": "stderr",
          "output_type": "stream",
          "text": [
            "Epoch 928/1000: 100%|██████████| 13/13 [00:02<00:00,  4.40batch/s]\n"
          ]
        },
        {
          "name": "stdout",
          "output_type": "stream",
          "text": [
            "Epoch: 928/1000  Loss: 0.0000, Val Loss: 0.0909\n"
          ]
        },
        {
          "name": "stderr",
          "output_type": "stream",
          "text": [
            "Epoch 929/1000: 100%|██████████| 13/13 [00:02<00:00,  4.46batch/s]\n"
          ]
        },
        {
          "name": "stdout",
          "output_type": "stream",
          "text": [
            "Epoch: 929/1000  Loss: 0.0000, Val Loss: 0.0909\n"
          ]
        },
        {
          "name": "stderr",
          "output_type": "stream",
          "text": [
            "Epoch 930/1000: 100%|██████████| 13/13 [00:02<00:00,  4.42batch/s]\n"
          ]
        },
        {
          "name": "stdout",
          "output_type": "stream",
          "text": [
            "Epoch: 930/1000  Loss: 0.0000, Val Loss: 0.0909\n"
          ]
        },
        {
          "name": "stderr",
          "output_type": "stream",
          "text": [
            "Epoch 931/1000: 100%|██████████| 13/13 [00:03<00:00,  4.19batch/s]\n"
          ]
        },
        {
          "name": "stdout",
          "output_type": "stream",
          "text": [
            "Epoch: 931/1000  Loss: 0.0000, Val Loss: 0.0909\n"
          ]
        },
        {
          "name": "stderr",
          "output_type": "stream",
          "text": [
            "Epoch 932/1000: 100%|██████████| 13/13 [00:03<00:00,  4.30batch/s]\n"
          ]
        },
        {
          "name": "stdout",
          "output_type": "stream",
          "text": [
            "Epoch: 932/1000  Loss: 0.0000, Val Loss: 0.0909\n"
          ]
        },
        {
          "name": "stderr",
          "output_type": "stream",
          "text": [
            "Epoch 933/1000: 100%|██████████| 13/13 [00:02<00:00,  4.47batch/s]\n"
          ]
        },
        {
          "name": "stdout",
          "output_type": "stream",
          "text": [
            "Epoch: 933/1000  Loss: 0.0000, Val Loss: 0.0909\n"
          ]
        },
        {
          "name": "stderr",
          "output_type": "stream",
          "text": [
            "Epoch 934/1000: 100%|██████████| 13/13 [00:02<00:00,  4.42batch/s]\n"
          ]
        },
        {
          "name": "stdout",
          "output_type": "stream",
          "text": [
            "Epoch: 934/1000  Loss: 0.0000, Val Loss: 0.0909\n"
          ]
        },
        {
          "name": "stderr",
          "output_type": "stream",
          "text": [
            "Epoch 935/1000: 100%|██████████| 13/13 [00:02<00:00,  4.36batch/s]\n"
          ]
        },
        {
          "name": "stdout",
          "output_type": "stream",
          "text": [
            "Epoch: 935/1000  Loss: 0.0000, Val Loss: 0.0909\n"
          ]
        },
        {
          "name": "stderr",
          "output_type": "stream",
          "text": [
            "Epoch 936/1000: 100%|██████████| 13/13 [00:03<00:00,  4.17batch/s]\n"
          ]
        },
        {
          "name": "stdout",
          "output_type": "stream",
          "text": [
            "Epoch: 936/1000  Loss: 0.0000, Val Loss: 0.0909\n"
          ]
        },
        {
          "name": "stderr",
          "output_type": "stream",
          "text": [
            "Epoch 937/1000: 100%|██████████| 13/13 [00:02<00:00,  4.38batch/s]\n"
          ]
        },
        {
          "name": "stdout",
          "output_type": "stream",
          "text": [
            "Epoch: 937/1000  Loss: 0.0000, Val Loss: 0.0909\n"
          ]
        },
        {
          "name": "stderr",
          "output_type": "stream",
          "text": [
            "Epoch 938/1000: 100%|██████████| 13/13 [00:02<00:00,  4.43batch/s]\n"
          ]
        },
        {
          "name": "stdout",
          "output_type": "stream",
          "text": [
            "Epoch: 938/1000  Loss: 0.0000, Val Loss: 0.0909\n"
          ]
        },
        {
          "name": "stderr",
          "output_type": "stream",
          "text": [
            "Epoch 939/1000: 100%|██████████| 13/13 [00:02<00:00,  4.38batch/s]\n"
          ]
        },
        {
          "name": "stdout",
          "output_type": "stream",
          "text": [
            "Epoch: 939/1000  Loss: 0.0000, Val Loss: 0.0909\n"
          ]
        },
        {
          "name": "stderr",
          "output_type": "stream",
          "text": [
            "Epoch 940/1000: 100%|██████████| 13/13 [00:03<00:00,  4.24batch/s]\n"
          ]
        },
        {
          "name": "stdout",
          "output_type": "stream",
          "text": [
            "Epoch: 940/1000  Loss: 0.0000, Val Loss: 0.0909\n"
          ]
        },
        {
          "name": "stderr",
          "output_type": "stream",
          "text": [
            "Epoch 941/1000: 100%|██████████| 13/13 [00:03<00:00,  4.20batch/s]\n"
          ]
        },
        {
          "name": "stdout",
          "output_type": "stream",
          "text": [
            "Epoch: 941/1000  Loss: 0.0000, Val Loss: 0.0909\n"
          ]
        },
        {
          "name": "stderr",
          "output_type": "stream",
          "text": [
            "Epoch 942/1000: 100%|██████████| 13/13 [00:02<00:00,  4.42batch/s]\n"
          ]
        },
        {
          "name": "stdout",
          "output_type": "stream",
          "text": [
            "Epoch: 942/1000  Loss: 0.0000, Val Loss: 0.0909\n"
          ]
        },
        {
          "name": "stderr",
          "output_type": "stream",
          "text": [
            "Epoch 943/1000: 100%|██████████| 13/13 [00:02<00:00,  4.43batch/s]\n"
          ]
        },
        {
          "name": "stdout",
          "output_type": "stream",
          "text": [
            "Epoch: 943/1000  Loss: 0.0000, Val Loss: 0.0909\n"
          ]
        },
        {
          "name": "stderr",
          "output_type": "stream",
          "text": [
            "Epoch 944/1000: 100%|██████████| 13/13 [00:02<00:00,  4.40batch/s]\n"
          ]
        },
        {
          "name": "stdout",
          "output_type": "stream",
          "text": [
            "Epoch: 944/1000  Loss: 0.0000, Val Loss: 0.0909\n"
          ]
        },
        {
          "name": "stderr",
          "output_type": "stream",
          "text": [
            "Epoch 945/1000: 100%|██████████| 13/13 [00:03<00:00,  4.16batch/s]\n"
          ]
        },
        {
          "name": "stdout",
          "output_type": "stream",
          "text": [
            "Epoch: 945/1000  Loss: 0.0000, Val Loss: 0.0909\n"
          ]
        },
        {
          "name": "stderr",
          "output_type": "stream",
          "text": [
            "Epoch 946/1000: 100%|██████████| 13/13 [00:02<00:00,  4.37batch/s]\n"
          ]
        },
        {
          "name": "stdout",
          "output_type": "stream",
          "text": [
            "Epoch: 946/1000  Loss: 0.0000, Val Loss: 0.0909\n"
          ]
        },
        {
          "name": "stderr",
          "output_type": "stream",
          "text": [
            "Epoch 947/1000: 100%|██████████| 13/13 [00:02<00:00,  4.45batch/s]\n"
          ]
        },
        {
          "name": "stdout",
          "output_type": "stream",
          "text": [
            "Epoch: 947/1000  Loss: 0.0000, Val Loss: 0.0909\n"
          ]
        },
        {
          "name": "stderr",
          "output_type": "stream",
          "text": [
            "Epoch 948/1000: 100%|██████████| 13/13 [00:02<00:00,  4.44batch/s]\n"
          ]
        },
        {
          "name": "stdout",
          "output_type": "stream",
          "text": [
            "Epoch: 948/1000  Loss: 0.0000, Val Loss: 0.0909\n"
          ]
        },
        {
          "name": "stderr",
          "output_type": "stream",
          "text": [
            "Epoch 949/1000: 100%|██████████| 13/13 [00:03<00:00,  4.23batch/s]\n"
          ]
        },
        {
          "name": "stdout",
          "output_type": "stream",
          "text": [
            "Epoch: 949/1000  Loss: 0.0000, Val Loss: 0.0909\n"
          ]
        },
        {
          "name": "stderr",
          "output_type": "stream",
          "text": [
            "Epoch 950/1000: 100%|██████████| 13/13 [00:03<00:00,  4.25batch/s]\n"
          ]
        },
        {
          "name": "stdout",
          "output_type": "stream",
          "text": [
            "Epoch: 950/1000  Loss: 0.0000, Val Loss: 0.0909\n"
          ]
        },
        {
          "name": "stderr",
          "output_type": "stream",
          "text": [
            "Epoch 951/1000: 100%|██████████| 13/13 [00:02<00:00,  4.42batch/s]\n"
          ]
        },
        {
          "name": "stdout",
          "output_type": "stream",
          "text": [
            "Epoch: 951/1000  Loss: 0.0000, Val Loss: 0.0909\n"
          ]
        },
        {
          "name": "stderr",
          "output_type": "stream",
          "text": [
            "Epoch 952/1000: 100%|██████████| 13/13 [00:02<00:00,  4.44batch/s]\n"
          ]
        },
        {
          "name": "stdout",
          "output_type": "stream",
          "text": [
            "Epoch: 952/1000  Loss: 0.0000, Val Loss: 0.0909\n"
          ]
        },
        {
          "name": "stderr",
          "output_type": "stream",
          "text": [
            "Epoch 953/1000: 100%|██████████| 13/13 [00:02<00:00,  4.42batch/s]\n"
          ]
        },
        {
          "name": "stdout",
          "output_type": "stream",
          "text": [
            "Epoch: 953/1000  Loss: 0.0000, Val Loss: 0.0909\n"
          ]
        },
        {
          "name": "stderr",
          "output_type": "stream",
          "text": [
            "Epoch 954/1000: 100%|██████████| 13/13 [00:03<00:00,  4.15batch/s]\n"
          ]
        },
        {
          "name": "stdout",
          "output_type": "stream",
          "text": [
            "Epoch: 954/1000  Loss: 0.0000, Val Loss: 0.0909\n"
          ]
        },
        {
          "name": "stderr",
          "output_type": "stream",
          "text": [
            "Epoch 955/1000: 100%|██████████| 13/13 [00:02<00:00,  4.41batch/s]\n"
          ]
        },
        {
          "name": "stdout",
          "output_type": "stream",
          "text": [
            "Epoch: 955/1000  Loss: 0.0000, Val Loss: 0.0909\n"
          ]
        },
        {
          "name": "stderr",
          "output_type": "stream",
          "text": [
            "Epoch 956/1000: 100%|██████████| 13/13 [00:02<00:00,  4.45batch/s]\n"
          ]
        },
        {
          "name": "stdout",
          "output_type": "stream",
          "text": [
            "Epoch: 956/1000  Loss: 0.0000, Val Loss: 0.0909\n"
          ]
        },
        {
          "name": "stderr",
          "output_type": "stream",
          "text": [
            "Epoch 957/1000: 100%|██████████| 13/13 [00:02<00:00,  4.46batch/s]\n"
          ]
        },
        {
          "name": "stdout",
          "output_type": "stream",
          "text": [
            "Epoch: 957/1000  Loss: 0.0000, Val Loss: 0.0909\n"
          ]
        },
        {
          "name": "stderr",
          "output_type": "stream",
          "text": [
            "Epoch 958/1000: 100%|██████████| 13/13 [00:03<00:00,  4.29batch/s]\n"
          ]
        },
        {
          "name": "stdout",
          "output_type": "stream",
          "text": [
            "Epoch: 958/1000  Loss: 0.0000, Val Loss: 0.0909\n"
          ]
        },
        {
          "name": "stderr",
          "output_type": "stream",
          "text": [
            "Epoch 959/1000: 100%|██████████| 13/13 [00:03<00:00,  4.14batch/s]\n"
          ]
        },
        {
          "name": "stdout",
          "output_type": "stream",
          "text": [
            "Epoch: 959/1000  Loss: 0.0000, Val Loss: 0.0909\n"
          ]
        },
        {
          "name": "stderr",
          "output_type": "stream",
          "text": [
            "Epoch 960/1000: 100%|██████████| 13/13 [00:02<00:00,  4.40batch/s]\n"
          ]
        },
        {
          "name": "stdout",
          "output_type": "stream",
          "text": [
            "Epoch: 960/1000  Loss: 0.0000, Val Loss: 0.0909\n"
          ]
        },
        {
          "name": "stderr",
          "output_type": "stream",
          "text": [
            "Epoch 961/1000: 100%|██████████| 13/13 [00:02<00:00,  4.45batch/s]\n"
          ]
        },
        {
          "name": "stdout",
          "output_type": "stream",
          "text": [
            "Epoch: 961/1000  Loss: 0.0000, Val Loss: 0.0909\n"
          ]
        },
        {
          "name": "stderr",
          "output_type": "stream",
          "text": [
            "Epoch 962/1000: 100%|██████████| 13/13 [00:02<00:00,  4.47batch/s]\n"
          ]
        },
        {
          "name": "stdout",
          "output_type": "stream",
          "text": [
            "Epoch: 962/1000  Loss: 0.0000, Val Loss: 0.0909\n"
          ]
        },
        {
          "name": "stderr",
          "output_type": "stream",
          "text": [
            "Epoch 963/1000: 100%|██████████| 13/13 [00:03<00:00,  4.15batch/s]\n"
          ]
        },
        {
          "name": "stdout",
          "output_type": "stream",
          "text": [
            "Epoch: 963/1000  Loss: 0.0000, Val Loss: 0.0909\n"
          ]
        },
        {
          "name": "stderr",
          "output_type": "stream",
          "text": [
            "Epoch 964/1000: 100%|██████████| 13/13 [00:02<00:00,  4.37batch/s]\n"
          ]
        },
        {
          "name": "stdout",
          "output_type": "stream",
          "text": [
            "Epoch: 964/1000  Loss: 0.0000, Val Loss: 0.0909\n"
          ]
        },
        {
          "name": "stderr",
          "output_type": "stream",
          "text": [
            "Epoch 965/1000: 100%|██████████| 13/13 [00:02<00:00,  4.45batch/s]\n"
          ]
        },
        {
          "name": "stdout",
          "output_type": "stream",
          "text": [
            "Epoch: 965/1000  Loss: 0.0000, Val Loss: 0.0909\n"
          ]
        },
        {
          "name": "stderr",
          "output_type": "stream",
          "text": [
            "Epoch 966/1000: 100%|██████████| 13/13 [00:02<00:00,  4.43batch/s]\n"
          ]
        },
        {
          "name": "stdout",
          "output_type": "stream",
          "text": [
            "Epoch: 966/1000  Loss: 0.0000, Val Loss: 0.0859\n"
          ]
        },
        {
          "name": "stderr",
          "output_type": "stream",
          "text": [
            "Epoch 967/1000: 100%|██████████| 13/13 [00:03<00:00,  4.21batch/s]\n"
          ]
        },
        {
          "name": "stdout",
          "output_type": "stream",
          "text": [
            "Epoch: 967/1000  Loss: 0.0000, Val Loss: 0.0909\n"
          ]
        },
        {
          "name": "stderr",
          "output_type": "stream",
          "text": [
            "Epoch 968/1000: 100%|██████████| 13/13 [00:03<00:00,  4.19batch/s]\n"
          ]
        },
        {
          "name": "stdout",
          "output_type": "stream",
          "text": [
            "Epoch: 968/1000  Loss: 0.0000, Val Loss: 0.0859\n"
          ]
        },
        {
          "name": "stderr",
          "output_type": "stream",
          "text": [
            "Epoch 969/1000: 100%|██████████| 13/13 [00:02<00:00,  4.47batch/s]\n"
          ]
        },
        {
          "name": "stdout",
          "output_type": "stream",
          "text": [
            "Epoch: 969/1000  Loss: 0.0000, Val Loss: 0.0909\n"
          ]
        },
        {
          "name": "stderr",
          "output_type": "stream",
          "text": [
            "Epoch 970/1000: 100%|██████████| 13/13 [00:02<00:00,  4.46batch/s]\n"
          ]
        },
        {
          "name": "stdout",
          "output_type": "stream",
          "text": [
            "Epoch: 970/1000  Loss: 0.0000, Val Loss: 0.0909\n"
          ]
        },
        {
          "name": "stderr",
          "output_type": "stream",
          "text": [
            "Epoch 971/1000: 100%|██████████| 13/13 [00:02<00:00,  4.43batch/s]\n"
          ]
        },
        {
          "name": "stdout",
          "output_type": "stream",
          "text": [
            "Epoch: 971/1000  Loss: 0.0000, Val Loss: 0.0909\n"
          ]
        },
        {
          "name": "stderr",
          "output_type": "stream",
          "text": [
            "Epoch 972/1000: 100%|██████████| 13/13 [00:03<00:00,  4.25batch/s]\n"
          ]
        },
        {
          "name": "stdout",
          "output_type": "stream",
          "text": [
            "Epoch: 972/1000  Loss: 0.0000, Val Loss: 0.0909\n"
          ]
        },
        {
          "name": "stderr",
          "output_type": "stream",
          "text": [
            "Epoch 973/1000: 100%|██████████| 13/13 [00:03<00:00,  4.30batch/s]\n"
          ]
        },
        {
          "name": "stdout",
          "output_type": "stream",
          "text": [
            "Epoch: 973/1000  Loss: 0.0000, Val Loss: 0.0859\n"
          ]
        },
        {
          "name": "stderr",
          "output_type": "stream",
          "text": [
            "Epoch 974/1000: 100%|██████████| 13/13 [00:02<00:00,  4.43batch/s]\n"
          ]
        },
        {
          "name": "stdout",
          "output_type": "stream",
          "text": [
            "Epoch: 974/1000  Loss: 0.0000, Val Loss: 0.0859\n"
          ]
        },
        {
          "name": "stderr",
          "output_type": "stream",
          "text": [
            "Epoch 975/1000: 100%|██████████| 13/13 [00:02<00:00,  4.45batch/s]\n"
          ]
        },
        {
          "name": "stdout",
          "output_type": "stream",
          "text": [
            "Epoch: 975/1000  Loss: 0.0000, Val Loss: 0.0859\n"
          ]
        },
        {
          "name": "stderr",
          "output_type": "stream",
          "text": [
            "Epoch 976/1000: 100%|██████████| 13/13 [00:03<00:00,  4.29batch/s]\n"
          ]
        },
        {
          "name": "stdout",
          "output_type": "stream",
          "text": [
            "Epoch: 976/1000  Loss: 0.0000, Val Loss: 0.0859\n"
          ]
        },
        {
          "name": "stderr",
          "output_type": "stream",
          "text": [
            "Epoch 977/1000: 100%|██████████| 13/13 [00:03<00:00,  4.18batch/s]\n"
          ]
        },
        {
          "name": "stdout",
          "output_type": "stream",
          "text": [
            "Epoch: 977/1000  Loss: 0.0000, Val Loss: 0.0859\n"
          ]
        },
        {
          "name": "stderr",
          "output_type": "stream",
          "text": [
            "Epoch 978/1000: 100%|██████████| 13/13 [00:03<00:00,  4.19batch/s]\n"
          ]
        },
        {
          "name": "stdout",
          "output_type": "stream",
          "text": [
            "Epoch: 978/1000  Loss: 0.0000, Val Loss: 0.0859\n"
          ]
        },
        {
          "name": "stderr",
          "output_type": "stream",
          "text": [
            "Epoch 979/1000: 100%|██████████| 13/13 [00:02<00:00,  4.43batch/s]\n"
          ]
        },
        {
          "name": "stdout",
          "output_type": "stream",
          "text": [
            "Epoch: 979/1000  Loss: 0.0000, Val Loss: 0.0859\n"
          ]
        },
        {
          "name": "stderr",
          "output_type": "stream",
          "text": [
            "Epoch 980/1000: 100%|██████████| 13/13 [00:02<00:00,  4.43batch/s]\n"
          ]
        },
        {
          "name": "stdout",
          "output_type": "stream",
          "text": [
            "Epoch: 980/1000  Loss: 0.0000, Val Loss: 0.0859\n"
          ]
        },
        {
          "name": "stderr",
          "output_type": "stream",
          "text": [
            "Epoch 981/1000: 100%|██████████| 13/13 [00:03<00:00,  4.19batch/s]\n"
          ]
        },
        {
          "name": "stdout",
          "output_type": "stream",
          "text": [
            "Epoch: 981/1000  Loss: 0.0000, Val Loss: 0.0859\n"
          ]
        },
        {
          "name": "stderr",
          "output_type": "stream",
          "text": [
            "Epoch 982/1000: 100%|██████████| 13/13 [00:03<00:00,  4.22batch/s]\n"
          ]
        },
        {
          "name": "stdout",
          "output_type": "stream",
          "text": [
            "Epoch: 982/1000  Loss: 0.0000, Val Loss: 0.0859\n"
          ]
        },
        {
          "name": "stderr",
          "output_type": "stream",
          "text": [
            "Epoch 983/1000: 100%|██████████| 13/13 [00:02<00:00,  4.41batch/s]\n"
          ]
        },
        {
          "name": "stdout",
          "output_type": "stream",
          "text": [
            "Epoch: 983/1000  Loss: 0.0000, Val Loss: 0.0859\n"
          ]
        },
        {
          "name": "stderr",
          "output_type": "stream",
          "text": [
            "Epoch 984/1000: 100%|██████████| 13/13 [00:02<00:00,  4.38batch/s]\n"
          ]
        },
        {
          "name": "stdout",
          "output_type": "stream",
          "text": [
            "Epoch: 984/1000  Loss: 0.0000, Val Loss: 0.0859\n"
          ]
        },
        {
          "name": "stderr",
          "output_type": "stream",
          "text": [
            "Epoch 985/1000: 100%|██████████| 13/13 [00:03<00:00,  4.28batch/s]\n"
          ]
        },
        {
          "name": "stdout",
          "output_type": "stream",
          "text": [
            "Epoch: 985/1000  Loss: 0.0000, Val Loss: 0.0859\n"
          ]
        },
        {
          "name": "stderr",
          "output_type": "stream",
          "text": [
            "Epoch 986/1000: 100%|██████████| 13/13 [00:03<00:00,  4.11batch/s]\n"
          ]
        },
        {
          "name": "stdout",
          "output_type": "stream",
          "text": [
            "Epoch: 986/1000  Loss: 0.0000, Val Loss: 0.0859\n"
          ]
        },
        {
          "name": "stderr",
          "output_type": "stream",
          "text": [
            "Epoch 987/1000: 100%|██████████| 13/13 [00:02<00:00,  4.39batch/s]\n"
          ]
        },
        {
          "name": "stdout",
          "output_type": "stream",
          "text": [
            "Epoch: 987/1000  Loss: 0.0000, Val Loss: 0.0859\n"
          ]
        },
        {
          "name": "stderr",
          "output_type": "stream",
          "text": [
            "Epoch 988/1000: 100%|██████████| 13/13 [00:02<00:00,  4.41batch/s]\n"
          ]
        },
        {
          "name": "stdout",
          "output_type": "stream",
          "text": [
            "Epoch: 988/1000  Loss: 0.0000, Val Loss: 0.0859\n"
          ]
        },
        {
          "name": "stderr",
          "output_type": "stream",
          "text": [
            "Epoch 989/1000: 100%|██████████| 13/13 [00:02<00:00,  4.44batch/s]\n"
          ]
        },
        {
          "name": "stdout",
          "output_type": "stream",
          "text": [
            "Epoch: 989/1000  Loss: 0.0000, Val Loss: 0.0859\n"
          ]
        },
        {
          "name": "stderr",
          "output_type": "stream",
          "text": [
            "Epoch 990/1000: 100%|██████████| 13/13 [00:03<00:00,  4.13batch/s]\n"
          ]
        },
        {
          "name": "stdout",
          "output_type": "stream",
          "text": [
            "Epoch: 990/1000  Loss: 0.0000, Val Loss: 0.0859\n"
          ]
        },
        {
          "name": "stderr",
          "output_type": "stream",
          "text": [
            "Epoch 991/1000: 100%|██████████| 13/13 [00:03<00:00,  4.32batch/s]\n"
          ]
        },
        {
          "name": "stdout",
          "output_type": "stream",
          "text": [
            "Epoch: 991/1000  Loss: 0.0000, Val Loss: 0.0859\n"
          ]
        },
        {
          "name": "stderr",
          "output_type": "stream",
          "text": [
            "Epoch 992/1000: 100%|██████████| 13/13 [00:02<00:00,  4.42batch/s]\n"
          ]
        },
        {
          "name": "stdout",
          "output_type": "stream",
          "text": [
            "Epoch: 992/1000  Loss: 0.0000, Val Loss: 0.0859\n"
          ]
        },
        {
          "name": "stderr",
          "output_type": "stream",
          "text": [
            "Epoch 993/1000: 100%|██████████| 13/13 [00:02<00:00,  4.38batch/s]\n"
          ]
        },
        {
          "name": "stdout",
          "output_type": "stream",
          "text": [
            "Epoch: 993/1000  Loss: 0.0000, Val Loss: 0.0859\n"
          ]
        },
        {
          "name": "stderr",
          "output_type": "stream",
          "text": [
            "Epoch 994/1000: 100%|██████████| 13/13 [00:03<00:00,  4.32batch/s]\n"
          ]
        },
        {
          "name": "stdout",
          "output_type": "stream",
          "text": [
            "Epoch: 994/1000  Loss: 0.0000, Val Loss: 0.0859\n"
          ]
        },
        {
          "name": "stderr",
          "output_type": "stream",
          "text": [
            "Epoch 995/1000: 100%|██████████| 13/13 [00:03<00:00,  4.14batch/s]\n"
          ]
        },
        {
          "name": "stdout",
          "output_type": "stream",
          "text": [
            "Epoch: 995/1000  Loss: 0.0000, Val Loss: 0.0859\n"
          ]
        },
        {
          "name": "stderr",
          "output_type": "stream",
          "text": [
            "Epoch 996/1000: 100%|██████████| 13/13 [00:02<00:00,  4.37batch/s]\n"
          ]
        },
        {
          "name": "stdout",
          "output_type": "stream",
          "text": [
            "Epoch: 996/1000  Loss: 0.0000, Val Loss: 0.0859\n"
          ]
        },
        {
          "name": "stderr",
          "output_type": "stream",
          "text": [
            "Epoch 997/1000: 100%|██████████| 13/13 [00:02<00:00,  4.44batch/s]\n"
          ]
        },
        {
          "name": "stdout",
          "output_type": "stream",
          "text": [
            "Epoch: 997/1000  Loss: 0.0000, Val Loss: 0.0859\n"
          ]
        },
        {
          "name": "stderr",
          "output_type": "stream",
          "text": [
            "Epoch 998/1000: 100%|██████████| 13/13 [00:02<00:00,  4.44batch/s]\n"
          ]
        },
        {
          "name": "stdout",
          "output_type": "stream",
          "text": [
            "Epoch: 998/1000  Loss: 0.0000, Val Loss: 0.0859\n"
          ]
        },
        {
          "name": "stderr",
          "output_type": "stream",
          "text": [
            "Epoch 999/1000: 100%|██████████| 13/13 [00:03<00:00,  4.14batch/s]\n"
          ]
        },
        {
          "name": "stdout",
          "output_type": "stream",
          "text": [
            "Epoch: 999/1000  Loss: 0.0000, Val Loss: 0.0859\n"
          ]
        },
        {
          "name": "stderr",
          "output_type": "stream",
          "text": [
            "Epoch 1000/1000: 100%|██████████| 13/13 [00:03<00:00,  4.27batch/s]\n"
          ]
        },
        {
          "name": "stdout",
          "output_type": "stream",
          "text": [
            "Epoch: 1000/1000  Loss: 0.0000, Val Loss: 0.0859\n"
          ]
        },
        {
          "ename": "TypeError",
          "evalue": "ignored",
          "output_type": "error",
          "traceback": [
            "\u001b[0;31m---------------------------------------------------------------------------\u001b[0m",
            "\u001b[0;31mTypeError\u001b[0m                                 Traceback (most recent call last)",
            "\u001b[0;32m<ipython-input-106-9c7c35460de9>\u001b[0m in \u001b[0;36m<cell line: 61>\u001b[0;34m()\u001b[0m\n\u001b[1;32m     59\u001b[0m \u001b[0mmin_loss_epoch\u001b[0m \u001b[0;34m=\u001b[0m \u001b[0mbest_epoch\u001b[0m\u001b[0;34m\u001b[0m\u001b[0;34m\u001b[0m\u001b[0m\n\u001b[1;32m     60\u001b[0m \u001b[0mmin_loss_value\u001b[0m \u001b[0;34m=\u001b[0m \u001b[0;34mf'{min(val_losses):.4f}'\u001b[0m\u001b[0;34m\u001b[0m\u001b[0;34m\u001b[0m\u001b[0m\n\u001b[0;32m---> 61\u001b[0;31m \u001b[0mprint\u001b[0m\u001b[0;34m(\u001b[0m\u001b[0;34mf\"Min Train Loss: {min(train_losses)} at Epoch {train_losses.index(min(train_losses))}  Min Val Loss: {min_loss_value[criterion]} at Epoch {best_epoch}\"\u001b[0m\u001b[0;34m)\u001b[0m\u001b[0;34m\u001b[0m\u001b[0;34m\u001b[0m\u001b[0m\n\u001b[0m\u001b[1;32m     62\u001b[0m \u001b[0;34m\u001b[0m\u001b[0m\n\u001b[1;32m     63\u001b[0m \u001b[0;34m\u001b[0m\u001b[0m\n",
            "\u001b[0;31mTypeError\u001b[0m: string indices must be integers"
          ]
        }
      ],
      "source": [
        "batch_size = 64\n",
        "trainDataLoader = torch.utils.data.DataLoader(trainDataSet, batch_size=batch_size)\n",
        "testDataLoader = torch.utils.data.DataLoader(testDataSet, batch_size=batch_size)\n",
        "\n",
        "min_loss_epoch = 0\n",
        "min_loss_value = -1\n",
        "best_model_weights_paths = {}\n",
        "\n",
        "best_val_loss = float('inf')  # Initialize with a large value\n",
        "best_epoch = -1\n",
        "best_model_weights = None\n",
        "train_losses = []\n",
        "val_losses = []\n",
        "\n",
        "criterion = nn.CrossEntropyLoss()\n",
        "model = models.resnet18(pretrained=True)\n",
        "model.conv1 = nn.Conv2d(1, 64, kernel_size=3, stride=2, padding=3, bias=False)\n",
        "model.fc = nn.Linear(model.fc.in_features, 99)\n",
        "model.to(device)\n",
        "print(model)\n",
        "optimizer = optim.Adam(model.parameters(), lr=0.001)\n",
        "num_epochs = 1000\n",
        "\n",
        "for epoch in range(num_epochs):\n",
        "    model.train()\n",
        "    running_loss = 0.0\n",
        "\n",
        "    for images, labels in tqdm(trainDataLoader, desc=f\"Epoch {epoch+1}/{num_epochs}\", unit=\"batch\"):\n",
        "        optimizer.zero_grad()\n",
        "        images = images.to(device)\n",
        "        labels = labels.to(device)\n",
        "        outputs = model(images)\n",
        "        loss = criterion(outputs, labels)\n",
        "        loss.backward()\n",
        "        optimizer.step()\n",
        "        running_loss += loss.item()\n",
        "    train_loss = running_loss / len(trainDataLoader) / batch_size\n",
        "    train_losses.append(train_loss)\n",
        "\n",
        "    # Validation loop\n",
        "    model.eval()\n",
        "    correct_predictions = 0\n",
        "    total_samples = 0\n",
        "    with torch.no_grad():\n",
        "        for images, labels in testDataLoader:\n",
        "            images = images.to(device)\n",
        "            labels = labels.to(device)\n",
        "            outputs = model(images)\n",
        "            _, predicted = torch.max(outputs, 1)\n",
        "            total_samples += labels.size(0)\n",
        "            correct_predictions += (predicted == labels).sum().item()\n",
        "    accuracy = correct_predictions / total_samples\n",
        "    val_loss = 1-accuracy\n",
        "    val_losses.append(val_loss)\n",
        "    print(f\"Epoch: {epoch+1}/{num_epochs}  Loss: {train_loss:.4f}, Val Loss: {val_loss:.4f}\")\n",
        "\n",
        "\n",
        "best_epoch = val_losses.index(min(val_losses))\n",
        "min_loss_epoch = best_epoch\n",
        "min_loss_value = f'{min(val_losses):.4f}'\n",
        "print(f\"Min Train Loss: {min(train_losses)} at Epoch {train_losses.index(min(train_losses))}  Min Val Loss: {min_loss_value[criterion]} at Epoch {best_epoch}\")\n",
        "\n",
        "\n",
        "# Save the best model's weights\n",
        "torch.save(model, f\"best_model.pth\")\n"
      ]
    },
    {
      "cell_type": "code",
      "execution_count": null,
      "metadata": {
        "id": "0vcFYl4cnd0X"
      },
      "outputs": [],
      "source": []
    }
  ],
  "metadata": {
    "accelerator": "GPU",
    "colab": {
      "gpuType": "T4",
      "provenance": []
    },
    "kernelspec": {
      "display_name": "Python 3",
      "name": "python3"
    },
    "language_info": {
      "codemirror_mode": {
        "name": "ipython",
        "version": 3
      },
      "file_extension": ".py",
      "mimetype": "text/x-python",
      "name": "python",
      "nbconvert_exporter": "python",
      "pygments_lexer": "ipython3",
      "version": "3.9.18"
    }
  },
  "nbformat": 4,
  "nbformat_minor": 0
}
